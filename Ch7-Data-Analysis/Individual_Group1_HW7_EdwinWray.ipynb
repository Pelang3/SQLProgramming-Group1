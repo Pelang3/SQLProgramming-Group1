{
    "metadata": {
        "kernelspec": {
            "name": "SQL",
            "display_name": "SQL",
            "language": "sql"
        },
        "language_info": {
            "name": "sql",
            "version": ""
        }
    },
    "nbformat_minor": 2,
    "nbformat": 4,
    "cells": [
        {
            "cell_type": "markdown",
            "source": [
                "# **Edwin Wray**\n",
                "\n",
                "### **Group 1**\n",
                "\n",
                "### **Homework 7**\n",
                "\n",
                "### Chapter 07 - Beyond the Fundamentals of Querying:\n",
                "\n",
                "- Exercise 6  \n",
                "    \n",
                "- Unpivoting Data\n",
                "    \n",
                "- Unpivoting with the APPLY Operator  \n",
                "    \n",
                "- GROUPING and GROUPING\\_ID Function"
            ],
            "metadata": {
                "azdata_cell_guid": "5d72d605-1595-4176-9c9d-9d7b19a3d977"
            },
            "attachments": {}
        },
        {
            "cell_type": "markdown",
            "source": [
                "<span style=\"color: #008000;\">-- 6</span>\n",
                "\n",
                "<span style=\"color: #008000;\">-- Write a query against the dbo.Orders table that returns the</span>\n",
                "\n",
                "<span style=\"color: #008000;\">-- total quantities for each:</span>\n",
                "\n",
                "<span style=\"color: #008000;\">-- employee, customer, and order year</span>\n",
                "\n",
                "<span style=\"color: #008000;\">-- employee and order year</span>\n",
                "\n",
                "<span style=\"color: #008000;\">-- customer and order year</span>\n",
                "\n",
                "<span style=\"color: #008000;\">-- Include a result column in the output that uniquely identifies</span>\n",
                "\n",
                "<span style=\"color: #008000;\">-- the grouping set with which the current row is associated</span>\n",
                "\n",
                "<span style=\"color: #008000;\">-- Tables involved: TSQLV4 database, dbo.Orders table</span>\n",
                "\n",
                "  \n",
                "\n",
                "<span style=\"color: #008000;\">-- Desired output:</span>\n",
                "\n",
                "groupingset empid custid orderyear sumqty\n",
                "\n",
                "<span style=\"color: #008000;\">----------- ----------- ------ ----------- -----------</span>\n",
                "\n",
                "<span style=\"color: #09885a;\">0</span> <span style=\"color: #09885a;\">2</span> A <span style=\"color: #09885a;\">2014</span> <span style=\"color: #09885a;\">12</span>\n",
                "\n",
                "<span style=\"color: #09885a;\">0</span> <span style=\"color: #09885a;\">3</span> A <span style=\"color: #09885a;\">2014</span> <span style=\"color: #09885a;\">10</span>\n",
                "\n",
                "<span style=\"color: #09885a;\">4</span> <span style=\"color: #0000ff;\">NULL</span> A <span style=\"color: #09885a;\">2014</span> <span style=\"color: #09885a;\">22</span>\n",
                "\n",
                "<span style=\"color: #09885a;\">0</span> <span style=\"color: #09885a;\">2</span> A <span style=\"color: #09885a;\">2015</span> <span style=\"color: #09885a;\">40</span>\n",
                "\n",
                "<span style=\"color: #09885a;\">4</span> <span style=\"color: #0000ff;\">NULL</span> A <span style=\"color: #09885a;\">2015</span> <span style=\"color: #09885a;\">40</span>\n",
                "\n",
                "<span style=\"color: #09885a;\">0</span> <span style=\"color: #09885a;\">3</span> A <span style=\"color: #09885a;\">2016</span> <span style=\"color: #09885a;\">10</span>\n",
                "\n",
                "<span style=\"color: #09885a;\">4</span> <span style=\"color: #0000ff;\">NULL</span> A <span style=\"color: #09885a;\">2016</span> <span style=\"color: #09885a;\">10</span>\n",
                "\n",
                "<span style=\"color: #09885a;\">0</span> <span style=\"color: #09885a;\">1</span> B <span style=\"color: #09885a;\">2014</span> <span style=\"color: #09885a;\">20</span>\n",
                "\n",
                "<span style=\"color: #09885a;\">4</span> <span style=\"color: #0000ff;\">NULL</span> B <span style=\"color: #09885a;\">2014</span> <span style=\"color: #09885a;\">20</span>\n",
                "\n",
                "<span style=\"color: #09885a;\">0</span> <span style=\"color: #09885a;\">2</span> B <span style=\"color: #09885a;\">2015</span> <span style=\"color: #09885a;\">12</span>\n",
                "\n",
                "<span style=\"color: #09885a;\">4</span> <span style=\"color: #0000ff;\">NULL</span> B <span style=\"color: #09885a;\">2015</span> <span style=\"color: #09885a;\">12</span>\n",
                "\n",
                "<span style=\"color: #09885a;\">0</span> <span style=\"color: #09885a;\">2</span> B <span style=\"color: #09885a;\">2016</span> <span style=\"color: #09885a;\">15</span>\n",
                "\n",
                "<span style=\"color: #09885a;\">4</span> <span style=\"color: #0000ff;\">NULL</span> B <span style=\"color: #09885a;\">2016</span> <span style=\"color: #09885a;\">15</span>\n",
                "\n",
                "<span style=\"color: #09885a;\">0</span> <span style=\"color: #09885a;\">3</span> C <span style=\"color: #09885a;\">2014</span> <span style=\"color: #09885a;\">22</span>\n",
                "\n",
                "<span style=\"color: #09885a;\">4</span> <span style=\"color: #0000ff;\">NULL</span> C <span style=\"color: #09885a;\">2014</span> <span style=\"color: #09885a;\">22</span>\n",
                "\n",
                "<span style=\"color: #09885a;\">0</span> <span style=\"color: #09885a;\">1</span> C <span style=\"color: #09885a;\">2015</span> <span style=\"color: #09885a;\">14</span>\n",
                "\n",
                "<span style=\"color: #09885a;\">4</span> <span style=\"color: #0000ff;\">NULL</span> C <span style=\"color: #09885a;\">2015</span> <span style=\"color: #09885a;\">14</span>\n",
                "\n",
                "<span style=\"color: #09885a;\">0</span> <span style=\"color: #09885a;\">1</span> C <span style=\"color: #09885a;\">2016</span> <span style=\"color: #09885a;\">20</span>\n",
                "\n",
                "<span style=\"color: #09885a;\">4</span> <span style=\"color: #0000ff;\">NULL</span> C <span style=\"color: #09885a;\">2016</span> <span style=\"color: #09885a;\">20</span>\n",
                "\n",
                "<span style=\"color: #09885a;\">0</span> <span style=\"color: #09885a;\">3</span> D <span style=\"color: #09885a;\">2016</span> <span style=\"color: #09885a;\">30</span>\n",
                "\n",
                "<span style=\"color: #09885a;\">4</span> <span style=\"color: #0000ff;\">NULL</span> D <span style=\"color: #09885a;\">2016</span> <span style=\"color: #09885a;\">30</span>\n",
                "\n",
                "<span style=\"color: #09885a;\">2</span> <span style=\"color: #09885a;\">1</span> <span style=\"color: #0000ff;\">NULL</span> <span style=\"color: #09885a;\">2014</span> <span style=\"color: #09885a;\">20</span>\n",
                "\n",
                "<span style=\"color: #09885a;\">2</span> <span style=\"color: #09885a;\">2</span> <span style=\"color: #0000ff;\">NULL</span> <span style=\"color: #09885a;\">2014</span> <span style=\"color: #09885a;\">12</span>\n",
                "\n",
                "<span style=\"color: #09885a;\">2</span> <span style=\"color: #09885a;\">3</span> <span style=\"color: #0000ff;\">NULL</span> <span style=\"color: #09885a;\">2014</span> <span style=\"color: #09885a;\">32</span>\n",
                "\n",
                "<span style=\"color: #09885a;\">2</span> <span style=\"color: #09885a;\">1</span> <span style=\"color: #0000ff;\">NULL</span> <span style=\"color: #09885a;\">2015</span> <span style=\"color: #09885a;\">14</span>\n",
                "\n",
                "<span style=\"color: #09885a;\">2</span> <span style=\"color: #09885a;\">2</span> <span style=\"color: #0000ff;\">NULL</span> <span style=\"color: #09885a;\">2015</span> <span style=\"color: #09885a;\">52</span>\n",
                "\n",
                "<span style=\"color: #09885a;\">2</span> <span style=\"color: #09885a;\">1</span> <span style=\"color: #0000ff;\">NULL</span> <span style=\"color: #09885a;\">2016</span> <span style=\"color: #09885a;\">20</span>\n",
                "\n",
                "<span style=\"color: #09885a;\">2</span> <span style=\"color: #09885a;\">2</span> <span style=\"color: #0000ff;\">NULL</span> <span style=\"color: #09885a;\">2016</span> <span style=\"color: #09885a;\">15</span>\n",
                "\n",
                "<span style=\"color: #09885a;\">2</span> <span style=\"color: #09885a;\">3</span> <span style=\"color: #0000ff;\">NULL</span> <span style=\"color: #09885a;\">2016</span> <span style=\"color: #09885a;\">40</span>\n",
                "\n",
                "  \n",
                "\n",
                "(<span style=\"color: #09885a;\">29</span> <span style=\"color: #0000ff;\">row</span>(s) affected)\n",
                "\n",
                "  \n",
                "\n",
                "<span style=\"color: #008000;\">-- When you're done, run the following code for cleanup</span>\n",
                "\n",
                "<span style=\"color: #0000ff;\">DROP</span> <span style=\"color: #0000ff;\">TABLE</span> <span style=\"color: #0000ff;\">IF</span> <span style=\"color: #0000ff;\">EXISTS</span> dbo.Orders;\n",
                "\n",
                "<span style=\"color: #0000ff;\">DROP</span> <span style=\"color: #0000ff;\">TABLE</span> <span style=\"color: #0000ff;\">IF</span> <span style=\"color: #0000ff;\">EXISTS</span> dbo.EmpYearOrders;\n",
                "\n",
                "<span style=\"color: #0000ff;\">DROP</span> <span style=\"color: #0000ff;\">TABLE</span> <span style=\"color: #0000ff;\">IF</span> <span style=\"color: #0000ff;\">EXISTS</span> dbo.EmpCustOrders;"
            ],
            "metadata": {
                "azdata_cell_guid": "a020d44e-6c5c-4166-99ae-41d62f9b7d66"
            },
            "attachments": {}
        },
        {
            "cell_type": "markdown",
            "source": [
                "**Chapter 7 - Exercise 6**\n",
                "\n",
                "Proposition: Write a query against the dbo.Orders table that returns the total quantities for each: \n",
                "\n",
                "> - employee, customer, and order year \n",
                "> - employee and order year \n",
                "> - customer and order year\n",
                "> \n",
                "> <span style=\"font-family: -apple-system, BlinkMacSystemFont, sans-serif; color: var(--vscode-foreground);\">Include a result column in the output that uniquely identifies the grouping set with which the current row is associated. Tables involved: TSQLV4 database, dbo.Orders table</span>\n",
                "\n",
                "Table: <span style=\"font-family: -apple-system, BlinkMacSystemFont, sans-serif; color: var(--vscode-foreground);\">dbo.[Order]</span>\n",
                "\n",
                "Columns: OrderId, OrderDate, EmployeeId, CustomerId and Quantity\n",
                "\n",
                "Predicate: No predicate."
            ],
            "metadata": {
                "azdata_cell_guid": "1d62a407-fa04-4ff5-acb8-d84c1694f2a1"
            },
            "attachments": {}
        },
        {
            "cell_type": "code",
            "source": [
                "-- CREATE dbo.Orders TABLE\n",
                "USE TSQLV6;\n",
                "GO \n",
                "\n",
                "DROP TABLE IF EXISTS dbo.Orders;\n",
                "\n",
                "CREATE TABLE dbo.Orders \n",
                "(\n",
                "    orderid INT NOT NULL CONSTRAINT PK_Orders PRIMARY KEY\n",
                "    , orderdate DATE NOT NULL\n",
                "    , empid INT NOT NULL\n",
                "    , custid VARCHAR(5)\n",
                "    , qty INT NOT NULL\n",
                ");\n",
                "\n",
                "INSERT INTO dbo.Orders(orderid, orderdate, empid, custid, qty)\n",
                "VALUES\n",
                "    (30001, '20200802', 3, 'A', 10)\n",
                "    , (10001, '20201224', 2, 'A', 12)\n",
                "    , (10005, '20201224', 1, 'B', 20)\n",
                "    , (40001, '20210109', 2, 'A', 40)\n",
                "    , (10006, '20210118', 1, 'C', 14)\n",
                "    , (20001, '20210212', 2, 'B', 12)\n",
                "    , (40005, '20220212', 3, 'A', 10)\n",
                "    , (20002, '20220216', 1, 'C', 20)\n",
                "    , (30003, '20220418', 2, 'B', 15)\n",
                "    , (30004, '20200418', 3, 'C', 22)\n",
                "    , (30007, '20220907', 3, 'D', 30);\n",
                "\n",
                "\n",
                "-- CREATE dbo.Orders TABLE\n",
                "USE Northwinds2022TSQLV7;\n",
                "GO \n",
                "\n",
                "DROP TABLE IF EXISTS dbo.[Order];\n",
                "\n",
                "CREATE TABLE dbo.[Order] \n",
                "(\n",
                "    OrderId INT NOT NULL CONSTRAINT PK_Orders PRIMARY KEY\n",
                "    , OrderDate DATE NOT NULL\n",
                "    , EmployeeId INT NOT NULL\n",
                "    , CustomerId VARCHAR(5)\n",
                "    , Quantity INT NOT NULL\n",
                ");\n",
                "\n",
                "INSERT INTO dbo.[Order](OrderId, OrderDate, EmployeeId, CustomerId, Quantity)\n",
                "VALUES\n",
                "    (30001, '20200802', 3, 'A', 10)\n",
                "    , (10001, '20201224', 2, 'A', 12)\n",
                "    , (10005, '20201224', 1, 'B', 20)\n",
                "    , (40001, '20210109', 2, 'A', 40)\n",
                "    , (10006, '20210118', 1, 'C', 14)\n",
                "    , (20001, '20210212', 2, 'B', 12)\n",
                "    , (40005, '20220212', 3, 'A', 10)\n",
                "    , (20002, '20220216', 1, 'C', 20)\n",
                "    , (30003, '20220418', 2, 'B', 15)\n",
                "    , (30004, '20200418', 3, 'C', 22)\n",
                "    , (30007, '20220907', 3, 'D', 30);"
            ],
            "metadata": {
                "azdata_cell_guid": "05afeb7b-8b28-4953-9e74-d743741bc570",
                "language": "sql"
            },
            "outputs": [],
            "execution_count": null
        },
        {
            "cell_type": "code",
            "source": [
                "-- Exercise 6\n",
                "USE TSQLV6;\n",
                "GO\n",
                "\n",
                "SELECT\n",
                "    'TSQLV6' AS 'databasename'\n",
                "    , GROUPING_ID(O.empid, O.custid, YEAR(O.Orderdate)) AS groupingset\n",
                "    , O.empid\n",
                "    , O.custid\n",
                "    , YEAR(O.Orderdate) AS orderyear\n",
                "    , SUM(O.qty) AS sumqty\n",
                "FROM dbo.Orders AS O\n",
                "GROUP BY\n",
                "    GROUPING SETS\n",
                "        (\n",
                "            (O.empid, O.custid, YEAR(O.orderdate))\n",
                "            , (O.empid, YEAR(O.orderdate))\n",
                "            , (O.custid, YEAR(O.orderdate))\n",
                "        );\n",
                "\n",
                "\n",
                "-- Exercise 6\n",
                "USE Northwinds2022TSQLV7;\n",
                "GO\n",
                "\n",
                "SELECT\n",
                "    'Northwinds2022TSQLV7' AS 'DatabaseName'\n",
                "    , GROUPING_ID(O.EmployeeId, O.CustomerId, YEAR(O.Orderdate)) AS GroupingSet\n",
                "    , O.EmployeeId\n",
                "    , O.CustomerId\n",
                "    , YEAR(O.OrderDate) AS OrderYear\n",
                "    , SUM(O.Quantity) AS SumQuantity\n",
                "FROM dbo.[Order] AS O\n",
                "GROUP BY\n",
                "    GROUPING SETS\n",
                "        (\n",
                "            (O.EmployeeId, O.CustomerId, YEAR(O.OrderDate))\n",
                "            , (O.EmployeeId, YEAR(O.OrderDate))\n",
                "            , (O.CustomerId, YEAR(O.OrderDate))\n",
                "        );"
            ],
            "metadata": {
                "language": "sql",
                "azdata_cell_guid": "14cba8ad-2917-4234-88db-7d1c49199664"
            },
            "outputs": [],
            "execution_count": null
        },
        {
            "cell_type": "markdown",
            "source": [
                "# **Edwin Wray**\n",
                "\n",
                "### **Group 1**\n",
                "\n",
                "### **Homework 7**\n",
                "\n",
                "### Chapter 07 - Beyond the Fundamentals of Querying:\n",
                "\n",
                "- Exercise 6  \n",
                "    \n",
                "- Unpivoting Data\n",
                "    \n",
                "- Unpivoting with the APPLY Operator  \n",
                "    \n",
                "- GROUPING and GROUPING\\_ID Function"
            ],
            "metadata": {
                "azdata_cell_guid": "ab64bd7b-d0d6-49cd-b82e-003a89374957"
            },
            "attachments": {}
        },
        {
            "cell_type": "markdown",
            "source": [
                "<span style=\"color: #008000;\">---------------------------------------------------------------------</span>\n",
                "\n",
                "<span style=\"color: #008000;\">-- Unpivoting Data</span>\n",
                "\n",
                "<span style=\"color: #008000;\">---------------------------------------------------------------------</span>"
            ],
            "metadata": {
                "azdata_cell_guid": "6408780c-e145-4515-bf52-8b59290dc49f"
            },
            "attachments": {}
        },
        {
            "cell_type": "markdown",
            "source": [
                "**Chapter 7 - Unpivoting Data**\n",
                "\n",
                "Proposition: Create and populate the EmployeeCustomerOrder tabel with data from the dbo.\\[Order\\] table with PK EmployeeId, CustomerId and Quantity.\n",
                "\n",
                "Table: <span style=\"font-family: -apple-system, BlinkMacSystemFont, sans-serif; color: var(--vscode-foreground);\">dbo.[Order] table.</span>\n",
                "\n",
                "Columns: <span style=\"font-family: -apple-system, BlinkMacSystemFont, sans-serif; color: var(--vscode-foreground);\">EmployeeId, CustomerId and Quantity.</span>\n",
                "\n",
                "Predicate: No predicate."
            ],
            "metadata": {
                "language": "sql",
                "azdata_cell_guid": "09116282-e57a-4aca-9b24-e70b18fa924a"
            },
            "attachments": {}
        },
        {
            "cell_type": "code",
            "source": [
                "-- Code to create and populate the EmpCustOrders table\n",
                "USE TSQLV6;\n",
                "\n",
                "DROP TABLE IF EXISTS dbo.EmpCustOrders;\n",
                "\n",
                "CREATE TABLE dbo.EmpCustOrders\n",
                "(\n",
                "  empid INT NOT NULL\n",
                "    CONSTRAINT PK_EmpCustOrders PRIMARY KEY,\n",
                "  A VARCHAR(5) NULL,\n",
                "  B VARCHAR(5) NULL,\n",
                "  C VARCHAR(5) NULL,\n",
                "  D VARCHAR(5) NULL\n",
                ");\n",
                "\n",
                "INSERT INTO dbo.EmpCustOrders(empid, A, B, C, D)\n",
                "  SELECT empid, A, B, C, D\n",
                "  FROM (SELECT empid, custid, qty\n",
                "        FROM dbo.Orders) AS D\n",
                "    PIVOT(SUM(qty) FOR custid IN(A, B, C, D)) AS P;\n",
                "\n",
                "SELECT * FROM dbo.EmpCustOrders;\n",
                "\n",
                "\n",
                "-- Code to create and populate the EmpCustOrders table\n",
                "USE Northwinds2022TSQLV7;\n",
                "\n",
                "DROP TABLE IF EXISTS dbo.EmployeeCustomerOrder;\n",
                "\n",
                "CREATE TABLE dbo.EmployeeCustomerOrder\n",
                "(\n",
                "  EmployeeId INT NOT NULL\n",
                "    CONSTRAINT PK_EmployeeCustomerOrder PRIMARY KEY,\n",
                "  A VARCHAR(5) NULL,\n",
                "  B VARCHAR(5) NULL,\n",
                "  C VARCHAR(5) NULL,\n",
                "  D VARCHAR(5) NULL\n",
                ");\n",
                "\n",
                "INSERT INTO dbo.EmployeeCustomerOrder(EmployeeId, A, B, C, D)\n",
                "  SELECT EmployeeId, A, B, C, D\n",
                "  FROM (SELECT EmployeeId, CustomerId, Quantity\n",
                "        FROM dbo.[Order]) AS D\n",
                "    PIVOT(SUM(Quantity) FOR CustomerId IN(A, B, C, D)) AS P;\n",
                "\n",
                "SELECT * FROM dbo.EmployeeCustomerOrder;"
            ],
            "metadata": {
                "language": "sql",
                "azdata_cell_guid": "ed9e9459-1931-47ef-a047-c2083b2d3607"
            },
            "outputs": [],
            "execution_count": null
        },
        {
            "cell_type": "markdown",
            "source": [
                "<span style=\"color: #008000;\">---------------------------------------------------------------------</span>\n",
                "\n",
                "<span style=\"color: #008000;\">-- Unpivoting with the APPLY Operator</span>\n",
                "\n",
                "<span style=\"color: #008000;\">---------------------------------------------------------------------</span>"
            ],
            "metadata": {
                "azdata_cell_guid": "11ad2e80-72cc-42cb-9e06-7d32bec8b81c"
            },
            "attachments": {}
        },
        {
            "cell_type": "markdown",
            "source": [
                "**Chapter 7 - Unpivoting with the APPY Operator**\n",
                "\n",
                "Proposition: Generate copies of each row by creating the cartesian product of dbo.EmployeeCustomerOrder and the row values 'A', 'B', 'C' and 'D' as CustomerId.\n",
                "\n",
                "Table: <span style=\"font-family: -apple-system, BlinkMacSystemFont, sans-serif; color: var(--vscode-foreground);\">dbo.EmployeeCustomerOrder</span>\n",
                "\n",
                "Columns: <span style=\"font-family: -apple-system, BlinkMacSystemFont, sans-serif; color: var(--vscode-foreground);\">EmployeeId, CustomerId, Quantity and CustomerId.</span>\n",
                "\n",
                "Predicate: No predicate."
            ],
            "metadata": {
                "language": "sql",
                "azdata_cell_guid": "7d18465c-5efe-4cf9-8690-dc5c9284584c"
            },
            "attachments": {}
        },
        {
            "cell_type": "code",
            "source": [
                "USE TSQLV6;\n",
                "\n",
                "-- Unpivot Step 1: generate copies\n",
                "SELECT *\n",
                "FROM dbo.EmpCustOrders\n",
                "  CROSS JOIN (VALUES('A'),('B'),('C'),('D')) AS C(custid);\n",
                "\n",
                "-- -- Unpivot Step 2: extract elements\n",
                "-- SELECT empid, custid, qty\n",
                "-- FROM dbo.EmpCustOrders\n",
                "--   CROSS JOIN (VALUES('A', A),('B', B),('C', C),('D', D)) AS C(custid, qty);\n",
                "\n",
                "\n",
                "\n",
                "USE Northwinds2022TSQLV7;\n",
                "\n",
                "-- Unpivot Step 1: generate copies\n",
                "SELECT *\n",
                "FROM dbo.EmployeeCustomerOrder\n",
                "  CROSS JOIN (VALUES('A'),('B'),('C'),('D')) AS C(CustomerId);\n",
                "\n",
                "-- -- Unpivot Step 2: extract elements\n",
                "-- SELECT EmployeeId, CustomerId, Quantity\n",
                "-- FROM dbo.EmployeeCustomerOrder\n",
                "--   CROSS JOIN (VALUES('A', A),('B', B),('C', C),('D', D)) AS C(CustomerId, Quantity);\n",
                ""
            ],
            "metadata": {
                "language": "sql",
                "azdata_cell_guid": "0161f2e0-e326-4fa8-ae6e-b7c96cc184a0"
            },
            "outputs": [],
            "execution_count": null
        },
        {
            "cell_type": "markdown",
            "source": [
                "**Chapter 7 - Unpivoting with the APPY Operator**\n",
                "\n",
                "Proposition: A query that unpivots the dbo.EmployeeCustomerOrder table by cross applying the table values A, B, C and D to each each row.\n",
                "\n",
                "Table: <span style=\"font-family: -apple-system, BlinkMacSystemFont, sans-serif; color: var(--vscode-foreground);\">dbo.EmployeeCustomerOrder</span>\n",
                "\n",
                "Columns: EmployeeId, CustomerId and Quantity\n",
                "\n",
                "Predicate: No predicate."
            ],
            "metadata": {
                "language": "sql",
                "azdata_cell_guid": "e93d9929-3673-4ea4-b851-842dabaa49a0"
            },
            "attachments": {}
        },
        {
            "cell_type": "code",
            "source": [
                "USE TSQLV6;\n",
                "\n",
                "SELECT empid, custid, qty\n",
                "FROM dbo.EmpCustOrders\n",
                "  CROSS APPLY (VALUES('A', A),('B', B),('C', C),('D', D)) AS C(custid, qty);\n",
                "\n",
                "\n",
                "USE Northwinds2022TSQLV7;\n",
                "\n",
                "SELECT EmployeeId, CustomerId, Quantity\n",
                "FROM dbo.EmployeeCustomerOrder\n",
                "  CROSS APPLY (VALUES('A', A),('B', B),('C', C),('D', D)) AS C(CustomerId, Quantity);"
            ],
            "metadata": {
                "language": "sql",
                "azdata_cell_guid": "aa280500-baf9-43da-bcd2-21a24a03b982",
                "tags": []
            },
            "outputs": [],
            "execution_count": null
        },
        {
            "cell_type": "markdown",
            "source": [
                "**Chapter 7 -** **Unpivoting with the APPY Operator**\n",
                "\n",
                "Proposition: <span style=\"font-family: -apple-system, BlinkMacSystemFont, sans-serif; color: var(--vscode-foreground);\">A query that unpivots the dbo.EmployeeCustomerOrder table by cross applying the table values A, B, C and D to each each row, and filters the resulting table to only returns rows without NULL values.</span>\n",
                "\n",
                "Table: <span style=\"font-family: -apple-system, BlinkMacSystemFont, sans-serif; color: var(--vscode-foreground);\">dbo.EmployeeCustomerOrder</span>\n",
                "\n",
                "Columns: EmployeeId, CustomerId and Quantity\n",
                "\n",
                "Predicate: No predicate."
            ],
            "metadata": {
                "language": "sql",
                "azdata_cell_guid": "5647f727-f2aa-468a-b7d2-c4bd61298ae3"
            },
            "attachments": {}
        },
        {
            "cell_type": "code",
            "source": [
                "USE TSQLV6;\n",
                "\n",
                "-- Unpivot Step 3: eliminate NULLs\n",
                "SELECT empid, custid, qty\n",
                "FROM dbo.EmpCustOrders\n",
                "  CROSS APPLY (VALUES('A', A),('B', B),('C', C),('D', D)) AS C(custid, qty)\n",
                "WHERE qty IS NOT NULL;\n",
                "\n",
                "\n",
                "USE Northwinds2022TSQLV7;\n",
                "\n",
                "SELECT EmployeeId, CustomerId, Quantity\n",
                "FROM dbo.EmployeeCustomerOrder\n",
                "  CROSS APPLY (VALUES('A', A),('B', B),('C', C),('D', D)) AS C(CustomerId, Quantity)\n",
                "WHERE Quantity IS NOT NULL;"
            ],
            "metadata": {
                "language": "sql",
                "azdata_cell_guid": "ff4fcb5a-9bf3-4882-bdbd-1f0c220e7047"
            },
            "outputs": [],
            "execution_count": null
        },
        {
            "cell_type": "markdown",
            "source": [
                "<span style=\"color: #008000;\">---------------------------------------------------------------------</span>\n",
                "\n",
                "<span style=\"color: #008000;\">-- GROUPING and GROUPING_ID Function</span>\n",
                "\n",
                "<span style=\"color: #008000;\">---------------------------------------------------------------------</span>"
            ],
            "metadata": {
                "language": "sql",
                "azdata_cell_guid": "df4b1519-1ca3-4d99-b976-4eba74b33492"
            },
            "attachments": {}
        },
        {
            "cell_type": "markdown",
            "source": [
                "**Chapter 7 - GROUPING and GROUPING\\_ID Function**\n",
                "\n",
                "Proposition: A query that returns total quantity for each combination of employee and customer pair from the dbo.\\[Order\\] table.\n",
                "\n",
                "Table:  <span style=\"font-family: -apple-system, BlinkMacSystemFont, sans-serif; color: var(--vscode-foreground);\">dbo.[Order] AS O.</span>\n",
                "\n",
                "Columns: O.EmployeeId, O.CustomerId, SUM(O.Quantity) AS SumQuantity.\n",
                "\n",
                "Predicate: No Predicate."
            ],
            "metadata": {
                "language": "sql",
                "azdata_cell_guid": "b2afda64-56a2-4e1c-8c6d-e6f8def7dc67"
            },
            "attachments": {}
        },
        {
            "cell_type": "code",
            "source": [
                "USE TSQLV6;\n",
                "\n",
                "SELECT empid, custid, SUM(qty) AS sumqty\n",
                "FROM dbo.Orders\n",
                "GROUP BY CUBE(empid, custid);\n",
                "\n",
                "\n",
                "USE Northwinds2022TSQLV7;\n",
                "\n",
                "SELECT O.EmployeeId, O.CustomerId, SUM(O.Quantity) AS SumQuantity\n",
                "FROM dbo.[Order] AS O\n",
                "GROUP BY CUBE(O.EmployeeId, O.CustomerId);"
            ],
            "metadata": {
                "language": "sql",
                "azdata_cell_guid": "6bd44610-a223-4e01-ac35-4106f2c83bd8"
            },
            "outputs": [],
            "execution_count": null
        },
        {
            "cell_type": "markdown",
            "source": [
                "**Chapter 7 -** **GROUPING and GROUPING\\_ID Function**\n",
                "\n",
                "Proposition: A query that returns total quantity for each combination of employee and customer pair from the dbo.\\[Order\\] table, while grouping the <span style=\"font-family: -apple-system, BlinkMacSystemFont, sans-serif; color: var(--vscode-foreground);\">O.EmployeeId and O.CustomerId columns.</span>\n",
                "\n",
                "Table:  <span style=\"font-family: -apple-system, BlinkMacSystemFont, sans-serif; color: var(--vscode-foreground);\">dbo.[Order] AS O.</span>\n",
                "\n",
                "Columns: GROUPING(O.EmployeeId) AS GroupEmployee,   GROUPING(O.CustomerId) AS GroupCustomer,   O.EmployeeId, O.CustomerId, SUM(O.Quantity) AS SumQuantity.\n",
                "\n",
                "Predicate: No Predicate."
            ],
            "metadata": {
                "language": "sql",
                "azdata_cell_guid": "6890d62c-ddd0-4c39-b75e-35f1a06d2b3c"
            },
            "attachments": {}
        },
        {
            "cell_type": "code",
            "source": [
                "USE TSQLV6;\n",
                "\n",
                "SELECT\n",
                "  GROUPING(empid) AS grpemp,\n",
                "  GROUPING(custid) AS grpcust,\n",
                "  empid, custid, SUM(qty) AS sumqty\n",
                "FROM dbo.Orders\n",
                "GROUP BY CUBE(empid, custid);\n",
                "\n",
                "\n",
                "USE Northwinds2022TSQLV7;\n",
                "\n",
                "SELECT\n",
                "  GROUPING(O.EmployeeId) AS GroupEmployee,\n",
                "  GROUPING(O.CustomerId) AS GroupCustomer,\n",
                "  O.EmployeeId, O.CustomerId, SUM(O.Quantity) AS SumQuantity\n",
                "FROM dbo.[Order] AS O\n",
                "GROUP BY CUBE(O.EmployeeId, O.CustomerId);"
            ],
            "metadata": {
                "language": "sql",
                "azdata_cell_guid": "f319637a-2eb9-47a1-a6d1-53c72dcf1672",
                "tags": []
            },
            "outputs": [],
            "execution_count": null
        },
        {
            "cell_type": "markdown",
            "source": [
                "**Chapter 7 -** **GROUPING and GROUPING\\_ID Function**\n",
                "\n",
                "Proposition: A query that returns total quantity for each combination of employee and customer pair from the dbo.\\[Order\\] table with the grouping set of <span style=\"font-family: -apple-system, BlinkMacSystemFont, sans-serif; color: var(--vscode-foreground);\">O.EmployeeId and O.CustomerId.</span>\n",
                "\n",
                "Table:  <span style=\"font-family: -apple-system, BlinkMacSystemFont, sans-serif; color: var(--vscode-foreground);\">dbo.[Order] AS O.</span>\n",
                "\n",
                "Columns: GROUPING(O.EmployeeId) AS GroupEmployee,   GROUPING(O.CustomerId) AS GroupCustomer,   O.EmployeeId, O.CustomerId, SUM(O.Quantity) AS SumQuantity.\n",
                "\n",
                "Predicate: No Predicate."
            ],
            "metadata": {
                "language": "sql",
                "azdata_cell_guid": "76bb57dd-f0b8-4e4f-8be4-6fed9a63b543"
            },
            "attachments": {}
        },
        {
            "cell_type": "code",
            "source": [
                "USE TSQLV6;\n",
                "\n",
                "SELECT\n",
                "  GROUPING_ID(empid, custid) AS groupingset,\n",
                "  empid, custid, SUM(qty) AS sumqty\n",
                "FROM dbo.Orders\n",
                "GROUP BY CUBE(empid, custid);\n",
                "\n",
                "DROP TABLE IF EXISTS dbo.Orders;\n",
                "\n",
                "DROP TABLE IF EXISTS dbo.EmpYearOrders;\n",
                "\n",
                "DROP TABLE IF EXISTS dbo.EmpCustOrders;\n",
                "\n",
                "\n",
                "USE Northwinds2022TSQLV7;\n",
                "\n",
                "SELECT\n",
                "  GROUPING_ID(O.EmployeeId, O.CustomerId) AS GroupingSet,\n",
                "  O.EmployeeId, O.CustomerId, SUM(O.Quantity) AS SumQuantity\n",
                "FROM dbo.[Order] AS O \n",
                "GROUP BY CUBE(O.EmployeeId, O.CustomerId);\n",
                "\n",
                "DROP TABLE IF EXISTS dbo.[Order];\n",
                "\n",
                "DROP TABLE IF EXISTS dbo.EmployeeYearOrder;\n",
                "\n",
                "DROP TABLE IF EXISTS dbo.EmployeeCustomerOrder;"
            ],
            "metadata": {
                "language": "sql",
                "azdata_cell_guid": "77283559-350e-4bd0-b017-5fb70c0f8305"
            },
            "outputs": [],
            "execution_count": null
        }
    ]
}