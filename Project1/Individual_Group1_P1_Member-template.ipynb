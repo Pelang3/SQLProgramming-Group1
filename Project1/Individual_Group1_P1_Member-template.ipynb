{
    "metadata": {
        "kernelspec": {
            "name": "SQL",
            "display_name": "SQL",
            "language": "sql"
        },
        "language_info": {
            "name": "sql",
            "version": ""
        }
    },
    "nbformat_minor": 2,
    "nbformat": 4,
    "cells": [
        {
            "cell_type": "markdown",
            "source": [
                "# P1 - Member\n",
                "\n",
                "- All queries must use the ANSI 92 standard for queries with the type safe “on” and will have relational output \n",
                "\n",
                "- Output should be in a JSON component. \n",
                "\n",
                "Queries should be in one of two formats\n",
                "\n",
                "1. Medium query should have from 2 to 3 tables joined and use built-in SQL functions and group by summarization. It should include combinations of subqueries or CTE or virtual tables. \n",
                "\n",
                "2. Complex query should have from 3 or more tables joined, a custom scalar function, and use built-in SQL functions and group by summarization. It should include combinations of subqueries or CTE or virtual tables. "
            ],
            "metadata": {
                "azdata_cell_guid": "d0f39e84-155a-45d1-933f-5f950ec216ad"
            },
            "attachments": {}
        },
        {
            "cell_type": "markdown",
            "source": [
                "___\n",
                "## Medium \n",
                "Q1 \n",
                "\n",
                "\n",
                ""
            ],
            "metadata": {
                "azdata_cell_guid": "951fc285-d6e8-4858-bb0c-6d4f8ce56c43"
            },
            "attachments": {}
        },
        {
            "cell_type": "code",
            "source": [
                "-- Q1 \n",
                ""
            ],
            "metadata": {
                "azdata_cell_guid": "4fcdf88e-6e0c-4be0-ba72-229f3dedad1c",
                "language": "sql"
            },
            "outputs": [],
            "execution_count": null
        },
        {
            "cell_type": "markdown",
            "source": [
                "___\n",
                "## Medium \n",
                "Q2 \n",
                "\n",
                "\n",
                ""
            ],
            "metadata": {
                "azdata_cell_guid": "951fc285-d6e8-4858-bb0c-6d4f8ce56c43"
            },
            "attachments": {}
        },
        {
            "cell_type": "code",
            "source": [
                "-- Q2 \n",
                ""
            ],
            "metadata": {
                "azdata_cell_guid": "4fcdf88e-6e0c-4be0-ba72-229f3dedad1c",
                "language": "sql"
            },
            "outputs": [],
            "execution_count": null
        },
        {
            "cell_type": "markdown",
            "source": [
                "___\n",
                "## Medium \n",
                "Q3 \n",
                "\n",
                "\n",
                ""
            ],
            "metadata": {
                "azdata_cell_guid": "951fc285-d6e8-4858-bb0c-6d4f8ce56c43"
            },
            "attachments": {}
        },
        {
            "cell_type": "code",
            "source": [
                "-- Q3 \n",
                ""
            ],
            "metadata": {
                "azdata_cell_guid": "4fcdf88e-6e0c-4be0-ba72-229f3dedad1c",
                "language": "sql"
            },
            "outputs": [],
            "execution_count": null
        },
        {
            "cell_type": "markdown",
            "source": [
                "___\n",
                "## Medium \n",
                "Q4 \n",
                "\n",
                "\n",
                ""
            ],
            "metadata": {
                "azdata_cell_guid": "951fc285-d6e8-4858-bb0c-6d4f8ce56c43"
            },
            "attachments": {}
        },
        {
            "cell_type": "code",
            "source": [
                "-- Q4 \n",
                ""
            ],
            "metadata": {
                "azdata_cell_guid": "4fcdf88e-6e0c-4be0-ba72-229f3dedad1c",
                "language": "sql"
            },
            "outputs": [],
            "execution_count": null
        },
        {
            "cell_type": "markdown",
            "source": [
                "___\n",
                "## Medium \n",
                "Q5 \n",
                "\n",
                "\n",
                ""
            ],
            "metadata": {
                "azdata_cell_guid": "951fc285-d6e8-4858-bb0c-6d4f8ce56c43"
            },
            "attachments": {}
        },
        {
            "cell_type": "code",
            "source": [
                "-- Q5 \n",
                ""
            ],
            "metadata": {
                "azdata_cell_guid": "4fcdf88e-6e0c-4be0-ba72-229f3dedad1c",
                "language": "sql"
            },
            "outputs": [],
            "execution_count": null
        },
        {
            "cell_type": "markdown",
            "source": [
                "___\n",
                "## Medium \n",
                "Q6 \n",
                "\n",
                "\n",
                ""
            ],
            "metadata": {
                "azdata_cell_guid": "951fc285-d6e8-4858-bb0c-6d4f8ce56c43"
            },
            "attachments": {}
        },
        {
            "cell_type": "code",
            "source": [
                "-- Q6 \n",
                ""
            ],
            "metadata": {
                "azdata_cell_guid": "4fcdf88e-6e0c-4be0-ba72-229f3dedad1c",
                "language": "sql"
            },
            "outputs": [],
            "execution_count": null
        },
        {
            "cell_type": "markdown",
            "source": [
                "___\n",
                "## Medium \n",
                "Q7 \n",
                "\n",
                "\n",
                ""
            ],
            "metadata": {
                "azdata_cell_guid": "951fc285-d6e8-4858-bb0c-6d4f8ce56c43"
            },
            "attachments": {}
        },
        {
            "cell_type": "code",
            "source": [
                "-- Q7 \n",
                ""
            ],
            "metadata": {
                "azdata_cell_guid": "4fcdf88e-6e0c-4be0-ba72-229f3dedad1c",
                "language": "sql"
            },
            "outputs": [],
            "execution_count": null
        },
        {
            "cell_type": "markdown",
            "source": [
                "___\n",
                "## Medium \n",
                "Q8 \n",
                "\n",
                "\n",
                ""
            ],
            "metadata": {
                "azdata_cell_guid": "951fc285-d6e8-4858-bb0c-6d4f8ce56c43"
            },
            "attachments": {}
        },
        {
            "cell_type": "code",
            "source": [
                "-- Q8 \n",
                ""
            ],
            "metadata": {
                "azdata_cell_guid": "4fcdf88e-6e0c-4be0-ba72-229f3dedad1c",
                "language": "sql"
            },
            "outputs": [],
            "execution_count": null
        },
        {
            "cell_type": "markdown",
            "source": [
                "___\n",
                "## Medium \n",
                "Q9 \n",
                "\n",
                "\n",
                ""
            ],
            "metadata": {
                "azdata_cell_guid": "951fc285-d6e8-4858-bb0c-6d4f8ce56c43"
            },
            "attachments": {}
        },
        {
            "cell_type": "code",
            "source": [
                "-- Q9 \n",
                ""
            ],
            "metadata": {
                "azdata_cell_guid": "4fcdf88e-6e0c-4be0-ba72-229f3dedad1c",
                "language": "sql"
            },
            "outputs": [],
            "execution_count": null
        },
        {
            "cell_type": "markdown",
            "source": [
                "___\n",
                "## Medium \n",
                "Q10 \n",
                "\n",
                "\n",
                ""
            ],
            "metadata": {
                "azdata_cell_guid": "951fc285-d6e8-4858-bb0c-6d4f8ce56c43"
            },
            "attachments": {}
        },
        {
            "cell_type": "code",
            "source": [
                "-- Q10 \n",
                ""
            ],
            "metadata": {
                "azdata_cell_guid": "4fcdf88e-6e0c-4be0-ba72-229f3dedad1c",
                "language": "sql"
            },
            "outputs": [],
            "execution_count": null
        },
        {
            "cell_type": "markdown",
            "source": [
                "___\n",
                "## Medium \n",
                "Q11 \n",
                "\n",
                "\n",
                ""
            ],
            "metadata": {
                "azdata_cell_guid": "951fc285-d6e8-4858-bb0c-6d4f8ce56c43"
            },
            "attachments": {}
        },
        {
            "cell_type": "code",
            "source": [
                "-- Q11 \n",
                ""
            ],
            "metadata": {
                "azdata_cell_guid": "4fcdf88e-6e0c-4be0-ba72-229f3dedad1c",
                "language": "sql"
            },
            "outputs": [],
            "execution_count": null
        },
        {
            "cell_type": "markdown",
            "source": [
                "___\n",
                "## Medium \n",
                "Q12 \n",
                "\n",
                "\n",
                ""
            ],
            "metadata": {
                "azdata_cell_guid": "951fc285-d6e8-4858-bb0c-6d4f8ce56c43"
            },
            "attachments": {}
        },
        {
            "cell_type": "code",
            "source": [
                "-- Q12 \n",
                ""
            ],
            "metadata": {
                "azdata_cell_guid": "4fcdf88e-6e0c-4be0-ba72-229f3dedad1c",
                "language": "sql"
            },
            "outputs": [],
            "execution_count": null
        },
        {
            "cell_type": "markdown",
            "source": [
                "___\n",
                "## Medium \n",
                "Q13 \n",
                "\n",
                "\n",
                ""
            ],
            "metadata": {
                "azdata_cell_guid": "951fc285-d6e8-4858-bb0c-6d4f8ce56c43"
            },
            "attachments": {}
        },
        {
            "cell_type": "code",
            "source": [
                "-- Q13 \n",
                ""
            ],
            "metadata": {
                "azdata_cell_guid": "4fcdf88e-6e0c-4be0-ba72-229f3dedad1c",
                "language": "sql"
            },
            "outputs": [],
            "execution_count": null
        },
        {
            "cell_type": "markdown",
            "source": [
                "___\n",
                "## Complex \n",
                "Q14 \n",
                "\n",
                "\n",
                ""
            ],
            "metadata": {
                "azdata_cell_guid": "951fc285-d6e8-4858-bb0c-6d4f8ce56c43"
            },
            "attachments": {}
        },
        {
            "cell_type": "code",
            "source": [
                "-- Q14 \n",
                ""
            ],
            "metadata": {
                "azdata_cell_guid": "4fcdf88e-6e0c-4be0-ba72-229f3dedad1c",
                "language": "sql"
            },
            "outputs": [],
            "execution_count": null
        },
        {
            "cell_type": "markdown",
            "source": [
                "___\n",
                "## Complex \n",
                "Q15 \n",
                "\n",
                "\n",
                ""
            ],
            "metadata": {
                "azdata_cell_guid": "951fc285-d6e8-4858-bb0c-6d4f8ce56c43"
            },
            "attachments": {}
        },
        {
            "cell_type": "code",
            "source": [
                "-- Q15 \n",
                ""
            ],
            "metadata": {
                "azdata_cell_guid": "4fcdf88e-6e0c-4be0-ba72-229f3dedad1c",
                "language": "sql"
            },
            "outputs": [],
            "execution_count": null
        },
        {
            "cell_type": "markdown",
            "source": [
                "___\n",
                "## Complex \n",
                "Q16 \n",
                "\n",
                "\n",
                ""
            ],
            "metadata": {
                "azdata_cell_guid": "951fc285-d6e8-4858-bb0c-6d4f8ce56c43"
            },
            "attachments": {}
        },
        {
            "cell_type": "code",
            "source": [
                "-- Q16 \n",
                ""
            ],
            "metadata": {
                "azdata_cell_guid": "4fcdf88e-6e0c-4be0-ba72-229f3dedad1c",
                "language": "sql"
            },
            "outputs": [],
            "execution_count": null
        },
        {
            "cell_type": "markdown",
            "source": [
                "___\n",
                "## Complex \n",
                "Q17 \n",
                "\n",
                "\n",
                ""
            ],
            "metadata": {
                "azdata_cell_guid": "951fc285-d6e8-4858-bb0c-6d4f8ce56c43"
            },
            "attachments": {}
        },
        {
            "cell_type": "code",
            "source": [
                "-- Q17 \n",
                ""
            ],
            "metadata": {
                "azdata_cell_guid": "4fcdf88e-6e0c-4be0-ba72-229f3dedad1c",
                "language": "sql"
            },
            "outputs": [],
            "execution_count": null
        },
        {
            "cell_type": "markdown",
            "source": [
                "___\n",
                "## Complex \n",
                "Q18 \n",
                "\n",
                "\n",
                ""
            ],
            "metadata": {
                "azdata_cell_guid": "951fc285-d6e8-4858-bb0c-6d4f8ce56c43"
            },
            "attachments": {}
        },
        {
            "cell_type": "code",
            "source": [
                "-- Q18 \n",
                ""
            ],
            "metadata": {
                "azdata_cell_guid": "4fcdf88e-6e0c-4be0-ba72-229f3dedad1c",
                "language": "sql"
            },
            "outputs": [],
            "execution_count": null
        },
        {
            "cell_type": "markdown",
            "source": [
                "___\n",
                "## Complex \n",
                "Q19 \n",
                "\n",
                "\n",
                ""
            ],
            "metadata": {
                "azdata_cell_guid": "951fc285-d6e8-4858-bb0c-6d4f8ce56c43"
            },
            "attachments": {}
        },
        {
            "cell_type": "code",
            "source": [
                "-- Q19 \n",
                ""
            ],
            "metadata": {
                "azdata_cell_guid": "4fcdf88e-6e0c-4be0-ba72-229f3dedad1c",
                "language": "sql"
            },
            "outputs": [],
            "execution_count": null
        },
        {
            "cell_type": "markdown",
            "source": [
                "___\n",
                "## Complex \n",
                "Q20\n",
                "\n",
                "\n",
                ""
            ],
            "metadata": {
                "language": "",
                "azdata_cell_guid": "475a535f-6903-423f-ad1c-90554e83ab51"
            },
            "attachments": {}
        },
        {
            "cell_type": "code",
            "source": [
                "-- Q120"
            ],
            "metadata": {
                "azdata_cell_guid": "8d842bfb-2a82-4b12-a468-7a4ce9931e55",
                "language": "sql"
            },
            "outputs": [],
            "execution_count": null
        }
    ]
}