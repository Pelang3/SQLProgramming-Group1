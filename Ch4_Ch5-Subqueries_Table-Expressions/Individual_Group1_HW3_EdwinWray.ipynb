{
    "metadata": {
        "kernelspec": {
            "name": "SQL",
            "display_name": "SQL",
            "language": "sql"
        },
        "language_info": {
            "name": "sql",
            "version": ""
        }
    },
    "nbformat_minor": 2,
    "nbformat": 4,
    "cells": [
        {
            "cell_type": "markdown",
            "source": [
                "# **Edwin Wray**\n",
                "\n",
                "### **Group 1**\n",
                "\n",
                "**Homework 3**\n",
                "\n",
                "Chapter 4 (Subqueries): \n",
                "\n",
                "- Exercise 9 and 10 \n",
                "    \n",
                "- <span style=\"font-family: -apple-system, BlinkMacSystemFont, sans-serif; color: var(--vscode-foreground);\">Multi-Valued Subqueries</span>\n",
                "    \n",
                "\n",
                "Chapter 5 (Table Expressions): \n",
                "\n",
                "- Exercises 2.1 and 2.2\n",
                "    \n",
                "- Multiple References\n",
                "    \n",
                "- Views"
            ],
            "metadata": {
                "azdata_cell_guid": "b86a5174-6a2c-41f1-a7b6-d85253247669"
            },
            "attachments": {}
        },
        {
            "cell_type": "markdown",
            "source": [
                "<span style=\"color: #008000;\">-- 9</span>\n",
                "\n",
                "<span style=\"color: #008000;\">-- Explain the difference between IN and EXISTS</span>"
            ],
            "metadata": {
                "azdata_cell_guid": "fe8dde3a-35f9-485d-a3ab-d15b20a1a637"
            },
            "attachments": {}
        },
        {
            "cell_type": "markdown",
            "source": [
                "**Chapter 4 - Exercise 9**\n",
                "\n",
                "Proposition: Explain the difference between IN and EXISTS.\n",
                "\n",
                "Table: Sales.\\[Order\\] and Sales.Customer tables.\n",
                "\n",
                "Columns: DatabaseName, CustomerId from Sales.\\[Order\\] table and NumOrders that is the count of OrderId from the <span style=\"font-family: -apple-system, BlinkMacSystemFont, sans-serif; color: var(--vscode-foreground);\">Sales.[Order] table.</span>\n",
                "\n",
                "Predicate: c.CustomerId = o.CustomerId AND c.CustomerId = @FindCustomer\n",
                "\n",
                "\\_\\_\\_\\_\\_\n",
                "\n",
                "Answer: The keyword IN checks if a specific value is found in a list that's returned by a given subquery. While the EXISTS keyword checks if a spefic row is found in a table that's returned by a given subquery. Both Keywords are used in the Where clause to filter data.\n",
                "\n",
                "\\_\\_\\_\\_\\_\n",
                "\n",
                "[ChapGPT](https://static.vecteezy.com/system/resources/previews/022/841/114/non_2x/chatgpt-logo-transparent-background-free-png.png) Written in collaboration with ChatGPT from OpenAI to improve understanding and assist with the explanation of the query:\n",
                "\n",
                "Both IN and EXISTS are keywords used in SQL to filter data, but they operate differently.  \n",
                "\n",
                "The IN keyword is used to check if a specific value matches any value in a list returned by a subquery. It evaluates to true if the value matches any value in the list, and false otherwise.  \n",
                "\n",
                "On the other hand, the EXISTS keyword is used to check for the existence of rows returned by a subquery. It evaluates to true if the subquery returns at least one row, and false if the subquery returns no rows.  \n",
                "\n",
                "In summary, while IN checks for a value's presence in a list, EXISTS checks for the existence of rows in a subquery's result set."
            ],
            "metadata": {
                "azdata_cell_guid": "d8987c2d-6a73-49c8-b10e-3b8e7a2a6891"
            },
            "attachments": {}
        },
        {
            "cell_type": "code",
            "source": [
                "/*\n",
                "Chapter 4 - Exercise 9\n",
                "\n",
                "Proposition: Explain the difference between IN and EXISTS. \n",
                "\n",
                "Answer: \n",
                "The keyword IN checks if a specific value is found in a list that's returned by a given subquery. \n",
                "While the EXISTS keyword checks if a spefic row is found in a table that's returned by a given subquery. \n",
                "Both Keywords are used in the Where clause to filter data.\n",
                "*/\n",
                "\n",
                "USE Northwinds2022TSQLV7;\n",
                "\n",
                "DECLARE @FindCustomer INT = 7;\n",
                "\n",
                "-- Example returning the number of orders a specific customer placed using IN\n",
                "SELECT N'Northwinds2022TSQLV7' AS DatabaseName, o.CustomerId, COUNT(o.OrderId) as NumOrders\n",
                "FROM Sales.[Order] as o\n",
                "WHERE o.CustomerId IN\n",
                "    (\n",
                "        SELECT c.CustomerId\n",
                "        FROM Sales.Customer as c\n",
                "        WHERE c.CustomerId = o.CustomerId\n",
                "            AND c.CustomerId = @FindCustomer\n",
                "    )\n",
                "GROUP BY o.CustomerId\n",
                "\n",
                "-- Example returning the number of orders a specific customer placed using EXISTS\n",
                "SELECT N'Northwinds2022TSQLV7' AS DatabaseName, o.CustomerId, COUNT(o.OrderId) as NumOrders\n",
                "FROM Sales.[Order] as o\n",
                "WHERE EXISTS\n",
                "    (\n",
                "        SELECT c.CustomerId\n",
                "        FROM Sales.Customer as c\n",
                "        WHERE c.CustomerId = o.CustomerId\n",
                "            AND c.CustomerId = @FindCustomer\n",
                "    )\n",
                "GROUP BY o.CustomerId"
            ],
            "metadata": {
                "azdata_cell_guid": "9dda942c-5690-40ca-8259-312ddc43c901",
                "language": "sql"
            },
            "outputs": [],
            "execution_count": null
        },
        {
            "cell_type": "markdown",
            "source": [
                "<span style=\"color: #008000;\">-- 10</span>\n",
                "\n",
                "<span style=\"color: #008000;\">-- Write a query that returns for each order the number of days that past</span>\n",
                "\n",
                "<span style=\"color: #008000;\">-- since the same customer�s previous order. To determine recency among orders,</span>\n",
                "\n",
                "<span style=\"color: #008000;\">-- use orderdate as the primary sort element and orderid as the tiebreaker.</span>\n",
                "\n",
                "<span style=\"color: #008000;\">-- Tables involved: TSQLV6 database, Sales.Orders table</span>\n",
                "\n",
                "  \n",
                "\n",
                "<span style=\"color: #008000;\">-- Desired output:</span>\n",
                "\n",
                "custid orderdate orderid diff\n",
                "\n",
                "<span style=\"color: #008000;\">----------- ---------- ----------- -----------</span>\n",
                "\n",
                "<span style=\"color: #09885a;\">1</span> <span style=\"color: #09885a;\">2021</span><span style=\"color: #000000;\">-</span><span style=\"color: #09885a;\">08</span><span style=\"color: #000000;\">-</span><span style=\"color: #09885a;\">25</span> <span style=\"color: #09885a;\">10643</span> <span style=\"color: #0000ff;\">NULL</span>\n",
                "\n",
                "<span style=\"color: #09885a;\">1</span> <span style=\"color: #09885a;\">2021</span><span style=\"color: #000000;\">-</span><span style=\"color: #09885a;\">10</span><span style=\"color: #000000;\">-</span><span style=\"color: #09885a;\">03</span> <span style=\"color: #09885a;\">10692</span> <span style=\"color: #09885a;\">39</span>\n",
                "\n",
                "<span style=\"color: #09885a;\">1</span> <span style=\"color: #09885a;\">2021</span><span style=\"color: #000000;\">-</span><span style=\"color: #09885a;\">10</span><span style=\"color: #000000;\">-</span><span style=\"color: #09885a;\">13</span> <span style=\"color: #09885a;\">10702</span> <span style=\"color: #09885a;\">10</span>\n",
                "\n",
                "<span style=\"color: #09885a;\">1</span> <span style=\"color: #09885a;\">2022</span><span style=\"color: #000000;\">-</span><span style=\"color: #09885a;\">01</span><span style=\"color: #000000;\">-</span><span style=\"color: #09885a;\">15</span> <span style=\"color: #09885a;\">10835</span> <span style=\"color: #09885a;\">94</span>\n",
                "\n",
                "<span style=\"color: #09885a;\">1</span> <span style=\"color: #09885a;\">2022</span><span style=\"color: #000000;\">-</span><span style=\"color: #09885a;\">03</span><span style=\"color: #000000;\">-</span><span style=\"color: #09885a;\">16</span> <span style=\"color: #09885a;\">10952</span> <span style=\"color: #09885a;\">60</span>\n",
                "\n",
                "<span style=\"color: #09885a;\">1</span> <span style=\"color: #09885a;\">2022</span><span style=\"color: #000000;\">-</span><span style=\"color: #09885a;\">04</span><span style=\"color: #000000;\">-</span><span style=\"color: #09885a;\">09</span> <span style=\"color: #09885a;\">11011</span> <span style=\"color: #09885a;\">24</span>\n",
                "\n",
                "<span style=\"color: #09885a;\">2</span> <span style=\"color: #09885a;\">2020</span><span style=\"color: #000000;\">-</span><span style=\"color: #09885a;\">09</span><span style=\"color: #000000;\">-</span><span style=\"color: #09885a;\">18</span> <span style=\"color: #09885a;\">10308</span> <span style=\"color: #0000ff;\">NULL</span>\n",
                "\n",
                "<span style=\"color: #09885a;\">2</span> <span style=\"color: #09885a;\">2021</span><span style=\"color: #000000;\">-</span><span style=\"color: #09885a;\">08</span><span style=\"color: #000000;\">-</span><span style=\"color: #09885a;\">08</span> <span style=\"color: #09885a;\">10625</span> <span style=\"color: #09885a;\">324</span>\n",
                "\n",
                "<span style=\"color: #09885a;\">2</span> <span style=\"color: #09885a;\">2021</span><span style=\"color: #000000;\">-</span><span style=\"color: #09885a;\">11</span><span style=\"color: #000000;\">-</span><span style=\"color: #09885a;\">28</span> <span style=\"color: #09885a;\">10759</span> <span style=\"color: #09885a;\">112</span>\n",
                "\n",
                "<span style=\"color: #09885a;\">2</span> <span style=\"color: #09885a;\">2022</span><span style=\"color: #000000;\">-</span><span style=\"color: #09885a;\">03</span><span style=\"color: #000000;\">-</span><span style=\"color: #09885a;\">04</span> <span style=\"color: #09885a;\">10926</span> <span style=\"color: #09885a;\">96</span>\n",
                "\n",
                "...\n",
                "\n",
                "  \n",
                "\n",
                "(<span style=\"color: #09885a;\">830</span> <span style=\"color: #0000ff;\">rows</span> affected)"
            ],
            "metadata": {
                "azdata_cell_guid": "4ed8901b-16d0-49b4-bdd9-d0df72f6b2e9"
            },
            "attachments": {}
        },
        {
            "cell_type": "markdown",
            "source": [
                "**Chapter 4 - Exercise 10**\n",
                "\n",
                "Proposition: Write a query that returns for each order the number of days that past <span style=\"font-family: -apple-system, BlinkMacSystemFont, sans-serif; color: var(--vscode-foreground);\">since the same customer's previous order.&nbsp;</span>     \n",
                "\n",
                "Table: Sales.\\[Order\\] table.\n",
                "\n",
                "Columns: DatabaseName, CustomerId, OrderDate and OrderId from <span style=\"font-family: -apple-system, BlinkMacSystemFont, sans-serif; color: var(--vscode-foreground);\">Sales.[Order] table, and&nbsp;</span>  <span style=\"font-family: -apple-system, BlinkMacSystemFont, sans-serif; color: var(--vscode-foreground);\">the number of days that past&nbsp;</span>  <span style=\"font-family: -apple-system, BlinkMacSystemFont, sans-serif; color: var(--vscode-foreground);\">since the same customer's previous order as&nbsp;</span>  <span style=\"color: var(--vscode-foreground); font-family: -apple-system, BlinkMacSystemFont, sans-serif;\">Diff.</span>\n",
                "\n",
                "Predicate: p.custid = o.custid and p.orderid \\< o.orderid to filter the table to all of a customer's prev orders only."
            ],
            "metadata": {
                "azdata_cell_guid": "2f5ee01c-c0fa-41bb-ae1c-7afdda77c819"
            },
            "attachments": {}
        },
        {
            "cell_type": "code",
            "source": [
                "USE TSQLV6;\n",
                "\n",
                "SELECT N'TSQLV6' AS databasename, o.custid, o.orderdate, o.orderid\n",
                "    , DATEDIFF(DAY, (\n",
                "        SELECT TOP 1 p.orderdate\n",
                "        FROM Sales.Orders as p \n",
                "        WHERE p.custid = o.custid and p.orderid < o.orderid\n",
                "        ORDER BY p.orderdate DESC, p.orderid DESC\n",
                "    ), o.orderdate) as diff\n",
                "FROM Sales.Orders as o\n",
                "ORDER BY o.custid, o.orderdate, o.orderid\n",
                "\n",
                "\n",
                "USE Northwinds2022TSQLV7;\n",
                "\n",
                "SELECT N'Northwinds2022TSQLV7' AS DatabaseName, o.CustomerId, o.OrderDate, o.OrderId\n",
                "    , DATEDIFF(DAY, (\n",
                "        SELECT TOP 1 p.OrderDate\n",
                "        FROM Sales.[Order] as p \n",
                "        WHERE p.CustomerId = o.CustomerId and p.OrderId < o.OrderId\n",
                "        ORDER BY p.OrderDate DESC, p.OrderId DESC\n",
                "    ), o.OrderDate) as Diff\n",
                "FROM Sales.[Order] as o\n",
                "ORDER BY o.CustomerId, o.OrderDate, o.OrderId"
            ],
            "metadata": {
                "azdata_cell_guid": "88809930-a864-428a-bdd0-c142993f7cea",
                "language": "sql"
            },
            "outputs": [],
            "execution_count": null
        },
        {
            "cell_type": "markdown",
            "source": [
                "<span style=\"color: #008000;\">---------------------------------------------------------------------</span>\n",
                "\n",
                "<span style=\"color: #008000;\">-- Multi-Valued Subqueries</span>\n",
                "\n",
                "<span style=\"color: #008000;\">---------------------------------------------------------------------</span>"
            ],
            "metadata": {
                "azdata_cell_guid": "2d48f04f-62e4-40dd-b8bd-e99cb51393d7"
            },
            "attachments": {}
        },
        {
            "cell_type": "markdown",
            "source": [
                "**Chapter 4 - <span style=\"color: var(--vscode-foreground); font-family: -apple-system, BlinkMacSystemFont, sans-serif;\">Multi-Valued Subqueries</span>**\n",
                "\n",
                "Proposition: Write a query that returns the OrderId of all orders handled by Employees whose LastNames start with 'D'.\n",
                "\n",
                "Table: Sales.\\[Order\\] as alias O and HumanResources.Employee as alias E.\n",
                "\n",
                "Columns: DatabaseName. OrderId from the <span style=\"font-family: -apple-system, BlinkMacSystemFont, sans-serif; color: var(--vscode-foreground);\">Sales.[Order] table.&nbsp;</span>    EmployeeId from the HumanResources.Employee table.\n",
                "\n",
                "Predicate: In the outer query, O.EmployeeId IN (SubQuery) filters the query to rows whose EmployeeIds are found in the subquery. In the subquery, <span style=\"font-family: -apple-system, BlinkMacSystemFont, sans-serif; color: var(--vscode-foreground);\">E.EmployeeLastName LIKE N'D%' filters the table to only rows with&nbsp;</span> <span style=\"font-family: -apple-system, BlinkMacSystemFont, sans-serif; color: var(--vscode-foreground);\">EmployeeLastNames starting with 'D'.</span>"
            ],
            "metadata": {
                "language": "sql",
                "azdata_cell_guid": "dafaefea-0027-4441-baf4-6cecab14dc83"
            },
            "attachments": {}
        },
        {
            "cell_type": "code",
            "source": [
                "USE TSQLV6;\n",
                "\n",
                "SELECT N'TSQLV6' AS databasename, orderid\n",
                "FROM Sales.Orders\n",
                "WHERE empid IN\n",
                "  (SELECT E.empid\n",
                "   FROM HR.Employees AS E\n",
                "   WHERE E.lastname LIKE N'D%');\n",
                "\n",
                "\n",
                "USE Northwinds2022TSQLV7;\n",
                "\n",
                "SELECT N'Northwinds2022TSQLV7' AS DatabaseName, O.OrderId\n",
                "FROM Sales.[Order] as O\n",
                "WHERE O.EmployeeId IN\n",
                "  (SELECT E.EmployeeId\n",
                "   FROM HumanResources.Employee AS E\n",
                "   WHERE E.EmployeeLastName LIKE N'D%');"
            ],
            "metadata": {
                "language": "sql",
                "azdata_cell_guid": "6b90fdf5-8302-43bf-bf66-c088ce88b54d"
            },
            "outputs": [],
            "execution_count": null
        },
        {
            "cell_type": "markdown",
            "source": [
                "**Chapter 4 - <span style=\"color: var(--vscode-foreground); font-family: -apple-system, BlinkMacSystemFont, sans-serif;\">Multi-Valued Subqueries</span>**\n",
                "\n",
                "Proposition: Write a query that returns the OrderId of all orders handled by Employees whose LastNames start with 'D'.\n",
                "\n",
                "Table: Sales.\\[Order\\] as alias O and HumanResources.Employee as alias E.\n",
                "\n",
                "Columns: DatabaseName. OrderId from the <span style=\"font-family: -apple-system, BlinkMacSystemFont, sans-serif; color: var(--vscode-foreground);\">Sales.[Order] table.</span>\n",
                "\n",
                "Predicate: E.EmployeeLastName LIKE N'D%' filters the table to only rows with <span style=\"font-family: -apple-system, BlinkMacSystemFont, sans-serif; color: var(--vscode-foreground);\">EmployeeLastNames starting with 'D'.</span>"
            ],
            "metadata": {
                "language": "sql",
                "azdata_cell_guid": "d7dd58e1-d394-408c-bf3f-98e44136d6e0"
            },
            "attachments": {}
        },
        {
            "cell_type": "code",
            "source": [
                "USE TSQLV6;\n",
                "\n",
                "SELECT N'TSQLV6' AS databasename, O.orderid\n",
                "FROM HR.Employees AS E\n",
                "  INNER JOIN Sales.Orders AS O\n",
                "    ON E.empid = O.empid\n",
                "WHERE E.lastname LIKE N'D%';\n",
                "\n",
                "\n",
                "USE Northwinds2022TSQLV7;\n",
                "\n",
                "SELECT N'Northwinds2022TSQLV7' AS DatabaseName, O.OrderId\n",
                "FROM HumanResources.Employee AS E\n",
                "  INNER JOIN Sales.[Order] AS O\n",
                "    ON E.EmployeeId = O.EmployeeId\n",
                "WHERE E.EmployeeLastName LIKE N'D%';"
            ],
            "metadata": {
                "language": "sql",
                "azdata_cell_guid": "353099b4-28b5-4e8d-be2e-81d1096f8bce"
            },
            "outputs": [],
            "execution_count": null
        },
        {
            "cell_type": "markdown",
            "source": [
                "**Chapter 4 - <span style=\"color: var(--vscode-foreground); font-family: -apple-system, BlinkMacSystemFont, sans-serif;\">Multi-Valued Subqueries</span>**\n",
                "\n",
                "Proposition: Write a query that return orders of customers from the 'USA'.\n",
                "\n",
                "Table: Sales.\\[Order\\] as alias O and Sales.Customer as alias C.\n",
                "\n",
                "Columns: DatabaseName. CustomerId, OrderId, OrderDate, and EmployeeId from the <span style=\"font-family: -apple-system, BlinkMacSystemFont, sans-serif; color: var(--vscode-foreground);\">Sales.[Order] table.</span>\n",
                "\n",
                "Predicate: In the outer query, O.CustomerId IN (SubQuery) filters the query to rows whose CustomerIds are found in the subquery. In the subquery, C.<span style=\"font-family: -apple-system, BlinkMacSystemFont, sans-serif; color: var(--vscode-foreground);\">CustomerCountry = N'USA' filters the table to only rows with&nbsp;</span> <span style=\"font-family: -apple-system, BlinkMacSystemFont, sans-serif; color: var(--vscode-foreground);\">CustomerCountry</span> <span style=\"color: var(--vscode-foreground); font-family: -apple-system, BlinkMacSystemFont, sans-serif;\">&nbsp;that are 'USA'.</span>"
            ],
            "metadata": {
                "language": "sql",
                "azdata_cell_guid": "1f7d3f27-6da6-4b60-8643-28054dd84342"
            },
            "attachments": {}
        },
        {
            "cell_type": "code",
            "source": [
                "-- Orders placed by US customers\n",
                "USE TSQLV6;\n",
                "\n",
                "SELECT N'TSQLV6' AS databasename, custid, orderid, orderdate, empid\n",
                "FROM Sales.Orders\n",
                "WHERE custid IN\n",
                "  (SELECT C.custid\n",
                "   FROM Sales.Customers AS C\n",
                "   WHERE C.country = N'USA');\n",
                "\n",
                "\n",
                "-- Orders placed by US customers\n",
                "USE Northwinds2022TSQLV7;\n",
                "\n",
                "SELECT N'Northwinds2022TSQLV7' AS DatabaseName, O.CustomerId, O.OrderId, O.OrderDate, O.EmployeeId\n",
                "FROM Sales.[Order] as O\n",
                "WHERE O.CustomerId IN\n",
                "  (SELECT C.CustomerId\n",
                "   FROM Sales.Customer AS C\n",
                "   WHERE C.CustomerCountry = N'USA');"
            ],
            "metadata": {
                "language": "sql",
                "azdata_cell_guid": "eec04336-beae-4101-82b3-d2379f52ce14"
            },
            "outputs": [],
            "execution_count": null
        },
        {
            "cell_type": "markdown",
            "source": [
                "**Chapter 4 - <span style=\"color: var(--vscode-foreground); font-family: -apple-system, BlinkMacSystemFont, sans-serif;\">Multi-Valued Subqueries</span>**\n",
                "\n",
                "Proposition: Write a query that returns Customers who have not placed an order.\n",
                "\n",
                "Table: Outer query, Sales.Customer as alias C and subquery, <span style=\"font-family: -apple-system, BlinkMacSystemFont, sans-serif; color: var(--vscode-foreground);\">Sales.[Order] as alias O</span> <span style=\"font-family: -apple-system, BlinkMacSystemFont, sans-serif; color: var(--vscode-foreground);\">.</span>\n",
                "\n",
                "Columns: DatabaseName. CustomerId and CustomerCompanyName from the Sales.Customer <span style=\"font-family: -apple-system, BlinkMacSystemFont, sans-serif; color: var(--vscode-foreground);\">table.</span>\n",
                "\n",
                "Predicate: In the outer query, C.CustomerId NOT IN (SubQuery) filters the query to rows whose CustomerIds are NOT found in the subquery; resulting in rows with Customer who have not placed an order."
            ],
            "metadata": {
                "azdata_cell_guid": "de0b044f-0021-4f1e-86cc-c7758d3f7f50"
            },
            "attachments": {}
        },
        {
            "cell_type": "code",
            "source": [
                "-- Customers who placed no orders\n",
                "USE TSQLV6;\n",
                "\n",
                "SELECT N'TSQLV6' AS databasename, custid, companyname\n",
                "FROM Sales.Customers\n",
                "WHERE custid NOT IN\n",
                "  (SELECT O.custid\n",
                "   FROM Sales.Orders AS O);\n",
                "\n",
                "\n",
                "-- Customers who placed no orders\n",
                "USE Northwinds2022TSQLV7;\n",
                "\n",
                "SELECT N'Northwinds2022TSQLV7' AS DatabaseName, C.CustomerId, C.CustomerCompanyName\n",
                "FROM Sales.Customer as C\n",
                "WHERE C.CustomerId NOT IN\n",
                "  (SELECT O.CustomerId\n",
                "   FROM Sales.[Order] AS O);"
            ],
            "metadata": {
                "language": "sql",
                "azdata_cell_guid": "c3299032-ddd4-4528-b0f9-136cdee9c5b3"
            },
            "outputs": [],
            "execution_count": null
        },
        {
            "cell_type": "markdown",
            "source": [
                "**Chapter 4 - <span style=\"color: var(--vscode-foreground); font-family: -apple-system, BlinkMacSystemFont, sans-serif;\">Multi-Valued Subqueries</span>**\n",
                "\n",
                "Proposition: Write a query that creates a table, dbo.\\[Order\\], <span style=\"font-family: -apple-system, BlinkMacSystemFont, sans-serif; color: var(--vscode-foreground);\">of orders with even OrderIds.</span>\n",
                "\n",
                "Table: dbo.\\[Order\\] and <span style=\"font-family: -apple-system, BlinkMacSystemFont, sans-serif; color: var(--vscode-foreground);\">Sales.[Order] as alias O</span><span style=\"font-family: -apple-system, BlinkMacSystemFont, sans-serif; color: var(--vscode-foreground);\">.</span>\n",
                "\n",
                "Columns:  OrderId from the <span style=\"font-family: -apple-system, BlinkMacSystemFont, sans-serif; color: var(--vscode-foreground);\">Sales.[Order]</span> <span style=\"font-family: -apple-system, BlinkMacSystemFont, sans-serif; color: var(--vscode-foreground);\">table.</span>\n",
                "\n",
                "Predicate: O.OrderId % 2 = 0 filters the table to orders with even OrderIds."
            ],
            "metadata": {
                "language": "sql",
                "azdata_cell_guid": "0ad322d3-f418-4239-93e3-1b438d2ebc53"
            },
            "attachments": {}
        },
        {
            "cell_type": "code",
            "source": [
                "-- Missing order IDs\n",
                "USE TSQLV6;\n",
                "\n",
                "DROP TABLE IF EXISTS dbo.Orders;\n",
                "CREATE TABLE dbo.Orders(orderid INT NOT NULL CONSTRAINT PK_Orders PRIMARY KEY);\n",
                "\n",
                "INSERT INTO dbo.Orders(orderid)\n",
                "  SELECT orderid\n",
                "  FROM Sales.Orders\n",
                "  WHERE orderid % 2 = 0;\n",
                "\n",
                "\n",
                "-- Missing order IDs\n",
                "USE Northwinds2022TSQLV7;\n",
                "\n",
                "DROP TABLE IF EXISTS dbo.[Order];\n",
                "CREATE TABLE dbo.[Order](OrderId INT NOT NULL CONSTRAINT PK_Orders PRIMARY KEY);\n",
                "\n",
                "INSERT INTO dbo.[Order](O.OrderId)\n",
                "  SELECT O.OrderId\n",
                "  FROM Sales.[Order] as O\n",
                "  WHERE O.OrderId % 2 = 0;\n",
                "\n",
                "SELECT *\n",
                "FROM dbo.[Order]"
            ],
            "metadata": {
                "language": "sql",
                "azdata_cell_guid": "4c53a494-408f-4f77-8cde-e685a9d9628c"
            },
            "outputs": [],
            "execution_count": null
        },
        {
            "cell_type": "markdown",
            "source": [
                "**Chapter 4 - <span style=\"color: var(--vscode-foreground); font-family: -apple-system, BlinkMacSystemFont, sans-serif;\">Multi-Valued Subqueries</span>**\n",
                "\n",
                "Proposition: Write a query that returns odd  <span style=\"font-family: -apple-system, BlinkMacSystemFont, sans-serif; color: var(--vscode-foreground);\">&nbsp;OrderIds within the range of OrderIds found in the dbo.[Order] table.</span>\n",
                "\n",
                "Table: Outer query, dbo.Nums and subquery, dbo.\\[Order\\] as alias O<span style=\"font-family: -apple-system, BlinkMacSystemFont, sans-serif; color: var(--vscode-foreground);\">.</span>\n",
                "\n",
                "Columns:  OrderId from the <span style=\"font-family: -apple-system, BlinkMacSystemFont, sans-serif; color: var(--vscode-foreground);\">Sales.[Order]</span> <span style=\"font-family: -apple-system, BlinkMacSystemFont, sans-serif; color: var(--vscode-foreground);\">table.</span>\n",
                "\n",
                "Predicate: \n",
                "\n",
                "- n BETWEEN (SELECT MIN(O.OrderId) FROM dbo.\\[Order\\] AS O) AND (SELECT MAX(O.OrderId) FROM dbo.\\[Order\\] AS O) filters the table to numbers found in the range of the min and max OrderIds found in the dbo.\\[Order\\] table inclusively.\n",
                "- AND n NOT IN (SELECT O.OrderId FROM dbo.\\[Order\\] AS O) further filters the table to numbers NOT found in the dbo.\\[Order\\] table, resulting in odd numbers only."
            ],
            "metadata": {
                "language": "sql",
                "azdata_cell_guid": "2a2e4011-52d2-4c88-b322-c29d9353de8f"
            },
            "attachments": {}
        },
        {
            "cell_type": "code",
            "source": [
                "USE TSQLV6;\n",
                "\n",
                "SELECT N'TSQLV6' AS databasename, n\n",
                "FROM dbo.Nums\n",
                "WHERE n BETWEEN (SELECT MIN(O.orderid) FROM dbo.Orders AS O)\n",
                "            AND (SELECT MAX(O.orderid) FROM dbo.Orders AS O)\n",
                "  AND n NOT IN (SELECT O.orderid FROM dbo.Orders AS O);\n",
                "\n",
                "-- CLeanup\n",
                "DROP TABLE IF EXISTS dbo.Orders;\n",
                "\n",
                "\n",
                "USE Northwinds2022TSQLV7;\n",
                "\n",
                "SELECT N'Northwinds2022TSQLV7' AS DatabaseName, n\n",
                "FROM dbo.Nums\n",
                "WHERE n BETWEEN (SELECT MIN(O.OrderId) FROM dbo.[Order] AS O)\n",
                "            AND (SELECT MAX(O.OrderId) FROM dbo.[Order] AS O)\n",
                "  AND n NOT IN (SELECT O.OrderId FROM dbo.[Order] AS O);\n",
                "\n",
                "-- CLeanup\n",
                "DROP TABLE IF EXISTS dbo.[Order];"
            ],
            "metadata": {
                "language": "sql",
                "azdata_cell_guid": "331604cb-efbb-425e-9754-0c4fdd67fb3f"
            },
            "outputs": [],
            "execution_count": null
        },
        {
            "cell_type": "markdown",
            "source": [
                "<span style=\"color: #008000;\">-- 2-1</span>\n",
                "\n",
                "<span style=\"color: #008000;\">-- Write a query that returns the maximum order date for each employee</span>\n",
                "\n",
                "<span style=\"color: #008000;\">-- Tables involved: TSQLV6 database, Sales.Orders table</span>\n",
                "\n",
                "  \n",
                "\n",
                "<span style=\"color: #008000;\">--Desired output</span>\n",
                "\n",
                "empid maxorderdate\n",
                "\n",
                "<span style=\"color: #008000;\">----------- -------------</span>\n",
                "\n",
                "<span style=\"color: #09885a;\">3</span> <span style=\"color: #09885a;\">2022</span><span style=\"color: #000000;\">-</span><span style=\"color: #09885a;\">04</span><span style=\"color: #000000;\">-</span><span style=\"color: #09885a;\">30</span>\n",
                "\n",
                "<span style=\"color: #09885a;\">6</span> <span style=\"color: #09885a;\">2022</span><span style=\"color: #000000;\">-</span><span style=\"color: #09885a;\">04</span><span style=\"color: #000000;\">-</span><span style=\"color: #09885a;\">23</span>\n",
                "\n",
                "<span style=\"color: #09885a;\">9</span> <span style=\"color: #09885a;\">2022</span><span style=\"color: #000000;\">-</span><span style=\"color: #09885a;\">04</span><span style=\"color: #000000;\">-</span><span style=\"color: #09885a;\">29</span>\n",
                "\n",
                "<span style=\"color: #09885a;\">7</span> <span style=\"color: #09885a;\">2022</span><span style=\"color: #000000;\">-</span><span style=\"color: #09885a;\">05</span><span style=\"color: #000000;\">-</span><span style=\"color: #09885a;\">06</span>\n",
                "\n",
                "<span style=\"color: #09885a;\">1</span> <span style=\"color: #09885a;\">2022</span><span style=\"color: #000000;\">-</span><span style=\"color: #09885a;\">05</span><span style=\"color: #000000;\">-</span><span style=\"color: #09885a;\">06</span>\n",
                "\n",
                "<span style=\"color: #09885a;\">4</span> <span style=\"color: #09885a;\">2022</span><span style=\"color: #000000;\">-</span><span style=\"color: #09885a;\">05</span><span style=\"color: #000000;\">-</span><span style=\"color: #09885a;\">06</span>\n",
                "\n",
                "<span style=\"color: #09885a;\">2</span> <span style=\"color: #09885a;\">2022</span><span style=\"color: #000000;\">-</span><span style=\"color: #09885a;\">05</span><span style=\"color: #000000;\">-</span><span style=\"color: #09885a;\">05</span>\n",
                "\n",
                "<span style=\"color: #09885a;\">5</span> <span style=\"color: #09885a;\">2022</span><span style=\"color: #000000;\">-</span><span style=\"color: #09885a;\">04</span><span style=\"color: #000000;\">-</span><span style=\"color: #09885a;\">22</span>\n",
                "\n",
                "<span style=\"color: #09885a;\">8</span> <span style=\"color: #09885a;\">2022</span><span style=\"color: #000000;\">-</span><span style=\"color: #09885a;\">05</span><span style=\"color: #000000;\">-</span><span style=\"color: #09885a;\">06</span>\n",
                "\n",
                "  \n",
                "\n",
                "(<span style=\"color: #09885a;\">9</span> <span style=\"color: #0000ff;\">rows</span> affected)"
            ],
            "metadata": {
                "azdata_cell_guid": "d941b89c-912d-4a76-986e-56d7cedf9e34"
            },
            "attachments": {}
        },
        {
            "cell_type": "markdown",
            "source": [
                "**Chapter 5 - <span style=\"font-family: -apple-system, BlinkMacSystemFont, sans-serif; color: var(--vscode-foreground);\">Exercises 2.1</span>**\n",
                "\n",
                "Proposition: Write a query that returns the maximum order date for each employee. Return the EmployeeId and MaxOrderDate.  \n",
                "\n",
                "Table: Sales.\\[Order\\] as alias O.  \n",
                "\n",
                "Columns: DatabaseName.  EmployeeId from  Sales.\\[Order\\] table.  MaxOrderDate which is the max value of all an employee's  OrderDates.  \n",
                "\n",
                "Predicate: No predicates in this query."
            ],
            "metadata": {
                "language": "sql",
                "azdata_cell_guid": "ee731581-0dc9-45d3-9314-96e17e60b39b"
            },
            "attachments": {}
        },
        {
            "cell_type": "code",
            "source": [
                "USE TSQLV6;\n",
                "\n",
                "SELECT N'TSQLV6' AS databasename\n",
                "    , O.empid, MAX(O.orderdate) as maxorderdate\n",
                "FROM Sales.Orders as O\n",
                "GROUP BY O.empid\n",
                "ORDER BY O.empid\n",
                "\n",
                "\n",
                "USE Northwinds2022TSQLV7;\n",
                "\n",
                "SELECT N'Northwinds2022TSQLV7' AS DatabaseName\n",
                "    , O.EmployeeId, MAX(O.OrderDate) as MaxOrderDate\n",
                "FROM Sales.[Order] as O\n",
                "GROUP BY O.EmployeeId\n",
                "ORDER BY O.EmployeeId"
            ],
            "metadata": {
                "language": "sql",
                "azdata_cell_guid": "a14d67cb-76fb-4c39-ab71-25fdeeeda8b6",
                "tags": []
            },
            "outputs": [],
            "execution_count": null
        },
        {
            "cell_type": "markdown",
            "source": [
                "<span style=\"color: rgb(0, 128, 0);\"><br class=\"Apple-interchange-newline\">-- 2-2</span>\n",
                "\n",
                "<span style=\"color: rgb(0, 128, 0);\">-- Encapsulate the query from exercise 2-1 in a derived table</span>\n",
                "\n",
                "<span style=\"color: rgb(0, 128, 0);\">-- Write a join query between the derived table and the Sales.Orders</span>\n",
                "\n",
                "<span style=\"color: rgb(0, 128, 0);\">-- table to return the Sales.Orders with the maximum order date for</span>\n",
                "\n",
                "<span style=\"color: rgb(0, 128, 0);\">-- each employee</span>\n",
                "\n",
                "<span style=\"color: rgb(0, 128, 0);\">-- Tables involved: Sales.Orders</span>\n",
                "\n",
                "  \n",
                "\n",
                "<span style=\"color: rgb(0, 128, 0);\">-- Desired output:</span>\n",
                "\n",
                "empid orderdate orderid custid\n",
                "\n",
                "<span style=\"color: rgb(0, 128, 0);\">----------- ----------- ----------- -----------</span>\n",
                "\n",
                "<span style=\"color: rgb(9, 136, 90);\">9</span> <span style=\"color: rgb(9, 136, 90);\">2022</span><span style=\"color: rgb(0, 0, 0);\">-</span><span style=\"color: rgb(9, 136, 90);\">04</span><span style=\"color: rgb(0, 0, 0);\">-</span><span style=\"color: rgb(9, 136, 90);\">29</span> <span style=\"color: rgb(9, 136, 90);\">11058</span> <span style=\"color: rgb(9, 136, 90);\">6</span>\n",
                "\n",
                "<span style=\"color: rgb(9, 136, 90);\">8</span> <span style=\"color: rgb(9, 136, 90);\">2022</span><span style=\"color: rgb(0, 0, 0);\">-</span><span style=\"color: rgb(9, 136, 90);\">05</span><span style=\"color: rgb(0, 0, 0);\">-</span><span style=\"color: rgb(9, 136, 90);\">06</span> <span style=\"color: rgb(9, 136, 90);\">11075</span> <span style=\"color: rgb(9, 136, 90);\">68</span>\n",
                "\n",
                "<span style=\"color: rgb(9, 136, 90);\">7</span> <span style=\"color: rgb(9, 136, 90);\">2022</span><span style=\"color: rgb(0, 0, 0);\">-</span><span style=\"color: rgb(9, 136, 90);\">05</span><span style=\"color: rgb(0, 0, 0);\">-</span><span style=\"color: rgb(9, 136, 90);\">06</span> <span style=\"color: rgb(9, 136, 90);\">11074</span> <span style=\"color: rgb(9, 136, 90);\">73</span>\n",
                "\n",
                "<span style=\"color: rgb(9, 136, 90);\">6</span> <span style=\"color: rgb(9, 136, 90);\">2022</span><span style=\"color: rgb(0, 0, 0);\">-</span><span style=\"color: rgb(9, 136, 90);\">04</span><span style=\"color: rgb(0, 0, 0);\">-</span><span style=\"color: rgb(9, 136, 90);\">23</span> <span style=\"color: rgb(9, 136, 90);\">11045</span> <span style=\"color: rgb(9, 136, 90);\">10</span>\n",
                "\n",
                "<span style=\"color: rgb(9, 136, 90);\">5</span> <span style=\"color: rgb(9, 136, 90);\">2022</span><span style=\"color: rgb(0, 0, 0);\">-</span><span style=\"color: rgb(9, 136, 90);\">04</span><span style=\"color: rgb(0, 0, 0);\">-</span><span style=\"color: rgb(9, 136, 90);\">22</span> <span style=\"color: rgb(9, 136, 90);\">11043</span> <span style=\"color: rgb(9, 136, 90);\">74</span>\n",
                "\n",
                "<span style=\"color: rgb(9, 136, 90);\">4</span> <span style=\"color: rgb(9, 136, 90);\">2022</span><span style=\"color: rgb(0, 0, 0);\">-</span><span style=\"color: rgb(9, 136, 90);\">05</span><span style=\"color: rgb(0, 0, 0);\">-</span><span style=\"color: rgb(9, 136, 90);\">06</span> <span style=\"color: rgb(9, 136, 90);\">11076</span> <span style=\"color: rgb(9, 136, 90);\">9</span>\n",
                "\n",
                "<span style=\"color: rgb(9, 136, 90);\">3</span> <span style=\"color: rgb(9, 136, 90);\">2022</span><span style=\"color: rgb(0, 0, 0);\">-</span><span style=\"color: rgb(9, 136, 90);\">04</span><span style=\"color: rgb(0, 0, 0);\">-</span><span style=\"color: rgb(9, 136, 90);\">30</span> <span style=\"color: rgb(9, 136, 90);\">11063</span> <span style=\"color: rgb(9, 136, 90);\">37</span>\n",
                "\n",
                "<span style=\"color: rgb(9, 136, 90);\">2</span> <span style=\"color: rgb(9, 136, 90);\">2022</span><span style=\"color: rgb(0, 0, 0);\">-</span><span style=\"color: rgb(9, 136, 90);\">05</span><span style=\"color: rgb(0, 0, 0);\">-</span><span style=\"color: rgb(9, 136, 90);\">05</span> <span style=\"color: rgb(9, 136, 90);\">11073</span> <span style=\"color: rgb(9, 136, 90);\">58</span>\n",
                "\n",
                "<span style=\"color: rgb(9, 136, 90);\">2</span> <span style=\"color: rgb(9, 136, 90);\">2022</span><span style=\"color: rgb(0, 0, 0);\">-</span><span style=\"color: rgb(9, 136, 90);\">05</span><span style=\"color: rgb(0, 0, 0);\">-</span><span style=\"color: rgb(9, 136, 90);\">05</span> <span style=\"color: rgb(9, 136, 90);\">11070</span> <span style=\"color: rgb(9, 136, 90);\">44</span>\n",
                "\n",
                "<span style=\"color: rgb(9, 136, 90);\">1</span> <span style=\"color: rgb(9, 136, 90);\">2022</span><span style=\"color: rgb(0, 0, 0);\">-</span><span style=\"color: rgb(9, 136, 90);\">05</span><span style=\"color: rgb(0, 0, 0);\">-</span><span style=\"color: rgb(9, 136, 90);\">06</span> <span style=\"color: rgb(9, 136, 90);\">11077</span> <span style=\"color: rgb(9, 136, 90);\">65</span>\n",
                "\n",
                "  \n",
                "\n",
                "(<span style=\"color: rgb(9, 136, 90);\">10</span> <span style=\"color: rgb(0, 0, 255);\">rows</span> affected)"
            ],
            "metadata": {
                "azdata_cell_guid": "68b7c8f7-266a-4b36-9b95-2e623e15e71d"
            },
            "attachments": {}
        },
        {
            "cell_type": "markdown",
            "source": [
                "**Chapter 5 - <span style=\"font-family: -apple-system, BlinkMacSystemFont, sans-serif; color: var(--vscode-foreground);\">Exercises 2.2</span>**\n",
                "\n",
                "Proposition: Write a query that encapsulates the query from exercise 2-1 in a derived table and joins it with the Sales.\\[Order\\] table. Return the   EmployeeId, MaxOrderDate, OrderId and CustomerId.  \n",
                "\n",
                "Table: Sales.\\[Order\\] as alias O2 and  query from exercise 2-1 encapsulated in a derived table as alias O1.  \n",
                "\n",
                "Columns: DatabaseName.  EmployeeId, OrderId and CustomerId  from Sales.\\[Order\\] table. MaxOrderDate which is the max value of all an employee's OrderDates.  \n",
                "\n",
                "Predicate: No predicates in this query."
            ],
            "metadata": {
                "language": "sql",
                "azdata_cell_guid": "2865fa57-2371-4ba7-b6f3-62f3421e3295"
            },
            "attachments": {}
        },
        {
            "cell_type": "code",
            "source": [
                "USE TSQLV6;\n",
                "\n",
                "SELECT O1.databasename, O1.empid, O1.maxorderdate, O2.orderid, O2.custid\n",
                "FROM (\n",
                "    SELECT N'TSQLV6' AS databasename\n",
                "        , O.empid, MAX(O.orderdate) as maxorderdate\n",
                "    FROM Sales.Orders as O\n",
                "    GROUP BY O.empid\n",
                "    ) as O1\n",
                "    LEFT OUTER JOIN Sales.Orders as O2\n",
                "        ON O1.empid = O2.empid \n",
                "            AND O1.maxorderdate = O2.orderdate\n",
                "ORDER BY O1.empid DESC\n",
                "\n",
                "\n",
                "\n",
                "USE Northwinds2022TSQLV7;\n",
                "\n",
                "SELECT O1.DatabaseName, O1.EmployeeId, O1.MaxOrderDate, O2.OrderId, O2.CustomerId\n",
                "FROM (\n",
                "    SELECT N'Northwinds2022TSQLV7' AS DatabaseName\n",
                "        , O.EmployeeId, MAX(O.OrderDate) as MaxOrderDate\n",
                "    FROM Sales.[Order] as O\n",
                "    GROUP BY O.EmployeeId\n",
                "    ) as O1\n",
                "    LEFT OUTER JOIN Sales.[Order] as O2\n",
                "        ON O1.EmployeeId = O2.EmployeeId \n",
                "            AND O1.MaxOrderDate = O2.OrderDate\n",
                "ORDER BY O1.EmployeeId DESC"
            ],
            "metadata": {
                "language": "sql",
                "azdata_cell_guid": "93f11bdb-ae44-4438-80d9-1027f1e3d192"
            },
            "outputs": [],
            "execution_count": null
        },
        {
            "cell_type": "markdown",
            "source": [
                "<span style=\"color: #008000;\">---------------------------------------------------------------------</span>\n",
                "\n",
                "<span style=\"color: #008000;\">-- Multiple References</span>\n",
                "\n",
                "<span style=\"color: #008000;\">---------------------------------------------------------------------</span>"
            ],
            "metadata": {
                "language": "sql",
                "azdata_cell_guid": "ae82f7a2-3ff2-4702-ae9f-58c6025f9d48"
            },
            "attachments": {}
        },
        {
            "cell_type": "markdown",
            "source": [
                "**Chapter 5 - <span style=\"font-family: -apple-system, BlinkMacSystemFont, sans-serif; color: var(--vscode-foreground);\">Multiple References</span>**\n",
                "\n",
                "Proposition: Write a query that returns the NumCustomers each year, the <span style=\"font-family: -apple-system, BlinkMacSystemFont, sans-serif; color: var(--vscode-foreground);\">NumCustomers the previous year and the growth of the&nbsp;</span>     <span style=\"font-family: -apple-system, BlinkMacSystemFont, sans-serif; color: var(--vscode-foreground);\">NumCustomers each year.</span>\n",
                "\n",
                "Table: YearlyCount as aliases Cur and Prv.\n",
                "\n",
                "Columns: DatabaseName, OrderYear and NumCusts AS CurNumCusts from Cur table. NumCusts AS PrvNumCusts from Prv table. Cur.NumCusts - Prv.NumCusts AS Growth.\n",
                "\n",
                "Predicate: Cur.OrderYear = Prv.OrderYear + 1 Left Joins the tables Cur and Prv with value of the current year equal to the value of the previous year + 1."
            ],
            "metadata": {
                "language": "sql",
                "azdata_cell_guid": "90d4c11e-d53c-41a8-82bb-8f5d8103a783"
            },
            "attachments": {}
        },
        {
            "cell_type": "code",
            "source": [
                "USE TSQLV6;\n",
                "\n",
                "WITH YearlyCount AS\n",
                "(\n",
                "  SELECT YEAR(orderdate) AS orderyear,\n",
                "    COUNT(DISTINCT custid) AS numcusts\n",
                "  FROM Sales.Orders\n",
                "  GROUP BY YEAR(orderdate)\n",
                ")\n",
                "SELECT N'TSQLV6' AS databasename, Cur.orderyear, \n",
                "  Cur.numcusts AS curnumcusts, Prv.numcusts AS prvnumcusts,\n",
                "  Cur.numcusts - Prv.numcusts AS growth\n",
                "FROM YearlyCount AS Cur\n",
                "  LEFT OUTER JOIN YearlyCount AS Prv\n",
                "    ON Cur.orderyear = Prv.orderyear + 1;\n",
                "\n",
                "\n",
                "USE Northwinds2022TSQLV7;\n",
                "\n",
                "WITH YearlyCount AS\n",
                "(\n",
                "  SELECT YEAR(O.OrderDate) AS OrderYear,\n",
                "    COUNT(DISTINCT O.CustomerId) AS NumCusts\n",
                "  FROM Sales.[Order] as O\n",
                "  GROUP BY YEAR(O.OrderDate)\n",
                ")\n",
                "SELECT N'Northwinds2022TSQLV7' AS DatabaseName, Cur.OrderYear, \n",
                "  Cur.NumCusts AS CurNumCusts, Prv.NumCusts AS PrvNumCusts,\n",
                "  Cur.NumCusts - Prv.NumCusts AS Growth\n",
                "FROM YearlyCount AS Cur\n",
                "  LEFT OUTER JOIN YearlyCount AS Prv\n",
                "    ON Cur.OrderYear = Prv.OrderYear + 1;"
            ],
            "metadata": {
                "language": "sql",
                "azdata_cell_guid": "1ec4587b-3b63-4554-9f1d-0075676d8100"
            },
            "outputs": [],
            "execution_count": null
        },
        {
            "cell_type": "markdown",
            "source": [
                "<span style=\"color: #008000;\">---------------------------------------------------------------------</span>\n",
                "\n",
                "<span style=\"color: #008000;\">-- Views</span>\n",
                "\n",
                "<span style=\"color: #008000;\">---------------------------------------------------------------------</span>"
            ],
            "metadata": {
                "azdata_cell_guid": "89e23c1a-6d2c-4035-b02e-e967b7ee34d0"
            },
            "attachments": {}
        },
        {
            "cell_type": "markdown",
            "source": [
                "**Chapter 5 - <span style=\"font-family: -apple-system, BlinkMacSystemFont, sans-serif; color: var(--vscode-foreground);\">Views</span>**\n",
                "\n",
                "<span style=\"color: #008000;\">---------------------------------------------------------------------</span>\n",
                "\n",
                "<span style=\"color: #008000;\">-- Views Described</span>\n",
                "\n",
                "<span style=\"color: #008000;\">---------------------------------------------------------------------</span>\n",
                "\n",
                "Proposition: Create a View of Customers in 'USA'. \n",
                "\n",
                "Table: Sales.Customers\n",
                "\n",
                "Columns: DatabaseName. CustomerId, CustomerCompanyName, CustomerContactName, CustomerContactTitle, CustomerAddress,   CustomerCity, CustomerRegion, CustomerPostalCode, CustomerCountry, CustomerPhoneNumber and CustomerFaxNumber from the <span style=\"font-family: -apple-system, BlinkMacSystemFont, sans-serif; color: var(--vscode-foreground);\">Sales.Customers table.</span>\n",
                "\n",
                "Predicate: C.CustomerCountry = N'USA' filters the <span style=\"font-family: -apple-system, BlinkMacSystemFont, sans-serif; color: var(--vscode-foreground);\">Sales.Customers</span>   <span style=\"font-family: -apple-system, BlinkMacSystemFont, sans-serif; color: var(--vscode-foreground);\">&nbsp;table to only Customers in the 'USA'.</span>\n",
                "\n",
                "<span style=\"color: #008000;\">---------------------------------------------------------------------</span>\n",
                "\n",
                "<span style=\"color: #008000;\">-- Views and ORDER BY</span>\n",
                "\n",
                "<span style=\"color: #008000;\">---------------------------------------------------------------------</span>\n",
                "\n",
                "Proposition: Write a query that returns a view in a table ordered by the CustomerRegion.\n",
                "\n",
                "Table: <span style=\"font-family: -apple-system, BlinkMacSystemFont, sans-serif; color: var(--vscode-foreground);\">Northwinds2022TSQLV7.Sales.USACusts as alias V.</span>\n",
                "\n",
                "Columns: DatabaseName. CustomerId, CustomerCompanyName and CustomerRegion from <span style=\"font-family: -apple-system, BlinkMacSystemFont, sans-serif; color: var(--vscode-foreground);\">Northwinds2022TSQLV7.Sales.USACusts.</span>\n",
                "\n",
                "Predicate: No predicate in this query."
            ],
            "metadata": {
                "language": "sql",
                "azdata_cell_guid": "a757234c-0d57-44b0-a14d-f162187d9888"
            },
            "attachments": {}
        },
        {
            "cell_type": "code",
            "source": [
                "---------------------------------------------------------------------\n",
                "\n",
                "-- Views Described\n",
                "\n",
                "---------------------------------------------------------------------\n",
                "-- Creating USACusts View\n",
                "-- USE TSQLV6;\n",
                "CREATE OR ALTER VIEW Sales.USACusts\n",
                "AS\n",
                "\n",
                "SELECT\n",
                "  N'TSQLV6' AS databasename, \n",
                "  custid, companyname, contactname, contacttitle, address,\n",
                "  city, region, postalcode, country, phone, fax\n",
                "FROM TSQLV6.Sales.Customers\n",
                "WHERE country = N'USA';\n",
                "GO\n",
                "\n",
                "SELECT databasename, custid, companyname\n",
                "FROM Sales.USACusts;\n",
                "GO\n",
                "\n",
                "---------------------------------------------------------------------\n",
                "\n",
                "-- Views and ORDER BY\n",
                "\n",
                "---------------------------------------------------------------------\n",
                "-- ORDER BY in a View is not Allowed\n",
                "/*\n",
                "CREATE OR ALTER VIEW Sales.USACusts\n",
                "AS\n",
                "\n",
                "SELECT\n",
                "  custid, companyname, contactname, contacttitle, address,\n",
                "  city, region, postalcode, country, phone, fax\n",
                "FROM Sales.Customers\n",
                "WHERE country = N'USA'\n",
                "ORDER BY region;\n",
                "GO\n",
                "*/\n",
                "\n",
                "-- Instead, use ORDER BY in Outer Query\n",
                "SELECT N'TSQLV6' AS databasename, V.custid, V.companyname, V.region\n",
                "FROM Sales.USACusts as V\n",
                "ORDER BY V.region;\n",
                "GO\n",
                "\n",
                "\n",
                "---------------------------------------------------------------------\n",
                "\n",
                "-- Views Described\n",
                "\n",
                "---------------------------------------------------------------------\n",
                "-- Creating USACusts View\n",
                "-- USE Northwinds2022TSQLV7;\n",
                "CREATE OR ALTER VIEW Sales.USACusts\n",
                "AS\n",
                "\n",
                "SELECT\n",
                "  N'Northwinds2022TSQLV7' AS DatabaseName, \n",
                "  C.CustomerId, C.CustomerCompanyName, C.CustomerContactName, C.CustomerContactTitle, C.CustomerAddress,\n",
                "  C.CustomerCity, C.CustomerRegion, C.CustomerPostalCode, C.CustomerCountry, C.CustomerPhoneNumber, C.CustomerFaxNumber\n",
                "FROM Northwinds2022TSQLV7.Sales.Customer as C\n",
                "WHERE C.CustomerCountry = N'USA';\n",
                "GO\n",
                "\n",
                "SELECT V.DatabaseName, V.CustomerId, V.CustomerCompanyName\n",
                "FROM Sales.USACusts as V;\n",
                "GO\n",
                "\n",
                "---------------------------------------------------------------------\n",
                "\n",
                "-- Views and ORDER BY\n",
                "\n",
                "---------------------------------------------------------------------\n",
                "-- ORDER BY in a View is not Allowed\n",
                "/*\n",
                "CREATE OR ALTER VIEW Sales.USACusts\n",
                "AS\n",
                "\n",
                "SELECT\n",
                "  custid, companyname, contactname, contacttitle, address,\n",
                "  city, region, postalcode, country, phone, fax\n",
                "FROM Sales.Customers\n",
                "WHERE country = N'USA'\n",
                "ORDER BY region;\n",
                "GO\n",
                "-- */\n",
                "\n",
                "-- Instead, use ORDER BY in Outer Query\n",
                "USE Northwinds2022TSQLV7;\n",
                "\n",
                "SELECT N'Northwinds2022TSQLV7' AS DatabaseName, V.CustomerId, V.CustomerCompanyName, V.CustomerRegion\n",
                "FROM Northwinds2022TSQLV7.Sales.USACusts as V\n",
                "ORDER BY V.CustomerRegion;\n",
                "GO"
            ],
            "metadata": {
                "language": "sql",
                "azdata_cell_guid": "6daeca09-070c-477d-ab4c-936832f963b5"
            },
            "outputs": [],
            "execution_count": null
        },
        {
            "cell_type": "markdown",
            "source": [
                "**Chapter 5 - <span style=\"font-family: -apple-system, BlinkMacSystemFont, sans-serif; color: var(--vscode-foreground);\">Views</span>**\n",
                "\n",
                "Proposition: Create a View of Customers in 'USA' that relies on TOP. Write a query that returns the <span style=\"font-family: -apple-system, BlinkMacSystemFont, sans-serif; color: var(--vscode-foreground);\">CustomerId,&nbsp;</span>  <span style=\"font-family: -apple-system, BlinkMacSystemFont, sans-serif; color: var(--vscode-foreground);\">CustomerCompanyName and&nbsp;</span>  <span style=\"font-family: -apple-system, BlinkMacSystemFont, sans-serif; color: var(--vscode-foreground);\">CustomerRegion of the Customers in the 'USA'.</span>\n",
                "\n",
                "Table: Sales.Customers\n",
                "\n",
                "Columns: DatabaseName. CustomerId, CustomerCompanyName, CustomerContactName, CustomerContactTitle, CustomerAddress,   CustomerCity, CustomerRegion, CustomerPostalCode, CustomerCountry, CustomerPhoneNumber and CustomerFaxNumber from the <span style=\"font-family: -apple-system, BlinkMacSystemFont, sans-serif; color: var(--vscode-foreground);\">Sales.Customers table.</span>\n",
                "\n",
                "Predicate: C.CustomerCountry = N'USA' filters the <span style=\"font-family: -apple-system, BlinkMacSystemFont, sans-serif; color: var(--vscode-foreground);\">Sales.Customers&nbsp;</span> <span style=\"font-family: -apple-system, BlinkMacSystemFont, sans-serif; color: var(--vscode-foreground);\">table to only Customers in the 'USA'.</span>"
            ],
            "metadata": {
                "language": "sql",
                "azdata_cell_guid": "77d5443e-2770-4048-bf84-24c93c6414c6"
            },
            "attachments": {}
        },
        {
            "cell_type": "code",
            "source": [
                "-- Do not Rely on TOP\n",
                "-- USE TSQLV6;\n",
                "CREATE OR ALTER VIEW Sales.USACusts\n",
                "AS\n",
                "\n",
                "SELECT TOP (100) PERCENT\n",
                "  N'TSQLV6' AS databasename, \n",
                "  custid, companyname, contactname, contacttitle, address,\n",
                "  city, region, postalcode, country, phone, fax\n",
                "FROM TSQLV6.Sales.Customers\n",
                "WHERE country = N'USA'\n",
                "ORDER BY region;\n",
                "GO\n",
                "\n",
                "-- Query USACusts\n",
                "SELECT custid, companyname, region\n",
                "FROM Sales.USACusts;\n",
                "GO\n",
                "\n",
                "\n",
                "\n",
                "-- Do not Rely on TOP\n",
                "-- USE Northwinds2022TSQLV7;\n",
                "CREATE OR ALTER VIEW Sales.USACusts\n",
                "AS\n",
                "\n",
                "SELECT TOP (100) PERCENT\n",
                "  N'Northwinds2022TSQLV7' AS DatabaseName, \n",
                "  C.CustomerId, C.CustomerCompanyName, C.CustomerContactName, C.CustomerContactTitle, C.CustomerAddress,\n",
                "  C.CustomerCity, C.CustomerRegion, C.CustomerPostalCode, C.CustomerCountry, C.CustomerPhoneNumber, C.CustomerFaxNumber\n",
                "FROM Northwinds2022TSQLV7.Sales.Customer as C\n",
                "WHERE C.CustomerCountry = N'USA'\n",
                "ORDER BY C.CustomerRegion;\n",
                "GO\n",
                "\n",
                "-- Query USACusts\n",
                "SELECT V.CustomerId, V.CustomerCompanyName, V.CustomerRegion\n",
                "FROM Sales.USACusts as V;\n",
                "GO "
            ],
            "metadata": {
                "language": "sql",
                "azdata_cell_guid": "9336a75b-bfa6-408f-8848-edc7376af7d9"
            },
            "outputs": [],
            "execution_count": null
        },
        {
            "cell_type": "markdown",
            "source": [
                "**Chapter 5 - <span style=\"font-family: -apple-system, BlinkMacSystemFont, sans-serif; color: var(--vscode-foreground);\">Views</span>**\n",
                "\n",
                "Proposition: Create a View of Customers in 'USA' that relies on OFFSET-FETCH. Write a query that returns the <span style=\"font-family: -apple-system, BlinkMacSystemFont, sans-serif; color: var(--vscode-foreground);\">CustomerId,&nbsp;</span>  <span style=\"font-family: -apple-system, BlinkMacSystemFont, sans-serif; color: var(--vscode-foreground);\">CustomerCompanyName and&nbsp;</span>  <span style=\"font-family: -apple-system, BlinkMacSystemFont, sans-serif; color: var(--vscode-foreground);\">CustomerRegion of the Customers in the 'USA'.</span>\n",
                "\n",
                "Table: Sales.Customers\n",
                "\n",
                "Columns: DatabaseName. CustomerId, CustomerCompanyName, CustomerContactName, CustomerContactTitle, CustomerAddress,   CustomerCity, CustomerRegion, CustomerPostalCode, CustomerCountry, CustomerPhoneNumber and CustomerFaxNumber from the <span style=\"font-family: -apple-system, BlinkMacSystemFont, sans-serif; color: var(--vscode-foreground);\">Sales.Customers table.</span>\n",
                "\n",
                "Predicate: C.CustomerCountry = N'USA' filters the <span style=\"font-family: -apple-system, BlinkMacSystemFont, sans-serif; color: var(--vscode-foreground);\">Sales.Customers&nbsp;</span> <span style=\"font-family: -apple-system, BlinkMacSystemFont, sans-serif; color: var(--vscode-foreground);\">table to only Customers in the 'USA'.</span>"
            ],
            "metadata": {
                "language": "sql",
                "azdata_cell_guid": "c62778ec-8941-4044-b914-ea260e19e73e"
            },
            "attachments": {}
        },
        {
            "cell_type": "code",
            "source": [
                "-- DO NOT rely on OFFSET-FETCH, even if for now the engine does return rows in order\n",
                "-- USE TSQLV6;\n",
                "CREATE OR ALTER VIEW Sales.USACusts\n",
                "AS\n",
                "\n",
                "SELECT \n",
                "  custid, companyname, contactname, contacttitle, address,\n",
                "  city, region, postalcode, country, phone, fax\n",
                "FROM TSQLV6.Sales.Customers\n",
                "WHERE country = N'USA'\n",
                "ORDER BY region\n",
                "OFFSET 0 ROWS;\n",
                "GO\n",
                "\n",
                "-- Query USACusts\n",
                "SELECT custid, companyname, region\n",
                "FROM Sales.USACusts;\n",
                "GO\n",
                "\n",
                "\n",
                "-- DO NOT rely on OFFSET-FETCH, even if for now the engine does return rows in order\n",
                "-- USE Northwinds2022TSQLV7;\n",
                "CREATE OR ALTER VIEW Sales.USACusts\n",
                "AS\n",
                "\n",
                "SELECT \n",
                "  N'Northwinds2022TSQLV7' AS DatabaseName, \n",
                "  C.CustomerId, C.CustomerCompanyName, C.CustomerContactName, C.CustomerContactTitle, C.CustomerAddress,\n",
                "  C.CustomerCity, C.CustomerRegion, C.CustomerPostalCode, C.CustomerCountry, C.CustomerPhoneNumber, C.CustomerFaxNumber\n",
                "FROM Northwinds2022TSQLV7.Sales.Customer as C\n",
                "WHERE C.CustomerCountry = N'USA'\n",
                "ORDER BY C.CustomerRegion\n",
                "OFFSET 0 ROWS;\n",
                "GO\n",
                "\n",
                "-- Query USACusts\n",
                "SELECT V.CustomerId, V.CustomerCompanyName, V.CustomerRegion\n",
                "FROM Northwinds2022TSQLV7.Sales.USACusts as V;\n",
                "GO "
            ],
            "metadata": {
                "language": "sql",
                "azdata_cell_guid": "8b1fea88-fd4b-43cb-9dd8-601a7eecf664"
            },
            "outputs": [],
            "execution_count": null
        }
    ]
}