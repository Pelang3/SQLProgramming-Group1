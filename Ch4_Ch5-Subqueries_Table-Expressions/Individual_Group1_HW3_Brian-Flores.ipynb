{
    "metadata": {
        "kernelspec": {
            "name": "SQL",
            "display_name": "SQL",
            "language": "sql"
        },
        "language_info": {
            "name": "sql",
            "version": ""
        }
    },
    "nbformat_minor": 2,
    "nbformat": 4,
    "cells": [
        {
            "cell_type": "markdown",
            "source": [
                "# HW3 - Brian Flores\n",
                "\n",
                "Ch4 and Ch5\n",
                "  \n",
                "---\n",
                "\n",
                "## CH4 Subqueries"
            ],
            "metadata": {
                "azdata_cell_guid": "fa6416d2-7564-4547-a1ec-febe5003c7e6"
            },
            "attachments": {}
        },
        {
            "cell_type": "markdown",
            "source": [
                "## Q7\n",
                "\n",
                "Write a query that returns customers, who ordered product 12\n",
                "\n",
                "**Tables involved**: TSQLV6 database, Customers, Orders and OrderDetails tables\n",
                "\n",
                "**Desired output:**\n",
                "\n",
                "```\n",
                "\n",
                "custid      companyname\n",
                "\n",
                "----------- ----------------------------------------\n",
                "48          Customer DVFMB\n",
                "39          Customer GLLAG\n",
                "71          Customer LCOUJ\n",
                "65          Customer NYUHS\n",
                "44          Customer OXFRU\n",
                "51          Customer PVDZC\n",
                "86          Customer SNXOJ\n",
                "20          Customer THHDP\n",
                "90          Customer XBBVR\n",
                "46          Customer XPNIK\n",
                "31          Customer YJCBX\n",
                "87          Customer ZHYOS\n",
                "\n",
                "```\n",
                "\n",
                "(12 rows affected)\n",
                "\n",
                "* * *\n",
                "\n",
                "## **Proposition, Table, Columns and the Predicate.**\n",
                "\n",
                "**Proposition:** Retrieve customer IDs and company names for customers who have placed orders with a product ID of 12.\n",
                "\n",
                "**Tables:** `[Sales].[Customers]` AS `C`, `[SALES].[Orders]` AS `O`, `[SALES].[OrderDetails]` AS `OD`\n",
                "\n",
                "**Columns:** `C.custid`, `C.companyname`\n",
                "\n",
                "**Predicate:** There exists rows such that:\n",
                "\n",
                "- Rows in table `C`, that are logically connected to an Order in `O` this is done on equality of customer ids i.e. `C.custid` is equal to `O.custid`:\n",
                "    \n",
                "    - Next, there exists rows in `OD`,that are logically connected and are equal to a product ID of 12 and through a order id from `O`. In other words the following holds:\n",
                "        - `OD.orderid` is equal to `O.orderid`\n",
                "        - `OD.productid` is equal to 12\n",
                "\n",
                "**_Written in (Minor) collaboration with ChatGPT from OpenAI to improve understanding and assist with the explanation of the query._**"
            ],
            "metadata": {
                "azdata_cell_guid": "f3b314ad-7571-4673-a442-be3197923996"
            },
            "attachments": {}
        },
        {
            "cell_type": "code",
            "source": [
                "-- Q7\n",
                "\n",
                "-- Original Query for TSQLV6\n",
                "\n",
                "USE TSQLV6;\n",
                "\n",
                "SELECT C.custid, C.companyname\n",
                "FROM [Sales].[Customers] AS C\n",
                "WHERE EXISTS \n",
                "    (SELECT *\n",
                "    FROM [Sales].[Orders] AS O \n",
                "    WHERE C.custid = O.custid  \n",
                "       AND EXISTS                     \n",
                "        (SELECT * \n",
                "        FROM [Sales].[OrderDetails] AS OD \n",
                "        WHERE OD.orderid = O.orderid         \n",
                "           AND OD.productid = 12));\n",
                "\n",
                "-- New Query for Northwinds\n",
                "\n",
                "USE Northwinds2022TSQLV7;\n",
                "\n",
                "SELECT C.CustomerId, C.CustomerCompanyName\n",
                "FROM [Sales].[Customer] AS C\n",
                "WHERE EXISTS\n",
                "    (SELECT *\n",
                "    FROM [Sales].[Order] AS O\n",
                "    WHERE C.CustomerId = O.CustomerId\n",
                "        AND EXISTS\n",
                "        (SELECT *\n",
                "        FROM [Sales].[OrderDetail] AS OD\n",
                "        WHERE OD.OrderId = O.OrderId\n",
                "            AND OD.ProductId = 12));\n",
                ""
            ],
            "metadata": {
                "azdata_cell_guid": "d2fe46f6-354a-4fbb-8cce-b1a7d4cc1854",
                "language": "sql",
                "tags": []
            },
            "outputs": [],
            "execution_count": null
        },
        {
            "cell_type": "markdown",
            "source": [
                "## Q8\n",
                "\n",
                "Write a query that calculates a running total qty for each customer and month using subqueries\n",
                "\n",
                "**Views involved:** TSQLV6 database, Sales.CustOrders view\n",
                "\n",
                "**Desired output:**\n",
                "\n",
                "```\n",
                "custid      ordermonth  qty         runqty\n",
                "----------- ----------- ----------- -----------\n",
                "1           2021-08-01  38          38\n",
                "1           2021-10-01  41          79\n",
                "1           2022-01-01  17          96\n",
                "1           2022-03-01  18          114\n",
                "1           2022-04-01  60          174\n",
                "2           2020-09-01  6           6\n",
                "2           2021-08-01  18          24\n",
                "2           2021-11-01  10          34\n",
                "2           2022-03-01  29          63\n",
                "3           2020-11-01  24          24\n",
                "3           2021-04-01  30          54\n",
                "3           2021-05-01  80          134\n",
                "3           2021-06-01  83          217\n",
                "3           2021-09-01  102         319\n",
                "3           2022-01-01  40          359\n",
                "...\n",
                "\n",
                "```\n",
                "\n",
                "(636 rows affected)\n",
                "\n",
                "* * *\n",
                "\n",
                "## **Proposition, Table, Columns and the Predicate.**\n",
                "\n",
                "**Proposition:** Retrieve exactly those customer IDs in the view **\\[Sales\\].\\[CustOrders\\] view**, order dates, and quantities along with a running total quantity (for each respective customer). The running total is the sum of quantities for each customer up to the current order date.\n",
                "\n",
                "**Tables:** `[Sales].[CustOrders]` AS `CO1`, `[Sales].[CustOrders]` AS `CO2`\n",
                "\n",
                "**Columns:** `CO1.custid`, `CO1.ordermonth`, `CO1.qty`, (A running aggregrate) AS `runqty`\n",
                "\n",
                "**Predicate:** There exists rows such that:\n",
                "\n",
                "- For each (**customer**) row in `CO1`, there is a subquery that calculates the running total (`runqty`). This subquery is logically connected to the main query by the condition:\n",
                "    - `CO2.ordermonth` is less than or equal to `CO1.ordermonth` (ensuring we sum quantities only up to the current order month).\n",
                "    - `CO2.custid` is equal to `CO1.custid` (ensuring we calculate the running total for the specific customer).\n",
                "\n",
                "**Take away:**\n",
                "\n",
                "Using Ben-Gans subquery strategy \"running aggregrates\" we can get a join like behavior for two identical tables. We do this by specifying the predicate in the subquery and then taking the sum.\n",
                "\n",
                "The final result is ordered by customer ID (`CO1.custid`) and order month (`CO1.ordermonth`).\n",
                "\n",
                " **_Written in collaboration with ChatGPT from OpenAI to improve understanding and assist with the explanation of the query._**"
            ],
            "metadata": {
                "azdata_cell_guid": "bfeb4b67-2a3e-4d3f-a208-e0b776f2335b"
            },
            "attachments": {}
        },
        {
            "cell_type": "code",
            "source": [
                "-- Q8\n",
                "\n",
                "-- Original Query for TSQLV6\n",
                "\n",
                "USE TSQLV6;\n",
                "\n",
                "SELECT CO1.custid, CO1.ordermonth, CO1.qty,\n",
                "    (SELECT SUM(CO2.qty)\n",
                "    FROM [Sales].[CustOrders] AS CO2\n",
                "    WHERE CO2.ordermonth <= CO1.ordermonth \n",
                "        AND CO2.custid = CO1.custid) AS runqty\n",
                "FROM [Sales].[CustOrders] AS CO1\n",
                "ORDER BY CO1.custid, CO1.ordermonth;\n",
                "\n",
                "-- New Query for Northwinds\n",
                "-- There is no view [Sales].[CustOrders] for NorthWinds. The bottom query asserts this \n",
                "\n",
                "USE Northwinds2022TSQLV7; \n",
                "\n",
                "SELECT \n",
                "    schema_name(schema_id) AS schema_name,\n",
                "    name AS view_name\n",
                "FROM \n",
                "    sys.views;\n",
                ""
            ],
            "metadata": {
                "azdata_cell_guid": "ec960ae3-53b1-4ad4-9d67-5d7a05bda626",
                "language": "sql",
                "tags": []
            },
            "outputs": [],
            "execution_count": null
        },
        {
            "cell_type": "markdown",
            "source": [
                "# Propositions\n",
                "\n",
                "Translating queries to problems."
            ],
            "metadata": {
                "azdata_cell_guid": "19bf898f-6ef4-4b76-ace1-9d8da4972537"
            },
            "attachments": {}
        },
        {
            "cell_type": "markdown",
            "source": [
                "## NULL TROUBLE\n",
                "\n",
                "In this section we go over how bugs can be introdcued when we involve nulls with subqueries.\n",
                "\n",
                "### N.T 1\n",
                "\n",
                "Assuming there is no null entry for customer id in the `[Sales].[Order]` return all customers who did not make a purchase.\n",
                "\n",
                "**Tables Involved:**`[Sales].[Customer]`, `[Sales].[Order]`  \n",
                "\n",
                "**Constraints**: use `IN`\n",
                "\n",
                "**Takeaways**: The IN operator works like a disjunction of many predicates (x=1 OR y=1 OR ... )"
            ],
            "metadata": {
                "azdata_cell_guid": "660e92ab-ba35-473d-ac52-82cce7f0b54b"
            },
            "attachments": {}
        },
        {
            "cell_type": "code",
            "source": [
                "-- N.T 1\n",
                "\n",
                "-- Original Query for TSQLV6\n",
                "USE TSQLV6;\n",
                "\n",
                "SELECT custid, companyname\n",
                "FROM [Sales].[Customers]\n",
                "WHERE custid NOT IN (SELECT O.custid\n",
                "                    FROM [Sales].[Orders] AS O);\n",
                "\n",
                "-- Original Query for NorthWinds\n",
                "USE Northwinds2022TSQLV7;\n",
                "\n",
                "SELECT CustomerId, CustomerCompanyName\n",
                "FROM [Sales].[Customer]\n",
                "WHERE CustomerId NOT IN (SELECT O.CustomerId\n",
                "                        FROM [Sales].[Order] AS O);\n",
                ""
            ],
            "metadata": {
                "azdata_cell_guid": "9645753d-45be-4ddc-a762-167b98e7524f",
                "language": "sql",
                "tags": []
            },
            "outputs": [],
            "execution_count": null
        },
        {
            "cell_type": "markdown",
            "source": [
                "## NT.2\n",
                "\n",
                "Insert a null entry into `[Sales].[Order]`. Where `NULL` for `custid`.`1` for `empid`. `'20220212'` for `orderdate`, `requireddate`, and `shippeddate`. `1` for `shipperid`. `123.00` for `freight`. `N'abc'` for string values in the remaining columns (`shipname`, `shipaddress`, `shipcity`, `shipregion`, `shippostalcode`, `shipcountry`)\n",
                "\n",
                "**Tables Involved:** `[Sales].[Order]`, \n",
                "\n",
                "Make sure to clean up where necessary."
            ],
            "metadata": {
                "azdata_cell_guid": "b8da0870-44fb-44b7-b9ec-06c9c570e5fe"
            },
            "attachments": {}
        },
        {
            "cell_type": "code",
            "source": [
                "-- N.T 2\n",
                "\n",
                "USE TSQLV6;\n",
                "\n",
                "-- PRE Cleanup\n",
                "DELETE FROM [Sales].[Orders] WHERE custid IS NULL;\n",
                "\n",
                "INSERT INTO [Sales].[Orders]\n",
                "  (custid, empid, orderdate, requireddate, shippeddate, shipperid,\n",
                "   freight, shipname, shipaddress, shipcity, shipregion,\n",
                "   shippostalcode, shipcountry)\n",
                "  VALUES(NULL, 1, '20220212', '20220212',\n",
                "         '20220212', 1, 123.00, N'abc', N'abc', N'abc',\n",
                "         N'abc', N'abc', N'abc');\n",
                "\n",
                "\n",
                "USE Northwinds2022TSQLV7;\n",
                "\n",
                "-- PRE Cleanup\n",
                "DELETE FROM [Sales].[Order] WHERE CustomerId IS NULL;\n",
                "\n",
                "INSERT INTO [Sales].[Order]\n",
                "  (CustomerId, EmployeeId, OrderDate, RequiredDate, ShipToDate, ShipperId,\n",
                "   Freight, ShipToName, ShipToAddress, ShipToCity, ShipToRegion,\n",
                "   ShipToPostalCode, ShipToCountry)\n",
                "  VALUES(NULL, 1, '20220212', '20220212',\n",
                "         '20220212', 1, 123.00, N'abc', N'abc', N'abc',\n",
                "         N'abc', N'abc', N'abc');"
            ],
            "metadata": {
                "azdata_cell_guid": "734b2305-1c7a-493e-902a-780c1cd6bef7",
                "language": "sql",
                "tags": []
            },
            "outputs": [],
            "execution_count": null
        },
        {
            "cell_type": "markdown",
            "source": [
                "### N.T 3\n",
                "\n",
                "Assuming there is now a Null Entry in `[Sales].[Customers]` experiment with `IN` to return an empty set when using the same query in NT.1. Explain why this occurs. \\*\\*Make sure to clean up after exploring this \\*\\* **Tables Involved:**`[Sales].[Customers]`\n",
                "\n",
                "**Tables Involved:**`[Sales].[Customer]`, `[Sales].[Order]`\n",
                "\n",
                "**Constraints**: use `IN`\n",
                "\n",
                "**Takeaways**: The IN operator works like a disjunction of many predicates (x=1 OR y=1 OR ... ). And `IN` wors on 3 predicate logic meaning working with nulls will reduce a predicate to UNKNOWN. Therefore the IN operator will not return anything"
            ],
            "metadata": {
                "azdata_cell_guid": "61445fa5-8223-4299-85eb-c9b24d79cf4b"
            },
            "attachments": {}
        },
        {
            "cell_type": "code",
            "source": [
                "-- N.T 3\n",
                "\n",
                "USE TSQLV6;\n",
                "\n",
                "-- Return the empty set\n",
                "SELECT custid, companyname\n",
                "FROM [Sales].[Customers]\n",
                "WHERE custid NOT IN(SELECT O.custid\n",
                "                    FROM [Sales].[Orders] AS O);\n",
                "\n",
                "USE Northwinds2022TSQLV7;\n",
                "\n",
                "-- return the empty set\n",
                "SELECT CustomerId, CustomerCompanyName\n",
                "FROM [Sales].[Customer]\n",
                "WHERE CustomerId NOT IN(SELECT O.CustomerId\n",
                "                    FROM [Sales].[Order] AS O);\n",
                ""
            ],
            "metadata": {
                "azdata_cell_guid": "8c0295ec-55bb-4f85-b967-7b1fd37919b7",
                "language": "sql",
                "tags": []
            },
            "outputs": [],
            "execution_count": null
        },
        {
            "cell_type": "markdown",
            "source": [
                "### N.T 4\n",
                "\n",
                "Redo the same query as before using `IN` but catch and discard any null rows you observe in the subquery. Now in this case return all customers who did not make a purchase Within the `[Sales].[Customers]` table. This should not result in the empty set.\n",
                "\n",
                "**Tables Involved:**`[Sales].[Customer]`, `[Sales].[Order]`\n",
                "\n",
                "**Constraints**: use `IN`, use `IS NOT NULL`\n",
                "\n",
                "**Takeaways**: The IN operator works like a disjunction of many predicates (x=1 OR y=1 OR ... ). And `IN` works on 3 predicate logic purposely excluding (via `IS NOT NULL`) it in the subquery can help us avoid the empty set if we use `IN`.\n",
                ""
            ],
            "metadata": {
                "azdata_cell_guid": "5b108d6b-a7bd-4544-b863-22b0dd69951c"
            },
            "attachments": {}
        },
        {
            "cell_type": "code",
            "source": [
                "-- N.T 4\n",
                "\n",
                "USE TSQLV6;\n",
                "\n",
                "-- Exclude NULLs explicitly\n",
                "SELECT custid, companyname\n",
                "FROM [Sales].[Customers]\n",
                "WHERE custid NOT IN (SELECT O.custid \n",
                "                    FROM [Sales].[Orders] AS O\n",
                "                    WHERE O.custid IS NOT NULL);\n",
                "\n",
                "USE Northwinds2022TSQLV7;\n",
                "\n",
                "-- Exclude NULLs explicitly\n",
                "SELECT CustomerId, CustomerCompanyName\n",
                "FROM [Sales].[Customer]\n",
                "WHERE CustomerId NOT IN (SELECT O.CustomerId\n",
                "                    FROM [Sales].[Order] AS O\n",
                "                    WHERE O.CustomerId IS NOT NULL);\n",
                ""
            ],
            "metadata": {
                "azdata_cell_guid": "aaacbb24-a442-4046-87d5-ebb637994b89",
                "language": "sql"
            },
            "outputs": [],
            "execution_count": null
        },
        {
            "cell_type": "markdown",
            "source": [
                "### N.T 5\n",
                "\n",
                "When getting customers who did not place an order use `EXISTS` to filter out rows from a subquery.\n",
                "\n",
                "**Tables Involved:**`[Sales].[Customers]`, `[Sales].[Order]`\n",
                "\n",
                "**Constraints**: use `EXISTS`\n",
                "\n",
                "**Takeaways**: `EXISTS` works on 2 predicate logic. It takes in a subquery and outputs a boolean value whether at least just one row was returned from a subquery.\n",
                "\n",
                ""
            ],
            "metadata": {
                "azdata_cell_guid": "ee36f52f-f268-41e7-b213-9d02d9c701cc"
            },
            "attachments": {}
        },
        {
            "cell_type": "code",
            "source": [
                "-- N.T 5\n",
                "\n",
                "USE TSQLV6;\n",
                "\n",
                "SELECT custid, companyname\n",
                "FROM [Sales].[Customers] AS C\n",
                "WHERE NOT EXISTS\n",
                "  (SELECT * \n",
                "   FROM [Sales].[Orders] AS O\n",
                "   WHERE O.custid = C.custid);\n",
                "\n",
                "USE Northwinds2022TSQLV7;\n",
                "\n",
                "SELECT CustomerId, CustomerCompanyName\n",
                "FROM [Sales].[Customer] AS C\n",
                "WHERE NOT EXISTS\n",
                "  (SELECT * \n",
                "   FROM [Sales].[Order] AS O\n",
                "   WHERE O.CustomerId = C.CustomerId);"
            ],
            "metadata": {
                "azdata_cell_guid": "0e1eb2d0-12b0-4538-8caa-10a6f6470d57",
                "language": "sql"
            },
            "outputs": [],
            "execution_count": null
        },
        {
            "cell_type": "code",
            "source": [
                "-- POST CLEANUP\n",
                "\n",
                "USE TSQLV6;\n",
                "\n",
                "DELETE FROM Sales.Orders WHERE custid IS NULL;\n",
                "\n",
                "\n",
                "USE Northwinds2022TSQLV7;\n",
                "\n",
                "-- PRE Cleanup\n",
                "DELETE FROM [Sales].[Order] WHERE CustomerId IS NULL;"
            ],
            "metadata": {
                "language": "sql",
                "azdata_cell_guid": "915585be-2640-4255-a9bf-2676c6efd08a"
            },
            "outputs": [],
            "execution_count": null
        },
        {
            "cell_type": "markdown",
            "source": [
                "---\n",
                "## CH5 Table Expressions\n",
                ""
            ],
            "metadata": {
                "azdata_cell_guid": "94b0e3ce-23b8-43bc-b969-6c5f46c702d5"
            },
            "attachments": {}
        },
        {
            "cell_type": "markdown",
            "source": [
                "## **Q6-1**\n",
                "\n",
                "Create an inline function that accepts as inputs\n",
                "a supplier id (@supid AS INT), \n",
                "and a requested number of products (@n AS INT)\n",
                "The function should return @n products with the highest unit prices\n",
                "that are supplied by the given supplier id\n",
                "\n",
                "**Tables involved**: Production.Products\n",
                "\n",
                "desired output when issuing the following query:\n",
                "```sql\n",
                "SELECT * FROM Production.TopProducts(5, 2)\n",
                "-- When done Execute this for clean up\n",
                "DROP FUNCTION IF EXISTS Production.TopProducts;\n",
                "\n",
                "```\n",
                "\n",
                "```\n",
                "\n",
                "productid  productname   unitprice\n",
                "--------   -----------   ----------\n",
                "12        Product OSFNS     38.00\n",
                "11        Product QMVUN     21.00\n",
                "\n",
                "```\n",
                "(2 rows affected)"
            ],
            "metadata": {
                "azdata_cell_guid": "05e251a5-eeff-40df-a63a-83ce3290aaf2",
                "language": ""
            },
            "attachments": {}
        },
        {
            "cell_type": "markdown",
            "source": [
                "# **Proposition, Table, Columns and the Predicate.**\n",
                "\n",
                "\n",
                "**Proposition:**\n",
                "Create a **inline table-valued function** named `Production.TopProducts` that takes two parameters, `@supid` (Supplier ID) and `@n` (number of top products to retrieve). The function returns a table with **columns** `ProductId`, `ProductName`, and `UnitPrice` for the top `@n` products from the `Production.Product` table where the `SupplierId` matches the provided `@supid`. The results are ordered by `UnitPrice` in descending order (Top orders are first).\n",
                "\n",
                "**Tables:**\n",
                "`[Production].[Product]`\n",
                "\n",
                "**Columns:**\n",
                "`ProductId`, `ProductName`, `UnitPrice`\n",
                "\n",
                "**Predicate:**\n",
                "Return rows such that:\n",
                "\n",
                "- Rows in table `Production.Product`, where:\n",
                "  - `SupplierId` is equal to the input parameter `@supid`.\n",
                "  - The result is limited to the top `@n` rows based on the intensity of `unitprice`.\n",
                "  \n",
                "\n",
                "**Explanation:**\n",
                "\n",
                "The query creates or alters a function named `Production.TopProducts` that returns a table with product information for the top `@n` products associated with a specified supplier (`@supid`). The result set is limited to the top `@n` products based on their `ProductID`, and the results are ordered by `UnitPrice` in descending order.\n",
                "\n",
                "**AI Written in collaboration with ChatGPT from OpenAI to improve understanding and assist with the explanation of the query.**"
            ],
            "metadata": {
                "azdata_cell_guid": "f19694f6-3eeb-4dd5-8b15-12dd7e981797"
            },
            "attachments": {}
        },
        {
            "cell_type": "code",
            "source": [
                "-- Q6.1\n",
                "\n",
                "USE TSQLV6;\n",
                "\n",
                "GO\n",
                "CREATE OR ALTER FUNCTION Production.TopProducts\n",
                "  (@supid AS INT, @n AS INT) RETURNS TABLE\n",
                "AS\n",
                "RETURN\n",
                "  SELECT TOP(@n) productid, productname, unitprice\n",
                "  FROM [Production].[Products] \n",
                "  WHERE supplierid = @supid\n",
                "  ORDER BY unitprice DESC;\n",
                "GO\n",
                "\n",
                "USE Northwinds2022TSQLV7;\n",
                "\n",
                "GO\n",
                "CREATE OR ALTER FUNCTION Production.TopProducts\n",
                "  (@supid AS INT, @n AS INT) RETURNS TABLE\n",
                "AS\n",
                "RETURN\n",
                "  SELECT TOP(@n) ProductId, ProductName, UnitPrice\n",
                "  FROM [Production].[Product] \n",
                "  WHERE SupplierId = @supid\n",
                "  ORDER BY UnitPrice DESC;\n",
                "GO"
            ],
            "metadata": {
                "azdata_cell_guid": "0d10f24f-10e6-4efc-af75-5a645ed0d82e",
                "language": "sql"
            },
            "outputs": [],
            "execution_count": null
        },
        {
            "cell_type": "code",
            "source": [
                "-- TEST \n",
                "\n",
                "USE TSQLV6;\n",
                "SELECT * FROM [Production].[TopProducts](5, 2);\n",
                "\n",
                "USE Northwinds2022TSQLV7;\n",
                "SELECT * FROM [Production].[TopProducts](5, 2);\n",
                ""
            ],
            "metadata": {
                "azdata_cell_guid": "fbd123d5-9938-4b08-95ea-fd58020ad4fc",
                "language": "sql",
                "tags": [
                    "hide_input"
                ]
            },
            "outputs": [],
            "execution_count": null
        },
        {
            "cell_type": "markdown",
            "source": [
                "### **Q6-2**\n",
                "Using the CROSS APPLY operator\n",
                "and the function you created in exercise 6-1,\n",
                "return, for each supplier, the two most expensive products\n",
                "\n",
                "**Tables involved**: Production.Products\n",
                "\n",
                "\n",
                "```\n",
                "supplierid  companyname     productid   productname     unitprice\n",
                "----------- --------------- ----------- --------------- ----------\n",
                "8           Supplier BWGYE  20          Product QHFFP   81.00\n",
                "8           Supplier BWGYE  68          Product TBTBL   12.50\n",
                "20          Supplier CIYNM  43          Product ZZZHR   46.00\n",
                "20          Supplier CIYNM  44          Product VJIEO   19.45\n",
                "23          Supplier ELCRN  49          Product FPYPN   20.00\n",
                "23          Supplier ELCRN  76          Product JYGFE   18.00\n",
                "5           Supplier EQPNC  12          Product OSFNS   38.00\n",
                "5           Supplier EQPNC  11          Product QMVUN   21.00\n",
                "...\n",
                "\n",
                "```\n",
                "(55 rows affected)\n",
                "\n",
                ""
            ],
            "metadata": {
                "language": "sql",
                "azdata_cell_guid": "86f51782-7072-431c-b7d4-6bf5e6c3b7a2"
            },
            "attachments": {}
        },
        {
            "cell_type": "markdown",
            "source": [
                "# **Proposition, Table, Columns and the Predicate.**\n",
                "\n",
                "**Proposition:**\n",
                "\n",
                "For each unique supplier id in the **table** `[Production].[Supplier]` get thier top 2 most products. Do this using a **Inline Table Value Function** `Production.TopProducts`. Output the supplierID, companyName, productId, productName and unitprice for the product. Achieve this behavior using `CROSS APPLY`.\n",
                "\n",
                "**Tables:**\n",
                "`[Production].[Supplier]` AS `S`\n",
                "\n",
                "**Columns:**\n",
                "`S.SupplierId`, `S.SupplierCompanyName`, `T.ProductId`, `T.ProductName`, `T.UnitPrice`\n",
                "\n",
                "**Predicate:**\n",
                "\n",
                "Obtain a summary where:\n",
                "- Rows in `Production.Supplier` AS ` S` table, representing suppliers.\n",
                "- For each row in `S`, apply the `Production.TopProducts` function using `CROSS APPLY` to get the top 2 products for the corresponding supplier.\n",
                "\n",
                "\n",
                "**Explanation:**\n",
                "\n",
                "The query retrieves information about suppliers via a unique (`S.SupplierId`) along with details about the top 2 products for each supplier. This is achieved by applying the `Production.TopProducts` function to each supplier using `CROSS APPLY`. The function takes the Supplier ID (`S.SupplierId`) and the parameter `n` to retrieve the top n products based on unit price. The result set includes columns from both the `Production.Supplier` table (`S`) and the result of the function (`T`), providing a comprehensive view of the top products for each supplier.\n",
                "\n",
                "**AI Written in (MINOR) collaboration with ChatGPT from OpenAI to improve understanding and assist with the explanation of the query.**"
            ],
            "metadata": {
                "language": "sql",
                "azdata_cell_guid": "aa05c266-2e3f-46fc-9c6b-b870207652c3"
            },
            "attachments": {}
        },
        {
            "cell_type": "code",
            "source": [
                "-- Q6.2\n",
                "\n",
                "USE TSQLV6;\n",
                "\n",
                "SELECT S.supplierid, S.companyname, T.productid, T.productname, T.unitprice\n",
                "FROM [Production].[Suppliers] AS S\n",
                "    CROSS APPLY [Production].[TopProducts](S.supplierid, 2) AS T;\n",
                "\n",
                "USE Northwinds2022TSQLV7;\n",
                "\n",
                "SELECT S.SupplierId, S.SupplierCompanyName, T.Productid, T.ProductName, T.UnitPrice\n",
                "FROM [Production].[Supplier] AS S\n",
                "    CROSS APPLY [Production].[TopProducts](S.SupplierId, 2) AS T;"
            ],
            "metadata": {
                "language": "sql",
                "azdata_cell_guid": "e07bf2e0-bb9d-4a1a-b184-b268018d94ce"
            },
            "outputs": [],
            "execution_count": null
        },
        {
            "cell_type": "code",
            "source": [
                "-- CLEANUP for 6.1\n",
                "\n",
                "USE TSQLV6;\n",
                "DROP FUNCTION IF EXISTS Production.TopProducts;\n",
                "\n",
                "USE Northwinds2022TSQLV7;\n",
                "DROP FUNCTION IF EXISTS Production.TopProducts;"
            ],
            "metadata": {
                "language": "sql",
                "azdata_cell_guid": "fbb9ecee-1a47-4405-b07e-aef857b3f537"
            },
            "outputs": [],
            "execution_count": null
        },
        {
            "cell_type": "markdown",
            "source": [
                "# Propositions\n",
                "\n",
                "Translating queries to problems."
            ],
            "metadata": {
                "language": "sql",
                "azdata_cell_guid": "41b4f854-41ac-4ae4-9565-99a64cb5d2a7"
            },
            "attachments": {}
        },
        {
            "cell_type": "markdown",
            "source": [
                "---\n",
                "## **NESTING**\n",
                "\n",
                "**N.1**\n",
                "\n",
                "Using a nested derived table first create a table from `[Sales].[Order]` exporting only years and their respective customer ids. Using that same derived table create another derived table that uses the previous derived table now group relevant order years and count the unique ids within a year. Lastly use that table to filter out years that had more than 70 or more customers.\n",
                "\n",
                "In othewords return exactly those rows for every year have more customers than 70. return the year and the number of customers.\n",
                "\n",
                "**Tables Involved:** `[Sales].[Order]`\n",
                "\n",
                "**Discuss:** Is the trade off in column aliasing  (A benefit of table expressions) worth it than a method that require multiple function calls?\n",
                " "
            ],
            "metadata": {
                "language": "sql",
                "azdata_cell_guid": "8c649690-1215-4116-be08-e62cd3d4e742"
            },
            "attachments": {}
        },
        {
            "cell_type": "code",
            "source": [
                "-- N.1\n",
                "\n",
                "USE TSQLV6;\n",
                "\n",
                "SELECT orderyear, numcusts\n",
                "FROM (SELECT orderyear, COUNT(DISTINCT custid) AS numcusts\n",
                "      FROM (SELECT YEAR(orderdate) AS orderyear, custid\n",
                "            FROM [Sales].[Orders]) AS D1\n",
                "      GROUP BY orderyear) AS D2\n",
                "WHERE numcusts > 70;\n",
                "\n",
                "USE Northwinds2022TSQLV7;\n",
                "\n",
                "SELECT OrderYear, NumCusts\n",
                "FROM (SELECT OrderYear, COUNT(DISTINCT CustomerId) AS NumCusts\n",
                "    FROM (SELECT YEAR(OrderDate) AS OrderYear, CustomerId\n",
                "        FROM [Sales].[Order]) AS D1\n",
                "    GROUP BY OrderYear) AS D2\n",
                "WHERE NumCusts > 70;\n",
                ""
            ],
            "metadata": {
                "language": "sql",
                "azdata_cell_guid": "d84146ee-e938-49cf-9c40-a66da83021c8"
            },
            "outputs": [],
            "execution_count": null
        },
        {
            "cell_type": "markdown",
            "source": [
                "**N.2**\n",
                "\n",
                "\n",
                "Return order years and he number of customers handled in each year but only for years that have more than 70 unique customers. Do this without any table expressions output the orderyear and number of customers.\n",
                "\n",
                "**Tables Involved:** `[Sales].[Order]`\n",
                "\n",
                ""
            ],
            "metadata": {
                "language": "sql",
                "azdata_cell_guid": "dcb77d30-a55f-4700-b4c6-8ac2f4ddbd9b"
            },
            "attachments": {}
        },
        {
            "cell_type": "code",
            "source": [
                "-- N.2\n",
                "\n",
                "USE TSQLV6;\n",
                "\n",
                "SELECT YEAR(orderdate) AS orderyear, COUNT(DISTINCT custid) AS numcusts\n",
                "FROM [Sales].[Orders]\n",
                "GROUP BY YEAR(orderdate)\n",
                "HAVING COUNT(DISTINCT custid) > 70;\n",
                "\n",
                "\n",
                "USE Northwinds2022TSQLV7;\n",
                "\n",
                "SELECT YEAR(OrderDate) AS OrderYear, COUNT(DISTINCT CustomerId) AS NumCusts\n",
                "FROM [Sales].[Order]\n",
                "GROUP BY YEAR(OrderDate)\n",
                "HAVING COUNT(DISTINCT CustomerId) > 70;"
            ],
            "metadata": {
                "language": "sql",
                "azdata_cell_guid": "11c090ca-6f09-4bac-9fe5-c55fe3066839"
            },
            "outputs": [],
            "execution_count": null
        },
        {
            "cell_type": "markdown",
            "source": [
                "---\n",
                "## **Using Arguments in CTEs**\n",
                "\n",
                "**UAC.1**\n",
                "\n",
                "Declare a variable labeled `@empid` with the value of 3. Use a common table expression to get all orders from the variable `@empid`. \n",
                "\n",
                "That CTE should output the years and customerids related. Use the CTE to display all orderyears with their respective unique customer years. \n",
                "\n",
                "**Tables Involved:** `[Sales].[Order]`\n",
                "\n",
                "\n",
                "**Disscuss:** What is the difference between derived tables, CTEs and Views. Can you use arguments in Derived table expressions? Why choose one over the other\n",
                ""
            ],
            "metadata": {
                "language": "sql",
                "azdata_cell_guid": "04e7639a-45ce-4fa1-adf8-a63f4bcf6dc3"
            },
            "attachments": {}
        },
        {
            "cell_type": "code",
            "source": [
                "-- UAC.1\n",
                "\n",
                "USE TSQLV6;\n",
                "\n",
                "DECLARE @empid AS INT = 3;\n",
                "\n",
                "WITH C AS\n",
                "(\n",
                "  SELECT YEAR(orderdate) AS orderyear, custid\n",
                "  FROM [Sales].[Orders]\n",
                "  WHERE empid = @empid\n",
                ")\n",
                "SELECT orderyear, COUNT(DISTINCT custid) AS numcusts\n",
                "FROM [C]\n",
                "GROUP BY orderyear;\n",
                "GO\n",
                "\n",
                "USE Northwinds2022TSQLV7;\n",
                "\n",
                "DECLARE @empid AS INT = 3;\n",
                "\n",
                "WITH C AS\n",
                "(\n",
                "    SELECT YEAR(OrderDate) AS OrderYear, CustomerId\n",
                "    FROM [Sales].[Order]\n",
                "    WHERE EmployeeId = @empid\n",
                ")\n",
                "SELECT OrderYear, COUNT(DISTINCT CustomerId) AS NumCusts\n",
                "FROM [C]\n",
                "GROUP BY OrderYear;\n",
                "GO\n",
                "\n",
                ""
            ],
            "metadata": {
                "language": "sql",
                "azdata_cell_guid": "6736b94c-722c-4ddb-9369-416ed80d4893"
            },
            "outputs": [],
            "execution_count": null
        },
        {
            "cell_type": "markdown",
            "source": [
                "---\n",
                "## **Recursive CTEs**\n",
                "\n",
                "**RC.1**\n",
                "\n",
                "Find all **employees who are below Don Funk** repeat this pattern until no more employees are, this includes Don Funk. In other words find everyone who is below and connected to Don Funk. Display the employee id manager id their first and last name as well as their level respective to Don Funk who can be considered level 1.\n",
                "\n",
                "**Tables Involved:** `[HR].[Employee]`\n",
                "\n",
                ""
            ],
            "metadata": {
                "language": "sql",
                "azdata_cell_guid": "05672aaa-377f-4f9b-873c-2693b96a1dee"
            },
            "attachments": {}
        },
        {
            "cell_type": "code",
            "source": [
                "-- R.C 1\n",
                "\n",
                "USE TSQLV6;\n",
                "\n",
                "WITH [EmpsCTE] AS\n",
                "(\n",
                "  SELECT empid, mgrid, firstname, lastname, 1 AS lvl\n",
                "  FROM [HR].[Employees]\n",
                "  WHERE empid = 2\n",
                "  \n",
                "  UNION ALL\n",
                "  \n",
                "  SELECT C.empid, C.mgrid, C.firstname, C.lastname, lvl + 1\n",
                "  FROM [EmpsCTE] AS P\n",
                "    INNER JOIN [HR].[Employees] AS C\n",
                "      ON C.mgrid = P.empid\n",
                ")\n",
                "SELECT empid, mgrid, firstname, lastname, lvl\n",
                "FROM [EmpsCTE];\n",
                "GO\n",
                "\n",
                "USE Northwinds2022TSQLV7;\n",
                "\n",
                "WITH EmpsCTE AS \n",
                " (\n",
                "    SELECT EmployeeId, EmployeeManagerId, EmployeeFirstName, EmployeeLastName, 1 as lvl\n",
                "    FROM [HumanResources].[Employee] \n",
                "    WHERE EmployeeId = 2\n",
                "\n",
                "    UNION ALL\n",
                "\n",
                "    SELECT C.EmployeeId, C.EmployeeManagerId, C.EmployeeFirstName, C.EmployeeLastName, lvl + 1\n",
                "    FROM [EmpsCTE] AS P\n",
                "      INNER JOIN [HumanResources].[Employee] AS C\n",
                "        ON C.EmployeeManagerId = p.EmployeeId\n",
                " )\n",
                "SELECT EmployeeId, EmployeeManagerId, EmployeeFirstName, EmployeeLastName, lvl\n",
                "FROM [EmpsCTE];\n",
                "\n",
                "GO\n",
                "\n",
                ""
            ],
            "metadata": {
                "language": "sql",
                "azdata_cell_guid": "b878abf3-5e9f-434c-8098-63f7bdcb138e",
                "tags": []
            },
            "outputs": [],
            "execution_count": null
        },
        {
            "cell_type": "code",
            "source": [
                "-- Shows a step by step how the recrusive query takes place\n",
                "\n",
                "USE TSQLV6;\n",
                "\n",
                "-- Show the anchor element\n",
                "SELECT C.empid, C.mgrid, C.firstname, C.lastname\n",
                "FROM HR.Employees AS C\n",
                "WHERE C.empid = 2;\n",
                "\n",
                "--- Comment out 1 by 1 the conditions show it uses the previous set to get next rows\n",
                "SELECT C.empid, C.mgrid, C.firstname, C.lastname, P.empid, P.mgrid, P.firstname, P.lastname\n",
                "  FROM HR.Employees AS P\n",
                "    INNER JOIN HR.Employees AS C\n",
                "      ON C.mgrid = P.empid\n",
                "    WHERE P.empid = 2 -- or P.empid = 3 -- or P.empid = 5;"
            ],
            "metadata": {
                "language": "sql",
                "azdata_cell_guid": "f59ebfd2-42db-4a16-aa85-3eb786250cc5",
                "tags": []
            },
            "outputs": [],
            "execution_count": null
        },
        {
            "cell_type": "markdown",
            "source": [
                "---\n",
                "## **Encryption**\n",
                "\n",
                "**E.1**\n",
                "\n",
                "Create a custom view that uses `[Sales].[Customer]` which only has American customers. First create the view without any encryption test that you can see it and then use Encryption assert that you can not see it.\n",
                "\n",
                "**Tables Involved:** `[Sales].[Customer]`\n",
                "\n",
                ""
            ],
            "metadata": {
                "language": "sql",
                "azdata_cell_guid": "d742128b-8d0f-4682-82b5-d7417e369f78"
            },
            "attachments": {}
        },
        {
            "cell_type": "code",
            "source": [
                "-- Use this Query to switch databases\n",
                "-- E.1.0\n",
                "\n",
                "USE Northwinds2022TSQLV7;\n",
                ""
            ],
            "metadata": {
                "language": "sql",
                "azdata_cell_guid": "0440ce34-0c58-42a7-afd9-def8029c52bd"
            },
            "outputs": [],
            "execution_count": null
        },
        {
            "cell_type": "code",
            "source": [
                "CREATE OR ALTER VIEW [Sales].[USACusts]\n",
                "AS\n",
                "SELECT CustomerId, CustomerCompanyName, CustomerContactName,CustomerContactTitle, CustomerAddress,\n",
                "    CustomerCity, CustomerRegion, CustomerPostalCode, CustomerCountry, CustomerPhoneNumber, CustomerFaxNumber\n",
                "FROM [Sales].[Customer]\n",
                "WHERE CustomerCountry = N'USA';\n",
                "GO\n",
                "\n",
                "-- E.1.1\n",
                "-- Create statement must be the first thing to be executed.\n",
                "\n",
                "SELECT OBJECT_DEFINITION(OBJECT_ID('Sales.USACusts'));\n",
                ""
            ],
            "metadata": {
                "language": "sql",
                "azdata_cell_guid": "4078b185-ceb9-4e3a-a98e-53a0b9c4c59e"
            },
            "outputs": [],
            "execution_count": null
        },
        {
            "cell_type": "code",
            "source": [
                "CREATE OR ALTER VIEW [Sales].[USACusts] WITH ENCRYPTION\n",
                "AS\n",
                "SELECT CustomerId, CustomerCompanyName, CustomerContactName,CustomerContactTitle, CustomerAddress,\n",
                "    CustomerCity, CustomerRegion, CustomerPostalCode, CustomerCountry, CustomerPhoneNumber, CustomerFaxNumber\n",
                "FROM [Sales].[Customer]\n",
                "WHERE CustomerCountry = N'USA';\n",
                "GO\n",
                "\n",
                "-- E.1.1\n",
                "-- Create statement must be the first thing to be executed. If you execute this you get null\n",
                "\n",
                "SELECT OBJECT_DEFINITION(OBJECT_ID('Sales.USACusts'));\n",
                ""
            ],
            "metadata": {
                "language": "sql",
                "azdata_cell_guid": "1de66605-a198-446f-842f-28cd8c78b184"
            },
            "outputs": [],
            "execution_count": null
        },
        {
            "cell_type": "code",
            "source": [
                "-- E.1.2 See how it is stored as a procedure and also check if its encrypted\n",
                "EXEC sp_helptext 'Sales.USACusts';\n",
                "GO"
            ],
            "metadata": {
                "language": "sql",
                "azdata_cell_guid": "38873195-2099-44dd-815c-9ecb978112e1",
                "tags": []
            },
            "outputs": [],
            "execution_count": null
        },
        {
            "cell_type": "markdown",
            "source": [
                "---\n",
                "## **Inline User Defined Functions**\n",
                "\n",
                "**IUDF.1**\n",
                "\n",
                "Create a custom function that filters for specific rows having the same customer id in the `[Sales].[Customer]` table. the argument should be an int represening the customer id and should be called `[dbo].[GetCustOrders]`.\n",
                "\n",
                "**Tables Involved:** `[Sales].[Customer]`\n",
                "\n",
                "Make sure you test in a single table query like so.\n",
                "\n",
                "```sql\n",
                "SELECT orderid, custid\n",
                "FROM dbo.GetCustOrders(1) AS O;\n",
                "```\n",
                "\n",
                "Next Test you can use this function on a join like this.\n",
                "\n",
                "```sql\n",
                "SELECT O.orderid, O.custid, OD.productid, OD.qty\n",
                "FROM dbo.GetCustOrders(1) AS O\n",
                "  INNER JOIN Sales.OrderDetails AS OD\n",
                "    ON O.orderid = OD.orderid;\n",
                "```\n",
                "\n",
                "The desired output should look like this\n",
                "\n",
                "\n",
                "|orderid|custid|productid|qty|\n",
                "|---|---|---|---|\n",
                "|10643|1|28|15|\n",
                "|10643|1|39|21|\n",
                "|10643|1|46|2|\n",
                "|10692|1|63|20|\n",
                "...\n",
                "\n",
                "\n",
                "\n",
                "\n",
                ""
            ],
            "metadata": {
                "language": "sql",
                "azdata_cell_guid": "d8007fb3-a685-4152-8ac9-309e8e076569"
            },
            "attachments": {}
        },
        {
            "cell_type": "code",
            "source": [
                "-- IUDF.1.0\n",
                "\n",
                "USE TSQLV6;\n",
                "\n",
                "GO\n",
                "CREATE OR ALTER FUNCTION dbo.GetCustOrders\n",
                "  (@cid AS INT) RETURNS TABLE\n",
                "AS\n",
                "RETURN\n",
                "  SELECT orderid, custid, empid, orderdate, requireddate,\n",
                "    shippeddate, shipperid, freight, shipname, shipaddress, shipcity,\n",
                "    shipregion, shippostalcode, shipcountry\n",
                "  FROM [Sales].[Orders]\n",
                "  WHERE custid = @cid;\n",
                "GO\n",
                "\n",
                "USE Northwinds2022TSQLV7;\n",
                "\n",
                "GO\n",
                "CREATE OR ALTER FUNCTION dbo.GetCustOrders\n",
                "  (@cid AS INT) RETURNS TABLE\n",
                "AS\n",
                "RETURN\n",
                "  SELECT OrderId, CustomerId, EmployeeId, OrderDate, RequiredDate,\n",
                "    ShipToDate, ShipperId, Freight, ShipToName, ShipToAddress, ShipToCity,\n",
                "    ShipToRegion, ShipToPostalCode, ShipToCountry\n",
                "  FROM [Sales].[Order]\n",
                "  WHERE CustomerId = @cid;\n",
                "GO\n",
                ""
            ],
            "metadata": {
                "language": "sql",
                "azdata_cell_guid": "171c96b1-964c-42e4-ae90-24b80a2e1a6b"
            },
            "outputs": [],
            "execution_count": null
        },
        {
            "cell_type": "code",
            "source": [
                "-- IUDF.1.1\n",
                "\n",
                "USE TSQLV6;\n",
                "\n",
                "-- Test Functions\n",
                "SELECT orderid, custid\n",
                "FROM dbo.GetCustOrders(1) AS O;\n",
                "\n",
                "SELECT O.orderid, O.custid, OD.productid, OD.qty\n",
                "FROM dbo.GetCustOrders(1) AS O\n",
                "  INNER JOIN Sales.OrderDetails AS OD\n",
                "    ON O.orderid = OD.orderid;\n",
                "GO\n",
                "\n",
                "\n",
                "USE Northwinds2022TSQLV7;\n",
                "\n",
                "SELECT OrderId, CustomerId\n",
                "FROM dbo.GetCustOrders(1) AS O;\n",
                "\n",
                "SELECT O.OrderId, O.CustomerId, OD.productid, OD.Quantity\n",
                "FROM dbo.GetCustOrders(1) AS O\n",
                "  INNER JOIN [Sales].[OrderDetail] AS OD\n",
                "    ON O.orderid = OD.orderid;\n",
                "GO\n",
                ""
            ],
            "metadata": {
                "language": "sql",
                "azdata_cell_guid": "582642d4-41dc-4981-80a4-71422394493a"
            },
            "outputs": [],
            "execution_count": null
        },
        {
            "cell_type": "code",
            "source": [
                "-- IUDF.1.2\n",
                "-- Cleanup\n",
                "\n",
                "USE TSQLV6;\n",
                "\n",
                "DROP FUNCTION IF EXISTS dbo.GetCustOrders;\n",
                "GO\n",
                "\n",
                "USE Northwinds2022TSQLV7;\n",
                "\n",
                "DROP FUNCTION IF EXISTS dbo.GetCustOrders;\n",
                "GO"
            ],
            "metadata": {
                "language": "sql",
                "azdata_cell_guid": "964629bf-e3a1-4050-9095-0fc96347c7bf",
                "tags": []
            },
            "outputs": [],
            "execution_count": null
        }
    ]
}