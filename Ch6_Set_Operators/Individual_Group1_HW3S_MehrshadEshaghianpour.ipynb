{
    "metadata": {
        "kernelspec": {
            "name": "SQL",
            "display_name": "SQL",
            "language": "sql"
        },
        "language_info": {
            "name": "sql",
            "version": ""
        }
    },
    "nbformat_minor": 2,
    "nbformat": 4,
    "cells": [
        {
            "cell_type": "markdown",
            "source": [
                "**Name:** Mehrshad Eshaghianpour\n",
                "\n",
                "**Group:** 1\n",
                "\n",
                "**Tasks:** \n",
                "\n",
                "<details> <summary>Set Operators Excersises</summary>\n",
                "\n",
                "-  <kbd>Q4</kbd>\n",
                "\n",
                "</details>\n",
                "\n",
                "<details> <summary>Set Operators</summary>\n",
                "\n",
                "-  <kbd>UNION</kbd>\n",
                "\n",
                "</details>"
            ],
            "metadata": {
                "azdata_cell_guid": "c6e824a5-396a-4767-9c74-69108ed66791",
                "language": ""
            },
            "attachments": {}
        },
        {
            "cell_type": "markdown",
            "source": [
                "<span class=\"hljs-section\" style=\"color:black;margin-right:0px;margin-bottom:0px;margin-left:0px;padding-right:0px;padding-bottom:0px;padding-left:0px;border:0px;font-weight:700;font-family:Consolas, &quot;Andale Mono WT&quot;, &quot;Andale Mono&quot;, &quot;Lucida Console&quot;, &quot;Lucida Sans Typewriter&quot;, &quot;DejaVu Sans Mono&quot;, &quot;Bitstream Vera Sans Mono&quot;, &quot;Liberation Mono&quot;, &quot;Nimbus Mono L&quot;, Monaco, &quot;Courier New&quot;, Courier, monospace;vertical-align:baseline;outline:0px;white-space:pre;\">Q4</span>\n",
                "\n",
                "<span style=\"color:rgb(0, 128, 0);\">-- 4</span>\n",
                "\n",
                "<span style=\"color:rgb(0, 128, 0);\">--  Write a query that returns customer and employee pairs </span>\n",
                "\n",
                "<span style=\"color:rgb(0, 128, 0);\">-- that had order activity in both January 2016 and February 2016</span>\n",
                "\n",
                "<span style=\"color:rgb(0, 128, 0);\">-- Tables involved: TSQLV4 database, Orders table</span>\n",
                "\n",
                "<span style=\"color:rgb(0, 128, 0);\">-- Desired output:</span>\n",
                "\n",
                "| custid | empid |\n",
                "| :-: | :-: |\n",
                "| 20 | 3 |\n",
                "| 39 | 9 |\n",
                "| 46 | 5 |\n",
                "| 67 | 1 |\n",
                "| 71 | 4 |\n",
                "\n",
                "<span style=\"color:rgb(0, 128, 0);\">(5 rows affected)</span>\n",
                "\n",
                "- **Proposition:**\n",
                "    \n",
                "    - The proposition is to retreive customers and employees who placed orders in both January 2016 and February 2016\n",
                "        \n",
                "- **Table:**\n",
                "    \n",
                "    - `Sales.Orders`\n",
                "        \n",
                "- **Columns:**\n",
                "    \n",
                "    - Columns selected in the query are `custid` and `empid`\n",
                "\n",
                "- **Predicate:**\n",
                "    \n",
                "    - The predicate is the condition specified in the `WHERE` clause\n",
                "        \n",
                "    - `orderdate >= '20160101' AND orderdate < '20160201'` filters the records to include only those with an `orderdate` in January 2016 \n",
                "        \n",
                "    - `orderdate >= '20160201' AND orderdate < '20160301'` filters the records to include only those with an `orderdate` in February 2016\n",
                "    \n",
                "**_Written in collaboraton with ChatGPT from OpenAI to improve understanding and assist with the explanation of the query_**"
            ],
            "metadata": {
                "azdata_cell_guid": "5554934a-a8aa-4629-becf-da7a3ac93b03"
            },
            "attachments": {}
        },
        {
            "cell_type": "code",
            "source": [
                "USE TSQLV4\r\n",
                "\r\n",
                "SELECT custid, empid\r\n",
                "FROM Sales.Orders\r\n",
                "WHERE orderdate >= '20160101' AND orderdate < '20160201'\r\n",
                "\r\n",
                "INTERSECT\r\n",
                "\r\n",
                "SELECT custid, empid\r\n",
                "FROM Sales.Orders\r\n",
                "WHERE orderdate >= '20160201' AND orderdate < '20160301';\r\n",
                "\r\n",
                "\r\n",
                "USE Northwinds2022TSQLV7\r\n",
                "\r\n",
                "SELECT CustomerId, EmployeeId\r\n",
                "FROM Sales.[Order]\r\n",
                "WHERE orderdate >= '20160101' AND orderdate < '20160201'\r\n",
                "\r\n",
                "INTERSECT\r\n",
                "\r\n",
                "SELECT CustomerId, EmployeeId\r\n",
                "FROM Sales.[Order]\r\n",
                "WHERE orderdate >= '20160201' AND orderdate < '20160301';\r\n",
                "\r\n",
                ""
            ],
            "metadata": {
                "azdata_cell_guid": "800abcf0-720e-499a-ab54-7ed444df79ac",
                "language": "sql"
            },
            "outputs": [],
            "execution_count": null
        },
        {
            "cell_type": "markdown",
            "source": [
                "\r\n",
                "<span style=\"color: rgb(0, 128, 0);\">-----------------------</span>\r\n",
                "\r\n",
                "<span style=\"color: rgb(0, 128, 0);\">-- The UNION Operator</span>\r\n",
                "\r\n",
                "<span style=\"color: rgb(0, 128, 0);\">-----------------------</span>\r\n",
                "\r\n",
                "- **Proposition:**\r\n",
                "    \r\n",
                "    - The proposition in this query are the `select` statements that use different set oprerators\r\n",
                "        \r\n",
                "- **Table:**\r\n",
                "        \r\n",
                "    - `HR.Employess`\r\n",
                "    \r\n",
                "    - `Sales.Customers`\r\n",
                "    \r\n",
                "- **Columns:**\r\n",
                "    \r\n",
                "    - Columns selected in the query are `country, region` and `city` \r\n",
                "        \r\n",
                "- **Predicate:**\r\n",
                "    \r\n",
                "    - There is no predicates, only the set operators `UNION` and `UNION ALL`\r\n",
                "\r\n",
                "**_Written in collaboraton with ChatGPT from OpenAI to improve understanding and assist with the explanation of the query_**"
            ],
            "metadata": {
                "language": "sql",
                "azdata_cell_guid": "e6871bca-91da-4f24-bfb0-061196977e56"
            },
            "attachments": {}
        },
        {
            "cell_type": "code",
            "source": [
                "SET NOCOUNT ON\r\n",
                "USE TSQLV4;\r\n",
                "\r\n",
                "-- The UNION ALL Multiset Operator\r\n",
                "SELECT country, region, city FROM HR.Employees\r\n",
                "UNION ALL\r\n",
                "SELECT country, region, city FROM Sales.Customers;\r\n",
                "\r\n",
                "-- The UNION Distinct Set Operator\r\n",
                "SELECT country, region, city FROM HR.Employees\r\n",
                "UNION\r\n",
                "SELECT country, region, city FROM Sales.Customers;\r\n",
                "\r\n",
                "SET NOCOUNT ON\r\n",
                "USE Northwinds2022TSQLV7;\r\n",
                "\r\n",
                "-- The UNION ALL Multiset Operator\r\n",
                "SELECT EmployeeCountry, EmployeeRegion, EmployeeCity FROM HumanResources.Employee\r\n",
                "UNION ALL\r\n",
                "SELECT CustomerCountry, CustomerRegion, CustomerCity FROM Sales.Customer;\r\n",
                "\r\n",
                "-- The UNION Distinct Set Operator\r\n",
                "SELECT EmployeeCountry, EmployeeRegion, EmployeeCity FROM HumanResources.Employee\r\n",
                "UNION\r\n",
                "SELECT CustomerCountry, CustomerRegion, CustomerCity FROM Sales.Customer;"
            ],
            "metadata": {
                "language": "sql",
                "azdata_cell_guid": "708c52f9-9fb3-41e9-b978-ee30b4197ee3"
            },
            "outputs": [],
            "execution_count": null
        }
    ]
}