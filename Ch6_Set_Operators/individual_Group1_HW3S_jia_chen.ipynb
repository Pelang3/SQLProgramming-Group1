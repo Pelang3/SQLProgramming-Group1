{
    "metadata": {
        "kernelspec": {
            "name": "SQL",
            "display_name": "SQL",
            "language": "sql"
        },
        "language_info": {
            "name": "sql",
            "version": ""
        }
    },
    "nbformat_minor": 2,
    "nbformat": 4,
    "cells": [
        {
            "cell_type": "markdown",
            "source": [
                "### **jia chen group 1:**\n",
                "\n",
                "### <span style=\"font-size: 16px; font-variant-ligatures: none; white-space-collapse: preserve; background-color: rgb(255, 255, 255);\">Chapter 06 - Set Operators – Exercises&nbsp;Q2</span><span class=\"NormalTextRun SCXW115201137 BCX8\" style=\"margin: 0px; padding: 0px; user-select: text; -webkit-user-drag: none; -webkit-tap-highlight-color: transparent;\"><br></span>\n",
                "\n",
                "### <span class=\"NormalTextRun SCXW115201137 BCX8\" style=\"margin: 0px; padding: 0px; user-select: text; -webkit-user-drag: none; -webkit-tap-highlight-color: transparent;\">Chapter 06 - Set Operators -&nbsp;</span>  Precedence"
            ],
            "metadata": {
                "azdata_cell_guid": "f73ca6fd-e0f9-433f-b79b-964716419ad0"
            },
            "attachments": {}
        },
        {
            "cell_type": "markdown",
            "source": [
                "## <span style=\"font-size: 16px; font-variant-ligatures: none; white-space-collapse: preserve; background-color: rgb(255, 255, 255);\"><b>Chapter 06 - Set Operators – Exercises&nbsp;Q2</b></span>\n",
                "\n",
                "\\-- Write a query that generates a virtual auxiliary table of 10 numbers\n",
                "\n",
                "\\-- in the range 1 through 10\n",
                "\n",
                "\\-- Tables involved: no table\n",
                "\n",
                "\\--Desired output\n",
                "\n",
                "n\n",
                "\n",
                "\\-----------\n",
                "\n",
                "1\n",
                "\n",
                "2\n",
                "\n",
                "3\n",
                "\n",
                "4\n",
                "\n",
                "5\n",
                "\n",
                "6\n",
                "\n",
                "7\n",
                "\n",
                "8\n",
                "\n",
                "9\n",
                "\n",
                "10\n",
                "\n",
                "(10 row(s) affected)"
            ],
            "metadata": {
                "azdata_cell_guid": "78ec4ba7-c82c-42b2-8370-7a369931f0db"
            },
            "attachments": {}
        },
        {
            "cell_type": "code",
            "source": [
                "-- orignial Query for TSQLV6\r\n",
                "USE TSQLV6;\r\n",
                "\r\n",
                "SELECT n\r\n",
                "FROM (VALUES(1),(2),(3),(4),(5),(6),(7),(8),(9),(10)) AS Nums(n);\r\n",
                "\r\n",
                "\r\n",
                "-- New Query for Northwinds\r\n",
                "USE Northwinds2022TSQLV7;\r\n",
                "\r\n",
                "SELECT n\r\n",
                "-- This part selects the values from the n column of the inline table.\r\n",
                "FROM (VALUES(1),(2),(3),(4),(5),(6),(7),(8),(9),(10)) AS Nums(n);\r\n",
                "-- This part generates an inline table with a single column n containing values from 1 to 10.\r\n",
                ""
            ],
            "metadata": {
                "azdata_cell_guid": "ea589a18-209a-4355-af06-aefa76054463",
                "language": "sql"
            },
            "outputs": [
                {
                    "output_type": "display_data",
                    "data": {
                        "text/html": "(10 rows affected)"
                    },
                    "metadata": {}
                },
                {
                    "output_type": "display_data",
                    "data": {
                        "text/html": "(10 rows affected)"
                    },
                    "metadata": {}
                },
                {
                    "output_type": "display_data",
                    "data": {
                        "text/html": "Total execution time: 00:00:00.094"
                    },
                    "metadata": {}
                },
                {
                    "output_type": "execute_result",
                    "metadata": {},
                    "execution_count": 2,
                    "data": {
                        "application/vnd.dataresource+json": {
                            "schema": {
                                "fields": [
                                    {
                                        "name": "n"
                                    }
                                ]
                            },
                            "data": [
                                {
                                    "n": "1"
                                },
                                {
                                    "n": "2"
                                },
                                {
                                    "n": "3"
                                },
                                {
                                    "n": "4"
                                },
                                {
                                    "n": "5"
                                },
                                {
                                    "n": "6"
                                },
                                {
                                    "n": "7"
                                },
                                {
                                    "n": "8"
                                },
                                {
                                    "n": "9"
                                },
                                {
                                    "n": "10"
                                }
                            ]
                        },
                        "text/html": [
                            "<table>",
                            "<tr><th>n</th></tr>",
                            "<tr><td>1</td></tr>",
                            "<tr><td>2</td></tr>",
                            "<tr><td>3</td></tr>",
                            "<tr><td>4</td></tr>",
                            "<tr><td>5</td></tr>",
                            "<tr><td>6</td></tr>",
                            "<tr><td>7</td></tr>",
                            "<tr><td>8</td></tr>",
                            "<tr><td>9</td></tr>",
                            "<tr><td>10</td></tr>",
                            "</table>"
                        ]
                    }
                },
                {
                    "output_type": "execute_result",
                    "metadata": {},
                    "execution_count": 2,
                    "data": {
                        "application/vnd.dataresource+json": {
                            "schema": {
                                "fields": [
                                    {
                                        "name": "n"
                                    }
                                ]
                            },
                            "data": [
                                {
                                    "n": "1"
                                },
                                {
                                    "n": "2"
                                },
                                {
                                    "n": "3"
                                },
                                {
                                    "n": "4"
                                },
                                {
                                    "n": "5"
                                },
                                {
                                    "n": "6"
                                },
                                {
                                    "n": "7"
                                },
                                {
                                    "n": "8"
                                },
                                {
                                    "n": "9"
                                },
                                {
                                    "n": "10"
                                }
                            ]
                        },
                        "text/html": [
                            "<table>",
                            "<tr><th>n</th></tr>",
                            "<tr><td>1</td></tr>",
                            "<tr><td>2</td></tr>",
                            "<tr><td>3</td></tr>",
                            "<tr><td>4</td></tr>",
                            "<tr><td>5</td></tr>",
                            "<tr><td>6</td></tr>",
                            "<tr><td>7</td></tr>",
                            "<tr><td>8</td></tr>",
                            "<tr><td>9</td></tr>",
                            "<tr><td>10</td></tr>",
                            "</table>"
                        ]
                    }
                }
            ],
            "execution_count": 2
        },
        {
            "cell_type": "markdown",
            "source": [
                "### **<mark>proposition, table, columns and the predicate</mark>**\n",
                "\n",
                "### \n",
                "\n",
                "- <mark><span style=\"background-color: rgb(255, 255, 254); color: var(--vscode-foreground);\">Problem (Proposition): Retrieve the values 1 through 10.</span></mark>\n",
                "- <mark><span style=\"background-color: rgb(255, 255, 254); color: var(--vscode-foreground);\">Table: In this case, we don't have a physical table in a database. Instead, we use an inline table generated using the VALUES clause.</span></mark>\n",
                "- <mark><span style=\"background-color: rgb(255, 255, 254); color: var(--vscode-foreground);\">Columns: The query selects a single column, which is aliased as n.</span></mark>\n",
                "- <mark><span style=\"background-color: rgb(255, 255, 254); color: var(--vscode-foreground);\">Predicate: There is no specific predicate used in this query. It's a simple selection of values from the inline table.</span></mark>"
            ],
            "metadata": {
                "azdata_cell_guid": "21e06b92-07f9-4cdd-ab4c-1b9036f78fa8"
            },
            "attachments": {}
        },
        {
            "cell_type": "markdown",
            "source": [
                "### **<span class=\"NormalTextRun SCXW115201137 BCX8\" style=\"margin: 0px; padding: 0px; user-select: text; -webkit-user-drag: none; -webkit-tap-highlight-color: transparent;\">Chapter 06 - Set Operators </span> Precedence**"
            ],
            "metadata": {
                "azdata_cell_guid": "4750ea88-8fc7-49ce-80de-d8d5f223dcda"
            },
            "attachments": {}
        },
        {
            "cell_type": "code",
            "source": [
                "-- orignial Query for TSQLV6\r\n",
                "USE TSQLV6;\r\n",
                "\r\n",
                "-- INTERSECT Precedes EXCEPT\r\n",
                "SELECT country, region, city FROM Production.Suppliers\r\n",
                "EXCEPT\r\n",
                "SELECT country, region, city FROM HR.Employees\r\n",
                "INTERSECT\r\n",
                "SELECT country, region, city FROM Sales.Customers;\r\n",
                "\r\n",
                "-- Using Parenthesis\r\n",
                "(SELECT country, region, city FROM Production.Suppliers\r\n",
                " EXCEPT\r\n",
                " SELECT country, region, city FROM HR.Employees)\r\n",
                "INTERSECT\r\n",
                "SELECT country, region, city FROM Sales.Customers;\r\n",
                "\r\n",
                "\r\n",
                "-- New Query for Northwinds\r\n",
                "\r\n",
                "USE Northwinds2022TSQLV7;\r\n",
                "\r\n",
                "-- INTERSECT Precedes EXCEPT\r\n",
                "SELECT SupplierCountry, SupplierRegion, SupplierCity FROM Production.Supplier\r\n",
                "EXCEPT\r\n",
                "SELECT EmployeeCountry, EmployeeRegion, EmployeeCity FROM HumanResources.Employee\r\n",
                "INTERSECT\r\n",
                "SELECT CustomerCountry, CustomerRegion, CustomerCity FROM Sales.Customer;\r\n",
                "\r\n",
                "-- Using Parenthesis\r\n",
                "(SELECT SupplierCountry, SupplierRegion, SupplierCity FROM Production.Supplier\r\n",
                " EXCEPT\r\n",
                " SELECT EmployeeCountry, EmployeeRegion, EmployeeCity FROM HumanResources.Employee)\r\n",
                "INTERSECT\r\n",
                "SELECT CustomerCountry, CustomerRegion, CustomerCity FROM Sales.Customer;\r\n",
                ""
            ],
            "metadata": {
                "azdata_cell_guid": "708db7c5-ef33-415e-b1fd-ef1a6aed90f7",
                "language": "sql"
            },
            "outputs": [
                {
                    "output_type": "display_data",
                    "data": {
                        "text/html": "(28 rows affected)"
                    },
                    "metadata": {}
                },
                {
                    "output_type": "display_data",
                    "data": {
                        "text/html": "(3 rows affected)"
                    },
                    "metadata": {}
                },
                {
                    "output_type": "display_data",
                    "data": {
                        "text/html": "(28 rows affected)"
                    },
                    "metadata": {}
                },
                {
                    "output_type": "display_data",
                    "data": {
                        "text/html": "(3 rows affected)"
                    },
                    "metadata": {}
                },
                {
                    "output_type": "display_data",
                    "data": {
                        "text/html": "Total execution time: 00:00:00.556"
                    },
                    "metadata": {}
                },
                {
                    "output_type": "execute_result",
                    "metadata": {},
                    "execution_count": 3,
                    "data": {
                        "application/vnd.dataresource+json": {
                            "schema": {
                                "fields": [
                                    {
                                        "name": "country"
                                    },
                                    {
                                        "name": "region"
                                    },
                                    {
                                        "name": "city"
                                    }
                                ]
                            },
                            "data": [
                                {
                                    "country": "Australia",
                                    "region": "NSW",
                                    "city": "Sydney"
                                },
                                {
                                    "country": "Australia",
                                    "region": "Victoria",
                                    "city": "Melbourne"
                                },
                                {
                                    "country": "Brazil",
                                    "region": "NULL",
                                    "city": "Sao Paulo"
                                },
                                {
                                    "country": "Canada",
                                    "region": "Québec",
                                    "city": "Montréal"
                                },
                                {
                                    "country": "Canada",
                                    "region": "Québec",
                                    "city": "Ste-Hyacinthe"
                                },
                                {
                                    "country": "Denmark",
                                    "region": "NULL",
                                    "city": "Lyngby"
                                },
                                {
                                    "country": "Finland",
                                    "region": "NULL",
                                    "city": "Lappeenranta"
                                },
                                {
                                    "country": "France",
                                    "region": "NULL",
                                    "city": "Annecy"
                                },
                                {
                                    "country": "France",
                                    "region": "NULL",
                                    "city": "Montceau"
                                },
                                {
                                    "country": "France",
                                    "region": "NULL",
                                    "city": "Paris"
                                },
                                {
                                    "country": "Germany",
                                    "region": "NULL",
                                    "city": "Berlin"
                                },
                                {
                                    "country": "Germany",
                                    "region": "NULL",
                                    "city": "Cuxhaven"
                                },
                                {
                                    "country": "Germany",
                                    "region": "NULL",
                                    "city": "Frankfurt"
                                },
                                {
                                    "country": "Italy",
                                    "region": "NULL",
                                    "city": "Ravenna"
                                },
                                {
                                    "country": "Italy",
                                    "region": "NULL",
                                    "city": "Salerno"
                                },
                                {
                                    "country": "Japan",
                                    "region": "NULL",
                                    "city": "Osaka"
                                },
                                {
                                    "country": "Japan",
                                    "region": "NULL",
                                    "city": "Tokyo"
                                },
                                {
                                    "country": "Netherlands",
                                    "region": "NULL",
                                    "city": "Zaandam"
                                },
                                {
                                    "country": "Norway",
                                    "region": "NULL",
                                    "city": "Sandvika"
                                },
                                {
                                    "country": "Singapore",
                                    "region": "NULL",
                                    "city": "Singapore"
                                },
                                {
                                    "country": "Spain",
                                    "region": "Asturias",
                                    "city": "Oviedo"
                                },
                                {
                                    "country": "Sweden",
                                    "region": "NULL",
                                    "city": "Göteborg"
                                },
                                {
                                    "country": "Sweden",
                                    "region": "NULL",
                                    "city": "Stockholm"
                                },
                                {
                                    "country": "UK",
                                    "region": "NULL",
                                    "city": "Manchester"
                                },
                                {
                                    "country": "USA",
                                    "region": "LA",
                                    "city": "New Orleans"
                                },
                                {
                                    "country": "USA",
                                    "region": "MA",
                                    "city": "Boston"
                                },
                                {
                                    "country": "USA",
                                    "region": "MI",
                                    "city": "Ann Arbor"
                                },
                                {
                                    "country": "USA",
                                    "region": "OR",
                                    "city": "Bend"
                                }
                            ]
                        },
                        "text/html": [
                            "<table>",
                            "<tr><th>country</th><th>region</th><th>city</th></tr>",
                            "<tr><td>Australia</td><td>NSW</td><td>Sydney</td></tr>",
                            "<tr><td>Australia</td><td>Victoria</td><td>Melbourne</td></tr>",
                            "<tr><td>Brazil</td><td>NULL</td><td>Sao Paulo</td></tr>",
                            "<tr><td>Canada</td><td>Québec</td><td>Montréal</td></tr>",
                            "<tr><td>Canada</td><td>Québec</td><td>Ste-Hyacinthe</td></tr>",
                            "<tr><td>Denmark</td><td>NULL</td><td>Lyngby</td></tr>",
                            "<tr><td>Finland</td><td>NULL</td><td>Lappeenranta</td></tr>",
                            "<tr><td>France</td><td>NULL</td><td>Annecy</td></tr>",
                            "<tr><td>France</td><td>NULL</td><td>Montceau</td></tr>",
                            "<tr><td>France</td><td>NULL</td><td>Paris</td></tr>",
                            "<tr><td>Germany</td><td>NULL</td><td>Berlin</td></tr>",
                            "<tr><td>Germany</td><td>NULL</td><td>Cuxhaven</td></tr>",
                            "<tr><td>Germany</td><td>NULL</td><td>Frankfurt</td></tr>",
                            "<tr><td>Italy</td><td>NULL</td><td>Ravenna</td></tr>",
                            "<tr><td>Italy</td><td>NULL</td><td>Salerno</td></tr>",
                            "<tr><td>Japan</td><td>NULL</td><td>Osaka</td></tr>",
                            "<tr><td>Japan</td><td>NULL</td><td>Tokyo</td></tr>",
                            "<tr><td>Netherlands</td><td>NULL</td><td>Zaandam</td></tr>",
                            "<tr><td>Norway</td><td>NULL</td><td>Sandvika</td></tr>",
                            "<tr><td>Singapore</td><td>NULL</td><td>Singapore</td></tr>",
                            "<tr><td>Spain</td><td>Asturias</td><td>Oviedo</td></tr>",
                            "<tr><td>Sweden</td><td>NULL</td><td>Göteborg</td></tr>",
                            "<tr><td>Sweden</td><td>NULL</td><td>Stockholm</td></tr>",
                            "<tr><td>UK</td><td>NULL</td><td>Manchester</td></tr>",
                            "<tr><td>USA</td><td>LA</td><td>New Orleans</td></tr>",
                            "<tr><td>USA</td><td>MA</td><td>Boston</td></tr>",
                            "<tr><td>USA</td><td>MI</td><td>Ann Arbor</td></tr>",
                            "<tr><td>USA</td><td>OR</td><td>Bend</td></tr>",
                            "</table>"
                        ]
                    }
                },
                {
                    "output_type": "execute_result",
                    "metadata": {},
                    "execution_count": 3,
                    "data": {
                        "application/vnd.dataresource+json": {
                            "schema": {
                                "fields": [
                                    {
                                        "name": "country"
                                    },
                                    {
                                        "name": "region"
                                    },
                                    {
                                        "name": "city"
                                    }
                                ]
                            },
                            "data": [
                                {
                                    "country": "Canada",
                                    "region": "Québec",
                                    "city": "Montréal"
                                },
                                {
                                    "country": "France",
                                    "region": "NULL",
                                    "city": "Paris"
                                },
                                {
                                    "country": "Germany",
                                    "region": "NULL",
                                    "city": "Berlin"
                                }
                            ]
                        },
                        "text/html": [
                            "<table>",
                            "<tr><th>country</th><th>region</th><th>city</th></tr>",
                            "<tr><td>Canada</td><td>Québec</td><td>Montréal</td></tr>",
                            "<tr><td>France</td><td>NULL</td><td>Paris</td></tr>",
                            "<tr><td>Germany</td><td>NULL</td><td>Berlin</td></tr>",
                            "</table>"
                        ]
                    }
                },
                {
                    "output_type": "execute_result",
                    "metadata": {},
                    "execution_count": 3,
                    "data": {
                        "application/vnd.dataresource+json": {
                            "schema": {
                                "fields": [
                                    {
                                        "name": "SupplierCountry"
                                    },
                                    {
                                        "name": "SupplierRegion"
                                    },
                                    {
                                        "name": "SupplierCity"
                                    }
                                ]
                            },
                            "data": [
                                {
                                    "SupplierCountry": "Australia",
                                    "SupplierRegion": "NSW",
                                    "SupplierCity": "Sydney"
                                },
                                {
                                    "SupplierCountry": "Australia",
                                    "SupplierRegion": "Victoria",
                                    "SupplierCity": "Melbourne"
                                },
                                {
                                    "SupplierCountry": "Brazil",
                                    "SupplierRegion": "NULL",
                                    "SupplierCity": "Sao Paulo"
                                },
                                {
                                    "SupplierCountry": "Canada",
                                    "SupplierRegion": "Québec",
                                    "SupplierCity": "Montréal"
                                },
                                {
                                    "SupplierCountry": "Canada",
                                    "SupplierRegion": "Québec",
                                    "SupplierCity": "Ste-Hyacinthe"
                                },
                                {
                                    "SupplierCountry": "Denmark",
                                    "SupplierRegion": "NULL",
                                    "SupplierCity": "Lyngby"
                                },
                                {
                                    "SupplierCountry": "Finland",
                                    "SupplierRegion": "NULL",
                                    "SupplierCity": "Lappeenranta"
                                },
                                {
                                    "SupplierCountry": "France",
                                    "SupplierRegion": "NULL",
                                    "SupplierCity": "Annecy"
                                },
                                {
                                    "SupplierCountry": "France",
                                    "SupplierRegion": "NULL",
                                    "SupplierCity": "Montceau"
                                },
                                {
                                    "SupplierCountry": "France",
                                    "SupplierRegion": "NULL",
                                    "SupplierCity": "Paris"
                                },
                                {
                                    "SupplierCountry": "Germany",
                                    "SupplierRegion": "NULL",
                                    "SupplierCity": "Berlin"
                                },
                                {
                                    "SupplierCountry": "Germany",
                                    "SupplierRegion": "NULL",
                                    "SupplierCity": "Cuxhaven"
                                },
                                {
                                    "SupplierCountry": "Germany",
                                    "SupplierRegion": "NULL",
                                    "SupplierCity": "Frankfurt"
                                },
                                {
                                    "SupplierCountry": "Italy",
                                    "SupplierRegion": "NULL",
                                    "SupplierCity": "Ravenna"
                                },
                                {
                                    "SupplierCountry": "Italy",
                                    "SupplierRegion": "NULL",
                                    "SupplierCity": "Salerno"
                                },
                                {
                                    "SupplierCountry": "Japan",
                                    "SupplierRegion": "NULL",
                                    "SupplierCity": "Osaka"
                                },
                                {
                                    "SupplierCountry": "Japan",
                                    "SupplierRegion": "NULL",
                                    "SupplierCity": "Tokyo"
                                },
                                {
                                    "SupplierCountry": "Netherlands",
                                    "SupplierRegion": "NULL",
                                    "SupplierCity": "Zaandam"
                                },
                                {
                                    "SupplierCountry": "Norway",
                                    "SupplierRegion": "NULL",
                                    "SupplierCity": "Sandvika"
                                },
                                {
                                    "SupplierCountry": "Singapore",
                                    "SupplierRegion": "NULL",
                                    "SupplierCity": "Singapore"
                                },
                                {
                                    "SupplierCountry": "Spain",
                                    "SupplierRegion": "Asturias",
                                    "SupplierCity": "Oviedo"
                                },
                                {
                                    "SupplierCountry": "Sweden",
                                    "SupplierRegion": "NULL",
                                    "SupplierCity": "Göteborg"
                                },
                                {
                                    "SupplierCountry": "Sweden",
                                    "SupplierRegion": "NULL",
                                    "SupplierCity": "Stockholm"
                                },
                                {
                                    "SupplierCountry": "UK",
                                    "SupplierRegion": "NULL",
                                    "SupplierCity": "Manchester"
                                },
                                {
                                    "SupplierCountry": "USA",
                                    "SupplierRegion": "LA",
                                    "SupplierCity": "New Orleans"
                                },
                                {
                                    "SupplierCountry": "USA",
                                    "SupplierRegion": "MA",
                                    "SupplierCity": "Boston"
                                },
                                {
                                    "SupplierCountry": "USA",
                                    "SupplierRegion": "MI",
                                    "SupplierCity": "Ann Arbor"
                                },
                                {
                                    "SupplierCountry": "USA",
                                    "SupplierRegion": "OR",
                                    "SupplierCity": "Bend"
                                }
                            ]
                        },
                        "text/html": [
                            "<table>",
                            "<tr><th>SupplierCountry</th><th>SupplierRegion</th><th>SupplierCity</th></tr>",
                            "<tr><td>Australia</td><td>NSW</td><td>Sydney</td></tr>",
                            "<tr><td>Australia</td><td>Victoria</td><td>Melbourne</td></tr>",
                            "<tr><td>Brazil</td><td>NULL</td><td>Sao Paulo</td></tr>",
                            "<tr><td>Canada</td><td>Québec</td><td>Montréal</td></tr>",
                            "<tr><td>Canada</td><td>Québec</td><td>Ste-Hyacinthe</td></tr>",
                            "<tr><td>Denmark</td><td>NULL</td><td>Lyngby</td></tr>",
                            "<tr><td>Finland</td><td>NULL</td><td>Lappeenranta</td></tr>",
                            "<tr><td>France</td><td>NULL</td><td>Annecy</td></tr>",
                            "<tr><td>France</td><td>NULL</td><td>Montceau</td></tr>",
                            "<tr><td>France</td><td>NULL</td><td>Paris</td></tr>",
                            "<tr><td>Germany</td><td>NULL</td><td>Berlin</td></tr>",
                            "<tr><td>Germany</td><td>NULL</td><td>Cuxhaven</td></tr>",
                            "<tr><td>Germany</td><td>NULL</td><td>Frankfurt</td></tr>",
                            "<tr><td>Italy</td><td>NULL</td><td>Ravenna</td></tr>",
                            "<tr><td>Italy</td><td>NULL</td><td>Salerno</td></tr>",
                            "<tr><td>Japan</td><td>NULL</td><td>Osaka</td></tr>",
                            "<tr><td>Japan</td><td>NULL</td><td>Tokyo</td></tr>",
                            "<tr><td>Netherlands</td><td>NULL</td><td>Zaandam</td></tr>",
                            "<tr><td>Norway</td><td>NULL</td><td>Sandvika</td></tr>",
                            "<tr><td>Singapore</td><td>NULL</td><td>Singapore</td></tr>",
                            "<tr><td>Spain</td><td>Asturias</td><td>Oviedo</td></tr>",
                            "<tr><td>Sweden</td><td>NULL</td><td>Göteborg</td></tr>",
                            "<tr><td>Sweden</td><td>NULL</td><td>Stockholm</td></tr>",
                            "<tr><td>UK</td><td>NULL</td><td>Manchester</td></tr>",
                            "<tr><td>USA</td><td>LA</td><td>New Orleans</td></tr>",
                            "<tr><td>USA</td><td>MA</td><td>Boston</td></tr>",
                            "<tr><td>USA</td><td>MI</td><td>Ann Arbor</td></tr>",
                            "<tr><td>USA</td><td>OR</td><td>Bend</td></tr>",
                            "</table>"
                        ]
                    }
                },
                {
                    "output_type": "execute_result",
                    "metadata": {},
                    "execution_count": 3,
                    "data": {
                        "application/vnd.dataresource+json": {
                            "schema": {
                                "fields": [
                                    {
                                        "name": "SupplierCountry"
                                    },
                                    {
                                        "name": "SupplierRegion"
                                    },
                                    {
                                        "name": "SupplierCity"
                                    }
                                ]
                            },
                            "data": [
                                {
                                    "SupplierCountry": "Canada",
                                    "SupplierRegion": "Québec",
                                    "SupplierCity": "Montréal"
                                },
                                {
                                    "SupplierCountry": "France",
                                    "SupplierRegion": "NULL",
                                    "SupplierCity": "Paris"
                                },
                                {
                                    "SupplierCountry": "Germany",
                                    "SupplierRegion": "NULL",
                                    "SupplierCity": "Berlin"
                                }
                            ]
                        },
                        "text/html": [
                            "<table>",
                            "<tr><th>SupplierCountry</th><th>SupplierRegion</th><th>SupplierCity</th></tr>",
                            "<tr><td>Canada</td><td>Québec</td><td>Montréal</td></tr>",
                            "<tr><td>France</td><td>NULL</td><td>Paris</td></tr>",
                            "<tr><td>Germany</td><td>NULL</td><td>Berlin</td></tr>",
                            "</table>"
                        ]
                    }
                }
            ],
            "execution_count": 3
        },
        {
            "cell_type": "markdown",
            "source": [
                "The first query retrieves supplier information (country, region, city) from the Production.Supplier table, excluding any information that matches the employee information (country, region, city) from the HumanResources.Employee table. Then, it intersects the resulting set with the customer information (country, region, city) from the Sales.Customer table.\n",
                "\n",
                "The second query follows the same logic but utilizes parentheses to explicitly specify that the EXCEPT operation is to be performed before the INTERSECT operation. This ensures that the exclusion of employee information is performed first before intersecting with customer information.\n",
                "\n",
                "<span style=\"color: rgb(13, 13, 13); font-family: Söhne, ui-sans-serif, system-ui, -apple-system, &quot;Segoe UI&quot;, Roboto, Ubuntu, Cantarell, &quot;Noto Sans&quot;, sans-serif, &quot;Helvetica Neue&quot;, Arial, &quot;Apple Color Emoji&quot;, &quot;Segoe UI Emoji&quot;, &quot;Segoe UI Symbol&quot;, &quot;Noto Color Emoji&quot;; font-size: 16px; white-space-collapse: preserve; background-color: rgb(255, 255, 255);\">The difference in results could arise from the fact that the first query applies INTERSECT before EXCEPT, while the second query applies EXCEPT before INTERSECT. Depending on the data and the relationships between suppliers, employees, and customers, the order of operations can produce different result sets.</span>"
            ],
            "metadata": {
                "azdata_cell_guid": "3645cfe5-3758-47bd-9660-ad8501ad9953"
            },
            "attachments": {}
        },
        {
            "cell_type": "markdown",
            "source": [
                "### **<mark>proposition, table, columns and the predicate</mark>**\n",
                "\n",
                "<mark>\n",
                "\n",
                "- Proposition (Problem):The problem appears to involve retrieving information about suppliers who are not employees but intersect with customers based on certain geographic criteria.\n",
                "\n",
                "- Tables:\n",
                "\n",
                "\n",
                "\n",
                "</mark>\n",
                "\n",
                "> <mark>\n",
                "> \n",
                "> Production.Supplier\n",
                "> \n",
                "> </mark>\n",
                "> \n",
                "> <mark>\n",
                "> \n",
                "> HumanResources.Employee\n",
                "> \n",
                "> </mark>\n",
                "> \n",
                "> <mark>\n",
                "> \n",
                "> Sales.Customer\n",
                "> \n",
                "> </mark>\n",
                "\n",
                "<mark>\n",
                "\n",
                "- Columns:\n",
                "\n",
                "\n",
                "\n",
                "</mark>\n",
                "\n",
                "> <mark>\n",
                "> \n",
                "> SupplierCountry, SupplierRegion, SupplierCity from Production.Supplier\n",
                "> \n",
                "> </mark>\n",
                "> \n",
                "> <mark>\n",
                "> \n",
                "> EmployeeCountry, EmployeeRegion, EmployeeCity from HumanResources.Employee\n",
                "> \n",
                "> </mark>\n",
                "> \n",
                "> <mark>\n",
                "> \n",
                "> CustomerCountry, CustomerRegion, CustomerCity from Sales.Customer\n",
                "> \n",
                "> </mark>\n",
                "\n",
                "<mark>\n",
                "\n",
                "- Predicates:\n",
                "\n",
                "\n",
                "\n",
                "</mark>\n",
                "\n",
                "> <mark>\n",
                "> \n",
                "> The EXCEPT operator subtracts the result set of the second query from the result set of the first query.\n",
                "> \n",
                ">   \n",
                "> \n",
                "> \n",
                "> </mark>\n",
                "> \n",
                "> <mark>\n",
                "> \n",
                "> The INTERSECT operator returns only the rows that appear in both result sets.\n",
                "> \n",
                "> </mark>\n",
                "> \n",
                "> <mark>\n",
                "> \n",
                "> Parentheses are used to ensure proper order of operations, defining the sequence in which the EXCEPT and INTERSECT operations should be executed.\n",
                "> \n",
                "> </mark>"
            ],
            "metadata": {
                "azdata_cell_guid": "2d73e30d-ff96-4932-b745-88b50fc59a36"
            },
            "attachments": {}
        }
    ]
}