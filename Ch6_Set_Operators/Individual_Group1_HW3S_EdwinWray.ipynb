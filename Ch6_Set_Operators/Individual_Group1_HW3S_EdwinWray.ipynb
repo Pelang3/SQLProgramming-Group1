{
    "metadata": {
        "kernelspec": {
            "name": "SQL",
            "display_name": "SQL",
            "language": "sql"
        },
        "language_info": {
            "name": "sql",
            "version": ""
        }
    },
    "nbformat_minor": 2,
    "nbformat": 4,
    "cells": [
        {
            "cell_type": "markdown",
            "source": [
                "# Edwin Wray\n",
                "\n",
                "### Group 1\n",
                "\n",
                "### Homework 3S\n",
                "\n",
                "### \n",
                "\n",
                "- Execises 5\n",
                "\n",
                "- The Intersect Operator"
            ],
            "metadata": {
                "azdata_cell_guid": "6675acce-34d9-45cf-98b5-805d9a41c8a5"
            },
            "attachments": {}
        },
        {
            "cell_type": "markdown",
            "source": [
                "<span style=\"color: #008000;\">-- 5</span>\n",
                "\n",
                "<span style=\"color: #008000;\">-- Write a query that returns customer and employee pairs</span>\n",
                "\n",
                "<span style=\"color: #008000;\">-- that had order activity in both January 2016 and February 2016</span>\n",
                "\n",
                "<span style=\"color: #008000;\">-- but not in 2015</span>\n",
                "\n",
                "<span style=\"color: #008000;\">-- Tables involved: TSQLV4 database, Orders table</span>\n",
                "\n",
                "  \n",
                "\n",
                "<span style=\"color: #008000;\">--Desired output</span>\n",
                "\n",
                "custid empid\n",
                "\n",
                "<span style=\"color: #008000;\">----------- -----------</span>\n",
                "\n",
                "<span style=\"color: #09885a;\">67</span> <span style=\"color: #09885a;\">1</span>\n",
                "\n",
                "<span style=\"color: #09885a;\">46</span> <span style=\"color: #09885a;\">5</span>\n",
                "\n",
                "  \n",
                "\n",
                "(<span style=\"color: #09885a;\">2</span> <span style=\"color: #0000ff;\">row</span>(s) affected)"
            ],
            "metadata": {
                "azdata_cell_guid": "8fc44939-4db9-4c30-bcb4-27b7dc2f7b1d"
            },
            "attachments": {}
        },
        {
            "cell_type": "markdown",
            "source": [
                "**Chapter 6 - Exercise 5**  \n",
                "\n",
                "Proposition: Write a query that returns customer and employee pairs that had order activity in both January 2016 and February 2016, but not in 2015.  \n",
                "\n",
                "Table: Sales.\\[Order\\] table.  \n",
                "\n",
                "Columns: CustomerId and EmployeeId from  Sales.\\[Order\\] table.  \n",
                "\n",
                "Predicate:   \n",
                "\n",
                "- O.OrderDate \\>= '2016-01-01' AND O.OrderDate \\< '2016-02-01' filters for order activity in January 2016.  \n",
                "- O.OrderDate \\>= '2016-02-01' AND O.OrderDate \\< '2016-03-01' filters for order activity in February 2016.  \n",
                "- YEAR(O.OrderDate) = '2015' filters for order activity in 2015."
            ],
            "metadata": {
                "azdata_cell_guid": "a87dc556-e110-4f0a-bd04-755249eec0ca"
            },
            "attachments": {}
        },
        {
            "cell_type": "code",
            "source": [
                "-- Chapter 6 - Exercise 5\n",
                "\n",
                "-- TSQLV4\n",
                "USE TSQLV4;\n",
                "\n",
                "SELECT N'TSQLV4' AS databasename, O.custid, O.empid\n",
                "FROM Sales.Orders AS O \n",
                "WHERE O.orderdate >= '2016-01-01' AND O.orderdate < '2016-02-01'\n",
                "\n",
                "INTERSECT\n",
                "\n",
                "SELECT N'TSQLV4' AS databasename, O.custid, O.empid\n",
                "FROM Sales.Orders AS O \n",
                "WHERE O.orderdate >= '2016-02-01' AND O.orderdate < '2016-03-01'\n",
                "\n",
                "EXCEPT\n",
                "\n",
                "SELECT N'TSQLV4' AS databasename, O.custid, O.empid\n",
                "FROM Sales.Orders AS O \n",
                "WHERE YEAR(O.orderdate) = '2015'\n",
                "ORDER BY O.custid DESC, O.empid\n",
                "\n",
                "\n",
                "-- Northwinds2022TSQLV7\n",
                "USE Northwinds2022TSQLV7;\n",
                "\n",
                "SELECT N'Northwinds2022TSQLV7' AS DatabaseName, O.CustomerId, O.EmployeeId\n",
                "FROM Sales.[Order] AS O \n",
                "WHERE O.OrderDate >= '2016-01-01' AND O.OrderDate < '2016-02-01'\n",
                "\n",
                "INTERSECT\n",
                "\n",
                "SELECT N'Northwinds2022TSQLV7' AS DatabaseName, O.CustomerId, O.EmployeeId\n",
                "FROM Sales.[Order] AS O \n",
                "WHERE O.OrderDate >= '2016-02-01' AND O.OrderDate < '2016-03-01'\n",
                "\n",
                "EXCEPT\n",
                "\n",
                "SELECT N'Northwinds2022TSQLV7' AS DatabaseName, O.CustomerId, O.EmployeeId\n",
                "FROM Sales.[Order] AS O \n",
                "WHERE YEAR(O.OrderDate) = '2015'\n",
                "ORDER BY O.CustomerId DESC, O.EmployeeId"
            ],
            "metadata": {
                "azdata_cell_guid": "77d74303-93f0-4691-9e9a-13b83dd15286",
                "language": "sql"
            },
            "outputs": [],
            "execution_count": null
        },
        {
            "cell_type": "markdown",
            "source": [
                "<span style=\"color: #008000;\">---------------------------------------------------------------------</span>\n",
                "\n",
                "<span style=\"color: #008000;\">-- The INTERSECT Operator</span>\n",
                "\n",
                "<span style=\"color: #008000;\">---------------------------------------------------------------------</span>"
            ],
            "metadata": {
                "language": "sql",
                "azdata_cell_guid": "bfdba070-3c98-4166-b55f-be7b943fccde"
            },
            "attachments": {}
        },
        {
            "cell_type": "markdown",
            "source": [
                "**Chapter 6 - The Intersect Operator**\n",
                "\n",
                "Proposition: Write a query that returns distinct locations (Country, Region and City) with both an Employee(s) and Customer(s).  \n",
                "\n",
                "Table: HumanResources.Employee and  Sales.Customer tables.  \n",
                "\n",
                "Columns: \n",
                "\n",
                "- EmployeeCountry, EmployeeRegion and EmployeeCity from the HumanResources.Employee table. \n",
                "- CustomerCountry, CustomerRegion, CustomerCity from the Sales.Customer table\n",
                "\n",
                "Predicate: No predicate in this query."
            ],
            "metadata": {
                "language": "sql",
                "azdata_cell_guid": "e19f9aba-9ae1-4b0d-b2f1-3298942213c2"
            },
            "attachments": {}
        },
        {
            "cell_type": "code",
            "source": [
                "-- TSQLV6\n",
                "USE TSQLV6;\n",
                "\n",
                "-- The INTERSECT Distinct Set Operator\n",
                "SELECT N'TSQLV6' AS databasename, country, region, city FROM HR.Employees\n",
                "INTERSECT\n",
                "SELECT N'TSQLV6' AS databasename, country, region, city FROM Sales.Customers;\n",
                "\n",
                "-- Northwinds2022TSQLV7\n",
                "USE Northwinds2022TSQLV7;\n",
                "\n",
                "-- The INTERSECT Distinct Set Operator\n",
                "SELECT N'Northwinds2022TSQLV7' AS DatabaseName, EmployeeCountry, EmployeeRegion, EmployeeCity FROM HumanResources.Employee\n",
                "INTERSECT\n",
                "SELECT N'Northwinds2022TSQLV7' AS DatabaseName, CustomerCountry, CustomerRegion, CustomerCity FROM Sales.Customer;"
            ],
            "metadata": {
                "language": "sql",
                "azdata_cell_guid": "fc3cd5be-25bd-4ef6-b15d-9738a5e8c417"
            },
            "outputs": [],
            "execution_count": null
        },
        {
            "cell_type": "markdown",
            "source": [
                "**Chapter 6 - The Intersect Operator**\n",
                "\n",
                "Proposition: Write a query that numbers each occurence of locations (Country, Region and City) with both an Employee(s) and Customer(s), making duplicate occurences distinct with the inclusion of the row num and return them.  \n",
                "\n",
                "Table: HumanResources.Employee and  Sales.Customer tables.  \n",
                "\n",
                "Columns: \n",
                "\n",
                "- EmployeeCountry, EmployeeRegion and EmployeeCity from the HumanResources.Employee table. \n",
                "- CustomerCountry, CustomerRegion, CustomerCity from the Sales.Customer table.\n",
                "- RowNum\n",
                "\n",
                "Predicate: No predicate in this query."
            ],
            "metadata": {
                "language": "sql",
                "azdata_cell_guid": "5a6b9699-3aea-4150-9fe5-141154003588"
            },
            "attachments": {}
        },
        {
            "cell_type": "code",
            "source": [
                "-- TSQLV6\n",
                "USE TSQLV6;\n",
                "\n",
                "-- The INTERSECT ALL Multiset Operator (Optional, Advanced)\n",
                "SELECT\n",
                "  N'TSQLV6' AS databasename, \n",
                "  ROW_NUMBER() \n",
                "    OVER(PARTITION BY country, region, city\n",
                "         ORDER     BY (SELECT 0)) AS rownum,\n",
                "  country, region, city\n",
                "FROM HR.Employees\n",
                "\n",
                "INTERSECT\n",
                "\n",
                "SELECT\n",
                "  N'TSQLV6' AS databasename, \n",
                "  ROW_NUMBER() \n",
                "    OVER(PARTITION BY country, region, city\n",
                "         ORDER     BY (SELECT 0)),\n",
                "  country, region, city\n",
                "FROM Sales.Customers;\n",
                "\n",
                "\n",
                "-- Northwinds2022TSQLV7\n",
                "USE Northwinds2022TSQLV7;\n",
                "\n",
                "-- The INTERSECT ALL Multiset Operator (Optional, Advanced)\n",
                "SELECT\n",
                "  N'Northwinds2022TSQLV7' AS DatabaseName, \n",
                "  ROW_NUMBER() \n",
                "    OVER(PARTITION BY EmployeeCountry, EmployeeRegion, EmployeeCity\n",
                "         ORDER     BY (SELECT 0)) AS rownum,\n",
                "  EmployeeCountry, EmployeeRegion, EmployeeCity\n",
                "FROM HumanResources.Employee\n",
                "\n",
                "INTERSECT\n",
                "\n",
                "SELECT\n",
                "  N'Northwinds2022TSQLV7' AS DatabaseName, \n",
                "  ROW_NUMBER() \n",
                "    OVER(PARTITION BY CustomerCountry, CustomerRegion, CustomerCity\n",
                "         ORDER     BY (SELECT 0)),\n",
                "  CustomerCountry, CustomerRegion, CustomerCity\n",
                "FROM Sales.Customer;"
            ],
            "metadata": {
                "language": "sql",
                "azdata_cell_guid": "791660fa-695e-4b06-928f-fe4570fcb210"
            },
            "outputs": [],
            "execution_count": null
        },
        {
            "cell_type": "markdown",
            "source": [
                "**Chapter 6 - The Intersect Operator**\n",
                "\n",
                "Proposition: Write a query that creates a CTE that returns ALL occurences of locations (Country, Region and City) with both an Employee(s) and Customer(s), including duplicates. USE\n",
                "\n",
                "Table: HumanResources.Employee and  Sales.Customer tables.  \n",
                "\n",
                "Columns: \n",
                "\n",
                "- EmployeeCountry, EmployeeRegion and EmployeeCity from the HumanResources.Employee table. \n",
                "- CustomerCountry, CustomerRegion, CustomerCity from the Sales.Customer table\n",
                "\n",
                "Predicate: No predicate in this query."
            ],
            "metadata": {
                "language": "sql",
                "azdata_cell_guid": "c4e67294-fc89-4a59-8fb9-fa89a4a9a9a3"
            },
            "attachments": {}
        },
        {
            "cell_type": "code",
            "source": [
                "-- TSQLV6\n",
                "USE TSQLV6;\n",
                "\n",
                "WITH INTERSECT_ALL\n",
                "AS\n",
                "(\n",
                "  SELECT\n",
                "    N'TSQLV6' AS databasename, \n",
                "    ROW_NUMBER() \n",
                "      OVER(PARTITION BY country, region, city\n",
                "           ORDER     BY (SELECT 0)) AS rownum,\n",
                "    country, region, city\n",
                "  FROM HR.Employees\n",
                "\n",
                "  INTERSECT\n",
                "\n",
                "  SELECT\n",
                "    N'TSQLV6' AS databasename, \n",
                "    ROW_NUMBER() \n",
                "      OVER(PARTITION BY country, region, city\n",
                "           ORDER     BY (SELECT 0)),\n",
                "    country, region, city\n",
                "  FROM Sales.Customers\n",
                ")\n",
                "SELECT databasename, country, region, city\n",
                "FROM INTERSECT_ALL;\n",
                "\n",
                "\n",
                "-- Northwinds2022TSQLV7\n",
                "USE Northwinds2022TSQLV7;\n",
                "\n",
                "WITH INTERSECT_ALL\n",
                "AS\n",
                "(\n",
                "  SELECT\n",
                "    N'Northwinds2022TSQLV7' AS DatabaseName, \n",
                "    ROW_NUMBER() \n",
                "      OVER(PARTITION BY EmployeeCountry, EmployeeRegion, EmployeeCity\n",
                "           ORDER     BY (SELECT 0)) AS rownum,\n",
                "    EmployeeCountry, EmployeeRegion, EmployeeCity\n",
                "  FROM HumanResources.Employee\n",
                "\n",
                "  INTERSECT\n",
                "\n",
                "  SELECT\n",
                "    N'Northwinds2022TSQLV7' AS DatabaseName, \n",
                "    ROW_NUMBER() \n",
                "      OVER(PARTITION BY CustomerCountry, CustomerRegion, CustomerCity\n",
                "           ORDER     BY (SELECT 0)),\n",
                "    CustomerCountry, CustomerRegion, CustomerCity\n",
                "  FROM Sales.Customer\n",
                ")\n",
                "SELECT DatabaseName, EmployeeCountry, EmployeeRegion, EmployeeCity\n",
                "FROM INTERSECT_ALL;"
            ],
            "metadata": {
                "language": "sql",
                "azdata_cell_guid": "85f2a0d8-7ce7-4eec-964b-1c42b758b7c3"
            },
            "outputs": [],
            "execution_count": null
        }
    ]
}