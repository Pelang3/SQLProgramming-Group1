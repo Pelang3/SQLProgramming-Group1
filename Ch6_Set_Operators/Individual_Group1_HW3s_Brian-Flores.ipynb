{
    "metadata": {
        "kernelspec": {
            "name": "SQL",
            "display_name": "SQL",
            "language": "sql"
        },
        "language_info": {
            "name": "sql",
            "version": ""
        }
    },
    "nbformat_minor": 2,
    "nbformat": 4,
    "cells": [
        {
            "cell_type": "markdown",
            "source": [
                "# HW3s - Brian Flores\n",
                "\n",
                "## CH6 Set operators"
            ],
            "metadata": {
                "azdata_cell_guid": "fa6416d2-7564-4547-a1ec-febe5003c7e6"
            },
            "attachments": {}
        },
        {
            "cell_type": "markdown",
            "source": [
                "## Q1\n",
                "\n",
                "Explain the difference between the `UNION ALL` and `UNION` operators. In what cases are they equivalent?  When they are equivalent, which one should you use?\n",
                "\n",
                "## **Explanation:**\n",
                "\n",
                "The **difference** between the `UNION ALL` and `UNION` operator are what is added and what is not. The `UNION ALL` operator allows **for duplicates** therefore resulting in a **multiset** and not a set. The default union behavior returns what is in two tables therefore `ALL` keeps what is both in table 1 and table 2. Normally in set theory a set is a collection of items that has **no duplicates**. Therefore, the default `UNION` behavior removes the duplicates within a collection of rows.\n",
                "\n",
                "When we talk about when they are equivalent it usually refers to whether duplicates are found. Therefore, **when no duplicates are not found in either table** then **_both are equivant_** since `UNION ALL` includes possible duplicates.\n",
                "\n",
                "If we want to know when one is better of the other we ought to first decide that no duplicates are in either table. However `UNION` which has a default distinct predicate attach checks for duplicates at runtime (which costs time). **Therefore when we know that duplicates are not found in either its best to use the `UNION ALL` operator** (It performs no duplicate check).\n",
                "\n",
                "---\n",
                ""
            ],
            "metadata": {
                "azdata_cell_guid": "f3b314ad-7571-4673-a442-be3197923996"
            },
            "attachments": {}
        },
        {
            "cell_type": "markdown",
            "source": [
                "## Q6\n",
                "\n",
                "You are given the following query:\n",
                "```sql \n",
                "SELECT country, region, city\n",
                "FROM HR.Employees\n",
                "\n",
                "UNION ALL\n",
                "\n",
                "SELECT country, region, city\n",
                "FROM Production.Suppliers;\n",
                "```\n",
                "\n",
                "You are asked to add logic to the query \n",
                "such that it would guarantee that the rows from Employees\n",
                "would be returned in the output before the rows from Suppliers,\n",
                "and within each segment, the rows should be sorted\n",
                "by country, region, city\n",
                "\n",
                "**Tables involved:** NORTHWINDS database, Employees and Suppliers tables\n",
                "\n",
                "**Desired output:**\n",
                "\n",
                "```\n",
                "country         region          city\n",
                "--------------- --------------- ---------------\n",
                "UK              NULL            London\n",
                "UK              NULL            London\n",
                "UK              NULL            London\n",
                "UK              NULL            London\n",
                "USA             WA              Kirkland\n",
                "USA             WA              Redmond\n",
                "USA             WA              Seattle\n",
                "USA             WA              Seattle\n",
                "USA             WA              Tacoma\n",
                "Australia       NSW             Sydney\n",
                "Australia       Victoria        Melbourne\n",
                "Brazil          NULL            Sao Paulo\n",
                "Canada          QuÈbec          MontrÈal\n",
                "Canada          QuÈbec          Ste-Hyacinthe\n",
                "Denmark         NULL            Lyngby\n",
                "Finland         NULL            Lappeenranta\n",
                "France          NULL            Annecy\n",
                "France          NULL            Montceau\n",
                "France          NULL            Paris\n",
                "Germany         NULL            Berlin\n",
                "Germany         NULL            Cuxhaven\n",
                "Germany         NULL            Frankfurt\n",
                "Italy           NULL            Ravenna\n",
                "Italy           NULL            Salerno\n",
                "Japan           NULL            Osaka\n",
                "Japan           NULL            Tokyo\n",
                "Netherlands     NULL            Zaandam\n",
                "Norway          NULL            Sandvika\n",
                "Singapore       NULL            Singapore\n",
                "Spain           Asturias        Oviedo\n",
                "Sweden          NULL            Gˆteborg\n",
                "Sweden          NULL            Stockholm\n",
                "UK              NULL            London\n",
                "UK              NULL            Manchester\n",
                "USA             LA              New Orleans\n",
                "USA             MA              Boston\n",
                "USA             MI              Ann Arbor\n",
                "USA             OR              Bend\n",
                "```\n",
                "\n",
                "(38 row(s) affected)\n",
                "\n",
                "---\n",
                "\n",
                "## **Proposition, Table, Columns and the Predicate.**\n",
                "\n",
                "**Proposition:** Retrieve all rows from `HumanResources].[Employee]` and `[Prodduction].[Supplier]` that have the following columns **country** **region**, **city**. Even if there are duplicate rows return them and make sure to return the results from the Employees table before the Suppliers table. Remember to sort the result by country, region and city.\n",
                "\n",
                "**Tables:** `HumanResources].[Employee]` and `[Prodduction].[Supplier]`\n",
                "\n",
                "**Columns:** country, region, city. Speific Names cant bre provided as they are labeled differently in different tables.\n",
                "\n",
                "**Predicate:** \n",
                "\n",
                "- Apply the `UNION ALL` operator to return the multiset of both tables\n",
                "    \n",
                ""
            ],
            "metadata": {
                "azdata_cell_guid": "bfeb4b67-2a3e-4d3f-a208-e0b776f2335b"
            },
            "attachments": {}
        },
        {
            "cell_type": "code",
            "source": [
                "-- Q6\n",
                "\n",
                "-- Original Query for TSQLV6\n",
                "\n",
                "USE TSQLV6;\n",
                "\n",
                "SELECT country, region, city\n",
                "FROM (\n",
                "      SELECT sortOrder = 1, country, region, city\n",
                "      FROM [HR].[Employees]\n",
                "\n",
                "      UNION ALL\n",
                "\n",
                "      SELECT sortOrder = 2, country, region, city\n",
                "      FROM [Production].[Suppliers]\n",
                "     ) AS U\n",
                "ORDER BY sortOrder, country, region,city;\n",
                "\n",
                "-- new Query for Northwinds2022TSQLV7\n",
                "\n",
                "USE Northwinds2022TSQLV7;\n",
                "\n",
                "SELECT EmployeeCountry, EmployeeRegion, EmployeeCity\n",
                "FROM (\n",
                "      SELECT sortOrder = 1, EmployeeCountry, EmployeeRegion, EmployeeCity\n",
                "      FROM [HumanResources].[Employee]\n",
                "\n",
                "      UNION ALL\n",
                "\n",
                "      SELECT sortOrder = 2, SupplierCountry, SupplierRegion, SupplierCity\n",
                "      FROM [Production].[Supplier]\n",
                "     ) AS U\n",
                "\n",
                "ORDER BY sortOrder, EmployeeCountry, EmployeeRegion, EmployeeCity;"
            ],
            "metadata": {
                "azdata_cell_guid": "ec960ae3-53b1-4ad4-9d67-5d7a05bda626",
                "language": "sql",
                "tags": []
            },
            "outputs": [],
            "execution_count": null
        },
        {
            "cell_type": "markdown",
            "source": [
                "# Propositions\n",
                "\n",
                "Translating queries to problems.\n",
                "\n",
                "## Circumventing Unsupported Logical Phases\n",
                "In this section we try to find the way to apply other operaters on a result of a set operator. Recall that using a set operator blocks you from using every other operator besides **order by**.\n",
                "\n",
                "Also remember that you can not pass in a cursor into a set operator, it must be a table (set). How can we find a way to get around this hurdle.\n",
                "\n",
                "---"
            ],
            "metadata": {
                "azdata_cell_guid": "19bf898f-6ef4-4b76-ace1-9d8da4972537"
            },
            "attachments": {}
        },
        {
            "cell_type": "markdown",
            "source": [
                "### CULP.1\n",
                "\n",
                "Collect disinct rows (capturing columns country, region and city) of the `[HumanResources].[Employee]` table and the `[Sales].[Customer]` table. Then for each country show how many countries are in the result set of the two tables.\n",
                "\n",
                "**Tables Involved**: `[HumanResources].[Employee]` And `[Sales].[Customer]`\n",
                "\n",
                "**Constraints**: Use `UNION` but use `GROUP BY`\n",
                "\n",
                "**Takeaways**: Using a table expression (via parenthesis) to capture a set operator and then you can apply a group by after."
            ],
            "metadata": {
                "azdata_cell_guid": "b6729438-2df5-4025-8032-83b1c264a36e"
            },
            "attachments": {}
        },
        {
            "cell_type": "code",
            "source": [
                "--CULP.1\n",
                "\n",
                "-- original query for TSQLv6\n",
                "\n",
                "USE TSQLV6;\n",
                "\n",
                "SELECT country, COUNT(*) AS numlocations\n",
                "FROM (SELECT country, region, city FROM [HR].[Employees]\n",
                "\n",
                "      UNION\n",
                "\n",
                "      SELECT country, region, city FROM [Sales].[Customers]) AS U\n",
                "GROUP BY country;\n",
                "\n",
                "-- new query for Northwinds2022TSQLV7\n",
                "\n",
                "USE Northwinds2022TSQLV7;\n",
                "\n",
                "SELECT EmployeeCountry, COUNT(*) AS numLocations\n",
                "FROM (SELECT EmployeeCountry, EmployeeRegion, EmployeeCity FROM [HumanResources].[Employee]\n",
                "\n",
                "      UNION\n",
                "\n",
                "      SELECT CustomerCountry, CustomerRegion, CustomerCity FROM [Sales].[Customer]) AS U\n",
                "GROUP BY EmployeeCountry;\n",
                ""
            ],
            "metadata": {
                "azdata_cell_guid": "0ba7b230-12a1-4319-a04a-e4cca5f6ca94",
                "language": "sql",
                "tags": []
            },
            "outputs": [],
            "execution_count": null
        },
        {
            "cell_type": "markdown",
            "source": [
                "### CULP.2\n",
                "\n",
                "Aggregrate the top 2 orders of employeeid 3 and 5. Select the top 2 orders according to the orderdate and the orderid as a tiebreaker. If there are multiple duplicate rows make sure to return them. Display the employeeid orderid and orderdate\n",
                "\n",
                "**Tables Involved**: `[Sales].[Order]`\n",
                "\n",
                "**Constraints**: Use `WHERE empid = 3` and `WHERE empid = 5` order the results of the employees by orderdate and order id descending meaning highers numbers appear to the top.\n",
                "\n",
                "**Takeaways**: When you want to `ORDER BY` within a query you need to select `TOP(N)` to trick a set operation to accept a psuedo table.\n",
                ""
            ],
            "metadata": {
                "language": "sql",
                "azdata_cell_guid": "e11f6eec-8760-4218-86cc-e2dec2c7a584"
            },
            "attachments": {}
        },
        {
            "cell_type": "code",
            "source": [
                "-- CULP.2\n",
                "\n",
                "-- original query for TSQLv6\n",
                "\n",
                "USE TSQLV6;\n",
                "\n",
                "SELECT empid, orderid, orderdate\n",
                "FROM (SELECT TOP (2) empid, orderid, orderdate\n",
                "      FROM [Sales].[Orders]\n",
                "      WHERE empid = 3\n",
                "      ORDER BY orderdate DESC, orderid DESC) AS D1\n",
                "\n",
                "UNION ALL\n",
                "\n",
                "SELECT empid, orderid, orderdate\n",
                "FROM (SELECT TOP (2) empid, orderid, orderdate\n",
                "      FROM [Sales].[Orders]\n",
                "      WHERE empid = 5\n",
                "      ORDER BY orderdate DESC, orderid DESC) AS D2;\n",
                "\n",
                "-- original query for Northwinds2022TSQLV7\n",
                "USE Northwinds2022TSQLV7;\n",
                "\n",
                "SELECT EmployeeId, OrderId, OrderDate\n",
                "FROM (SELECT TOP(2) EmployeeId, OrderId, OrderDate \n",
                "      FROM [Sales].[Order]\n",
                "      WHERE EmployeeId = 3\n",
                "      ORDER BY OrderDate DESC, OrderId DESC) AS D1\n",
                "\n",
                "UNION ALL\n",
                "\n",
                "SELECT EmployeeId, OrderId, OrderDate\n",
                "FROM (SELECT TOP(2) EmployeeId, OrderId, OrderDate \n",
                "      FROM [Sales].[Order]\n",
                "      WHERE EmployeeId = 5\n",
                "      ORDER BY OrderDate DESC, OrderId DESC) AS D2;\n",
                ""
            ],
            "metadata": {
                "language": "sql",
                "azdata_cell_guid": "e1d21351-ba1e-455f-8a62-2c7cc25f332b"
            },
            "outputs": [
                {
                    "output_type": "display_data",
                    "data": {
                        "text/html": "(4 rows affected)"
                    },
                    "metadata": {}
                },
                {
                    "output_type": "display_data",
                    "data": {
                        "text/html": "(4 rows affected)"
                    },
                    "metadata": {}
                },
                {
                    "output_type": "display_data",
                    "data": {
                        "text/html": "Total execution time: 00:00:00.021"
                    },
                    "metadata": {}
                },
                {
                    "output_type": "execute_result",
                    "metadata": {},
                    "execution_count": 15,
                    "data": {
                        "application/vnd.dataresource+json": {
                            "schema": {
                                "fields": [
                                    {
                                        "name": "empid"
                                    },
                                    {
                                        "name": "orderid"
                                    },
                                    {
                                        "name": "orderdate"
                                    }
                                ]
                            },
                            "data": [
                                {
                                    "empid": "3",
                                    "orderid": "11063",
                                    "orderdate": "2022-04-30"
                                },
                                {
                                    "empid": "3",
                                    "orderid": "11057",
                                    "orderdate": "2022-04-29"
                                },
                                {
                                    "empid": "5",
                                    "orderid": "11043",
                                    "orderdate": "2022-04-22"
                                },
                                {
                                    "empid": "5",
                                    "orderid": "10954",
                                    "orderdate": "2022-03-17"
                                }
                            ]
                        },
                        "text/html": [
                            "<table>",
                            "<tr><th>empid</th><th>orderid</th><th>orderdate</th></tr>",
                            "<tr><td>3</td><td>11063</td><td>2022-04-30</td></tr>",
                            "<tr><td>3</td><td>11057</td><td>2022-04-29</td></tr>",
                            "<tr><td>5</td><td>11043</td><td>2022-04-22</td></tr>",
                            "<tr><td>5</td><td>10954</td><td>2022-03-17</td></tr>",
                            "</table>"
                        ]
                    }
                },
                {
                    "output_type": "execute_result",
                    "metadata": {},
                    "execution_count": 15,
                    "data": {
                        "application/vnd.dataresource+json": {
                            "schema": {
                                "fields": [
                                    {
                                        "name": "EmployeeId"
                                    },
                                    {
                                        "name": "OrderId"
                                    },
                                    {
                                        "name": "OrderDate"
                                    }
                                ]
                            },
                            "data": [
                                {
                                    "EmployeeId": "3",
                                    "OrderId": "11063",
                                    "OrderDate": "2016-04-30"
                                },
                                {
                                    "EmployeeId": "3",
                                    "OrderId": "11057",
                                    "OrderDate": "2016-04-29"
                                },
                                {
                                    "EmployeeId": "5",
                                    "OrderId": "11043",
                                    "OrderDate": "2016-04-22"
                                },
                                {
                                    "EmployeeId": "5",
                                    "OrderId": "10954",
                                    "OrderDate": "2016-03-17"
                                }
                            ]
                        },
                        "text/html": [
                            "<table>",
                            "<tr><th>EmployeeId</th><th>OrderId</th><th>OrderDate</th></tr>",
                            "<tr><td>3</td><td>11063</td><td>2016-04-30</td></tr>",
                            "<tr><td>3</td><td>11057</td><td>2016-04-29</td></tr>",
                            "<tr><td>5</td><td>11043</td><td>2016-04-22</td></tr>",
                            "<tr><td>5</td><td>10954</td><td>2016-03-17</td></tr>",
                            "</table>"
                        ]
                    }
                }
            ],
            "execution_count": 15
        }
    ]
}