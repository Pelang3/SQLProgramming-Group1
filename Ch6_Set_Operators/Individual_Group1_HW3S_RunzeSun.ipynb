{
    "metadata": {
        "kernelspec": {
            "name": "SQL",
            "display_name": "SQL",
            "language": "sql"
        },
        "language_info": {
            "name": "sql",
            "version": ""
        }
    },
    "nbformat_minor": 2,
    "nbformat": 4,
    "cells": [
        {
            "cell_type": "markdown",
            "source": [
                "<img src=\"https://static.vecteezy.com/system/resources/previews/022/841/114/non_2x/chatgpt-logo-transparent-background-free-png.png\" alt=\"ChatGPT Logo\" width=\"15\" height=\"15\"> Written in collaboration with ChatGPT from OpenAI to improve understanding and assist with the explanation of the query.\r\n",
                ""
            ],
            "metadata": {
                "azdata_cell_guid": "5450103a-1862-4451-a704-cd727790c559"
            },
            "attachments": {}
        },
        {
            "cell_type": "markdown",
            "source": [
                "-- 3\r\n",
                "\r\n",
                "-- Write a query that returns customer and employee pairs \r\n",
                "\r\n",
                "-- that had order activity in January 2016 but not in February 2016\r\n",
                "\r\n",
                "-- Tables involved: TSQLV4 database, Orders table\r\n",
                "\r\n",
                "```sql\r\n",
                "--Desired output\r\n",
                "custid      empid\r\n",
                "----------- -----------\r\n",
                "1           1\r\n",
                "3           3\r\n",
                "5           8\r\n",
                "5           9\r\n",
                "6           9\r\n",
                "7           6\r\n",
                "9           1\r\n",
                "12          2\r\n",
                "16          7\r\n",
                "17          1\r\n",
                "20          7\r\n",
                "(50 row(s) affected)\r\n",
                "```\r\n",
                "\r\n",
                "**Proposition:** The query retrieves the `CustomerId` and `EmployeeId` columns from the `Sales.Order` table for orders placed in January 2016 but not in February 2016.\r\n",
                "\r\n",
                "**Table and Columns used:** \r\n",
                "- `Sales.Order`: \r\n",
                "  - `CustomerId`\r\n",
                "  - `EmployeeId`\r\n",
                "  - `OrderDate`\r\n",
                "\r\n",
                "**Predicates:**\r\n",
                "- First SELECT:\r\n",
                "  - `'20160101' <= o.OrderDate AND o.OrderDate < '20160201'`: Filters orders to those placed in January 2016.\r\n",
                "- EXCEPT:\r\n",
                "  - Second SELECT:\r\n",
                "    - `'20160201' <= o.OrderDate AND o.OrderDate < '20160301'`: Filters orders to those placed in February 2016.\r\n",
                "  - Returns orders from the first SELECT that are not in the second SELECT, effectively giving orders from January 2016 but not in February 2016.\r\n",
                "\r\n",
                "**Note**\r\n",
                "- I changed the date for tsqlv6 to in `January 2022` but not in `February 2022` bacause there are no order in 2016\r\n",
                ""
            ],
            "metadata": {
                "azdata_cell_guid": "844be14f-cc44-486a-bbac-cccbf584d993"
            },
            "attachments": {}
        },
        {
            "cell_type": "code",
            "source": [
                "USE [TSQLV6];\r\n",
                "go\r\n",
                "\r\n",
                "SELECT o.custid, o.empid\r\n",
                "FROM Sales.[Orders] as o\r\n",
                "WHERE '20220101' <= o.orderdate AND o.orderdate <  '20220201'\r\n",
                "EXCEPT\r\n",
                "SELECT o.custid, o.empid\r\n",
                "FROM Sales.[Orders] as o\r\n",
                "WHERE '20220201' <= o.orderdate AND o.orderdate <  '20220301';\r\n",
                "\r\n",
                "----------------\r\n",
                "\r\n",
                "USE [Northwinds2022TSQLV7]\r\n",
                "go\r\n",
                "\r\n",
                "SELECT o.CustomerId, o.EmployeeId\r\n",
                "FROM Sales.[Order] as o\r\n",
                "WHERE '20160101' <= o.OrderDate AND o.OrderDate <  '20160201'\r\n",
                "EXCEPT\r\n",
                "SELECT o.CustomerId, o.EmployeeId\r\n",
                "FROM Sales.[Order] as o\r\n",
                "WHERE '20160201' <= o.OrderDate AND o.OrderDate <  '20160301';"
            ],
            "metadata": {
                "azdata_cell_guid": "46c608c8-ec30-4176-b882-7e44df052229",
                "language": "sql",
                "tags": []
            },
            "outputs": [
                {
                    "output_type": "display_data",
                    "data": {
                        "text/html": "Commands completed successfully."
                    },
                    "metadata": {}
                },
                {
                    "output_type": "display_data",
                    "data": {
                        "text/html": "(50 rows affected)"
                    },
                    "metadata": {}
                },
                {
                    "output_type": "display_data",
                    "data": {
                        "text/html": "(50 rows affected)"
                    },
                    "metadata": {}
                },
                {
                    "output_type": "display_data",
                    "data": {
                        "text/html": "Total execution time: 00:00:00.007"
                    },
                    "metadata": {}
                },
                {
                    "output_type": "execute_result",
                    "metadata": {},
                    "execution_count": 31,
                    "data": {
                        "application/vnd.dataresource+json": {
                            "schema": {
                                "fields": [
                                    {
                                        "name": "custid"
                                    },
                                    {
                                        "name": "empid"
                                    }
                                ]
                            },
                            "data": [
                                {
                                    "custid": "1",
                                    "empid": "1"
                                },
                                {
                                    "custid": "3",
                                    "empid": "3"
                                },
                                {
                                    "custid": "5",
                                    "empid": "8"
                                },
                                {
                                    "custid": "5",
                                    "empid": "9"
                                },
                                {
                                    "custid": "6",
                                    "empid": "9"
                                },
                                {
                                    "custid": "7",
                                    "empid": "6"
                                },
                                {
                                    "custid": "9",
                                    "empid": "1"
                                },
                                {
                                    "custid": "12",
                                    "empid": "2"
                                },
                                {
                                    "custid": "16",
                                    "empid": "7"
                                },
                                {
                                    "custid": "17",
                                    "empid": "1"
                                },
                                {
                                    "custid": "20",
                                    "empid": "7"
                                },
                                {
                                    "custid": "24",
                                    "empid": "8"
                                },
                                {
                                    "custid": "25",
                                    "empid": "1"
                                },
                                {
                                    "custid": "26",
                                    "empid": "3"
                                },
                                {
                                    "custid": "32",
                                    "empid": "4"
                                },
                                {
                                    "custid": "38",
                                    "empid": "9"
                                },
                                {
                                    "custid": "39",
                                    "empid": "3"
                                },
                                {
                                    "custid": "40",
                                    "empid": "2"
                                },
                                {
                                    "custid": "41",
                                    "empid": "2"
                                },
                                {
                                    "custid": "42",
                                    "empid": "2"
                                },
                                {
                                    "custid": "44",
                                    "empid": "8"
                                },
                                {
                                    "custid": "47",
                                    "empid": "3"
                                },
                                {
                                    "custid": "47",
                                    "empid": "4"
                                },
                                {
                                    "custid": "47",
                                    "empid": "8"
                                },
                                {
                                    "custid": "49",
                                    "empid": "7"
                                },
                                {
                                    "custid": "55",
                                    "empid": "2"
                                },
                                {
                                    "custid": "55",
                                    "empid": "3"
                                },
                                {
                                    "custid": "56",
                                    "empid": "6"
                                },
                                {
                                    "custid": "59",
                                    "empid": "8"
                                },
                                {
                                    "custid": "63",
                                    "empid": "8"
                                },
                                {
                                    "custid": "64",
                                    "empid": "9"
                                },
                                {
                                    "custid": "65",
                                    "empid": "3"
                                },
                                {
                                    "custid": "65",
                                    "empid": "8"
                                },
                                {
                                    "custid": "66",
                                    "empid": "5"
                                },
                                {
                                    "custid": "67",
                                    "empid": "5"
                                },
                                {
                                    "custid": "70",
                                    "empid": "3"
                                },
                                {
                                    "custid": "71",
                                    "empid": "2"
                                },
                                {
                                    "custid": "75",
                                    "empid": "1"
                                },
                                {
                                    "custid": "76",
                                    "empid": "2"
                                },
                                {
                                    "custid": "76",
                                    "empid": "5"
                                },
                                {
                                    "custid": "80",
                                    "empid": "1"
                                },
                                {
                                    "custid": "81",
                                    "empid": "1"
                                },
                                {
                                    "custid": "81",
                                    "empid": "3"
                                },
                                {
                                    "custid": "81",
                                    "empid": "4"
                                },
                                {
                                    "custid": "82",
                                    "empid": "6"
                                },
                                {
                                    "custid": "84",
                                    "empid": "1"
                                },
                                {
                                    "custid": "84",
                                    "empid": "3"
                                },
                                {
                                    "custid": "84",
                                    "empid": "4"
                                },
                                {
                                    "custid": "88",
                                    "empid": "7"
                                },
                                {
                                    "custid": "89",
                                    "empid": "4"
                                }
                            ]
                        },
                        "text/html": [
                            "<table>",
                            "<tr><th>custid</th><th>empid</th></tr>",
                            "<tr><td>1</td><td>1</td></tr>",
                            "<tr><td>3</td><td>3</td></tr>",
                            "<tr><td>5</td><td>8</td></tr>",
                            "<tr><td>5</td><td>9</td></tr>",
                            "<tr><td>6</td><td>9</td></tr>",
                            "<tr><td>7</td><td>6</td></tr>",
                            "<tr><td>9</td><td>1</td></tr>",
                            "<tr><td>12</td><td>2</td></tr>",
                            "<tr><td>16</td><td>7</td></tr>",
                            "<tr><td>17</td><td>1</td></tr>",
                            "<tr><td>20</td><td>7</td></tr>",
                            "<tr><td>24</td><td>8</td></tr>",
                            "<tr><td>25</td><td>1</td></tr>",
                            "<tr><td>26</td><td>3</td></tr>",
                            "<tr><td>32</td><td>4</td></tr>",
                            "<tr><td>38</td><td>9</td></tr>",
                            "<tr><td>39</td><td>3</td></tr>",
                            "<tr><td>40</td><td>2</td></tr>",
                            "<tr><td>41</td><td>2</td></tr>",
                            "<tr><td>42</td><td>2</td></tr>",
                            "<tr><td>44</td><td>8</td></tr>",
                            "<tr><td>47</td><td>3</td></tr>",
                            "<tr><td>47</td><td>4</td></tr>",
                            "<tr><td>47</td><td>8</td></tr>",
                            "<tr><td>49</td><td>7</td></tr>",
                            "<tr><td>55</td><td>2</td></tr>",
                            "<tr><td>55</td><td>3</td></tr>",
                            "<tr><td>56</td><td>6</td></tr>",
                            "<tr><td>59</td><td>8</td></tr>",
                            "<tr><td>63</td><td>8</td></tr>",
                            "<tr><td>64</td><td>9</td></tr>",
                            "<tr><td>65</td><td>3</td></tr>",
                            "<tr><td>65</td><td>8</td></tr>",
                            "<tr><td>66</td><td>5</td></tr>",
                            "<tr><td>67</td><td>5</td></tr>",
                            "<tr><td>70</td><td>3</td></tr>",
                            "<tr><td>71</td><td>2</td></tr>",
                            "<tr><td>75</td><td>1</td></tr>",
                            "<tr><td>76</td><td>2</td></tr>",
                            "<tr><td>76</td><td>5</td></tr>",
                            "<tr><td>80</td><td>1</td></tr>",
                            "<tr><td>81</td><td>1</td></tr>",
                            "<tr><td>81</td><td>3</td></tr>",
                            "<tr><td>81</td><td>4</td></tr>",
                            "<tr><td>82</td><td>6</td></tr>",
                            "<tr><td>84</td><td>1</td></tr>",
                            "<tr><td>84</td><td>3</td></tr>",
                            "<tr><td>84</td><td>4</td></tr>",
                            "<tr><td>88</td><td>7</td></tr>",
                            "<tr><td>89</td><td>4</td></tr>",
                            "</table>"
                        ]
                    }
                },
                {
                    "output_type": "execute_result",
                    "metadata": {},
                    "execution_count": 31,
                    "data": {
                        "application/vnd.dataresource+json": {
                            "schema": {
                                "fields": [
                                    {
                                        "name": "CustomerId"
                                    },
                                    {
                                        "name": "EmployeeId"
                                    }
                                ]
                            },
                            "data": [
                                {
                                    "CustomerId": "1",
                                    "EmployeeId": "1"
                                },
                                {
                                    "CustomerId": "3",
                                    "EmployeeId": "3"
                                },
                                {
                                    "CustomerId": "5",
                                    "EmployeeId": "8"
                                },
                                {
                                    "CustomerId": "5",
                                    "EmployeeId": "9"
                                },
                                {
                                    "CustomerId": "6",
                                    "EmployeeId": "9"
                                },
                                {
                                    "CustomerId": "7",
                                    "EmployeeId": "6"
                                },
                                {
                                    "CustomerId": "9",
                                    "EmployeeId": "1"
                                },
                                {
                                    "CustomerId": "12",
                                    "EmployeeId": "2"
                                },
                                {
                                    "CustomerId": "16",
                                    "EmployeeId": "7"
                                },
                                {
                                    "CustomerId": "17",
                                    "EmployeeId": "1"
                                },
                                {
                                    "CustomerId": "20",
                                    "EmployeeId": "7"
                                },
                                {
                                    "CustomerId": "24",
                                    "EmployeeId": "8"
                                },
                                {
                                    "CustomerId": "25",
                                    "EmployeeId": "1"
                                },
                                {
                                    "CustomerId": "26",
                                    "EmployeeId": "3"
                                },
                                {
                                    "CustomerId": "32",
                                    "EmployeeId": "4"
                                },
                                {
                                    "CustomerId": "38",
                                    "EmployeeId": "9"
                                },
                                {
                                    "CustomerId": "39",
                                    "EmployeeId": "3"
                                },
                                {
                                    "CustomerId": "40",
                                    "EmployeeId": "2"
                                },
                                {
                                    "CustomerId": "41",
                                    "EmployeeId": "2"
                                },
                                {
                                    "CustomerId": "42",
                                    "EmployeeId": "2"
                                },
                                {
                                    "CustomerId": "44",
                                    "EmployeeId": "8"
                                },
                                {
                                    "CustomerId": "47",
                                    "EmployeeId": "3"
                                },
                                {
                                    "CustomerId": "47",
                                    "EmployeeId": "4"
                                },
                                {
                                    "CustomerId": "47",
                                    "EmployeeId": "8"
                                },
                                {
                                    "CustomerId": "49",
                                    "EmployeeId": "7"
                                },
                                {
                                    "CustomerId": "55",
                                    "EmployeeId": "2"
                                },
                                {
                                    "CustomerId": "55",
                                    "EmployeeId": "3"
                                },
                                {
                                    "CustomerId": "56",
                                    "EmployeeId": "6"
                                },
                                {
                                    "CustomerId": "59",
                                    "EmployeeId": "8"
                                },
                                {
                                    "CustomerId": "63",
                                    "EmployeeId": "8"
                                },
                                {
                                    "CustomerId": "64",
                                    "EmployeeId": "9"
                                },
                                {
                                    "CustomerId": "65",
                                    "EmployeeId": "3"
                                },
                                {
                                    "CustomerId": "65",
                                    "EmployeeId": "8"
                                },
                                {
                                    "CustomerId": "66",
                                    "EmployeeId": "5"
                                },
                                {
                                    "CustomerId": "67",
                                    "EmployeeId": "5"
                                },
                                {
                                    "CustomerId": "70",
                                    "EmployeeId": "3"
                                },
                                {
                                    "CustomerId": "71",
                                    "EmployeeId": "2"
                                },
                                {
                                    "CustomerId": "75",
                                    "EmployeeId": "1"
                                },
                                {
                                    "CustomerId": "76",
                                    "EmployeeId": "2"
                                },
                                {
                                    "CustomerId": "76",
                                    "EmployeeId": "5"
                                },
                                {
                                    "CustomerId": "80",
                                    "EmployeeId": "1"
                                },
                                {
                                    "CustomerId": "81",
                                    "EmployeeId": "1"
                                },
                                {
                                    "CustomerId": "81",
                                    "EmployeeId": "3"
                                },
                                {
                                    "CustomerId": "81",
                                    "EmployeeId": "4"
                                },
                                {
                                    "CustomerId": "82",
                                    "EmployeeId": "6"
                                },
                                {
                                    "CustomerId": "84",
                                    "EmployeeId": "1"
                                },
                                {
                                    "CustomerId": "84",
                                    "EmployeeId": "3"
                                },
                                {
                                    "CustomerId": "84",
                                    "EmployeeId": "4"
                                },
                                {
                                    "CustomerId": "88",
                                    "EmployeeId": "7"
                                },
                                {
                                    "CustomerId": "89",
                                    "EmployeeId": "4"
                                }
                            ]
                        },
                        "text/html": [
                            "<table>",
                            "<tr><th>CustomerId</th><th>EmployeeId</th></tr>",
                            "<tr><td>1</td><td>1</td></tr>",
                            "<tr><td>3</td><td>3</td></tr>",
                            "<tr><td>5</td><td>8</td></tr>",
                            "<tr><td>5</td><td>9</td></tr>",
                            "<tr><td>6</td><td>9</td></tr>",
                            "<tr><td>7</td><td>6</td></tr>",
                            "<tr><td>9</td><td>1</td></tr>",
                            "<tr><td>12</td><td>2</td></tr>",
                            "<tr><td>16</td><td>7</td></tr>",
                            "<tr><td>17</td><td>1</td></tr>",
                            "<tr><td>20</td><td>7</td></tr>",
                            "<tr><td>24</td><td>8</td></tr>",
                            "<tr><td>25</td><td>1</td></tr>",
                            "<tr><td>26</td><td>3</td></tr>",
                            "<tr><td>32</td><td>4</td></tr>",
                            "<tr><td>38</td><td>9</td></tr>",
                            "<tr><td>39</td><td>3</td></tr>",
                            "<tr><td>40</td><td>2</td></tr>",
                            "<tr><td>41</td><td>2</td></tr>",
                            "<tr><td>42</td><td>2</td></tr>",
                            "<tr><td>44</td><td>8</td></tr>",
                            "<tr><td>47</td><td>3</td></tr>",
                            "<tr><td>47</td><td>4</td></tr>",
                            "<tr><td>47</td><td>8</td></tr>",
                            "<tr><td>49</td><td>7</td></tr>",
                            "<tr><td>55</td><td>2</td></tr>",
                            "<tr><td>55</td><td>3</td></tr>",
                            "<tr><td>56</td><td>6</td></tr>",
                            "<tr><td>59</td><td>8</td></tr>",
                            "<tr><td>63</td><td>8</td></tr>",
                            "<tr><td>64</td><td>9</td></tr>",
                            "<tr><td>65</td><td>3</td></tr>",
                            "<tr><td>65</td><td>8</td></tr>",
                            "<tr><td>66</td><td>5</td></tr>",
                            "<tr><td>67</td><td>5</td></tr>",
                            "<tr><td>70</td><td>3</td></tr>",
                            "<tr><td>71</td><td>2</td></tr>",
                            "<tr><td>75</td><td>1</td></tr>",
                            "<tr><td>76</td><td>2</td></tr>",
                            "<tr><td>76</td><td>5</td></tr>",
                            "<tr><td>80</td><td>1</td></tr>",
                            "<tr><td>81</td><td>1</td></tr>",
                            "<tr><td>81</td><td>3</td></tr>",
                            "<tr><td>81</td><td>4</td></tr>",
                            "<tr><td>82</td><td>6</td></tr>",
                            "<tr><td>84</td><td>1</td></tr>",
                            "<tr><td>84</td><td>3</td></tr>",
                            "<tr><td>84</td><td>4</td></tr>",
                            "<tr><td>88</td><td>7</td></tr>",
                            "<tr><td>89</td><td>4</td></tr>",
                            "</table>"
                        ]
                    }
                }
            ],
            "execution_count": 31
        },
        {
            "cell_type": "markdown",
            "source": [
                "-- The EXCEPT Operator `Q1`\r\n",
                "\r\n",
                "```SQL\r\n",
                "-- Employees EXCEPT Customers\r\n",
                "SELECT country, region, city FROM HR.Employees\r\n",
                "EXCEPT\r\n",
                "SELECT country, region, city FROM Sales.Customers;\r\n",
                "```\r\n",
                "\r\n",
                "**Proposition:** The query retrieves the `EmployeeCountry`, `EmployeeRegion`, and `EmployeeCity` columns from the `HumanResources.Employee` table for employees whose location details are not present in the `Sales.Customer` table.\r\n",
                "\r\n",
                "**Table and Columns used:** \r\n",
                "- `HumanResources.Employee`: \r\n",
                "  - `EmployeeCountry`\r\n",
                "  - `EmployeeRegion`\r\n",
                "  - `EmployeeCity`\r\n",
                "- `Sales.Customer`:\r\n",
                "  - `CustomerCountry`\r\n",
                "  - `CustomerRegion`\r\n",
                "  - `CustomerCity`\r\n",
                "\r\n",
                "**Predicates:**\r\n",
                "- `EXCEPT`:\r\n",
                "  - Compares the result sets of the two SELECT queries.\r\n",
                "  - Returns the rows from the first SELECT query (`HumanResources.Employee`) that are not present in the result set of the second SELECT query (`Sales.Customer`), based on the specified columns."
            ],
            "metadata": {
                "language": "sql",
                "azdata_cell_guid": "fec6da5e-8792-4c90-b733-6f8ab7eee364"
            },
            "attachments": {}
        },
        {
            "cell_type": "code",
            "source": [
                "use [TSQLV6]\r\n",
                "go\r\n",
                "SELECT country, region, city FROM HR.Employees\r\n",
                "EXCEPT\r\n",
                "SELECT country, region, city FROM Sales.Customers;\r\n",
                "\r\n",
                "---------------\r\n",
                "\r\n",
                "use [Northwinds2022TSQLV7]\r\n",
                "go\r\n",
                "SELECT e.EmployeeCountry, e.EmployeeRegion, e.EmployeeCity FROM HumanResources.[Employee] as e\r\n",
                "EXCEPT\r\n",
                "SELECT c.CustomerCountry, c.CustomerRegion, c.CustomerCity FROM Sales.[Customer] as c;"
            ],
            "metadata": {
                "language": "sql",
                "azdata_cell_guid": "60ac65d4-b3b3-452b-9154-8b0409bd5ddf",
                "tags": []
            },
            "outputs": [],
            "execution_count": null
        },
        {
            "cell_type": "markdown",
            "source": [
                "-- The EXCEPT Operator `Q2`\r\n",
                "\r\n",
                "```sql\r\n",
                "-- Customers EXCEPT Employees\r\n",
                "SELECT country, region, city FROM Sales.Customers\r\n",
                "EXCEPT\r\n",
                "SELECT country, region, city FROM HR.Employees;\r\n",
                "```\r\n",
                "\r\n",
                "**Proposition:** The query retrieves the `CustomerCountry`, `CustomerRegion`, and `CustomerCity` columns from the `Sales.Customer` table for customers whose location details are not present in the `HumanResources.Employee` table.\r\n",
                "\r\n",
                "**Table and Columns used:** \r\n",
                "- `Sales.Customer`: \r\n",
                "  - `CustomerCountry`\r\n",
                "  - `CustomerRegion`\r\n",
                "  - `CustomerCity`\r\n",
                "- `HumanResources.Employee`:\r\n",
                "  - `EmployeeCountry`\r\n",
                "  - `EmployeeRegion`\r\n",
                "  - `EmployeeCity`\r\n",
                "\r\n",
                "**Predicates:**\r\n",
                "- `EXCEPT`:\r\n",
                "  - Compares the result sets of the two SELECT queries.\r\n",
                "  - Returns the rows from the first SELECT query (`Sales.Customer`) that are not present in the result set of the second SELECT query (`HumanResources.Employee`), based on the specified columns.\r\n",
                ""
            ],
            "metadata": {
                "language": "sql",
                "azdata_cell_guid": "c2bfc67c-77f2-4f2d-a50b-900c93287b5d"
            },
            "attachments": {}
        },
        {
            "cell_type": "code",
            "source": [
                "use [TSQLV6]\r\n",
                "go\r\n",
                "SELECT country, region, city FROM Sales.Customers\r\n",
                "EXCEPT\r\n",
                "SELECT country, region, city FROM HR.Employees;\r\n",
                "\r\n",
                "---------------\r\n",
                "\r\n",
                "use [Northwinds2022TSQLV7]\r\n",
                "go\r\n",
                "SELECT c.CustomerCountry, c.CustomerRegion, c.CustomerCity FROM Sales.[Customer] as c\r\n",
                "EXCEPT\r\n",
                "SELECT e.EmployeeCountry, e.EmployeeRegion, e.EmployeeCity FROM HumanResources.[Employee] as e;"
            ],
            "metadata": {
                "language": "sql",
                "azdata_cell_guid": "0a1a8a75-ff67-4637-a38c-853a5ba78d1b",
                "tags": []
            },
            "outputs": [],
            "execution_count": null
        },
        {
            "cell_type": "markdown",
            "source": [
                "-- The EXCEPT Operator `Q3`\r\n",
                "\r\n",
                "-- The EXCEPT ALL Multiset Operator (Optional, Advanced)\r\n",
                "\r\n",
                "**Proposition:** The query uses a common table expression (CTE) named `EXCEPT_ALL` to find unique combinations of `EmployeeCountry`, `EmployeeRegion`, and `EmployeeCity` from the `HumanResources.Employee` table that are not present in the `Sales.Customer` table. It then selects these unique combinations from the CTE.\r\n",
                "\r\n",
                "**Table and Columns used:** \r\n",
                "- `HumanResources.Employee`: \r\n",
                "  - `EmployeeCountry`\r\n",
                "  - `EmployeeRegion`\r\n",
                "  - `EmployeeCity`\r\n",
                "- `Sales.Customer`:\r\n",
                "  - `CustomerCountry`\r\n",
                "  - `CustomerRegion`\r\n",
                "  - `CustomerCity`\r\n",
                "\r\n",
                "**Predicates:**\r\n",
                "- CTE `EXCEPT_ALL`:\r\n",
                "  - Uses `ROW_NUMBER()` with `OVER(PARTITION BY ... ORDER BY (SELECT 0))` to assign a unique row number to each distinct combination of `EmployeeCountry`, `EmployeeRegion`, and `EmployeeCity` in the `HumanResources.Employee` table.\r\n",
                "  - The `EXCEPT` clause removes any rows from the `EXCEPT_ALL` CTE that have a matching combination in the `Sales.Customer` table.\r\n",
                "- The final SELECT statement retrieves the `EmployeeCountry`, `EmployeeRegion`, and `EmployeeCity` columns from the `EXCEPT_ALL` CTE, which contains the unique combinations that meet the specified conditions.\r\n",
                "\r\n",
                ""
            ],
            "metadata": {
                "language": "sql",
                "azdata_cell_guid": "cbb7e887-b06d-4347-aa1f-a6ea35dae791"
            },
            "attachments": {}
        },
        {
            "cell_type": "code",
            "source": [
                "use [TSQLV6]\r\n",
                "go\r\n",
                "\r\n",
                "WITH EXCEPT_ALL\r\n",
                "AS\r\n",
                "(\r\n",
                "  SELECT\r\n",
                "    ROW_NUMBER() \r\n",
                "      OVER(PARTITION BY country, region, city\r\n",
                "           ORDER     BY (SELECT 0)) AS rownum,\r\n",
                "    country, region, city\r\n",
                "  FROM HR.Employees\r\n",
                "\r\n",
                "  EXCEPT\r\n",
                "\r\n",
                "  SELECT\r\n",
                "    ROW_NUMBER() \r\n",
                "      OVER(PARTITION BY country, region, city\r\n",
                "           ORDER     BY (SELECT 0)),\r\n",
                "    country, region, city\r\n",
                "  FROM Sales.Customers\r\n",
                ")\r\n",
                "SELECT country, region, city\r\n",
                "FROM EXCEPT_ALL;\r\n",
                "\r\n",
                "---------------\r\n",
                "\r\n",
                "use [Northwinds2022TSQLV7]\r\n",
                "go\r\n",
                "\r\n",
                "WITH EXCEPT_ALL\r\n",
                "AS\r\n",
                "(\r\n",
                "  SELECT\r\n",
                "    ROW_NUMBER() \r\n",
                "      OVER(PARTITION BY e.EmployeeCountry, e.EmployeeRegion, e.EmployeeCity\r\n",
                "           ORDER     BY (SELECT 0)) AS rownum,\r\n",
                "    e.EmployeeCountry, e.EmployeeRegion, e.EmployeeCity\r\n",
                "  FROM HumanResources.[Employee] as e\r\n",
                "\r\n",
                "  EXCEPT\r\n",
                "\r\n",
                "  SELECT\r\n",
                "    ROW_NUMBER() \r\n",
                "      OVER(PARTITION BY c.CustomerCountry, c.CustomerRegion, c.CustomerCity\r\n",
                "           ORDER     BY (SELECT 0)),\r\n",
                "    c.CustomerCountry, c.CustomerRegion, c.CustomerCity\r\n",
                "  FROM Sales.[Customer] as c\r\n",
                ")\r\n",
                "SELECT EmployeeCountry, EmployeeRegion, EmployeeCity\r\n",
                "FROM EXCEPT_ALL;"
            ],
            "metadata": {
                "language": "sql",
                "azdata_cell_guid": "12f9f655-f266-40cf-a06c-913d4f20fcf8"
            },
            "outputs": [
                {
                    "output_type": "display_data",
                    "data": {
                        "text/html": "Commands completed successfully."
                    },
                    "metadata": {}
                },
                {
                    "output_type": "display_data",
                    "data": {
                        "text/html": "(3 rows affected)"
                    },
                    "metadata": {}
                },
                {
                    "output_type": "display_data",
                    "data": {
                        "text/html": "(3 rows affected)"
                    },
                    "metadata": {}
                },
                {
                    "output_type": "display_data",
                    "data": {
                        "text/html": "Total execution time: 00:00:00.005"
                    },
                    "metadata": {}
                },
                {
                    "output_type": "execute_result",
                    "metadata": {},
                    "execution_count": 29,
                    "data": {
                        "application/vnd.dataresource+json": {
                            "schema": {
                                "fields": [
                                    {
                                        "name": "country"
                                    },
                                    {
                                        "name": "region"
                                    },
                                    {
                                        "name": "city"
                                    }
                                ]
                            },
                            "data": [
                                {
                                    "country": "USA",
                                    "region": "WA",
                                    "city": "Redmond"
                                },
                                {
                                    "country": "USA",
                                    "region": "WA",
                                    "city": "Tacoma"
                                },
                                {
                                    "country": "USA",
                                    "region": "WA",
                                    "city": "Seattle"
                                }
                            ]
                        },
                        "text/html": [
                            "<table>",
                            "<tr><th>country</th><th>region</th><th>city</th></tr>",
                            "<tr><td>USA</td><td>WA</td><td>Redmond</td></tr>",
                            "<tr><td>USA</td><td>WA</td><td>Tacoma</td></tr>",
                            "<tr><td>USA</td><td>WA</td><td>Seattle</td></tr>",
                            "</table>"
                        ]
                    }
                },
                {
                    "output_type": "execute_result",
                    "metadata": {},
                    "execution_count": 29,
                    "data": {
                        "application/vnd.dataresource+json": {
                            "schema": {
                                "fields": [
                                    {
                                        "name": "EmployeeCountry"
                                    },
                                    {
                                        "name": "EmployeeRegion"
                                    },
                                    {
                                        "name": "EmployeeCity"
                                    }
                                ]
                            },
                            "data": [
                                {
                                    "EmployeeCountry": "USA",
                                    "EmployeeRegion": "WA",
                                    "EmployeeCity": "Redmond"
                                },
                                {
                                    "EmployeeCountry": "USA",
                                    "EmployeeRegion": "WA",
                                    "EmployeeCity": "Tacoma"
                                },
                                {
                                    "EmployeeCountry": "USA",
                                    "EmployeeRegion": "WA",
                                    "EmployeeCity": "Seattle"
                                }
                            ]
                        },
                        "text/html": [
                            "<table>",
                            "<tr><th>EmployeeCountry</th><th>EmployeeRegion</th><th>EmployeeCity</th></tr>",
                            "<tr><td>USA</td><td>WA</td><td>Redmond</td></tr>",
                            "<tr><td>USA</td><td>WA</td><td>Tacoma</td></tr>",
                            "<tr><td>USA</td><td>WA</td><td>Seattle</td></tr>",
                            "</table>"
                        ]
                    }
                }
            ],
            "execution_count": 29
        }
    ]
}