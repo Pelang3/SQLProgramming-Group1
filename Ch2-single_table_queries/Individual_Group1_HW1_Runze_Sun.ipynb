{
    "metadata": {
        "kernelspec": {
            "name": "SQL",
            "display_name": "SQL",
            "language": "sql"
        },
        "language_info": {
            "name": "sql",
            "version": ""
        }
    },
    "nbformat_minor": 2,
    "nbformat": 4,
    "cells": [
        {
            "cell_type": "markdown",
            "source": [
                "**Runze Sun**\n",
                "**Group 1**\n",
                "**_Q3_ and _Q4_**"
            ],
            "metadata": {
                "azdata_cell_guid": "05c19990-b7be-4300-afca-f9195a725c17"
            },
            "attachments": {}
        },
        {
            "cell_type": "markdown",
            "source": [
                "## 3\n",
                "\n",
                "Return employees with last name containing the letter 'e' twice or more\n",
                "\n",
                "**Tables involved:** HR.Employees table\n",
                "\n",
                "**Desired output:**\n",
                "\n",
                "```\n",
                "empid       firstname  lastname\n",
                "----------- ---------- --------------------\n",
                "4           Yael       Peled\n",
                "5           Sven       Mortensen\n",
                "\n",
                "```\n",
                "\n",
                "_(2 row(s) affected)_\n",
                "\n",
                "- Proposition:\n",
                "\n",
                "> The proposition in this query is expressed in the WHERE clause.  \n",
                "> `LEN(e.lastname) - LEN(REPLACE(e.lastname, 'e', '')) >= 2`:  \n",
                "> This proposition checks whether the length of the last name minus the length of the last name after replacing all occurrences of the letter 'e' is greater than or equal to 2.  \n",
                "> This condition implies that the last name must contain the letter 'e' at least twice.\n",
                "\n",
                "- Table:\n",
                "\n",
                "> The table involved is  ``[HumanResources`].[Employees]``\n",
                "\n",
                "- Columns:\n",
                "\n",
                "> Columns selected in the query are  `e.empid`,  `e.firstname`, and  `e.lastname`.  \n",
                "> These columns represent the Employee ID, first name, and last name, respectively, from the  `[HR].[Employees]`  table.\n",
                "\n",
                "- Predicate:\n",
                "\n",
                "> The predicate is the condition specified in the WHERE clause.  \n",
                "> `LEN(e.lastname) - LEN(REPLACE(e.lastname, 'e', '')) >= 2`: This is the predicate that filters the rows. It checks if the last name contains the letter 'e' at least twice.  \n",
                "> The expression checks whether the last name has the letter 'e' at least twice by calculating the difference in length before and after removing all occurrences of 'e' and then checking if this count is greater than or equal to 2. If the condition is satisfied, the row is included in the result set.\n",
                "\n",
                "- Putting it all together, this query retrieves Employee IDs, first names, and last names from the  `[`<span style=\"color:rgb(33, 33, 33);font-family:Consolas, &quot;Courier New&quot;, monospace;font-size:12px;white-space:pre;\">HumanResources</span>`].[Employees]`  table where the last name contains the letter 'e' at least twice. The proposition defines the condition, the table is  `[`<span style=\"color:rgb(33, 33, 33);font-family:Consolas, &quot;Courier New&quot;, monospace;font-size:12px;white-space:pre;\">HumanResources</span>`].[Employees]`  (aliased as 'e'), and the selected columns are  `empid`,  `firstname`, and  `lastname`."
            ],
            "metadata": {
                "azdata_cell_guid": "8da3f79a-fffe-4379-8d89-54e6eb594487"
            },
            "attachments": {}
        },
        {
            "cell_type": "code",
            "source": [
                "USE [TSQLV4] \r\n",
                "GO\r\n",
                "\r\n",
                "SELECT e.empid, e.firstname, e.lastname\r\n",
                "From [HR].[Employees] as e\r\n",
                "WHERE LEN(e.lastname) - LEN(REPLACE(e.lastname, 'e', '')) >= 2;\r\n",
                "\r\n",
                "USE [Northwinds2022TSQLV7] \r\n",
                "GO\r\n",
                "SELECT e.EmployeeId,e.EmployeeFirstName,e.EmployeeLastName\r\n",
                "From [HumanResources].[Employee] as e\r\n",
                "WHERE LEN(e.EmployeeLastName) - LEN(REPLACE(e.EmployeeLastName, 'e', '')) >= 2;\r\n",
                ""
            ],
            "metadata": {
                "azdata_cell_guid": "10e92c19-9cf1-4a30-ba67-94628f468608",
                "language": "sql",
                "tags": []
            },
            "outputs": [],
            "execution_count": null
        },
        {
            "cell_type": "markdown",
            "source": [
                "## 4\n",
                "\n",
                "## \n",
                "\n",
                "Return orders with total value(qty\\*unitprice) greater than 10000, sorted by total value\n",
                "\n",
                "**Tables involved:** Sales.OrderDetails table\n",
                "\n",
                "**Desired output:**\n",
                "\n",
                "```\n",
                "orderid     totalvalue\n",
                "----------- ---------------------\n",
                "10865       17250.00\n",
                "11030       16321.90\n",
                "10981       15810.00\n",
                "10372       12281.20\n",
                "10424       11493.20\n",
                "10817       11490.70\n",
                "10889       11380.00\n",
                "10417       11283.20\n",
                "10897       10835.24\n",
                "10353       10741.60\n",
                "10515       10588.50\n",
                "10479       10495.60\n",
                "10540       10191.70\n",
                "10691       10164.80\n",
                "```\n",
                "\n",
                "- SELECT Clause:\n",
                "    \n",
                "    - `od.orderid`: This selects the `orderid` column from the `[Sales].[OrderDetails]` table.\n",
                "    - `SUM(od.qty * od.unitprice) AS totalvalue`: This calculates the total value for each order by summing the product of quantity (`od.qty`) and unit price (`od.unitprice`). The result is aliased as `totalvalue`.\n",
                "- FROM Clause:\n",
                "    \n",
                "    - `[Sales].[OrderDetails] AS od`: Specifies the table `[Sales].[OrderDetails]` and aliases it as 'od' for brevity. This is the table from which data is being retrieved.\n",
                "- GROUP BY Clause:\n",
                "    \n",
                "    - `GROUP BY od.orderid`: Groups the result set by the `orderid` column. This means that the subsequent aggregate function (`SUM`) operates on each unique `orderid`.\n",
                "- HAVING Clause:\n",
                "    \n",
                "    - `HAVING SUM(od.qty * od.unitprice) > 10000`: Filters the grouped results to include only those where the sum of the quantity times unit price is greater than 10000. This is applied after the grouping has been done.\n",
                "    - The `HAVING` clause is used in SQL queries to filter the results of a `GROUP BY` clause based on aggregate values.\n",
                "- ORDER BY Clause:\n",
                "    \n",
                "    - `ORDER BY totalvalue DESC`: Orders the result set by the total value (`totalvalue`) in descending order.\n",
                "\n",
                "In summary, this query retrieves order IDs and their corresponding total values from the `[Sales].[OrderDetails]` table. It groups the results by order ID, filters out groups where the total value is not greater than 10000, and finally, orders the remaining results by total value in descending order."
            ],
            "metadata": {
                "azdata_cell_guid": "098ad0a1-ee05-460f-860c-07cec5a81a8e"
            },
            "attachments": {}
        },
        {
            "cell_type": "code",
            "source": [
                "USE [TSQLV4] \r\n",
                "GO\r\n",
                "\r\n",
                "SELECT od.orderid, SUM (od.qty * od.unitprice) AS totalvalue\r\n",
                "FROM [Sales].[OrderDetails] as od\r\n",
                "GROUP BY od.orderid\r\n",
                "HAVING SUM(od.qty * od.unitprice) > 10000\r\n",
                "ORDER BY totalvalue DESC;\r\n",
                "\r\n",
                "\r\n",
                "USE [Northwinds2022TSQLV7] \r\n",
                "GO\r\n",
                "\r\n",
                "SELECT od.OrderId, SUM (od.Quantity * od.UnitPrice) AS totalvalue\r\n",
                "FROM [Sales].[OrderDetail] as od\r\n",
                "GROUP BY od.orderid\r\n",
                "HAVING SUM (od.Quantity * od.UnitPrice) > 10000\r\n",
                "ORDER BY totalvalue DESC;\r\n",
                ""
            ],
            "metadata": {
                "azdata_cell_guid": "01499d92-d5ed-4bf2-ac4c-62341eca37d4",
                "language": "sql",
                "tags": []
            },
            "outputs": [],
            "execution_count": null
        },
        {
            "cell_type": "markdown",
            "source": [
                "# **Part 2 Working with Date and Time Data**"
            ],
            "metadata": {
                "language": "sql",
                "azdata_cell_guid": "36b3f390-8935-4b7a-b4cc-e6f69171b7a0"
            },
            "attachments": {}
        },
        {
            "cell_type": "markdown",
            "source": [
                "## 14.1\n",
                "\n",
                "Question:\n",
                "\n",
                "this quriery asks in `Sales.Order` table, to show Order ID, CustomerId,EmployeeId,OrderDate, and the only show the orders date is `20160212`\n",
                "\n",
                "Use `CAST` can help with make string into `date` type \n",
                "\n",
                "Or just give a vaild string, sql kernel will auto make it into `data`\n",
                "\n",
                "Table involed: `Sales.Order`"
            ],
            "metadata": {
                "language": "sql",
                "azdata_cell_guid": "83589790-46c0-430b-b3c9-894fec54a2e9"
            },
            "attachments": {}
        },
        {
            "cell_type": "code",
            "source": [
                "-- 14.1\r\n",
                "-- Literals\r\n",
                "use [TSQLV4]\r\n",
                "\r\n",
                "SELECT orderid, custid, empid, orderdate\r\n",
                "FROM Sales.Orders \r\n",
                "WHERE orderdate = '20160212';\r\n",
                "\r\n",
                "SELECT orderid, custid, empid, orderdate\r\n",
                "FROM Sales.Orders\r\n",
                "WHERE orderdate = CAST('20160212' AS DATE);\r\n",
                "\r\n",
                "USE [Northwinds2022TSQLV7]\r\n",
                "SELECT o.OrderId,o.CustomerId,o.EmployeeId,o.OrderDate\r\n",
                "FROM [Sales].[Order] as o\r\n",
                "WHERE o.OrderDate = '20160212';\r\n",
                "\r\n",
                "SELECT o.OrderId,o.CustomerId,o.EmployeeId,o.OrderDate\r\n",
                "FROM [Sales].[Order] as o\r\n",
                "WHERE orderdate = CAST('20160212' AS DATE);"
            ],
            "metadata": {
                "language": "sql",
                "azdata_cell_guid": "a1d937ba-7412-49cc-95c0-7377002c0972",
                "tags": []
            },
            "outputs": [],
            "execution_count": null
        },
        {
            "cell_type": "markdown",
            "source": [
                "## 14.2\n",
                "\n",
                "Question:\n",
                "\n",
                "Language Dependent\n",
                "\n",
                "When given a string like \"02/12/2016\" for as a target order data\n",
                "\n",
                "Use `CAST` to make string into `DATE` type and with set the target language to `British` , or `us_English`\n",
                "\n",
                "`Note`:\n",
                "\n",
                "- British use format: Year-Month-Day\n",
                "- US\\_English use format: Year-Day-Mounth\n",
                "\n",
                "Tables involved: Sales.Order"
            ],
            "metadata": {
                "language": "sql",
                "azdata_cell_guid": "50313676-b73b-4915-9952-9b1f19173be2"
            },
            "attachments": {}
        },
        {
            "cell_type": "code",
            "source": [
                "-- Language dependent\r\n",
                "SET LANGUAGE British;\r\n",
                "SELECT CAST('02/12/2016' AS DATE);\r\n",
                "\r\n",
                "SET LANGUAGE us_english;\r\n",
                "SELECT CAST('02/12/2016' AS DATE);"
            ],
            "metadata": {
                "language": "sql",
                "azdata_cell_guid": "eb06b6f8-2ddd-4603-94c5-dcc9bdd7b55a",
                "tags": []
            },
            "outputs": [],
            "execution_count": null
        },
        {
            "cell_type": "markdown",
            "source": [
                "Question:\n",
                "\n",
                "\n",
                "Give a Date like string such as 20160212, 02/12/2016 \n",
                "\n",
                "Convert it into date tpye by useing `CASE`, `Convert`, `Parse`\n",
                "\n",
                "Note:\n",
                "\n",
                "- `101` and `en-US` represents the U.S. date format mm/dd/yyyy\n",
                "- `103` and `en-GB` represents the British/French date format dd/mm/yyyy"
            ],
            "metadata": {
                "language": "sql",
                "azdata_cell_guid": "fff46a5f-f2b0-4f8e-bea6-4296b10d3ca0"
            },
            "attachments": {}
        },
        {
            "cell_type": "code",
            "source": [
                "-- Language neutral\r\n",
                "SET LANGUAGE British;\r\n",
                "SELECT CAST('20160212' AS DATE);\r\n",
                "\r\n",
                "SET LANGUAGE us_english;\r\n",
                "SELECT CAST('20160212' AS DATE);\r\n",
                "\r\n",
                "SELECT CONVERT(DATE, '02/12/2016', 101);\r\n",
                "\r\n",
                "SELECT CONVERT(DATE, '02/12/2016', 103);\r\n",
                "\r\n",
                "SELECT PARSE('02/12/2016' AS DATE USING 'en-US');\r\n",
                "\r\n",
                "SELECT PARSE('02/12/2016' AS DATE USING 'en-GB');"
            ],
            "metadata": {
                "language": "sql",
                "azdata_cell_guid": "2ffdad67-3ea2-4cb0-8d18-358c855ae736",
                "tags": []
            },
            "outputs": [],
            "execution_count": null
        },
        {
            "cell_type": "markdown",
            "source": [
                "Question:\n",
                "\n",
                "Make a new table Sales.Orders2 with orderdate as DATETIME by copying data from Sales.Orders \n",
                "\n",
                "Copy data: OrderID CustomerId, EmployeeId,OrderDate(but in `DATETIME` )\n",
                "\n",
                "Tables involved: Sales.Orders2, Sales.Orders;\n",
                "\n",
                "Note:\n",
                "\n",
                "- DATE: yyyy-MM-dd\n",
                "- DATETIME: 1900-01-01 00:00:00"
            ],
            "metadata": {
                "language": "sql",
                "azdata_cell_guid": "d04f6a05-ac39-46ee-9432-8199636fc428"
            },
            "attachments": {}
        },
        {
            "cell_type": "code",
            "source": [
                "-- Create Sales.Orders2 with orderdate as DATETIME by copying data from Sales.Orders\r\n",
                "USE [TSQLV4]\r\n",
                "DROP TABLE IF EXISTS Sales.Orders2;\r\n",
                "SELECT orderid, custid, empid, CAST(orderdate AS DATETIME) AS orderdate\r\n",
                "INTO Sales.Orders2\r\n",
                "FROM Sales.Orders;\r\n",
                "\r\n",
                "SELECT TOP 20 * FROM [Sales].[Orders2]\r\n",
                "GO\r\n",
                "\r\n",
                "USE [Northwinds2022TSQLV7]\r\n",
                "DROP TABLE IF EXISTS [Sales].[Order2];\r\n",
                "SELECT o.OrderId, o.CustomerId, o.EmployeeId, CAST(o.OrderDate AS DATETIME) AS OrderDate\r\n",
                "INTO [Sales].[Order2]\r\n",
                "FROM [Sales].[Order] as o;\r\n",
                "\r\n",
                "SELECT TOP 20 * FROM [Sales].[Order2]\r\n",
                "GO"
            ],
            "metadata": {
                "language": "sql",
                "azdata_cell_guid": "6c36a7ca-b10e-4a79-8f6c-04934496c046",
                "tags": []
            },
            "outputs": [],
            "execution_count": null
        },
        {
            "cell_type": "markdown",
            "source": [
                "Question:\r\n",
                "\r\n",
                "In the `Sales.Order2` table we just created,\r\n",
                "find orders that the Order Date is `20160212`\r\n",
                "\r\n",
                "Tables involved: Sales.Order2\r\n",
                ""
            ],
            "metadata": {
                "language": "sql",
                "azdata_cell_guid": "1e740c35-f99c-4c3b-a28b-337814dce50b"
            },
            "attachments": {}
        },
        {
            "cell_type": "code",
            "source": [
                "USE [TSQLV4]\r\n",
                "SELECT orderid, custid, empid, orderdate\r\n",
                "FROM Sales.Orders2\r\n",
                "WHERE orderdate = '20160212';\r\n",
                "\r\n",
                "USE [Northwinds2022TSQLV7]\r\n",
                "SELECT o.OrderId, o.CustomerId, o.EmployeeId, o.OrderDate\r\n",
                "FROM [Sales].[Order2] as o\r\n",
                "WHERE o.OrderDate = '20160212';"
            ],
            "metadata": {
                "language": "sql",
                "azdata_cell_guid": "5c1f7922-8149-4eeb-aa78-b9687e23a64b",
                "tags": []
            },
            "outputs": [],
            "execution_count": null
        },
        {
            "cell_type": "markdown",
            "source": [
                "Question:\n",
                "\n",
                "add a check constraint to `Sales.order2`\n",
                "\n",
                "where is to make sure the order date is year-mouth-day 00:00:00:000\n",
                "\n",
                "Note:\n",
                "\n",
                "- `114` format is 'hh:mi:ss:ms' is equal to '00:00:00:000'."
            ],
            "metadata": {
                "language": "sql",
                "azdata_cell_guid": "eaa15951-ebd4-43f2-b49f-91c6ce10014c"
            },
            "attachments": {}
        },
        {
            "cell_type": "code",
            "source": [
                "USE [TSQLV4]\r\n",
                "ALTER TABLE Sales.Orders2\r\n",
                "  ADD CONSTRAINT CHK_Orders2_orderdate\r\n",
                "  CHECK( CONVERT(CHAR(12), orderdate, 114) = '00:00:00:000');\r\n",
                "\r\n",
                "USE [Northwinds2022TSQLV7]\r\n",
                "ALTER TABLE [Sales].[Order2] \r\n",
                "    ADD CONSTRAINT CHK_Order2_OrderDate\r\n",
                "    CHECK( CONVERT(CHAR(12), OrderDate, 114) = '00:00:00:000');"
            ],
            "metadata": {
                "language": "sql",
                "azdata_cell_guid": "28b3f545-5af1-4ae2-b0e1-568de17bd359",
                "tags": []
            },
            "outputs": [],
            "execution_count": null
        },
        {
            "cell_type": "markdown",
            "source": [
                "Question:\n",
                "\n",
                "Sales.Order2 table we just created, find orders that the Order Date is between `20160212` and `20160213`"
            ],
            "metadata": {
                "language": "sql",
                "azdata_cell_guid": "e82f5bd1-623e-405c-9051-156436cb3aa7"
            },
            "attachments": {}
        },
        {
            "cell_type": "code",
            "source": [
                "USE [TSQLV4]\r\n",
                "SELECT orderid, custid, empid, orderdate\r\n",
                "FROM [Sales].[Orders2]\r\n",
                "WHERE orderdate >= '20160212' AND orderdate < '20160213';\r\n",
                "\r\n",
                "USE [Northwinds2022TSQLV7]\r\n",
                "SELECT o.OrderId, o.CustomerId, o.EmployeeId, o.OrderDate\r\n",
                "FROM [Sales].[Order2] as o\r\n",
                "WHERE o.OrderDate >= '20160212' AND o.OrderDate < '20160213';"
            ],
            "metadata": {
                "language": "sql",
                "azdata_cell_guid": "26eeb834-223a-444e-ada5-a2ab4722caad",
                "tags": []
            },
            "outputs": [],
            "execution_count": null
        },
        {
            "cell_type": "markdown",
            "source": [
                "Question:\r\n",
                "\r\n",
                "what is '12:30:15.123' in datetime format?"
            ],
            "metadata": {
                "language": "sql",
                "azdata_cell_guid": "39168c4a-aca4-462c-9a95-1e2127dbe42e"
            },
            "attachments": {}
        },
        {
            "cell_type": "code",
            "source": [
                "SELECT CAST('12:30:15.123' AS DATETIME);\r\n",
                "\r\n",
                "-- 1900-01-01 12:30:15.123"
            ],
            "metadata": {
                "language": "sql",
                "azdata_cell_guid": "76c93855-700e-4997-8ef4-4389b2e2bfd0",
                "tags": []
            },
            "outputs": [],
            "execution_count": null
        },
        {
            "cell_type": "code",
            "source": [
                "-- Cleanup\r\n",
                "USE [TSQLV4];\r\n",
                "DROP TABLE IF EXISTS Sales.Orders2;\r\n",
                "\r\n",
                "USE [Northwinds2022TSQLV7];\r\n",
                "DROP TABLE IF EXISTS Sales.Order2;"
            ],
            "metadata": {
                "language": "sql",
                "azdata_cell_guid": "811fa229-e75c-4479-a044-ed4dbe6e8bcd",
                "tags": []
            },
            "outputs": [],
            "execution_count": null
        },
        {
            "cell_type": "markdown",
            "source": [
                "Question:\r\n",
                "\r\n",
                "Show all orders that in 2015\r\n",
                "\r\n",
                "\r\n",
                "Table involed: Sales.Order"
            ],
            "metadata": {
                "language": "sql",
                "azdata_cell_guid": "0f59585e-77f8-4243-8576-de7608457a77"
            },
            "attachments": {}
        },
        {
            "cell_type": "code",
            "source": [
                "USE [TSQLV4];\r\n",
                "SELECT orderid, custid, empid, orderdate\r\n",
                "FROM Sales.Orders\r\n",
                "WHERE YEAR(orderdate) = 2015;\r\n",
                "\r\n",
                "USE [Northwinds2022TSQLV7];\r\n",
                "SELECT o.OrderId, o.CustomerId, o.EmployeeId, o.OrderDate\r\n",
                "FROM [Sales].[Order] as o\r\n",
                "WHERE YEAR(o.OrderDate) = 2015;"
            ],
            "metadata": {
                "language": "sql",
                "azdata_cell_guid": "6e5a1edc-5812-4316-ad92-5b103d8084ad",
                "tags": []
            },
            "outputs": [],
            "execution_count": null
        },
        {
            "cell_type": "markdown",
            "source": [
                "Question:\r\n",
                "\r\n",
                "Show all orders that  within the range from `January 1, 2015`, to `December 31, 2016`. Excluding December 31, 2016 \r\n",
                "\r\n",
                "Table involed: `Sales.Order`"
            ],
            "metadata": {
                "language": "sql",
                "azdata_cell_guid": "064d3f44-1c46-4082-b3e6-970869df3be4"
            },
            "attachments": {}
        },
        {
            "cell_type": "code",
            "source": [
                "USE [TSQLV4]\r\n",
                "SELECT orderid, custid, empid, orderdate\r\n",
                "FROM Sales.Orders\r\n",
                "WHERE orderdate >= '20150101' AND orderdate < '20160101';\r\n",
                "\r\n",
                "USE [Northwinds2022TSQLV7]\r\n",
                "SELECT o.OrderId, o.CustomerId, o.EmployeeId, o.OrderDate\r\n",
                "FROM [Sales].[Order] as o\r\n",
                "WHERE o.OrderDate >= '20150101' AND o.OrderDate < '20160101';"
            ],
            "metadata": {
                "language": "sql",
                "azdata_cell_guid": "f573c04b-ec61-4c2d-9b5a-a04db2ccb4c2",
                "tags": []
            },
            "outputs": [],
            "execution_count": null
        },
        {
            "cell_type": "markdown",
            "source": [
                "Question:\r\n",
                "\r\n",
                "Show all orders that in February 2016  \r\n",
                "\r\n",
                "Table involed: `Sales.Order`"
            ],
            "metadata": {
                "language": "sql",
                "azdata_cell_guid": "41d80da8-c783-4036-a301-da0b9d01389f"
            },
            "attachments": {}
        },
        {
            "cell_type": "code",
            "source": [
                "USE [TSQLV4]\r\n",
                "SELECT orderid, custid, empid, orderdate\r\n",
                "FROM Sales.Orders\r\n",
                "WHERE YEAR(orderdate) = 2016 AND MONTH(orderdate) = 2;\r\n",
                "\r\n",
                "SELECT orderid, custid, empid, orderdate\r\n",
                "FROM Sales.Orders\r\n",
                "WHERE orderdate >= '20160201' AND orderdate < '20160301';\r\n",
                "\r\n",
                "USE [Northwinds2022TSQLV7]\r\n",
                "SELECT o.OrderId, o.CustomerId, o.EmployeeId, o.OrderDate\r\n",
                "FROM [Sales].[Order] as o\r\n",
                "WHERE YEAR(o.OrderDate) = 2016 AND MONTH(o.OrderDate) = 2;\r\n",
                "\r\n",
                "SELECT o.OrderId, o.CustomerId, o.EmployeeId, o.OrderDate\r\n",
                "FROM [Sales].[Order] as o\r\n",
                "WHERE o.OrderDate >= '20160201' AND o.OrderDate < '20160301';"
            ],
            "metadata": {
                "language": "sql",
                "azdata_cell_guid": "0d360129-1b3b-48af-93f0-991ee50fc77d",
                "tags": []
            },
            "outputs": [],
            "execution_count": null
        },
        {
            "cell_type": "markdown",
            "source": [
                "Question:\n",
                "\n",
                "Show all ways to get current time\n",
                "\n",
                "Table involed: Null"
            ],
            "metadata": {
                "language": "sql",
                "azdata_cell_guid": "da42b324-7ef8-4d51-a650-91752fba1ca7"
            },
            "attachments": {}
        },
        {
            "cell_type": "code",
            "source": [
                "SELECT\r\n",
                "  GETDATE()           AS [GETDATE],\r\n",
                "  CURRENT_TIMESTAMP   AS [CURRENT_TIMESTAMP],\r\n",
                "  GETUTCDATE()        AS [GETUTCDATE],\r\n",
                "  SYSDATETIME()       AS [SYSDATETIME],\r\n",
                "  SYSUTCDATETIME()    AS [SYSUTCDATETIME],\r\n",
                "  SYSDATETIMEOFFSET() AS [SYSDATETIMEOFFSET];"
            ],
            "metadata": {
                "language": "sql",
                "azdata_cell_guid": "3dc6afd3-b725-43b7-ba64-de8cf33ac36f",
                "tags": []
            },
            "outputs": [],
            "execution_count": null
        },
        {
            "cell_type": "markdown",
            "source": [
                "Question:\r\n",
                "\r\n",
                "take `SYSDATATIME`, show the `data` part only \r\n",
                "\r\n",
                "and\r\n",
                "take `SYSDATATIME`, show the `time` part only\r\n",
                "\r\n",
                "Table involed: Null"
            ],
            "metadata": {
                "language": "sql",
                "azdata_cell_guid": "9fb968f2-96e4-4283-b98d-1eecd31fb97d"
            },
            "attachments": {}
        },
        {
            "cell_type": "code",
            "source": [
                "SELECT\r\n",
                "  CAST(SYSDATETIME() AS DATE) AS [current_date],\r\n",
                "  CAST(SYSDATETIME() AS TIME) AS [current_time];"
            ],
            "metadata": {
                "language": "sql",
                "azdata_cell_guid": "f0d6ed87-c928-4418-9cf6-a28e64adb56b",
                "tags": []
            },
            "outputs": [],
            "execution_count": null
        },
        {
            "cell_type": "markdown",
            "source": [
                "Question:\r\n",
                "\r\n",
                "take a `String`, case it into `date`\r\n",
                "\r\n",
                "take `SYSDATATIME`, cast it into  `data`\r\n",
                "\r\n",
                "take `SYSDATATIME`, cast it into  `time`\r\n",
                "\r\n",
                "Table involed: Null\r\n",
                "\r\n",
                "Note: \r\n",
                "- Style 112: yyyymmdd\r\n",
                "- Style 114: hh:mi:ss:mmm in 24-hours"
            ],
            "metadata": {
                "language": "sql",
                "azdata_cell_guid": "4d677a1b-5080-4796-af70-ef96c786cb84"
            },
            "attachments": {}
        },
        {
            "cell_type": "code",
            "source": [
                "-- The CAST, CONVERT and PARSE Functions and their TRY_ Counterparts\r\n",
                "SELECT CAST('20160212' AS DATE);\r\n",
                "SELECT CAST(SYSDATETIME() AS DATE);\r\n",
                "SELECT CAST(SYSDATETIME() AS TIME);\r\n",
                "\r\n",
                "SELECT CONVERT(CHAR(8), CURRENT_TIMESTAMP, 112);\r\n",
                "SELECT CONVERT(DATETIME, CONVERT(CHAR(8), CURRENT_TIMESTAMP, 112), 112);\r\n",
                "\r\n",
                "SELECT CONVERT(CHAR(12), CURRENT_TIMESTAMP, 114);\r\n",
                "SELECT CONVERT(DATETIME, CONVERT(CHAR(12), CURRENT_TIMESTAMP, 114), 114);\r\n",
                "\r\n",
                "SELECT PARSE('02/12/2016' AS DATETIME USING 'en-US');\r\n",
                "SELECT PARSE('02/12/2016' AS DATETIME USING 'en-GB');"
            ],
            "metadata": {
                "language": "sql",
                "azdata_cell_guid": "26864a5b-87b8-4fdb-8fff-a6835cf6201b",
                "tags": []
            },
            "outputs": [],
            "execution_count": null
        },
        {
            "cell_type": "markdown",
            "source": [
                "Question:\n",
                "\n",
                "How to change the offset? aka change time zone\n",
                "\n",
                "Table involed: Null"
            ],
            "metadata": {
                "language": "sql",
                "azdata_cell_guid": "2b80e473-586b-4fec-8ac3-308af066cc47"
            },
            "attachments": {}
        },
        {
            "cell_type": "code",
            "source": [
                "-- SWITCHOFFSET\r\n",
                "SELECT SWITCHOFFSET(SYSDATETIMEOFFSET(), '-05:00');\r\n",
                "SELECT SWITCHOFFSET(SYSDATETIMEOFFSET(), '+00:00');"
            ],
            "metadata": {
                "language": "sql",
                "azdata_cell_guid": "7c42e71d-16e9-46d6-9399-19560419a4b3",
                "tags": []
            },
            "outputs": [],
            "execution_count": null
        },
        {
            "cell_type": "markdown",
            "source": [
                "Question:\r\n",
                "\r\n",
                "Show all time zones and its offset\r\n",
                "\r\n",
                "Table involed: `sys.time_zone_info`"
            ],
            "metadata": {
                "language": "sql",
                "azdata_cell_guid": "3ecbeaaf-d589-4b0a-a6c1-7b253bad621f"
            },
            "attachments": {}
        },
        {
            "cell_type": "code",
            "source": [
                "SELECT name, current_utc_offset, is_currently_dst\r\n",
                "FROM sys.time_zone_info;"
            ],
            "metadata": {
                "language": "sql",
                "azdata_cell_guid": "5403b21c-d87f-42d3-b66d-8ff79c9ef429",
                "tags": []
            },
            "outputs": [],
            "execution_count": null
        },
        {
            "cell_type": "markdown",
            "source": [
                "Question:\n",
                "\n",
                "How to converting `non-datetimeoffset`(DATETIME2) values\n",
                "\n",
                "How to converting `datetimeoffset` values\n",
                "\n",
                "- behavior similar to TODATETIMEOFFSET"
            ],
            "metadata": {
                "language": "sql",
                "azdata_cell_guid": "adca30c2-9cb6-4d95-a92e-ece369a9007d"
            },
            "attachments": {}
        },
        {
            "cell_type": "code",
            "source": [
                "SELECT\r\n",
                "  CAST('20160212 12:00:00.0000000' AS DATETIME2)\r\n",
                "    AT TIME ZONE 'Pacific Standard Time' AS val1,\r\n",
                "  CAST('20160812 12:00:00.0000000' AS DATETIME2)\r\n",
                "    AT TIME ZONE 'Pacific Standard Time' AS val2;\r\n",
                "\r\n",
                "SELECT\r\n",
                "  CAST('20160212 12:00:00.0000000 -05:00' AS DATETIMEOFFSET)\r\n",
                "    AT TIME ZONE 'Pacific Standard Time' AS val3,\r\n",
                "  CAST('20160812 12:00:00.0000000 -04:00' AS DATETIMEOFFSET)\r\n",
                "    AT TIME ZONE 'Pacific Standard Time' AS val4;"
            ],
            "metadata": {
                "language": "sql",
                "azdata_cell_guid": "836bb8b2-e6e3-4d37-a0a5-7493e23ee406",
                "tags": []
            },
            "outputs": [],
            "execution_count": null
        },
        {
            "cell_type": "markdown",
            "source": [
                "Question:\r\n",
                "\r\n",
                "show all data `Arithmatic`"
            ],
            "metadata": {
                "language": "sql",
                "azdata_cell_guid": "4d9836b1-7dc1-4cef-8fc3-7a89bc7ef977"
            },
            "attachments": {}
        },
        {
            "cell_type": "code",
            "source": [
                "-- DATEADD\r\n",
                "SELECT DATEADD(year, 1, '20160212');\r\n",
                "\r\n",
                "-- DATEDIFF\r\n",
                "SELECT DATEDIFF(day, '20150212', '20160212');\r\n",
                "\r\n",
                "SELECT DATEDIFF_BIG(millisecond, '00010101', '20160212');\r\n",
                "\r\n",
                "SELECT\r\n",
                "  DATEADD(\r\n",
                "    day, \r\n",
                "    DATEDIFF(day, '19000101', SYSDATETIME()), '19000101');\r\n",
                "\r\n",
                "SELECT\r\n",
                "  DATEADD(\r\n",
                "    month, \r\n",
                "    DATEDIFF(month, '19000101', SYSDATETIME()), '19000101');\r\n",
                "\r\n",
                "SELECT\r\n",
                "  DATEADD(\r\n",
                "    year, \r\n",
                "    DATEDIFF(year, '18991231', SYSDATETIME()), '18991231');"
            ],
            "metadata": {
                "language": "sql",
                "azdata_cell_guid": "affc4ccc-154a-4a2a-b86b-29d2e7d8dbc1",
                "tags": []
            },
            "outputs": [],
            "execution_count": null
        },
        {
            "cell_type": "markdown",
            "source": [
                "Question:\r\n",
                "\r\n",
                "what is DATEPART function do? show a example\r\n",
                "\r\n",
                "\r\n",
                "Ans: the DATEPART function, which extracts a specific part (such as month, day, year, etc.) from a date "
            ],
            "metadata": {
                "language": "sql",
                "azdata_cell_guid": "bffe0ab2-5400-451c-903d-d594ccd7abb4"
            },
            "attachments": {}
        },
        {
            "cell_type": "code",
            "source": [
                "SELECT DATEPART(month, '20160212');"
            ],
            "metadata": {
                "language": "sql",
                "azdata_cell_guid": "e02a0579-8b3c-4a25-9154-7137acef89ec",
                "tags": []
            },
            "outputs": [],
            "execution_count": null
        },
        {
            "cell_type": "markdown",
            "source": [
                "Question:\r\n",
                "\r\n",
                "Get DAY, MONTH, YEAR from a '20160212' (string)\r\n",
                ""
            ],
            "metadata": {
                "language": "sql",
                "azdata_cell_guid": "f397dfdc-e390-4011-8036-2d53e213a7db"
            },
            "attachments": {}
        },
        {
            "cell_type": "code",
            "source": [
                "SELECT\r\n",
                "  DAY('20160212') AS theday,\r\n",
                "  MONTH('20160212') AS themonth,\r\n",
                "  YEAR('20160212') AS theyear;"
            ],
            "metadata": {
                "language": "sql",
                "azdata_cell_guid": "c1c3b8eb-f9ea-4588-93ac-01bf913eaff1",
                "tags": []
            },
            "outputs": [],
            "execution_count": null
        },
        {
            "cell_type": "markdown",
            "source": [
                "Question:\r\n",
                "\r\n",
                "Get DATENAME from a '20160212' (string)\r\n",
                "\r\n",
                "use DAY, MONTH, YEAR in DATENAME function\r\n",
                ""
            ],
            "metadata": {
                "language": "sql",
                "azdata_cell_guid": "f4b50a68-e0c2-47ed-856e-864aa982828b"
            },
            "attachments": {}
        },
        {
            "cell_type": "code",
            "source": [
                "-- DATENAME\r\n",
                "\r\n",
                "SELECT DATENAME(day, '20160212') as day,\r\n",
                "        DATENAME(month, '20160212') as month,\r\n",
                "       DATENAME(year, '20160212') as year;"
            ],
            "metadata": {
                "language": "sql",
                "azdata_cell_guid": "af5ab231-c312-42a8-8528-98e1b7a480ad",
                "tags": []
            },
            "outputs": [],
            "execution_count": null
        },
        {
            "cell_type": "markdown",
            "source": [
                "Question:\n",
                "\n",
                "How to check if a given string is vaild data?\n",
                "\n",
                "Note:\n",
                "- use ISDATE function"
            ],
            "metadata": {
                "language": "sql",
                "azdata_cell_guid": "7f5dd50c-0b37-4d89-95dc-44d4beb90693"
            },
            "attachments": {}
        },
        {
            "cell_type": "code",
            "source": [
                "SELECT ISDATE('20160212');\r\n",
                "SELECT ISDATE('20160230');"
            ],
            "metadata": {
                "language": "sql",
                "azdata_cell_guid": "83bac8b2-338b-4bd0-a173-58d810b4d02a",
                "tags": []
            },
            "outputs": [],
            "execution_count": null
        },
        {
            "cell_type": "markdown",
            "source": [
                "Question:\r\n",
                "\r\n",
                "Given parts, how to combine them into a vaild data type?\r\n",
                "\r\n",
                "Note:\r\n",
                "- use ***FROMPARTS function"
            ],
            "metadata": {
                "language": "sql",
                "azdata_cell_guid": "f03fd1a9-eb9e-43a4-a0ec-2dd1c274e181"
            },
            "attachments": {}
        },
        {
            "cell_type": "code",
            "source": [
                "SELECT\r\n",
                "  DATEFROMPARTS(2016, 02, 12),\r\n",
                "  DATETIME2FROMPARTS(2016, 02, 12, 13, 30, 5, 1, 7),\r\n",
                "  DATETIMEFROMPARTS(2016, 02, 12, 13, 30, 5, 997),\r\n",
                "  DATETIMEOFFSETFROMPARTS(2016, 02, 12, 13, 30, 5, 1, -8, 0, 7),\r\n",
                "  SMALLDATETIMEFROMPARTS(2016, 02, 12, 13, 30),\r\n",
                "  TIMEFROMPARTS(13, 30, 5, 1, 7);"
            ],
            "metadata": {
                "language": "sql",
                "azdata_cell_guid": "f7ff7c74-68d5-4e64-971b-6200d1e34058",
                "tags": []
            },
            "outputs": [],
            "execution_count": null
        },
        {
            "cell_type": "markdown",
            "source": [
                "\n",
                "Question:\n",
                "\n",
                "how to last day of current month?\n",
                "\n",
                "Note:\n",
                "- use `EOMONTH` function"
            ],
            "metadata": {
                "language": "sql",
                "azdata_cell_guid": "e7e9d3b3-3bfc-4682-8f1a-cf7097a41c56"
            },
            "attachments": {}
        },
        {
            "cell_type": "code",
            "source": [
                "SELECT EOMONTH(SYSDATETIME());"
            ],
            "metadata": {
                "language": "sql",
                "azdata_cell_guid": "68d3d1ce-b6b5-4d85-b71f-0017af55e197",
                "tags": []
            },
            "outputs": [],
            "execution_count": null
        },
        {
            "cell_type": "markdown",
            "source": [
                "Question:\r\n",
                "\r\n",
                "find all orders that placed at the last day of month\r\n",
                "\r\n",
                "Hit:\r\n",
                "- use `EOMONTH` function"
            ],
            "metadata": {
                "language": "sql",
                "azdata_cell_guid": "eca147a1-56ab-4d72-80e1-a939b7a53722"
            },
            "attachments": {}
        },
        {
            "cell_type": "code",
            "source": [
                "-- orders placed on last day of month\r\n",
                "USE [TSQLV4]\r\n",
                "SELECT orderid, orderdate, custid, empid\r\n",
                "FROM Sales.Orders\r\n",
                "WHERE orderdate = EOMONTH(orderdate);\r\n",
                "\r\n",
                "USE [Northwinds2022TSQLV7]\r\n",
                "SELECT o.OrderId, o.CustomerId, o.EmployeeId, o.OrderDate\r\n",
                "FROM [Sales].[Order] as o\r\n",
                "WHERE orderdate = EOMONTH(orderdate);"
            ],
            "metadata": {
                "language": "sql",
                "azdata_cell_guid": "c2ce9e07-56bc-4430-a658-7005f7f6f42d",
                "tags": []
            },
            "outputs": [],
            "execution_count": null
        }
    ]
}