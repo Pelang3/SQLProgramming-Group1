{
    "metadata": {
        "kernelspec": {
            "name": "SQL",
            "display_name": "SQL",
            "language": "sql"
        },
        "language_info": {
            "name": "sql",
            "version": ""
        }
    },
    "nbformat_minor": 2,
    "nbformat": 4,
    "cells": [
        {
            "cell_type": "markdown",
            "source": [
                "# Microsoft SQL Server T-SQL Fundamentals\n",
                "## Chapter 02 - Single-Table Queries\n",
                "### Exercises\n",
                "\n",
                "##"
            ],
            "metadata": {
                "azdata_cell_guid": "1b2048e5-639f-448c-81ca-da3d2d3167e5"
            },
            "attachments": {}
        },
        {
            "cell_type": "markdown",
            "source": [
                "\n",
                "---\n",
                "## 1 \n",
                "Return orders placed in June 2021\n",
                "\n",
                "**Tables involved:** TSQLV6 database, Sales.Orders table\n",
                "\n",
                "**Desired output:**\n",
                "```sql\n",
                "orderid     orderdate  custid      empid\n",
                "----------- ---------- ----------- -----------\n",
                "10555       2021-06-02 71          6\n",
                "10556       2021-06-03 73          2\n",
                "10557       2021-06-03 44          9\n",
                "10558       2021-06-04 4           1\n",
                "10559       2021-06-05 7           6\n",
                "10560       2021-06-06 25          8\n",
                "10561       2021-06-06 24          2\n",
                "10562       2021-06-09 66          1\n",
                "10563       2021-06-10 67          2\n",
                "10564       2021-06-10 65          4\n",
                "...\n",
                ""
            ],
            "metadata": {
                "azdata_cell_guid": "2fc73afd-f38c-4c87-a841-affe1980feea"
            },
            "attachments": {}
        },
        {
            "cell_type": "markdown",
            "source": [
                "Proposition - Write a query that returns all orders placed in June 2015. Return the <span style=\"color: rgb(33, 33, 33); font-family: Menlo, Monaco, &quot;Courier New&quot;, monospace; font-size: 12px; white-space: pre;\">OrderId, OrderDate, CustomerId, EmployeeId</span>  of those orders.\n",
                "\n",
                "Table - Sales.\\[Order\\]  table with the alias o.\n",
                "\n",
                "Columns - Four desired <span style=\"font-family: -apple-system, BlinkMacSystemFont, sans-serif; color: var(--vscode-foreground);\">columns:</span> <span style=\"color: rgb(33, 33, 33); font-family: Menlo, Monaco, &quot;Courier New&quot;, monospace; font-size: 12px; white-space: pre;\">OrderId, OrderDate, CustomerId, EmployeeId </span>  <span style=\"color: var(--vscode-foreground); font-family: -apple-system, BlinkMacSystemFont, sans-serif;\">from the Sales.[Order] table.</span>\n",
                "\n",
                "Predicate - <span style=\"font-family: -apple-system, BlinkMacSystemFont, sans-serif; color: var(--vscode-foreground);\">It&nbsp;</span> <span style=\"font-family: -apple-system, BlinkMacSystemFont, sans-serif; color: var(--vscode-foreground);\">is the condition specified in the WHERE clause,&nbsp;</span> <span style=\"font-family: -apple-system, BlinkMacSystemFont, sans-serif; color: var(--vscode-foreground);\">YEAR(o.orderdate) = 2015 and MONTH(o.orderdate) = 6. This is the predicate that filters the rows. It checks if the year of the order date is equal to 2015 and the month is equal to 6 (June).</span>\n",
                "\n",
                "This query retrieves <span style=\"color: rgb(33, 33, 33); font-family: Menlo, Monaco, &quot;Courier New&quot;, monospace; font-size: 12px; white-space: pre;\">OrderIds, OrderDates, CustomerIds, EmployeeIds</span> <span style=\"font-family: -apple-system, BlinkMacSystemFont, sans-serif; color: var(--vscode-foreground);\">from the&nbsp;</span> Sales.\\[Order\\] <span style=\"font-family: -apple-system, BlinkMacSystemFont, sans-serif; color: var(--vscode-foreground);\">table where the order date corresponds to the year 2015 and the month June.</span>"
            ],
            "metadata": {
                "azdata_cell_guid": "ae73d19d-a871-4627-bc31-cc2a96b7722c"
            },
            "attachments": {}
        },
        {
            "cell_type": "code",
            "source": [
                "-- Qeury using TSQLV4 data base\n",
                "USE TSQLV4;\n",
                "\n",
                "SELECT o.orderid, o.orderdate, o.custid, o.empid\n",
                "FROM Sales.Orders as o\n",
                "WHERE YEAR(o.orderdate) = 2015 and MONTH(o.orderdate) = 6\n",
                "\n",
                "\n",
                "-- Qeury using Northwinds2022TSQLV7 database \n",
                "USE Northwinds2022TSQLV7;\n",
                "\n",
                "SELECT o.OrderId, o.OrderDate, o.CustomerId, o.EmployeeId\n",
                "FROM Sales.[Order] as o\n",
                "WHERE YEAR(o.OrderDate) = 2015 and MONTH(o.OrderDate) = 6"
            ],
            "metadata": {
                "azdata_cell_guid": "0c2e5227-45f1-41a5-9be3-6aa2d0063d14",
                "language": "sql"
            },
            "outputs": [],
            "execution_count": null
        },
        {
            "cell_type": "markdown",
            "source": [
                "### Explanation\n",
                "\n",
                "Explain the details of the proposition, table, columns and the predicate."
            ],
            "metadata": {
                "azdata_cell_guid": "ab86758c-c94c-46fa-903d-fef81bc504eb"
            },
            "attachments": {}
        },
        {
            "cell_type": "markdown",
            "source": [
                "## Q2\n",
                "\n",
                "# <span style=\"font-size:14px;font-family:-apple-system, BlinkMacSystemFont, sans-serif;\">Return orders placed on the day before the last day of the month</span>\n",
                "\n",
                "### **Tables involved:** \n",
                "\n",
                "# <span style=\"font-size:14px;font-family:-apple-system, BlinkMacSystemFont, sans-serif;\">Sales.Orders table, using TSQLV4. Sales.Order table, using&nbsp;</span>  <span style=\"color:rgb(33, 33, 33);font-family:Menlo, Monaco, &quot;Courier New&quot;, monospace;font-size:12px;white-space:pre;\">Northwinds2022TSQLV7.</span>\n",
                "\n",
                "**Similar goal output:**\n",
                "\n",
                "```\n",
                "orderid     orderdate  custid      empid\n",
                "----------- ---------- ----------- -----------\n",
                "10268       2020-07-30 33          8\n",
                "10294       2020-08-30 65          4\n",
                "10342       2020-10-30 25          4\n",
                "10368       2020-11-29 20          2\n",
                "10398       2020-12-30 71          2\n",
                "10430       2021-01-30 20          4\n",
                "10431       2021-01-30 10          4\n",
                "10459       2021-02-27 84          4\n",
                "10520       2021-04-29 70          7\n",
                "10521       2021-04-29 12          8\n",
                "...\n",
                "\n",
                "```\n",
                "\n",
                "_(27 row(s) affected)_\n",
                "\n",
                "* * *\n",
                "\n",
                "## **<span style=\"font-family:georgia, palatino, serif;margin:0px;padding:0px;border:0px;outline:0px;font-size:14pt;text-shadow:none;\">Proposition, Table, Columns and the Predicate.</span>**\n",
                "\n",
                "The question is based on the what predicate to use in order to check if a order is placed before the last day of the month. This **Problem** can be extended to any table that involves a date. The **columns** to be affected By this are orderdate and any other columns that which to be included as a result of the query. There are two ways to get this comparison to work, this is the **predicate** of the solution that will enable us to get the right result.\n",
                "\n",
                "#### Using the End of month function\n",
                "\n",
                "We can invoke the `EOMONTH(date)` function to return what the end of the month would be. Then subtract by one day back to get the second to last day of any month using <span style=\"color:rgb(163, 21, 21);font-family:Menlo, Monaco, Consolas, &quot;Droid Sans Mono&quot;, &quot;Courier New&quot;, monospace, &quot;Droid Sans Fallback&quot;;font-size:12px;\">DATEADD(day, -1, date)</span>.\n",
                "\n",
                "#### Using the Date arithmetic\n",
                "\n",
                "Peform a complex manipulation with `DATEDIFF(type, firstDate, secondDate)` and `DATEADD(type, units, date)`. To do the latter operation we would have to first subtract how many units from a base date whos date is the last day of the month. Then you use that value to add it to the base date to get the date to compare your current date with. Finally subtract by one day to get the second to last day.\n",
                "\n",
                "### **<u>Prefered method</u>**\n",
                "\n",
                "The former solution is both simple and readable. This solution also does not require the developer to know thier date trivia, therefore making it an accesible solution.\n",
                "\n",
                "**Note**\n",
                "\n",
                "The 3rd edition changes the question to strictly the last dat of the month. The question above uses the 4th edition so you will find different number of records if running on different databases."
            ],
            "metadata": {
                "azdata_cell_guid": "17cb5b46-e33d-48c9-97a5-07f59fc71159"
            },
            "attachments": {}
        },
        {
            "cell_type": "code",
            "source": [
                "-- Original Query for TSQLV4\n",
                "\n",
                "USE TSQLV4;\n",
                "\n",
                "SELECT orderid, orderdate, custid, empid\n",
                "FROM Sales.Orders\n",
                "WHERE orderdate = DATEADD(day, -1, EOMONTH(orderdate));\n",
                "\n",
                "\n",
                "-- New Query for Northwinds\n",
                "\n",
                "USE Northwinds2022TSQLV7;\n",
                "\n",
                "SELECT OrderId, OrderDate, CustomerId, EmployeeId\n",
                "FROM Sales.[Order]\n",
                "WHERE OrderDate = DATEADD(day, -1, EOMONTH(OrderDate));\n",
                ""
            ],
            "metadata": {
                "azdata_cell_guid": "d4462733-f7ba-4287-8cb4-4f91d87595db",
                "language": "sql"
            },
            "outputs": [],
            "execution_count": null
        },
        {
            "cell_type": "markdown",
            "source": [
                "* * *\n",
                "\n",
                "## 3\n",
                "\n",
                "Return employees with last name containing the letter 'e' twice or more\n",
                "\n",
                "**Tables involved:** HR.Employees table\n",
                "\n",
                "**Desired output:**\n",
                "\n",
                "```\n",
                "empid       firstname  lastname\n",
                "----------- ---------- --------------------\n",
                "4           Yael       Peled\n",
                "5           Sven       Mortensen\n",
                "\n",
                "```\n",
                "\n",
                "_(2 row(s) affected)_\n",
                "\n",
                "- Proposition:\n",
                "    \n",
                "\n",
                "> <span style=\"color: var(--vscode-foreground);\">The proposition in this query is expressed in the WHERE clause.<br></span>`LEN(e.lastname) - LEN(REPLACE(e.lastname, 'e', '')) >= 2`<span style=\"color: var(--vscode-foreground);\">:<br></span><span style=\"color: var(--vscode-foreground);\">This proposition checks whether the length of the last name minus the length of the last name after replacing all occurrences of the letter 'e' is greater than or equal to 2.<br></span><span style=\"color: var(--vscode-foreground);\">This condition implies that the last name must contain the letter 'e' at least twice.</span>\n",
                "\n",
                "- <span style=\"color: var(--vscode-foreground);\">Table:</span>\n",
                "\n",
                "> <span style=\"color: var(--vscode-foreground);\">The table involved is&nbsp;</span> ``[HumanResources`].[Employees]`<span style=\"font-size: 14px; color: var(--vscode-foreground); font-family: &quot;Segoe WPC&quot;, &quot;Segoe UI&quot;, sans-serif;\">.<br></span>``<span style=\"color: rgb(163, 21, 21); font-family: Menlo, Monaco, Consolas, &quot;Droid Sans Mono&quot;, &quot;Courier New&quot;, monospace, &quot;Droid Sans Fallback&quot;; font-size: 12px;\">[HumanResources</span>`].[Employees] AS e`<span style=\"color: var(--vscode-foreground);\">: This renames the table to 'e' for brevity, and 'e' is used as an alias throughout the query.</span>\n",
                "\n",
                "- <span style=\"color: var(--vscode-foreground);\">Columns:</span>\n",
                "\n",
                "> <span style=\"color: var(--vscode-foreground);\">Columns selected in the query are&nbsp;</span> `e.empid`<span style=\"color: var(--vscode-foreground);\">,&nbsp;</span> `e.firstname`<span style=\"color: var(--vscode-foreground);\">, and&nbsp;</span> `e.lastname`<span style=\"color: var(--vscode-foreground);\">.<br></span><span style=\"color: var(--vscode-foreground);\">These columns represent the Employee ID, first name, and last name, respectively, from the&nbsp;</span> `[HR].[Employees]` <span style=\"color: var(--vscode-foreground);\">&nbsp;table.</span>\n",
                "\n",
                "- <span style=\"color: var(--vscode-foreground);\">Predicate:</span>\n",
                "\n",
                "> <span style=\"color: var(--vscode-foreground);\">The predicate is the condition specified in the WHERE clause.<br></span>`LEN(e.lastname) - LEN(REPLACE(e.lastname, 'e', '')) >= 2`<span style=\"color: var(--vscode-foreground);\">: This is the predicate that filters the rows. It checks if the last name contains the letter 'e' at least twice.<br></span><span style=\"color: var(--vscode-foreground);\">The expression checks whether the last name has the letter 'e' at least twice by calculating the difference in length before and after removing all occurrences of 'e' and then checking if this count is greater than or equal to 2. If the condition is satisfied, the row is included in the result set.</span>\n",
                "\n",
                "- <span style=\"color: var(--vscode-foreground);\">Putting it all together, this query retrieves Employee IDs, first names, and last names from the&nbsp;</span> `[`<span style=\"color: rgb(33, 33, 33); font-family: Consolas, &quot;Courier New&quot;, monospace; font-size: 12px; white-space: pre;\">HumanResources</span>`].[Employees]` <span style=\"color: var(--vscode-foreground);\">&nbsp;table where the last name contains the letter 'e' at least twice. The proposition defines the condition, the table is&nbsp;</span> `[`<span style=\"color: rgb(33, 33, 33); font-family: Consolas, &quot;Courier New&quot;, monospace; font-size: 12px; white-space: pre;\">HumanResources</span>`].[Employees]` <span style=\"color: var(--vscode-foreground);\">&nbsp;(aliased as 'e'), and the selected columns are&nbsp;</span> `empid`<span style=\"color: var(--vscode-foreground);\">,&nbsp;</span> `firstname`<span style=\"color: var(--vscode-foreground);\">, and&nbsp;</span> `lastname`<span style=\"color: var(--vscode-foreground);\">.</span>\n",
                "\n",
                "* * *"
            ],
            "metadata": {
                "azdata_cell_guid": "5857674a-36c8-442d-b501-fe1912c0442d"
            },
            "attachments": {}
        },
        {
            "cell_type": "code",
            "source": [
                "USE [TSQLV4] \r\n",
                "GO\r\n",
                "\r\n",
                "SELECT e.empid, e.firstname, e.lastname\r\n",
                "From [HR].[Employees] as e\r\n",
                "WHERE LEN(e.lastname) - LEN(REPLACE(e.lastname, 'e', '')) >= 2;\r\n",
                "\r\n",
                "USE [Northwinds2022TSQLV7] \r\n",
                "GO\r\n",
                "SELECT e.EmployeeId,e.EmployeeFirstName,e.EmployeeLastName\r\n",
                "From [HumanResources].[Employee] as e\r\n",
                "WHERE LEN(e.EmployeeLastName) - LEN(REPLACE(e.EmployeeLastName, 'e', '')) >= 2;"
            ],
            "metadata": {
                "azdata_cell_guid": "a63a9f36-fbb0-4cda-93a9-b68db5523421",
                "language": "sql",
                "tags": []
            },
            "outputs": [],
            "execution_count": null
        },
        {
            "cell_type": "markdown",
            "source": [
                "## 4\n",
                "\n",
                "Return orders with total value(qty\\*unitprice) greater than 10000, sorted by total value\n",
                "\n",
                "**Tables involved:** Sales.OrderDetails table\n",
                "\n",
                "**Desired output:**\n",
                "\n",
                "```\n",
                "orderid     totalvalue\n",
                "----------- ---------------------\n",
                "10865       17250.00\n",
                "11030       16321.90\n",
                "10981       15810.00\n",
                "10372       12281.20\n",
                "10424       11493.20\n",
                "10817       11490.70\n",
                "10889       11380.00\n",
                "10417       11283.20\n",
                "10897       10835.24\n",
                "10353       10741.60\n",
                "10515       10588.50\n",
                "10479       10495.60\n",
                "10540       10191.70\n",
                "10691       10164.80\n",
                "\n",
                "```\n",
                "\n",
                "_(14 row(s) affected)_\n",
                "\n",
                "- SELECT Clause:\n",
                "    \n",
                "    - `od.orderid`: This selects the `orderid` column from the `[Sales].[OrderDetails]` table.\n",
                "    - `SUM(od.qty * od.unitprice) AS totalvalue`: This calculates the total value for each order by summing the product of quantity (`od.qty`) and unit price (`od.unitprice`). The result is aliased as `totalvalue`.\n",
                "- FROM Clause:\n",
                "    \n",
                "    - `[Sales].[OrderDetails] AS od`: Specifies the table `[Sales].[OrderDetails]` and aliases it as 'od' for brevity. This is the table from which data is being retrieved.\n",
                "- GROUP BY Clause:\n",
                "    \n",
                "    - `GROUP BY od.orderid`: Groups the result set by the `orderid` column. This means that the subsequent aggregate function (`SUM`) operates on each unique `orderid`.\n",
                "- HAVING Clause:\n",
                "    \n",
                "    - `HAVING SUM(od.qty * od.unitprice) > 10000`: Filters the grouped results to include only those where the sum of the quantity times unit price is greater than 10000. This is applied after the grouping has been done.\n",
                "    - The `HAVING` clause is used in SQL queries to filter the results of a `GROUP BY` clause based on aggregate values.\n",
                "- ORDER BY Clause:\n",
                "    \n",
                "    - `ORDER BY totalvalue DESC`: Orders the result set by the total value (`totalvalue`) in descending order.\n",
                "\n",
                "In summary, this query retrieves order IDs and their corresponding total values from the `[Sales].[OrderDetails]` table. It groups the results by order ID, filters out groups where the total value is not greater than 10000, and finally, orders the remaining results by total value in descending order.\n",
                "\n",
                "* * *"
            ],
            "metadata": {
                "azdata_cell_guid": "253d0b6e-83f4-4799-a801-7505d9f1e76b"
            },
            "attachments": {}
        },
        {
            "cell_type": "code",
            "source": [
                "USE [TSQLV4] \r\n",
                "GO\r\n",
                "\r\n",
                "SELECT od.orderid, SUM (od.qty * od.unitprice) AS totalvalue\r\n",
                "FROM [Sales].[OrderDetails] as od\r\n",
                "GROUP BY od.orderid\r\n",
                "HAVING SUM(od.qty * od.unitprice) > 10000\r\n",
                "ORDER BY totalvalue DESC;\r\n",
                "\r\n",
                "\r\n",
                "USE [Northwinds2022TSQLV7] \r\n",
                "GO\r\n",
                "\r\n",
                "SELECT od.OrderId, SUM (od.Quantity * od.UnitPrice) AS totalvalue\r\n",
                "FROM [Sales].[OrderDetail] as od\r\n",
                "GROUP BY od.orderid\r\n",
                "HAVING SUM (od.Quantity * od.UnitPrice) > 10000\r\n",
                "ORDER BY totalvalue DESC;\r\n",
                ""
            ],
            "metadata": {
                "azdata_cell_guid": "d0c74b76-fe0a-4d58-9df3-2a6388c5d9a4",
                "language": "sql"
            },
            "outputs": [],
            "execution_count": null
        },
        {
            "cell_type": "markdown",
            "source": [
                "---\n",
                "## 5\n",
                "Write a query against the HR.Employees table that returns employees with a last name that starts with a lowercase letter. Remember that the collation of the sample database is case-insensitive (Latin1_General_CI_AS). For simplicity, you can assume that only English letters are used in the employee last names.\n",
                "\n",
                "**Tables involved:** HR.Employees table\n",
                "\n",
                "**Desired output: The empty set**\n",
                "```sql\n",
                "empid       lastname\n",
                "----------- --------------------\n",
                "```\n",
                "\n",
                "*(0 row(s) affected)*\n",
                "\n",
                "---"
            ],
            "metadata": {
                "azdata_cell_guid": "b34cfa39-bde7-4fac-a9f5-c6a4b9fbd76d"
            },
            "attachments": {}
        },
        {
            "cell_type": "markdown",
            "source": [
                "# Answer"
            ],
            "metadata": {
                "azdata_cell_guid": "bac56593-940f-496c-8560-58d7295ecb7b"
            },
            "attachments": {}
        },
        {
            "cell_type": "code",
            "source": [
                "USE TSQLV4\r\n",
                "\r\n",
                "SELECT\r\n",
                "       empid,\r\n",
                "       lastname\r\n",
                "FROM\r\n",
                "       HR.Employees\r\n",
                "WHERE\r\n",
                "       lastname COLLATE Latin1_General_BIN LIKE N'[a-z]%';\r\n",
                "       \r\n",
                "\r\n",
                "USE Northwinds2022TSQLV7\r\n",
                "\r\n",
                "SELECT\r\n",
                "       EmployeeId,\r\n",
                "       EmployeeLastName\r\n",
                "FROM\r\n",
                "       HumanResources.Employee\r\n",
                "WHERE\r\n",
                "       EmployeeLastName COLLATE Latin1_General_BIN LIKE N'[a-z]%';"
            ],
            "metadata": {
                "azdata_cell_guid": "83108ae4-9605-40c4-9c83-68c4aac184fb",
                "language": "sql"
            },
            "outputs": [],
            "execution_count": null
        },
        {
            "cell_type": "markdown",
            "source": [
                "---\n",
                "## 6\n",
                "Explain the difference between the following two queries\n",
                "\n",
                "### Query 1\n",
                "```sql\n",
                "SELECT empid, COUNT(*) AS numorders\n",
                "FROM Sales.Orders\n",
                "WHERE orderdate < '20160501'\n",
                "GROUP BY empid;\n",
                "```\n",
                "\n",
                "### Query 2\n",
                "```sql\n",
                "SELECT empid, COUNT(*) AS numorders\n",
                "FROM Sales.Orders\n",
                "GROUP BY empid\n",
                "HAVING MAX(orderdate) < '20160501';\n",
                "```\n",
                "\n",
                "---"
            ],
            "metadata": {
                "azdata_cell_guid": "cc71f46f-6d5e-4cdc-a8e5-71287d8cf85a"
            },
            "attachments": {}
        },
        {
            "cell_type": "markdown",
            "source": [
                "---\n",
                "## 7 \n",
                "Return the three ship countries with the highest average freight for orders placed in 2015\n",
                "\n",
                "**Tables involved:** Sales.Orders table\n",
                "\n",
                "**Desired output:**\n",
                "```sql\n",
                "shipcountry     avgfreight\n",
                "--------------- ---------------------\n",
                "Austria         178.3642\n",
                "Switzerland     117.1775\n",
                "Sweden          105.16\n",
                "```\n",
                "\n",
                "*(3 row(s) affected)*\n",
                "\n",
                "---"
            ],
            "metadata": {
                "azdata_cell_guid": "3adb5e86-2094-4266-ace7-63ac015bd5f0"
            },
            "attachments": {}
        },
        {
            "cell_type": "markdown",
            "source": [
                "---\n",
                "## 8 \n",
                "Calculate row numbers for orders based on order date ordering (using order id as a tiebreaker) for each customer separately\n",
                "\n",
                "**Tables involved:** Sales.Orders table\n",
                "\n",
                "**Desired output:**\n",
                "```sql\n",
                "custid      orderdate  orderid     rownum\n",
                "----------- ---------- ----------- --------------------\n",
                "1           2015-08-25 10643       1\n",
                "1           2015-10-03 10692       2\n",
                "1           2015-10-13 10702       3\n",
                "1           2016-01-15 10835       4\n",
                "1           2016-03-16 10952       5\n",
                "1           2016-04-09 11011       6\n",
                "2           2014-09-18 10308       1\n",
                "2           2015-08-08 10625       2\n",
                "2           2015-11-28 10759       3\n",
                "2           2016-03-04 10926       4\n",
                "...\n",
                "```\n",
                "\n",
                "*(830 row(s) affected)*\n",
                "\n",
                "---"
            ],
            "metadata": {
                "azdata_cell_guid": "8ac6e0ff-c045-4332-92ba-3013e581ce18"
            },
            "attachments": {}
        },
        {
            "cell_type": "markdown",
            "source": [
                "# Answer"
            ],
            "metadata": {
                "azdata_cell_guid": "ad57c847-c4a7-4c78-b814-9e9d6e7a1d91"
            },
            "attachments": {}
        },
        {
            "cell_type": "code",
            "source": [
                "USE TSQLV4\r\n",
                "\r\n",
                "SELECT\r\n",
                "\tcustid,\r\n",
                "\torderdate,\r\n",
                "    orderid,\r\n",
                "    ROW_NUMBER() OVER (PARTITION BY custid ORDER BY orderdate, orderid) AS rownum\r\n",
                "FROM\r\n",
                "\tSales.Orders\r\n",
                "ORDER BY\r\n",
                "\tcustid,\r\n",
                "    rownum;\r\n",
                "\r\n",
                "USE Northwinds2022TSQLV7\r\n",
                "\r\n",
                "SELECT\r\n",
                "\tCustomerId,\r\n",
                "\tOrderDate,\r\n",
                "    Orderid,\r\n",
                "    ROW_NUMBER() OVER (PARTITION BY CustomerId ORDER BY OrderDate, Orderid) AS rownum\r\n",
                "FROM\r\n",
                "\tSales.[Order]\r\n",
                "ORDER BY\r\n",
                "\tCustomerId,\r\n",
                "    rownum;"
            ],
            "metadata": {
                "azdata_cell_guid": "78b7d438-6585-43d8-9835-b78acaf2a40c",
                "language": "sql"
            },
            "outputs": [],
            "execution_count": null
        },
        {
            "cell_type": "markdown",
            "source": [
                "---\n",
                "## 9\n",
                "Figure out and return for each employee the gender based on the title of courtesy. Ms., Mrs. - Female, Mr. - Male, Dr. - Unknown\n",
                "\n",
                "**Tables involved:** HR.Employees table\n",
                "\n",
                "**Desired output:**\n",
                "```sql\n",
                "empid       firstname  lastname             titleofcourtesy           gender\n",
                "----------- ---------- -------------------- ------------------------- -------\n",
                "1           Sara       Davis                Ms.                       Female\n",
                "2           Don        Funk                 Dr.                       Unknown\n",
                "3           Judy       Lew                  Ms.                       Female\n",
                "4           Yael       Peled                Mrs.                      Female\n",
                "5           Sven       Mortensen            Mr.                       Male\n",
                "6           Paul       Suurs                Mr.                       Male\n",
                "7           Russell    King                 Mr.                       Male\n",
                "8           Maria      Cameron              Ms.                       Female\n",
                "9           Patricia   Doyle                Ms.                       Female\n",
                "```\n",
                "\n",
                "*(9 row(s) affected)*\n",
                "\n",
                "---"
            ],
            "metadata": {
                "azdata_cell_guid": "4080c7a5-1cc9-4cd3-ad4b-f9df3a289f57"
            },
            "attachments": {}
        },
        {
            "cell_type": "markdown",
            "source": [
                "Proposition - Write a query that infers each employee's gender based on their <span style=\"color: rgb(33, 33, 33); font-family: Menlo, Monaco, &quot;Courier New&quot;, monospace; font-size: 12px; white-space: pre;\">TitleOfCourtesy, and returns their</span> <span style=\"color: rgb(33, 33, 33); font-family: Menlo, Monaco, &quot;Courier New&quot;, monospace; font-size: 12px; white-space: pre;\">EmployeeId, FirstName, LastName, and TitleOfCourtesy.</span>\n",
                "\n",
                "Table - <span style=\"color: rgb(33, 33, 33); font-family: Menlo, Monaco, &quot;Courier New&quot;, monospace; font-size: 12px; white-space: pre;\">HumanResources.Employee </span> <span style=\"font-family: -apple-system, BlinkMacSystemFont, sans-serif; color: var(--vscode-foreground);\">table with the alias e.</span>\n",
                "\n",
                "Columns - Five desired <span style=\"font-family: -apple-system, BlinkMacSystemFont, sans-serif; color: var(--vscode-foreground);\">columns:</span> <span style=\"color: rgb(33, 33, 33); font-family: Menlo, Monaco, &quot;Courier New&quot;, monospace; font-size: 12px; white-space: pre;\">EmployeeId, EmployeeFirstName, EmployeeLastName, and EmployeeTitleOfCourtesy </span> <span style=\"font-family: -apple-system, BlinkMacSystemFont, sans-serif; color: var(--vscode-foreground);\">from the&nbsp;</span> <span style=\"color: rgb(33, 33, 33); font-family: Menlo, Monaco, &quot;Courier New&quot;, monospace; font-size: 12px; white-space: pre;\">HumanResources.Employee</span> <span style=\"font-family: -apple-system, BlinkMacSystemFont, sans-serif; color: var(--vscode-foreground);\">table, and Gender populated by a CASE in the SELECT clasue.</span>\n",
                "\n",
                "Predicate - The query retrieves specific columns from the \"HumanResources.Employee\" table and uses a CASE statement to create a derived column called \"Gender\" based on the values in the \"EmployeeTitleOfCourtesy\" column."
            ],
            "metadata": {
                "azdata_cell_guid": "0cf6ef58-ebb0-46a9-8cde-8899f20ed6ba"
            },
            "attachments": {}
        },
        {
            "cell_type": "code",
            "source": [
                "-- Qeury using TSQLV4 data base\n",
                "USE TSQLV4;\n",
                "\n",
                "SELECT e.empid, e.firstname, e.lastname, e.titleofcourtesy, \n",
                "    CASE e.titleofcourtesy\n",
                "        WHEN 'Mr.' THEN 'Male'\n",
                "        WHEN 'Ms.' THEN 'Female'\n",
                "        WHEN 'Mrs.' THEN 'Female'\n",
                "        ELSE 'Unknown'\n",
                "    END as gender\n",
                "FROM HR.Employees as e\n",
                "\n",
                "\n",
                "-- Qeury using Northwinds2022TSQLV7 database \n",
                "USE Northwinds2022TSQLV7;\n",
                "\n",
                "SELECT e.EmployeeId, e.EmployeeFirstName, e.EmployeeLastName, e.EmployeeTitleOfCourtesy, \n",
                "    CASE e.EmployeeTitleOfCourtesy\n",
                "        WHEN 'Mr.' THEN 'Male'\n",
                "        WHEN 'Ms.' THEN 'Female'\n",
                "        WHEN 'Mrs.' THEN 'Female'\n",
                "        ELSE 'Unknown'\n",
                "    END as Gender\n",
                "FROM HumanResources.Employee as e"
            ],
            "metadata": {
                "azdata_cell_guid": "4381e3e4-30fd-4a90-a9c3-876c85cdd211",
                "language": "sql"
            },
            "outputs": [],
            "execution_count": null
        },
        {
            "cell_type": "markdown",
            "source": [
                "## Q10\n",
                "\n",
                "Return for each customer the customer ID and region, sort the rows in the output by region, having NULLs sort last (after non-NULL values). Note that the default in T-SQL is that NULLs sort first.\n",
                "\n",
                "**Tables involved:** Sales.Customers table using TSQLV4. Sales.Customer table, using      <span style=\"color: rgb(33, 33, 33); font-family: Menlo, Monaco, &quot;Courier New&quot;, monospace; font-size: 12px; white-space: pre;\">Northwinds2022TSQLV7.</span>\n",
                "\n",
                "**Desired output:**\n",
                "\n",
                "```\n",
                "custid      region\n",
                "----------- ---------------\n",
                "55          AK\n",
                "10          BC\n",
                "42          BC\n",
                "45          CA\n",
                "37          Co. Cork\n",
                "33          DF\n",
                "71          ID\n",
                "38          Isle of Wight\n",
                "46          Lara\n",
                "78          MT\n",
                "...\n",
                "1           NULL\n",
                "2           NULL\n",
                "3           NULL\n",
                "4           NULL\n",
                "5           NULL\n",
                "6           NULL\n",
                "7           NULL\n",
                "8           NULL\n",
                "9           NULL\n",
                "11          NULL\n",
                "...\n",
                "\n",
                "```\n",
                "\n",
                "_(91 row(s) affected)_\n",
                "\n",
                "* * *\n",
                "\n",
                "## **<span style=\"font-family: georgia, palatino, serif; margin: 0px; padding: 0px; border: 0px; outline: 0px; font-size: 14pt; text-shadow: none;\">Proposition, Table, Columns and the Predicate.</span>**\n",
                "\n",
                "The **proposition** of this question is that we are trying to change the presentation of a sorting operation. Our instinctive approach is to simply use the orderby clause to sort based on region. However, T-SQL defaults to null having a higher precedence as such will bubble to the top. Instead what if we were to detect when a null apperead and gave it less precedence. As a comparison, in java programs we may want to create a our custom comparison to sort objects in a collection. We can achieve a similar result by using Case expressions. The **table** being affected is the customers table, however learning this technique can help us adapt any sorting technique to a different table. The **columns** being affected are the custid and orderdate. As hinted before the **predicate** for this solution involves some function that gives a result in this case a case expression or a function that choses.\n",
                "\n",
                "#### Case Expressions\n",
                "\n",
                "Are like mini procedures that evaulate on branch logic. We can assign nulls to a higher value meaning it will choose it last and give non null items higher precedence by using a lower number.\n",
                "\n",
                "### **<u>Analogy</u>**\n",
                "\n",
                "### <span style=\"font-size: 14px; font-family: -apple-system, BlinkMacSystemFont, sans-serif;\">To make this understandable lets use an analogy on strings if we compare strings character by character we will be able to know whether a string deserves higher precdence in the same way by using nullability it is replaced with a higher value like z.&nbsp;</span> \n",
                "\n",
                "**<u>_Alternative solution_</u>**\n",
                "\n",
                "Upon asking gpt \"How can I make this better\", it gave a brilliant suggestion. Instead of manually choosing what we should sort by we can instead default to a value whenever Null is achieved, we can do this with the function `ISNULL(arg1, arg2)` where arg2 is what should be returned if arg1 happens to be null. Instead we could `ORDER BY ISNULL(region, 'ZZZZZZZZZZZZZZZZ')`. This function along with `COALESCE` is also explained in the authors book (Ben-Gan, 55). One may ask when to chose one over the other, `COALESCE` is standard while `ISNULL` is not. One is more readable than the other which is why others may remember to choose it more."
            ],
            "metadata": {
                "azdata_cell_guid": "536744e4-e19a-4a3b-855a-c48df9b6d51f"
            },
            "attachments": {}
        },
        {
            "cell_type": "code",
            "source": [
                "-- Original Query for TSQLV4\n",
                "\n",
                "USE TSQLV4;\n",
                "\n",
                "SELECT custid, region\n",
                "FROM Sales.Customers\n",
                "ORDER BY CASE WHEN region IS NULL THEN 1 ELSE 0 END, region;\n",
                "\n",
                "\n",
                "-- New Query for Northwinds\n",
                "\n",
                "USE Northwinds2022TSQLV7;\n",
                "\n",
                "SELECT customerId, CustomerRegion\n",
                "FROM Sales.Customer\n",
                "ORDER BY COALESCE(CustomerRegion, 'ZZZZZZZZZZ');\n",
                ""
            ],
            "metadata": {
                "azdata_cell_guid": "1b48d3ab-a850-4c20-846c-fd0f3be3db4d",
                "language": "sql"
            },
            "outputs": [],
            "execution_count": null
        }
    ]
}