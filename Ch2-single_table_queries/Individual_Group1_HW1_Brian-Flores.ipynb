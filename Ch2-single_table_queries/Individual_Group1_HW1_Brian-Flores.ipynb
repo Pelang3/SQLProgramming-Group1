{
    "metadata": {
        "kernelspec": {
            "name": "SQL",
            "display_name": "SQL",
            "language": "sql"
        },
        "language_info": {
            "name": "sql",
            "version": ""
        }
    },
    "nbformat_minor": 2,
    "nbformat": 4,
    "cells": [
        {
            "cell_type": "markdown",
            "source": [
                "# HW1 - Brian Flores\n",
                "\n",
                "## Q2\n",
                "\n",
                "Return orders placed on the day before the last day of the month\n",
                "\n",
                "**Tables involved:** Sales.Orders table, using TSQLV4. Sales.Order table, using <span style=\"color:rgb(33, 33, 33);font-family:Menlo, Monaco, &quot;Courier New&quot;, monospace;font-size:12px;white-space:pre;\">Northwinds2022TSQLV7.</span>\n",
                "\n",
                "**Similar goal output:**\n",
                "\n",
                "```\n",
                "orderid     orderdate  custid      empid\n",
                "----------- ---------- ----------- -----------\n",
                "10268       2020-07-30 33          8\n",
                "10294       2020-08-30 65          4\n",
                "10342       2020-10-30 25          4\n",
                "10368       2020-11-29 20          2\n",
                "10398       2020-12-30 71          2\n",
                "10430       2021-01-30 20          4\n",
                "10431       2021-01-30 10          4\n",
                "10459       2021-02-27 84          4\n",
                "10520       2021-04-29 70          7\n",
                "10521       2021-04-29 12          8\n",
                "...\n",
                "\n",
                "```\n",
                "\n",
                "_(27 row(s) affected)_\n",
                "\n",
                "* * *\n",
                "\n",
                "## **<span style=\"font-family:georgia, palatino, serif;margin:0px;padding:0px;border:0px;outline:0px;font-size:14pt;text-shadow:none;\">Proposition, Table, Columns and the Predicate.</span>**\n",
                "\n",
                "The question is based on the what predicate to use in order to check if a order is placed before the last day of the month. This **Problem** can be extended to any table that involves a date. The **columns** to be affected By this are orderdate and any other columns that which to be included as a result of the query. There are two ways to get this comparison to work, this is the **predicate** of the solution that will enable us to get the right result.\n",
                "\n",
                "#### Using the End of month function\n",
                "\n",
                "We can invoke the `EOMONTH(date)` function to return what the end of the month would be. Then subtract by one day back to get the second to last day of any month using <span style=\"color:rgb(163, 21, 21);font-family:Menlo, Monaco, Consolas, &quot;Droid Sans Mono&quot;, &quot;Courier New&quot;, monospace, &quot;Droid Sans Fallback&quot;;font-size:12px;\">DATEADD(day, -1, date)</span>.\n",
                "\n",
                "#### Using the Date arithmetic\n",
                "\n",
                "Peform a complex manipulation with `DATEDIFF(type, firstDate, secondDate)` and `DATEADD(type, units, date)`. To do the latter operation we would have to first subtract how many units from a base date whos date is the last day of the month. Then you use that value to add it to the base date to get the date to compare your current date with. Finally subtract by one day to get the second to last day.\n",
                "\n",
                "### **<u>Prefered method</u>**\n",
                "\n",
                "The former solution is both simple and readable. This solution also does not require the developer to know thier date trivia, therefore making it an accesible solution.\n",
                "\n",
                "**Note**\n",
                "\n",
                "The 3rd edition changes the question to strictly the last dat of the month. The question above uses the 4th edition so you will find different number of records if running on different databases."
            ],
            "metadata": {
                "azdata_cell_guid": "f3b314ad-7571-4673-a442-be3197923996"
            },
            "attachments": {}
        },
        {
            "cell_type": "code",
            "source": [
                "-- Original Query for TSQLV4\n",
                "\n",
                "USE TSQLV4;\n",
                "\n",
                "SELECT orderid, orderdate, custid, empid\n",
                "FROM Sales.Orders\n",
                "WHERE orderdate = DATEADD(day, -1, EOMONTH(orderdate));\n",
                "\n",
                "\n",
                "-- New Query for Northwinds\n",
                "\n",
                "USE Northwinds2022TSQLV7;\n",
                "\n",
                "SELECT OrderId, OrderDate, CustomerId, EmployeeId\n",
                "FROM Sales.[Order]\n",
                "WHERE OrderDate = DATEADD(day, -1, EOMONTH(OrderDate));\n",
                ""
            ],
            "metadata": {
                "azdata_cell_guid": "d2fe46f6-354a-4fbb-8cce-b1a7d4cc1854",
                "language": "sql",
                "tags": [
                    "hide_input"
                ]
            },
            "outputs": [],
            "execution_count": null
        },
        {
            "cell_type": "markdown",
            "source": [
                "## Q10\n",
                "\n",
                "Return for each customer the customer ID and region, sort the rows in the output by region, having NULLs sort last (after non-NULL values). Note that the default in T-SQL is that NULLs sort first.\n",
                "\n",
                "**Tables involved:** Sales.Customers table using TSQLV4. Sales.Customer table, using      <span style=\"color:rgb(33, 33, 33);font-family:Menlo, Monaco, &quot;Courier New&quot;, monospace;font-size:12px;white-space:pre;\">Northwinds2022TSQLV7.</span>\n",
                "\n",
                "**Desired output:**\n",
                "\n",
                "```\n",
                "custid      region\n",
                "----------- ---------------\n",
                "55          AK\n",
                "10          BC\n",
                "42          BC\n",
                "45          CA\n",
                "37          Co. Cork\n",
                "33          DF\n",
                "71          ID\n",
                "38          Isle of Wight\n",
                "46          Lara\n",
                "78          MT\n",
                "...\n",
                "1           NULL\n",
                "2           NULL\n",
                "3           NULL\n",
                "4           NULL\n",
                "5           NULL\n",
                "6           NULL\n",
                "7           NULL\n",
                "8           NULL\n",
                "9           NULL\n",
                "11          NULL\n",
                "...\n",
                "\n",
                "```\n",
                "\n",
                "_(91 row(s) affected)_\n",
                "\n",
                "* * *\n",
                "\n",
                "## **<span style=\"font-family:georgia, palatino, serif;margin:0px;padding:0px;border:0px;outline:0px;font-size:14pt;text-shadow:none;\">Proposition, Table, Columns and the Predicate.</span>**\n",
                "\n",
                "The **proposition** of this question is that we are trying to change the presentation of a sorting operation. Our instinctive approach is to simply use the orderby clause to sort based on region. However, T-SQL defaults to null having a higher precedence as such will bubble to the top. Instead what if we were to detect when a null apperead and gave it less precedence. As a comparison, in java programs we may want to create a our custom comparison to sort objects in a collection. We can achieve a similar result by using Case expressions. The **table** being affected is the customers table, however learning this technique can help us adapt any sorting technique to a different table. The **columns** being affected are the custid and orderdate. As hinted before the **predicate** for this solution involves some function that gives a result in this case a case expression or a function that choses.\n",
                "\n",
                "#### Case Expressions\n",
                "\n",
                "Are like mini procedures that evaulate on branch logic. We can assign nulls to a higher value meaning it will choose it last and give non null items higher precedence by using a lower number.\n",
                "\n",
                "### <span style=\"font-family:-apple-system, BlinkMacSystemFont, sans-serif;font-size:16.38px;\"><b><u>Analogy</u></b></span>\n",
                "\n",
                "### <span style=\"font-size:14px;font-family:-apple-system, BlinkMacSystemFont, sans-serif;\">To make this understandable lets use an analogy on strings if we compare strings character by character we will be able to know whether a string deserves higher precdence in the same way by using nullability it is replaced with a higher value like z.&nbsp;</span> \n",
                "\n",
                "<span style=\"font-size:14px;font-family:-apple-system, BlinkMacSystemFont, sans-serif;\"><i><br></i></span>\n",
                "\n",
                "<span style=\"font-size:14px;font-family:-apple-system, BlinkMacSystemFont, sans-serif;\"><b><u><i>Alternative solution</i></u></b></span>\n",
                "\n",
                "Upon asking gpt \"How can I make this better\", it gave a brilliant suggestion. Instead of manually choosing what we should sort by we can instead default to a value whenever Null is achieved, we can do this with the function `ISNULL(arg1, arg2)` where arg2 is what should be returned if arg1 happens to be null. Instead we could `ORDER BY ISNULL(region, 'ZZZZZZZZZZZZZZZZ')`. This function along with `COALESCE` is also explained in the authors book (Ben-Gan, 55). One may ask when to chose one over the other, `COALESCE` is standard while `ISNULL` is not. One is more readable than the other which is why others may remember to choose it more."
            ],
            "metadata": {
                "azdata_cell_guid": "bfeb4b67-2a3e-4d3f-a208-e0b776f2335b"
            },
            "attachments": {}
        },
        {
            "cell_type": "code",
            "source": [
                "-- Original Query for TSQLV4\n",
                "\n",
                "USE TSQLV4;\n",
                "\n",
                "SELECT custid, region\n",
                "FROM Sales.Customers\n",
                "ORDER BY CASE WHEN region IS NULL THEN 1 ELSE 0 END, region;\n",
                "\n",
                "\n",
                "-- New Query for Northwinds\n",
                "\n",
                "USE Northwinds2022TSQLV7;\n",
                "\n",
                "SELECT customerId, CustomerRegion\n",
                "FROM Sales.Customer\n",
                "ORDER BY COALESCE(CustomerRegion, 'ZZZZZZZZZZ');\n",
                ""
            ],
            "metadata": {
                "azdata_cell_guid": "ec960ae3-53b1-4ad4-9d67-5d7a05bda626",
                "language": "sql",
                "tags": []
            },
            "outputs": [],
            "execution_count": null
        },
        {
            "cell_type": "markdown",
            "source": [
                "# Propositions\n",
                "Translating queries to problems."
            ],
            "metadata": {
                "azdata_cell_guid": "19bf898f-6ef4-4b76-ace1-9d8da4972537"
            },
            "attachments": {}
        },
        {
            "cell_type": "markdown",
            "source": [
                "* * *\n",
                "\n",
                "### **13\\. LIKE Predicate**"
            ],
            "metadata": {
                "azdata_cell_guid": "4624c18d-e354-4b5b-8688-e510a7734393"
            },
            "attachments": {}
        },
        {
            "cell_type": "markdown",
            "source": [
                "## 13.1\n",
                "\n",
                "Using the HumanResources.Employee table search for employees whose last name start with the letter d. Display the result with thier respective id and thier last name. Where the search is case insensitive.\n",
                "\n",
                "_**Tables involved:**_ HumanResources.Employees table"
            ],
            "metadata": {
                "language": "sql",
                "azdata_cell_guid": "b5d15279-c6b5-4cff-81d3-67b1b6c8d43e"
            },
            "attachments": {}
        },
        {
            "cell_type": "code",
            "source": [
                "-- 13.1\r\n",
                "\r\n",
                "USE TSQLV4;\r\n",
                "\r\n",
                "SELECT empid, lastname\r\n",
                "FROM HR.Employees\r\n",
                "WHERE lastname LIKE N'D%';\r\n",
                "\r\n",
                "USE Northwinds2022TSQLV7;\r\n",
                "\r\n",
                "SELECT EmployeeId, EmployeeLastName\r\n",
                "FROM HumanResources.Employee\r\n",
                "WHERE EmployeeLastName LIKE N'D%';"
            ],
            "metadata": {
                "azdata_cell_guid": "0a1213d1-730e-4ec8-8224-3fba1e680ba3",
                "language": "sql",
                "tags": []
            },
            "outputs": [],
            "execution_count": null
        },
        {
            "cell_type": "markdown",
            "source": [
                "## 13.2\n",
                "\n",
                "Using the HumanResources.Employee table search for employees whose last name has e as thier second character in thier name. Display the result with thier respective id and thier last name. Where the search is case insensitive.\n",
                "\n",
                "**Tables involved:** HumanResources.Employee table"
            ],
            "metadata": {
                "language": "sql",
                "azdata_cell_guid": "73a32aa1-0dc9-4156-b85a-cdb55e9cd09d"
            },
            "attachments": {}
        },
        {
            "cell_type": "code",
            "source": [
                "-- 13.2\r\n",
                "\r\n",
                "USE TSQLV4;\r\n",
                "\r\n",
                "SELECT empid, lastname\r\n",
                "FROM HR.Employees\r\n",
                "WHERE lastname LIKE N'_e%';\r\n",
                "\r\n",
                "\r\n",
                "USE Northwinds2022TSQLV7;\r\n",
                "\r\n",
                "SELECT EmployeeId, EmployeeLastName\r\n",
                "FROM HumanResources.Employee \r\n",
                "WHERE EmployeeLastName LIKE N'_e%';"
            ],
            "metadata": {
                "language": "sql",
                "azdata_cell_guid": "1e4fb751-2de0-4d74-83fa-90b61f785e28"
            },
            "outputs": [],
            "execution_count": null
        },
        {
            "cell_type": "markdown",
            "source": [
                "## 13.3\n",
                "\n",
                "Using the HumanResources.Employee table search for employees whose last name starts with the letter a or b or c. Display the result with thier respective id and thier last name. Where the search is case insensitive.\n",
                "\n",
                "**Tables involved:** HumanResources.Employee table"
            ],
            "metadata": {
                "language": "sql",
                "azdata_cell_guid": "e751b8c1-762b-4633-af53-c41d286e6a2a"
            },
            "attachments": {}
        },
        {
            "cell_type": "code",
            "source": [
                "-- 13.3\n",
                "USE TSQLV4;\n",
                "\n",
                "SELECT empid, lastname\n",
                "FROM HR.Employees\n",
                "WHERE lastname LIKE N'[ABC]%';\n",
                "\n",
                "USE Northwinds2022TSQLV7\n",
                "\n",
                "SELECT EmployeeId, EmployeeLastName\n",
                "FROM HumanResources.Employee\n",
                "WHERE EmployeeLastName LIKE N'[ABC]%';"
            ],
            "metadata": {
                "language": "sql",
                "azdata_cell_guid": "608693ed-0b8a-4e32-bd5e-1cc87a116b79"
            },
            "outputs": [],
            "execution_count": null
        },
        {
            "cell_type": "markdown",
            "source": [
                "## 13.4\n",
                "\n",
                "Using the HumanResources.Employee table search for employees whose last name starts with the letter a or b or c or d or e. Display the result with thier respective id and thier last name. Where the search is case insensitive.\n",
                "\n",
                "Tables involved: HumanResources.Employee table\n",
                "\n",
                ""
            ],
            "metadata": {
                "language": "sql",
                "azdata_cell_guid": "d3ae26c1-c395-47dd-a4c6-230f969f89e3"
            },
            "attachments": {}
        },
        {
            "cell_type": "code",
            "source": [
                "-- 13.4\n",
                "USE TSQLV4;\n",
                "\n",
                "SELECT empid, lastname\n",
                "FROM HR.Employees\n",
                "WHERE lastname LIKE N'[A-E]%';\n",
                "\n",
                "\n",
                "USE Northwinds2022TSQLV7;\n",
                "\n",
                "SELECT EmployeeId, EmployeeLastName\n",
                "FROM HumanResources.Employee\n",
                "WHERE EmployeeLastName LIKE N'[A-E]%';"
            ],
            "metadata": {
                "language": "sql",
                "azdata_cell_guid": "479738ee-18f5-4fb0-855a-da0b26089e61"
            },
            "outputs": [],
            "execution_count": null
        },
        {
            "cell_type": "markdown",
            "source": [
                "## 13.5\n",
                "\n",
                "Using the HumanResources.Employee table search for employees whose last name does not start with the letter a or b or c or d or e. Display the result with thier respective id and thier last name. Where the search is case insensitive.\n",
                "\n",
                "**Tables involved:** HumanResources.Employee table"
            ],
            "metadata": {
                "language": "sql",
                "azdata_cell_guid": "7c2f4ca9-df5e-47fd-98ef-33d21af5d9ce"
            },
            "attachments": {}
        },
        {
            "cell_type": "code",
            "source": [
                "-- 13.5\n",
                "\n",
                "USE TSQLV4;\n",
                "\n",
                "SELECT empid, lastname\n",
                "FROM HR.Employees\n",
                "WHERE lastname LIKE N'[^A-E]%';\n",
                "\n",
                "USE Northwinds2022TSQLV7;\n",
                "\n",
                "SELECT EmployeeId, EmployeeLastName\n",
                "FROM HumanResources.Employee\n",
                "WHERE EmployeeLastName LIKE N'[^A-E]%';\n",
                ""
            ],
            "metadata": {
                "language": "sql",
                "azdata_cell_guid": "98164a6c-783d-4d2e-a704-6a147cc65ca2"
            },
            "outputs": [],
            "execution_count": null
        },
        {
            "cell_type": "markdown",
            "source": [
                "* * *\n",
                "\n",
                "## 15 Querying Metadata"
            ],
            "metadata": {
                "azdata_cell_guid": "b37f4457-b332-47c4-8932-fbcb00db3770"
            },
            "attachments": {}
        },
        {
            "cell_type": "markdown",
            "source": [
                "### 15.1\n",
                "\n",
                "### Catalog Views\n",
                "\n",
                "Within the NorthWinds database display all the tables and their respective schemas. Display the schema table column header in a readable format.\n",
                ""
            ],
            "metadata": {
                "azdata_cell_guid": "9bfe7bb9-725c-4bcf-9d90-aebb80cdfd92"
            },
            "attachments": {}
        },
        {
            "cell_type": "code",
            "source": [
                "-- 15.1\n",
                "\n",
                "USE TSQLV4;\n",
                "\n",
                "SELECT SCHEMA_NAME(schema_id) AS table_schema_name, name AS table_name\n",
                "FROM sys.tables;\n",
                "\n",
                "USE Northwinds2022TSQLV7;\n",
                "\n",
                "SELECT SCHEMA_NAME(schema_id) AS table_schema_name, name AS table_name\n",
                "FROM sys.tables;"
            ],
            "metadata": {
                "azdata_cell_guid": "3b64ac73-aa7b-4705-b62d-e0b5e7e217b9",
                "language": "sql"
            },
            "outputs": [],
            "execution_count": null
        },
        {
            "cell_type": "markdown",
            "source": [
                "### 15.2 \n",
                "\n",
                "Within the TSQLV4 database display, display metadata (with respect to its columns) about the table `Sales.Order`. The metadata needed are the columns name. Thier repspective data type, thier max-length of bytes of memory that the attribute may take up. For columns that involve characters print out what specific collation it is using and leaving those who dont use one as null. Finally, append a column that tells you whether a column can accept null values by a matter of boolean. Use `sys.columns` that tells you aboult columns in the database, within the table you have to invoke the `OBJECT_ID(N'Schema.Table')` function to know how to pick the right table.\n",
                ""
            ],
            "metadata": {
                "language": "sql",
                "azdata_cell_guid": "717ce3eb-ab34-4d02-ac7a-09ae50a3cb2a"
            },
            "attachments": {}
        },
        {
            "cell_type": "code",
            "source": [
                "-- 15.2\n",
                "USE TSQLV4;\n",
                "\n",
                "SELECT \n",
                "  name AS column_name,\n",
                "  TYPE_NAME(system_type_id) AS column_type,\n",
                "  max_length,\n",
                "  collation_name,\n",
                "  is_nullable\n",
                "FROM sys.columns\n",
                "WHERE object_id = OBJECT_ID(N'Sales.Orders');\n",
                "\n",
                "USE Northwinds2022TSQLV7;\n",
                "\n",
                "SELECT \n",
                "  name AS column_name,\n",
                "  TYPE_NAME(system_type_id) AS column_type,\n",
                "  max_length,\n",
                "  collation_name,\n",
                "  is_nullable\n",
                "FROM sys.columns\n",
                "WHERE object_id = OBJECT_ID(N'Sales.Order');"
            ],
            "metadata": {
                "azdata_cell_guid": "7754ca13-ed8b-413b-bdeb-8d0979d0d9c2",
                "language": "sql"
            },
            "outputs": [],
            "execution_count": null
        },
        {
            "cell_type": "markdown",
            "source": [
                "## 15.3  \n",
                "\n",
                "Query the schema `INFORMATION_SCHEMA` which holds information (objects) about your database (tables, procedures, constraints, etc...). Within this schema find all the tables that was created by a user. You will need to use the table `TABLES`. Output the table and thier respective schemas.\n",
                ""
            ],
            "metadata": {
                "language": "sql",
                "azdata_cell_guid": "0a429326-f0bc-4a1b-8c32-b37d64b266dd"
            },
            "attachments": {}
        },
        {
            "cell_type": "code",
            "source": [
                "-- 15.3\n",
                "\n",
                "USE TSQLV4;\n",
                "\n",
                "SELECT TABLE_SCHEMA, TABLE_NAME\n",
                "FROM INFORMATION_SCHEMA.TABLES\n",
                "WHERE TABLE_TYPE = N'BASE TABLE';\n",
                "\n",
                "USE Northwinds2022TSQLV7;\n",
                "SELECT TABLE_SCHEMA, TABLE_NAME\n",
                "FROM INFORMATION_SCHEMA.TABLES\n",
                "WHERE TABLE_TYPE = N'BASE TABLE';"
            ],
            "metadata": {
                "language": "sql",
                "azdata_cell_guid": "7bdf50e1-bda6-4253-9d6c-28d6c4e3f658",
                "tags": []
            },
            "outputs": [],
            "execution_count": null
        },
        {
            "cell_type": "markdown",
            "source": [
                "## 15.4  \n",
                "\n",
                "Query the schema `INFORMATION_SCHEMA` . Within this schema Find the table `Sales.Order` and find out metadata about its columns. You will need to use the table `COLUMNS`. Output the Columns name, its data type, its character limit (if column is a character related type), and whether it can be null.\n",
                ""
            ],
            "metadata": {
                "language": "sql",
                "azdata_cell_guid": "3041e76f-9e7e-4b04-9d55-b25e15cacfcc"
            },
            "attachments": {}
        },
        {
            "cell_type": "code",
            "source": [
                "-- 15.4\n",
                "\n",
                "USE TSQLV4;\n",
                "\n",
                "SELECT \n",
                "  COLUMN_NAME, DATA_TYPE, CHARACTER_MAXIMUM_LENGTH, \n",
                "  COLLATION_NAME, IS_NULLABLE\n",
                "FROM INFORMATION_SCHEMA.COLUMNS\n",
                "WHERE TABLE_SCHEMA = N'Sales'\n",
                "  AND TABLE_NAME = N'Orders';\n",
                "\n",
                "-- 15.4\n",
                "USE Northwinds2022TSQLV7;\n",
                "\n",
                "SELECT \n",
                "  COLUMN_NAME, DATA_TYPE, CHARACTER_MAXIMUM_LENGTH, \n",
                "  COLLATION_NAME, IS_NULLABLE\n",
                "FROM INFORMATION_SCHEMA.COLUMNS\n",
                "WHERE TABLE_SCHEMA = N'Sales'\n",
                "  AND TABLE_NAME = N'Order';"
            ],
            "metadata": {
                "language": "sql",
                "azdata_cell_guid": "c1239619-d070-4adc-bd42-878a8839be21",
                "tags": []
            },
            "outputs": [],
            "execution_count": null
        },
        {
            "cell_type": "markdown",
            "source": [
                "###  15.5\n",
                "\n",
                "### System Stored Procedures and Functions\n",
                "\n",
                "Invoke a system procedure that will display all the tables and views in any database.\n",
                ""
            ],
            "metadata": {
                "language": "sql",
                "azdata_cell_guid": "9f84eaf4-784c-4ef7-bf14-e89f529b9df3"
            },
            "attachments": {}
        },
        {
            "cell_type": "code",
            "source": [
                "-- 15.5\n",
                "\n",
                "USE TSQLV4;\n",
                "EXEC sys.sp_tables;\n",
                "\n",
                "USE Northwinds2022TSQLV7;\n",
                "EXEC sys.sp_tables;"
            ],
            "metadata": {
                "language": "sql",
                "azdata_cell_guid": "58a97411-3ecc-45c8-8261-3cf2e9bfb753"
            },
            "outputs": [],
            "execution_count": null
        },
        {
            "cell_type": "markdown",
            "source": [
                "### 15.6\n",
                "Invoke a system procedure to obtain all relevant metadata regarding the table `Sales.Order`.\n",
                ""
            ],
            "metadata": {
                "language": "sql",
                "azdata_cell_guid": "d61cce67-f6cb-4b85-810f-0dd825ad80c6"
            },
            "attachments": {}
        },
        {
            "cell_type": "code",
            "source": [
                "-- 15.6\n",
                "\n",
                "USE TSQLV4;\n",
                "\n",
                "EXEC sys.sp_help\n",
                "  @objname = N'Sales.Orders';\n",
                "\n",
                "USE Northwinds2022TSQLV7;\n",
                "EXEC sys.sp_help\n",
                "  @objname = N'Sales.Order';"
            ],
            "metadata": {
                "language": "sql",
                "azdata_cell_guid": "4567836e-3742-4bb3-b8c4-46c6cdece9ad",
                "tags": []
            },
            "outputs": [],
            "execution_count": null
        },
        {
            "cell_type": "markdown",
            "source": [
                "## 15.7\n",
                "Invoke a system procedure to obtain all information about the columns of the schema `Sales.Order.`"
            ],
            "metadata": {
                "language": "sql",
                "azdata_cell_guid": "7efb57ce-7bbf-41d1-a384-8de3af3f5c77"
            },
            "attachments": {}
        },
        {
            "cell_type": "code",
            "source": [
                "-- 15.7\n",
                "\n",
                "USE TSQLV4;\n",
                "\n",
                "EXEC sys.sp_columns\n",
                "  @table_name = N'Orders',\n",
                "  @table_owner = N'Sales';\n",
                "\n",
                "USE Northwinds2022TSQLV7;\n",
                "\n",
                "EXEC sys.sp_columns\n",
                "  @table_name = N'Order',\n",
                "  @table_owner = N'Sales';"
            ],
            "metadata": {
                "language": "sql",
                "azdata_cell_guid": "32e68cdb-4c40-4890-adfa-ae2235db5316"
            },
            "outputs": [],
            "execution_count": null
        },
        {
            "cell_type": "markdown",
            "source": [
                "## 15.8\n",
                "Invoke a system procedure to obrain information on constraints with respect to the schema `Sales.Order`.\n",
                "\n",
                ""
            ],
            "metadata": {
                "azdata_cell_guid": "4658c6d1-8056-4dd3-a951-6ab0e85d6d53"
            },
            "attachments": {}
        },
        {
            "cell_type": "code",
            "source": [
                "-- 15.8\n",
                "\n",
                "USE TSQLV4;\n",
                "EXEC sys.sp_helpconstraint\n",
                "  @objname = N'Sales.Orders';\n",
                "\n",
                "USE Northwinds2022TSQLV7;\n",
                "EXEC sys.sp_helpconstraint\n",
                "  @objname = N'Sales.Order';"
            ],
            "metadata": {
                "azdata_cell_guid": "5e4182ca-08a6-455b-a1a8-57011b936362",
                "language": "sql"
            },
            "outputs": [],
            "execution_count": null
        },
        {
            "cell_type": "markdown",
            "source": [
                "## 15.8\n",
                "Return what product or level of SQL server you are using.\n",
                "\n",
                ""
            ],
            "metadata": {
                "language": "sql",
                "azdata_cell_guid": "777a8f4d-d850-4fa5-a951-a929bb49fa70"
            },
            "attachments": {}
        },
        {
            "cell_type": "code",
            "source": [
                "-- 15.8\n",
                "SELECT \n",
                "  SERVERPROPERTY('ProductLevel');\n",
                ""
            ],
            "metadata": {
                "language": "sql",
                "azdata_cell_guid": "e9457d20-c5d5-486f-8df7-1bf11f7363a4",
                "tags": []
            },
            "outputs": [],
            "execution_count": null
        },
        {
            "cell_type": "markdown",
            "source": [
                "## 15.9\n",
                "Invoke the `DATABASEPROPERTYEX` function to return collation information about the database `Northwinds2022TSQLV7`."
            ],
            "metadata": {
                "language": "sql",
                "azdata_cell_guid": "50864367-d216-4a18-b7b2-4fcdf7f857f4"
            },
            "attachments": {}
        },
        {
            "cell_type": "code",
            "source": [
                "-- 15.9\n",
                "\n",
                "USE TSQLV4;\n",
                "SELECT\n",
                "  DATABASEPROPERTYEX(N'TSQLV4', 'Collation');\n",
                "\n",
                "USE Northwinds2022TSQLV7;\n",
                "SELECT\n",
                "  DATABASEPROPERTYEX(N'Northwinds2022TSQLV7', 'collation');"
            ],
            "metadata": {
                "language": "sql",
                "azdata_cell_guid": "cc086fc2-eabb-4133-a4dc-bc4748b24dde"
            },
            "outputs": [],
            "execution_count": null
        },
        {
            "cell_type": "markdown",
            "source": [
                "## 15.9\n",
                "Check whether or not the table `Sales.Order` has a primary key."
            ],
            "metadata": {
                "language": "sql",
                "azdata_cell_guid": "8966da82-0b16-44eb-8e90-d74001ef4d05"
            },
            "attachments": {}
        },
        {
            "cell_type": "code",
            "source": [
                "-- 15.9\n",
                "\n",
                "USE TSQLV4;\n",
                "\n",
                "SELECT \n",
                "  OBJECTPROPERTY(OBJECT_ID(N'Sales.Orders'), 'TableHasPrimaryKey');\n",
                "\n",
                "USE Northwinds2022TSQLV7;\n",
                "\n",
                "SELECT \n",
                "  OBJECTPROPERTY(OBJECT_ID(N'Sales.Order'), 'TableHasPrimaryKey');\n",
                ""
            ],
            "metadata": {
                "language": "sql",
                "azdata_cell_guid": "6166829d-5639-4b49-8abc-deaee4e52d3b"
            },
            "outputs": [],
            "execution_count": null
        },
        {
            "cell_type": "markdown",
            "source": [
                "## 15.10\n",
                "Return whether the column shipCountry in the table `Sales.Order` is allowed to insert nulls.\n",
                ""
            ],
            "metadata": {
                "language": "sql",
                "azdata_cell_guid": "29673377-7266-4eb9-a3ea-7319ac454476"
            },
            "attachments": {}
        },
        {
            "cell_type": "code",
            "source": [
                "-- 15.10\n",
                "\n",
                "USE TSQLV4;\n",
                "\n",
                "SELECT\n",
                "  COLUMNPROPERTY(OBJECT_ID(N'Sales.Orders'), N'shipcountry', 'AllowsNull');\n",
                "\n",
                "USE Northwinds2022TSQLV7;\n",
                "\n",
                "SELECT\n",
                "  COLUMNPROPERTY(OBJECT_ID(N'Sales.Order'), N'ShipToCountry', 'AllowsNull');"
            ],
            "metadata": {
                "language": "sql",
                "azdata_cell_guid": "6922b39b-7ba6-48c4-8113-412a2d0089dd",
                "tags": []
            },
            "outputs": [],
            "execution_count": null
        }
    ]
}