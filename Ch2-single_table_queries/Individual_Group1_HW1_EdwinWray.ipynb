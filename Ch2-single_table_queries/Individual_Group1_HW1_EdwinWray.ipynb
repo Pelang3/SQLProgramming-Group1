{
    "metadata": {
        "kernelspec": {
            "name": "SQL",
            "display_name": "SQL",
            "language": "sql"
        },
        "language_info": {
            "name": "sql",
            "version": ""
        }
    },
    "nbformat_minor": 2,
    "nbformat": 4,
    "cells": [
        {
            "cell_type": "markdown",
            "source": [
                "# Edwin Wray\n",
                "\n",
                "### Group 1\n",
                "\n",
                "### Homework 1\n",
                "\n",
                "- Questions 1 and 9\n",
                "- Predicates and Operators\n",
                "- Operators and Functions"
            ],
            "metadata": {
                "azdata_cell_guid": "42292a32-8c48-48b9-b16f-b686856e2285"
            },
            "attachments": {}
        },
        {
            "cell_type": "markdown",
            "source": [
                "<span style=\"color: #008000;\">-- 1</span>\n",
                "\n",
                "<span style=\"color: #008000;\">-- Return orders placed in June 2015</span>\n",
                "\n",
                "<span style=\"color: #008000;\">-- Tables involved: TSQLV4 database, Sales.Orders table</span>\n",
                "\n",
                "  \n",
                "\n",
                "<span style=\"color: #008000;\">-- Desired output:</span>\n",
                "\n",
                "orderid orderdate custid empid\n",
                "\n",
                "<span style=\"color: #008000;\">----------- ---------- ----------- -----------</span>\n",
                "\n",
                "<span style=\"color: #09885a;\">10555</span> <span style=\"color: #09885a;\">2015</span><span style=\"color: #000000;\">-</span><span style=\"color: #09885a;\">06</span><span style=\"color: #000000;\">-</span><span style=\"color: #09885a;\">02</span> <span style=\"color: #09885a;\">71</span> <span style=\"color: #09885a;\">6</span>\n",
                "\n",
                "<span style=\"color: #09885a;\">10556</span> <span style=\"color: #09885a;\">2015</span><span style=\"color: #000000;\">-</span><span style=\"color: #09885a;\">06</span><span style=\"color: #000000;\">-</span><span style=\"color: #09885a;\">03</span> <span style=\"color: #09885a;\">73</span> <span style=\"color: #09885a;\">2</span>\n",
                "\n",
                "<span style=\"color: #09885a;\">10557</span> <span style=\"color: #09885a;\">2015</span><span style=\"color: #000000;\">-</span><span style=\"color: #09885a;\">06</span><span style=\"color: #000000;\">-</span><span style=\"color: #09885a;\">03</span> <span style=\"color: #09885a;\">44</span> <span style=\"color: #09885a;\">9</span>\n",
                "\n",
                "<span style=\"color: #09885a;\">10558</span> <span style=\"color: #09885a;\">2015</span><span style=\"color: #000000;\">-</span><span style=\"color: #09885a;\">06</span><span style=\"color: #000000;\">-</span><span style=\"color: #09885a;\">04</span> <span style=\"color: #09885a;\">4</span> <span style=\"color: #09885a;\">1</span>\n",
                "\n",
                "<span style=\"color: #09885a;\">10559</span> <span style=\"color: #09885a;\">2015</span><span style=\"color: #000000;\">-</span><span style=\"color: #09885a;\">06</span><span style=\"color: #000000;\">-</span><span style=\"color: #09885a;\">05</span> <span style=\"color: #09885a;\">7</span> <span style=\"color: #09885a;\">6</span>\n",
                "\n",
                "<span style=\"color: #09885a;\">10560</span> <span style=\"color: #09885a;\">2015</span><span style=\"color: #000000;\">-</span><span style=\"color: #09885a;\">06</span><span style=\"color: #000000;\">-</span><span style=\"color: #09885a;\">06</span> <span style=\"color: #09885a;\">25</span> <span style=\"color: #09885a;\">8</span>\n",
                "\n",
                "<span style=\"color: #09885a;\">10561</span> <span style=\"color: #09885a;\">2015</span><span style=\"color: #000000;\">-</span><span style=\"color: #09885a;\">06</span><span style=\"color: #000000;\">-</span><span style=\"color: #09885a;\">06</span> <span style=\"color: #09885a;\">24</span> <span style=\"color: #09885a;\">2</span>\n",
                "\n",
                "<span style=\"color: #09885a;\">10562</span> <span style=\"color: #09885a;\">2015</span><span style=\"color: #000000;\">-</span><span style=\"color: #09885a;\">06</span><span style=\"color: #000000;\">-</span><span style=\"color: #09885a;\">09</span> <span style=\"color: #09885a;\">66</span> <span style=\"color: #09885a;\">1</span>\n",
                "\n",
                "<span style=\"color: #09885a;\">10563</span> <span style=\"color: #09885a;\">2015</span><span style=\"color: #000000;\">-</span><span style=\"color: #09885a;\">06</span><span style=\"color: #000000;\">-</span><span style=\"color: #09885a;\">10</span> <span style=\"color: #09885a;\">67</span> <span style=\"color: #09885a;\">2</span>\n",
                "\n",
                "<span style=\"color: #09885a;\">10564</span> <span style=\"color: #09885a;\">2015</span><span style=\"color: #000000;\">-</span><span style=\"color: #09885a;\">06</span><span style=\"color: #000000;\">-</span><span style=\"color: #09885a;\">10</span> <span style=\"color: #09885a;\">65</span> <span style=\"color: #09885a;\">4</span>\n",
                "\n",
                "...\n",
                "\n",
                "  \n",
                "\n",
                "(<span style=\"color: #09885a;\">30</span> <span style=\"color: #0000ff;\">row</span>(s) affected)"
            ],
            "metadata": {
                "azdata_cell_guid": "bdf2f5c6-e5be-4655-ae2a-1eb786a1adec"
            },
            "attachments": {}
        },
        {
            "cell_type": "markdown",
            "source": [
                "Proposition - Write a query that returns all orders placed in June 2015. Return the <span style=\"color: rgb(33, 33, 33); font-family: Menlo, Monaco, &quot;Courier New&quot;, monospace; font-size: 12px; white-space: pre;\">OrderId, OrderDate, CustomerId, EmployeeId</span>  of those orders.\n",
                "\n",
                "Table - Sales.\\[Order\\]  table with the alias o.\n",
                "\n",
                "Columns - Four desired <span style=\"font-family: -apple-system, BlinkMacSystemFont, sans-serif; color: var(--vscode-foreground);\">columns:</span> <span style=\"color: rgb(33, 33, 33); font-family: Menlo, Monaco, &quot;Courier New&quot;, monospace; font-size: 12px; white-space: pre;\">OrderId, OrderDate, CustomerId, EmployeeId </span> <span style=\"color: var(--vscode-foreground); font-family: -apple-system, BlinkMacSystemFont, sans-serif;\">from the Sales.[Order] table.</span>\n",
                "\n",
                "Predicate - <span style=\"font-family: -apple-system, BlinkMacSystemFont, sans-serif; color: var(--vscode-foreground);\">It&nbsp;</span>   <span style=\"font-family: -apple-system, BlinkMacSystemFont, sans-serif; color: var(--vscode-foreground);\">is the condition specified in the WHERE clause,&nbsp;</span> <span style=\"font-family: -apple-system, BlinkMacSystemFont, sans-serif; color: var(--vscode-foreground);\">YEAR(o.orderdate) = 2015 and MONTH(o.orderdate) = 6. This is the predicate that filters the rows. It checks if the year of the order date is equal to 2015 and the month is equal to 6 (June).</span>\n",
                "\n",
                "This query retrieves <span style=\"color: rgb(33, 33, 33); font-family: Menlo, Monaco, &quot;Courier New&quot;, monospace; font-size: 12px; white-space: pre;\">OrderIds, OrderDates, CustomerIds, EmployeeIds </span> <span style=\"font-family: -apple-system, BlinkMacSystemFont, sans-serif; color: var(--vscode-foreground);\">from the&nbsp;</span>   Sales.\\[Order\\] <span style=\"font-family: -apple-system, BlinkMacSystemFont, sans-serif; color: var(--vscode-foreground);\">table where the order date corresponds to the year 2015 and the month June.</span>"
            ],
            "metadata": {
                "azdata_cell_guid": "d92d8f2e-8143-46aa-b295-422a7e968ca5"
            },
            "attachments": {}
        },
        {
            "cell_type": "code",
            "source": [
                "-- Qeury using TSQLV4 data base\n",
                "USE TSQLV4;\n",
                "\n",
                "SELECT N'TSQLV4' AS databasename, o.orderid, o.orderdate, o.custid, o.empid\n",
                "FROM Sales.Orders as o\n",
                "WHERE YEAR(o.orderdate) = 2015 and MONTH(o.orderdate) = 6\n",
                "\n",
                "\n",
                "-- Qeury using Northwinds2022TSQLV7 database \n",
                "USE Northwinds2022TSQLV7;\n",
                "\n",
                "SELECT N'Northwinds2022TSQLV7' AS DatabaseName, o.OrderId, o.OrderDate, o.CustomerId, o.EmployeeId\n",
                "FROM Sales.[Order] as o\n",
                "WHERE YEAR(o.OrderDate) = 2015 and MONTH(o.OrderDate) = 6"
            ],
            "metadata": {
                "azdata_cell_guid": "798ccfdd-f15d-40ff-bd9b-4be626844388",
                "language": "sql"
            },
            "outputs": [],
            "execution_count": null
        },
        {
            "cell_type": "markdown",
            "source": [
                "<span style=\"color: #008000;\">-- 9</span>\n",
                "\n",
                "<span style=\"color: #008000;\">-- Figure out and return for each employee the gender based on the title of courtesy</span>\n",
                "\n",
                "<span style=\"color: #008000;\">-- Ms., Mrs. - Female, Mr. - Male, Dr. - Unknown</span>\n",
                "\n",
                "<span style=\"color: #008000;\">-- Tables involved: HR.Employees table</span>\n",
                "\n",
                "  \n",
                "\n",
                "<span style=\"color: #008000;\">-- Desired output:</span>\n",
                "\n",
                "empid firstname lastname titleofcourtesy gender\n",
                "\n",
                "<span style=\"color: #008000;\">----------- ---------- -------------------- ------------------------- -------</span>\n",
                "\n",
                "<span style=\"color: #09885a;\">1</span> Sara Davis Ms. Female\n",
                "\n",
                "<span style=\"color: #09885a;\">2</span> Don Funk Dr. Unknown\n",
                "\n",
                "<span style=\"color: #09885a;\">3</span> Judy Lew Ms. Female\n",
                "\n",
                "<span style=\"color: #09885a;\">4</span> Yael Peled Mrs. Female\n",
                "\n",
                "<span style=\"color: #09885a;\">5</span> Sven Mortensen Mr. Male\n",
                "\n",
                "<span style=\"color: #09885a;\">6</span> Paul Suurs Mr. Male\n",
                "\n",
                "<span style=\"color: #09885a;\">7</span> Russell King Mr. Male\n",
                "\n",
                "<span style=\"color: #09885a;\">8</span> Maria Cameron Ms. Female\n",
                "\n",
                "<span style=\"color: #09885a;\">9</span> Patricia Doyle Ms. Female\n",
                "\n",
                "  \n",
                "\n",
                "(<span style=\"color: #09885a;\">9</span> <span style=\"color: #0000ff;\">row</span>(s) affected)"
            ],
            "metadata": {
                "azdata_cell_guid": "474ae39e-17ae-4764-b094-496ef1cdca37"
            },
            "attachments": {}
        },
        {
            "cell_type": "markdown",
            "source": [
                "Proposition - Write a query that infers each employee's gender based on their <span style=\"color: rgb(33, 33, 33); font-family: Menlo, Monaco, &quot;Courier New&quot;, monospace; font-size: 12px; white-space: pre;\">TitleOfCourtesy, and returns their </span> <span style=\"color: rgb(33, 33, 33); font-family: Menlo, Monaco, &quot;Courier New&quot;, monospace; font-size: 12px; white-space: pre;\">EmployeeId, FirstName, LastName, and TitleOfCourtesy.</span>\n",
                "\n",
                "Table - <span style=\"color: rgb(33, 33, 33); font-family: Menlo, Monaco, &quot;Courier New&quot;, monospace; font-size: 12px; white-space: pre;\">HumanResources.Employee</span> <span style=\"font-family: -apple-system, BlinkMacSystemFont, sans-serif; color: var(--vscode-foreground);\">table with the alias e.</span>\n",
                "\n",
                "Columns - Five desired <span style=\"font-family: -apple-system, BlinkMacSystemFont, sans-serif; color: var(--vscode-foreground);\">columns:</span> <span style=\"color: rgb(33, 33, 33); font-family: Menlo, Monaco, &quot;Courier New&quot;, monospace; font-size: 12px; white-space: pre;\">EmployeeId, EmployeeFirstName, EmployeeLastName, and EmployeeTitleOfCourtesy </span> <span style=\"font-family: -apple-system, BlinkMacSystemFont, sans-serif; color: var(--vscode-foreground);\">from the&nbsp;</span> <span style=\"color: rgb(33, 33, 33); font-family: Menlo, Monaco, &quot;Courier New&quot;, monospace; font-size: 12px; white-space: pre;\">HumanResources.Employee</span> <span style=\"font-family: -apple-system, BlinkMacSystemFont, sans-serif; color: var(--vscode-foreground);\">table, and Gender populated by a CASE in the SELECT clasue.</span>\n",
                "\n",
                "Predicate - The query retrieves specific columns from the \"HumanResources.Employee\" table and uses a CASE statement to create a derived column called \"Gender\" based on the values in the \"EmployeeTitleOfCourtesy\" column."
            ],
            "metadata": {
                "azdata_cell_guid": "a82cdec3-ea50-4724-b347-0aa34ffb6ea9"
            },
            "attachments": {}
        },
        {
            "cell_type": "code",
            "source": [
                "-- Qeury using TSQLV4 data base\n",
                "USE TSQLV4;\n",
                "\n",
                "SELECT N'TSQLV4' AS databasename, e.empid, e.firstname, e.lastname, e.titleofcourtesy, \n",
                "    CASE e.titleofcourtesy\n",
                "        WHEN 'Mr.' THEN 'Male'\n",
                "        WHEN 'Ms.' THEN 'Female'\n",
                "        WHEN 'Mrs.' THEN 'Female'\n",
                "        ELSE 'Unknown'\n",
                "    END as gender\n",
                "FROM HR.Employees as e\n",
                "\n",
                "\n",
                "-- Qeury using Northwinds2022TSQLV7 database \n",
                "USE Northwinds2022TSQLV7;\n",
                "\n",
                "SELECT N'Northwinds2022TSQLV7' AS DatabaseName, e.EmployeeId, e.EmployeeFirstName\n",
                "    , e.EmployeeLastName, e.EmployeeTitleOfCourtesy, \n",
                "    CASE e.EmployeeTitleOfCourtesy\n",
                "        WHEN 'Mr.' THEN 'Male'\n",
                "        WHEN 'Ms.' THEN 'Female'\n",
                "        WHEN 'Mrs.' THEN 'Female'\n",
                "        ELSE 'Unknown'\n",
                "    END as Gender\n",
                "FROM HumanResources.Employee as e"
            ],
            "metadata": {
                "azdata_cell_guid": "259df298-3808-4f8c-907b-994cdf4ff452",
                "language": "sql"
            },
            "outputs": [],
            "execution_count": null
        },
        {
            "cell_type": "markdown",
            "source": [
                "<span style=\"color: rgb(0, 128, 0);\">---------------------------------------------------------------------</span>\n",
                "\n",
                "<span style=\"color: rgb(0, 128, 0);\">-- 9 Predicates and Operators</span>\n",
                "\n",
                "<span style=\"color: rgb(0, 128, 0);\">---------------------------------------------------------------------</span>"
            ],
            "metadata": {
                "azdata_cell_guid": "39aa1e3e-b84d-491b-b1d8-43eaa1525419"
            },
            "attachments": {}
        },
        {
            "cell_type": "markdown",
            "source": [
                "Proposition: Write a query that returns orders with the id 10248, <span style=\"font-family: -apple-system, BlinkMacSystemFont, sans-serif; color: var(--vscode-foreground);\">10249, or&nbsp;</span>    <span style=\"font-family: -apple-system, BlinkMacSystemFont, sans-serif; color: var(--vscode-foreground);\">10250.&nbsp;</span>       \n",
                "\n",
                "Table: <span style=\"font-family: -apple-system, BlinkMacSystemFont, sans-serif; color: var(--vscode-foreground);\">Sales.[Order]</span>\n",
                "\n",
                "Columns: OrderId, EmployeeId, and OrderDate from the <span style=\"font-family: -apple-system, BlinkMacSystemFont, sans-serif; color: var(--vscode-foreground);\">Sales.[Order] table.</span>\n",
                "\n",
                "Predicate: WHERE o.OrderId IN (10248, 10249, 10250). This Where clause filters the Sales.\\[Order\\] table to only return rows whose OrderId matches a value IN the subquery (10248, 10249, 10250)"
            ],
            "metadata": {
                "azdata_cell_guid": "770df918-2b13-4498-81a2-ab896a429b08"
            },
            "attachments": {}
        },
        {
            "cell_type": "code",
            "source": [
                "USE TSQLV4;\n",
                "\n",
                "-- Predicates: IN, BETWEEN, LIKE\n",
                "SELECT N'TSQLV4' AS databasename, orderid, empid, orderdate\n",
                "FROM Sales.Orders\n",
                "WHERE orderid IN(10248, 10249, 10250);\n",
                "\n",
                "\n",
                "USE Northwinds2022TSQLV7;\n",
                "\n",
                "SELECT N'Northwinds2022TSQLV7' AS DatabaseName, o.OrderId, o.EmployeeId, o.OrderDate\n",
                "FROM Sales.[Order] as o \n",
                "WHERE o.OrderId IN (10248, 10249, 10250);"
            ],
            "metadata": {
                "azdata_cell_guid": "74380391-6f82-45d0-a742-990ff242ed58",
                "language": "sql"
            },
            "outputs": [],
            "execution_count": null
        },
        {
            "cell_type": "markdown",
            "source": [
                "Proposition: Write a query that only returns orders whose ids are between 10300 and 10310 inclusively.\n",
                "\n",
                "Table: <span style=\"font-family: -apple-system, BlinkMacSystemFont, sans-serif; color: var(--vscode-foreground);\">Sales.[Order]</span>\n",
                "\n",
                "Columns: OrderId, EmployeeId, and OrderDate from the <span style=\"font-family: -apple-system, BlinkMacSystemFont, sans-serif; color: var(--vscode-foreground);\">Sales.[Order] table.</span>\n",
                "\n",
                "Predicate: WHERE o.OrderId BETWEEN 10300 AND 10310. This W<span style=\"font-family: -apple-system, BlinkMacSystemFont, sans-serif; color: var(--vscode-foreground);\">here clause filters the Sales.[Order] table to only return rows whose OrderId&nbsp;</span>  <span style=\"font-family: -apple-system, BlinkMacSystemFont, sans-serif; color: var(--vscode-foreground);\">are between 10300 and 10310 inclusively.</span>"
            ],
            "metadata": {
                "azdata_cell_guid": "b32a9756-3300-4e04-baf0-4c23d4e590ec"
            },
            "attachments": {}
        },
        {
            "cell_type": "code",
            "source": [
                "USE TSQLV4;\n",
                "\n",
                "SELECT N'TSQLV4' AS databasename, orderid, empid, orderdate\n",
                "FROM Sales.Orders\n",
                "WHERE orderid BETWEEN 10300 AND 10310;\n",
                "\n",
                "\n",
                "USE Northwinds2022TSQLV7;\n",
                "\n",
                "SELECT N'Northwinds2022TSQLV7' AS DatabaseName, o.OrderId, o.EmployeeId, o.OrderDate\n",
                "FROM Sales.[Order] as o\n",
                "WHERE o.OrderId BETWEEN 10300 AND 10310;"
            ],
            "metadata": {
                "azdata_cell_guid": "b86dced3-82ba-4337-b749-89d8b44715a1",
                "language": "sql"
            },
            "outputs": [],
            "execution_count": null
        },
        {
            "cell_type": "markdown",
            "source": [
                "Proposition: Write a query that returns all employees whose lastname begins with the letter 'D'.\n",
                "\n",
                "Table: HumanResources.Employee\n",
                "\n",
                "Columns: EmployeeId, EmployeeFirstName, and EmployeeLastName from the <span style=\"font-family: -apple-system, BlinkMacSystemFont, sans-serif; color: var(--vscode-foreground);\">HumanResources.Employee table.</span>\n",
                "\n",
                "Predicate: WHERE e.EmployeeLastName LIKE N'D%'. <span style=\"font-family: -apple-system, BlinkMacSystemFont, sans-serif; color: var(--vscode-foreground);\">This W</span><span style=\"font-family: -apple-system, BlinkMacSystemFont, sans-serif; color: var(--vscode-foreground);\">here clause filters the&nbsp;</span>   HumanResources.Employee <span style=\"font-family: -apple-system, BlinkMacSystemFont, sans-serif; color: var(--vscode-foreground);\">table to only return rows whose&nbsp;</span>   EmployeeLastName   <span style=\"font-family: -apple-system, BlinkMacSystemFont, sans-serif; color: var(--vscode-foreground);\">&nbsp;begin with the character 'D'. The LIKE operator compares each row's&nbsp;</span>  <span style=\"font-family: -apple-system, BlinkMacSystemFont, sans-serif; color: var(--vscode-foreground);\">EmployeeLastName value with the string pattern&nbsp;</span>  <span style=\"font-family: -apple-system, BlinkMacSystemFont, sans-serif; color: var(--vscode-foreground);\">N'D%' and returns the row in the resulting table if the value matches the string pattern.</span>"
            ],
            "metadata": {
                "azdata_cell_guid": "e9418d5e-c9a0-4f35-9037-0cd15622b425"
            },
            "attachments": {}
        },
        {
            "cell_type": "code",
            "source": [
                "USE TSQLV4;\n",
                "\n",
                "SELECT N'TSQLV4' AS databasename, empid, firstname, lastname\n",
                "FROM HR.Employees\n",
                "WHERE lastname LIKE N'D%';\n",
                "\n",
                "\n",
                "USE Northwinds2022TSQLV7;\n",
                "\n",
                "SELECT N'Northwinds2022TSQLV7' AS DatabaseName, e.EmployeeId\n",
                "    , e.EmployeeFirstName, e.EmployeeLastName\n",
                "FROM HumanResources.Employee as e\n",
                "WHERE e.EmployeeLastName LIKE N'D%';"
            ],
            "metadata": {
                "azdata_cell_guid": "dd9dac49-cef2-4ef5-a93a-13ff8f72201a",
                "language": "sql"
            },
            "outputs": [],
            "execution_count": null
        },
        {
            "cell_type": "markdown",
            "source": [
                "Proposition: Write a query that returns all orders placed on or after 01/01/2016. Return the <span style=\"color: rgb(33, 33, 33); font-family: Menlo, Monaco, &quot;Courier New&quot;, monospace; font-size: 12px; white-space: pre;\">OrderId, EmployeeId, and OrderDate of those orders.</span>\n",
                "\n",
                "Table: <span style=\"color: rgb(33, 33, 33); font-family: Menlo, Monaco, &quot;Courier New&quot;, monospace; font-size: 12px; white-space: pre;\">Sales.[Order] with alias</span> <span style=\"color: rgb(33, 33, 33); font-family: Menlo, Monaco, &quot;Courier New&quot;, monospace; font-size: 12px; white-space: pre;\">o.</span>\n",
                "\n",
                "Columns: <span style=\"color: rgb(33, 33, 33); font-family: Menlo, Monaco, &quot;Courier New&quot;, monospace; font-size: 12px; white-space: pre;\">OrderId, EmployeeId, and OrderDate from table</span> <span style=\"color: rgb(33, 33, 33); font-family: Menlo, Monaco, &quot;Courier New&quot;, monospace; font-size: 12px; white-space: pre;\">Sales.[Order].</span>\n",
                "\n",
                "Predicate: The predicate o.OrderDate \\>= '20160101' in the Where clause filters the table and only returns orders' with an order date that is on or after <span style=\"font-family: -apple-system, BlinkMacSystemFont, sans-serif; color: var(--vscode-foreground);\">01/01/2016.</span>"
            ],
            "metadata": {
                "azdata_cell_guid": "e6dc9ac8-5fc2-4c13-ba0b-4bbdff7eea0a"
            },
            "attachments": {}
        },
        {
            "cell_type": "code",
            "source": [
                "USE TSQLV4;\n",
                "\n",
                "-- Comparison operators: =, >, <, >=, <=, <>, !=, !>, !< \n",
                "SELECT N'TSQLV4' AS databasename, orderid, empid, orderdate\n",
                "FROM Sales.Orders\n",
                "WHERE orderdate >= '20160101';\n",
                "\n",
                "\n",
                "USE Northwinds2022TSQLV7;\n",
                "\n",
                "SELECT N'Northwinds2022TSQLV7' AS DatabaseName, o.OrderId, o.EmployeeId, o.OrderDate\n",
                "FROM Sales.[Order] as o\n",
                "WHERE o.OrderDate >= '20160101';\n",
                "\n",
                ""
            ],
            "metadata": {
                "azdata_cell_guid": "edea52c7-5995-497b-84b5-1c80a84464c7",
                "language": "sql"
            },
            "outputs": [],
            "execution_count": null
        },
        {
            "cell_type": "markdown",
            "source": [
                "Proposition: Write a query that <span style=\"font-family: -apple-system, BlinkMacSystemFont, sans-serif; color: var(--vscode-foreground);\">returns only orders placed on or after&nbsp;</span>  <span style=\"font-family: -apple-system, BlinkMacSystemFont, sans-serif; color: var(--vscode-foreground);\">01/01/2016, and served by one of three employees with ids 1, 3, or 5.</span>\n",
                "\n",
                "Table: <span style=\"color: rgb(33, 33, 33); font-family: Menlo, Monaco, &quot;Courier New&quot;, monospace; font-size: 12px; white-space: pre;\">Sales.[Order] with alias</span> <span style=\"color: rgb(33, 33, 33); font-family: Menlo, Monaco, &quot;Courier New&quot;, monospace; font-size: 12px; white-space: pre;\">o.</span>\n",
                "\n",
                "Columns: N'Northwinds2022TSQLV7' as D<span style=\"font-size: 12px; white-space: pre;\">atabaseName, and OrderId, EmployeeId and OrderDate from the </span>  <span style=\"color: rgb(33, 33, 33); font-family: Menlo, Monaco, &quot;Courier New&quot;, monospace; font-size: 12px; white-space: pre;\">Sales.[Order] table.</span>\n",
                "\n",
                "Predicate: The predicate o.OrderDate \\>= '20160101' AND o.EmployeeId IN(1, 3, 5) returns only orders placed on or after <span style=\"font-family: -apple-system, BlinkMacSystemFont, sans-serif; color: var(--vscode-foreground);\">01/01/2016, and&nbsp;</span>  served by one of three employees with ids 1, 3, or 5<span style=\"font-family: -apple-system, BlinkMacSystemFont, sans-serif; color: var(--vscode-foreground);\">. The where clause then filters the table to only return the rows that satifies both predicates.</span>"
            ],
            "metadata": {
                "azdata_cell_guid": "e8d92c3b-9a38-49df-8d88-dd7ccd3045af"
            },
            "attachments": {}
        },
        {
            "cell_type": "code",
            "source": [
                "-- Qeury using TSQLV4 data base\n",
                "USE TSQLV4;\n",
                "\n",
                "-- Logical operators: AND, OR, NOT\n",
                "SELECT N'TSQLV4' AS databasename, orderid, empid, orderdate\n",
                "FROM Sales.Orders\n",
                "WHERE orderdate >= '20160101'\n",
                "  AND empid IN(1, 3, 5);\n",
                "\n",
                "\n",
                "-- Qeury using Northwinds2022TSQLV7 data base\n",
                "USE Northwinds2022TSQLV7;\n",
                "\n",
                "SELECT N'Northwinds2022TSQLV7' AS DatabaseName, o.OrderId, o.EmployeeId, o.OrderDate\n",
                "FROM Sales.[Order] as o\n",
                "WHERE o.OrderDate >= '20160101'\n",
                "  AND o.EmployeeId IN(1, 3, 5);"
            ],
            "metadata": {
                "azdata_cell_guid": "acbdc8f8-1057-4580-897c-e506d500ac99",
                "language": "sql"
            },
            "outputs": [],
            "execution_count": null
        },
        {
            "cell_type": "markdown",
            "source": [
                "Proposition: Write a query that returns the value of the total amount of each row, after discounts are applied. Return the OrderId, ProductId, Quantity, UnitPrice, DiscountPercentage,  and Value after discount.\n",
                "\n",
                "Table: Sales.OrderDetail as alias od.\n",
                "\n",
                "Columns: DatabaseName, <span style=\"font-family: -apple-system, BlinkMacSystemFont, sans-serif; color: var(--vscode-foreground);\">OrderId, ProductId, Quantity, UnitPrice, DiscountPercentage,&nbsp; and Val (valuue after discount).</span>\n",
                "\n",
                "Predicate: There is no predicate in this query."
            ],
            "metadata": {
                "azdata_cell_guid": "a7a7ff2a-9165-4f69-8112-02ee5fe79711"
            },
            "attachments": {}
        },
        {
            "cell_type": "code",
            "source": [
                "USE TSQLV4;\n",
                "\n",
                "-- Arithmetic operators: +, -, *, /, %\n",
                "SELECT N'TSQLV4' AS databasename, orderid, productid, qty, unitprice, discount,\n",
                "  qty * unitprice * (1 - discount) AS val\n",
                "FROM Sales.OrderDetails;\n",
                "\n",
                "\n",
                "USE Northwinds2022TSQLV7;\n",
                "\n",
                "-- Arithmetic operators: +, -, *, /, %\n",
                "SELECT N'Northwinds2022TSQLV7' AS DatabaseName, od.OrderId, od.ProductId, \n",
                "    od.Quantity, od.UnitPrice, od.DiscountPercentage,\n",
                "  od.Quantity * od.UnitPrice * (1 - od.DiscountPercentage) AS Val\n",
                "FROM Sales.OrderDetail as od;\n",
                ""
            ],
            "metadata": {
                "azdata_cell_guid": "4d71349b-41f7-4d70-863a-5562363b0024",
                "language": "sql"
            },
            "outputs": [],
            "execution_count": null
        },
        {
            "cell_type": "markdown",
            "source": [
                "Proposition: Write a query that returns orders (placed with <span style=\"color: rgb(33, 33, 33); font-family: Menlo, Monaco, &quot;Courier New&quot;, monospace; font-size: 12px; white-space: pre;\">CustomerId 1, and fullfilled by </span>  <span style=\"color: rgb(33, 33, 33); font-family: Menlo, Monaco, &quot;Courier New&quot;, monospace; font-size: 12px; white-space: pre;\">EmployeeId 1, 3, or 5) or (</span><span style=\"font-family: -apple-system, BlinkMacSystemFont, sans-serif; color: var(--vscode-foreground);\">placed with&nbsp;</span>  <span style=\"color: rgb(33, 33, 33); font-family: Menlo, Monaco, &quot;Courier New&quot;, monospace; font-size: 12px; white-space: pre;\">CustomerId 85, and fullfilled by </span>  <span style=\"color: rgb(33, 33, 33); font-family: Menlo, Monaco, &quot;Courier New&quot;, monospace; font-size: 12px; white-space: pre;\">EmployeeId 2, 4, or 6).</span>\n",
                "\n",
                "Table: Sales.\\[Order\\] as alias o.\n",
                "\n",
                "Columns: <span style=\"color: rgb(33, 33, 33); font-family: Menlo, Monaco, &quot;Courier New&quot;, monospace; font-size: 12px; white-space: pre;\">DatabaseName and OrderId, CustomerId, EmployeeId, and OrderDate from </span>  <span style=\"font-family: -apple-system, BlinkMacSystemFont, sans-serif; color: var(--vscode-foreground);\">Sales.[Order] table.</span>\n",
                "\n",
                "Predicate: o.CustomerId = 1 AND o.EmployeeId IN(1, 3, 5) returns rows where <span style=\"color: rgb(33, 33, 33); font-family: Menlo, Monaco, &quot;Courier New&quot;, monospace; font-size: 12px; white-space: pre;\">CustomerId is equal to 1 and </span>  <span style=\"color: rgb(33, 33, 33); font-family: Menlo, Monaco, &quot;Courier New&quot;, monospace; font-size: 12px; white-space: pre;\">EmployeeId is 1, 3, or 5.</span>\n",
                "\n",
                "<span style=\"color: rgb(33, 33, 33); font-family: Menlo, Monaco, &quot;Courier New&quot;, monospace; font-size: 12px; white-space: pre;\">Or </span>  <span style=\"font-size: 12px; white-space: pre;\">o.CustomerId = 85 AND o.EmployeeId IN(2, 4, 6) </span>  <span style=\"font-family: -apple-system, BlinkMacSystemFont, sans-serif; color: var(--vscode-foreground);\">returns rows where&nbsp;</span>    <span style=\"color: rgb(33, 33, 33); font-family: Menlo, Monaco, &quot;Courier New&quot;, monospace; font-size: 12px; white-space: pre;\">CustomerId is equal to 85 and </span>  <span style=\"color: rgb(33, 33, 33); font-family: Menlo, Monaco, &quot;Courier New&quot;, monospace; font-size: 12px; white-space: pre;\">EmployeeId is </span>  <span style=\"color: rgb(33, 33, 33); font-family: Menlo, Monaco, &quot;Courier New&quot;, monospace; font-size: 12px; white-space: pre;\">2, 4, or 6.</span>"
            ],
            "metadata": {
                "azdata_cell_guid": "69c34f01-e427-45e6-9f2a-db7193bd888e"
            },
            "attachments": {}
        },
        {
            "cell_type": "code",
            "source": [
                "USE TSQLV4;\n",
                "\n",
                "-- Operator Precedence\n",
                "\n",
                "-- AND precedes OR\n",
                "SELECT N'TSQLV4' AS databasename, orderid, custid, empid, orderdate\n",
                "FROM Sales.Orders\n",
                "WHERE\n",
                "        custid = 1\n",
                "    AND empid IN(1, 3, 5)\n",
                "    OR  custid = 85\n",
                "    AND empid IN(2, 4, 6);\n",
                "\n",
                "\n",
                "USE Northwinds2022TSQLV7;\n",
                "\n",
                "-- AND precedes OR\n",
                "SELECT N'Northwinds2022TSQLV7' AS DatabaseName, o.OrderId, o.CustomerId, o.EmployeeId, o.OrderDate\n",
                "FROM Sales.[Order] as o\n",
                "WHERE\n",
                "        o.CustomerId = 1\n",
                "    AND o.EmployeeId IN(1, 3, 5)\n",
                "    OR  o.CustomerId = 85\n",
                "    AND o.EmployeeId IN(2, 4, 6);"
            ],
            "metadata": {
                "azdata_cell_guid": "6a8c828c-778b-40dc-98db-4b28d8d1686b",
                "language": "sql"
            },
            "outputs": [],
            "execution_count": null
        },
        {
            "cell_type": "markdown",
            "source": [
                "Proposition: <span style=\"font-family: -apple-system, BlinkMacSystemFont, sans-serif; color: var(--vscode-foreground);\">Write a query that returns orders placed with&nbsp;</span>   <span style=\"color: rgb(33, 33, 33); font-family: Menlo, Monaco, &quot;Courier New&quot;, monospace; font-size: 12px; white-space: pre;\">CustomerId 1, and fullfilled by </span>   <span style=\"color: rgb(33, 33, 33); font-family: Menlo, Monaco, &quot;Courier New&quot;, monospace; font-size: 12px; white-space: pre;\">EmployeeId 1, 3, or 5, or </span>  <span style=\"font-family: -apple-system, BlinkMacSystemFont, sans-serif; color: var(--vscode-foreground);\">placed with&nbsp;</span>   <span style=\"color: rgb(33, 33, 33); font-family: Menlo, Monaco, &quot;Courier New&quot;, monospace; font-size: 12px; white-space: pre;\">CustomerId 85, and fullfilled by </span>   <span style=\"color: rgb(33, 33, 33); font-family: Menlo, Monaco, &quot;Courier New&quot;, monospace; font-size: 12px; white-space: pre;\">EmployeeId 2, 4, or 6.</span>\n",
                "\n",
                "Table: Sales.\\[Order\\] as alias o.\n",
                "\n",
                "Columns: <span style=\"color: rgb(33, 33, 33); font-family: Menlo, Monaco, &quot;Courier New&quot;, monospace; font-size: 12px; white-space: pre;\">DatabaseName and OrderId, CustomerId, EmployeeId, and OrderDate from </span>   <span style=\"font-family: -apple-system, BlinkMacSystemFont, sans-serif; color: var(--vscode-foreground);\">Sales.[Order] table.</span>\n",
                "\n",
                "Predicate: (<span style=\"font-family: -apple-system, BlinkMacSystemFont, sans-serif; color: var(--vscode-foreground);\">o.CustomerId = 1 AND o.EmployeeId IN(1, 3, 5)) returns rows where&nbsp;</span>  <span style=\"color: rgb(33, 33, 33); font-family: Menlo, Monaco, &quot;Courier New&quot;, monospace; font-size: 12px; white-space: pre;\">CustomerId is equal to 1 and </span>   <span style=\"color: rgb(33, 33, 33); font-family: Menlo, Monaco, &quot;Courier New&quot;, monospace; font-size: 12px; white-space: pre;\">EmployeeId is 1, 3, or 5.</span>\n",
                "\n",
                "<span style=\"color: rgb(33, 33, 33); font-family: Menlo, Monaco, &quot;Courier New&quot;, monospace; font-size: 12px; white-space: pre;\">Or </span>   (<span style=\"font-size: 12px; white-space: pre;\">o.CustomerId = 85 AND o.EmployeeId IN(2, 4, 6)) </span>   <span style=\"font-family: -apple-system, BlinkMacSystemFont, sans-serif; color: var(--vscode-foreground);\">returns rows where&nbsp;</span>  <span style=\"color: rgb(33, 33, 33); font-family: Menlo, Monaco, &quot;Courier New&quot;, monospace; font-size: 12px; white-space: pre;\">CustomerId is equal to 85 and </span>   <span style=\"color: rgb(33, 33, 33); font-family: Menlo, Monaco, &quot;Courier New&quot;, monospace; font-size: 12px; white-space: pre;\">EmployeeId is </span>   <span style=\"color: rgb(33, 33, 33); font-family: Menlo, Monaco, &quot;Courier New&quot;, monospace; font-size: 12px; white-space: pre;\">2, 4, or 6.</span>"
            ],
            "metadata": {
                "azdata_cell_guid": "cb19615e-34c8-4d08-9a1c-bebb0c9bc442"
            },
            "attachments": {}
        },
        {
            "cell_type": "code",
            "source": [
                "USE TSQLV4;\n",
                "\n",
                "-- Equivalent to\n",
                "SELECT N'TSQLV4' AS databasename, orderid, custid, empid, orderdate\n",
                "FROM Sales.Orders\n",
                "WHERE\n",
                "      ( custid = 1\n",
                "        AND empid IN(1, 3, 5) )\n",
                "    OR\n",
                "      ( custid = 85\n",
                "        AND empid IN(2, 4, 6) );\n",
                "\n",
                "\n",
                "USE Northwinds2022TSQLV7;\n",
                "\n",
                "-- Equivalent to\n",
                "SELECT N'Northwinds2022TSQLV7' AS DatabaseName, o.OrderId, o.CustomerId\n",
                "    , o.EmployeeId, o.OrderDate\n",
                "FROM Sales.[Order] as o\n",
                "WHERE\n",
                "      ( o.CustomerId = 1\n",
                "        AND o.EmployeeId IN(1, 3, 5) )\n",
                "    OR\n",
                "      ( o.CustomerId = 85\n",
                "        AND o.EmployeeId IN(2, 4, 6) );"
            ],
            "metadata": {
                "azdata_cell_guid": "9083cd79-fb38-4222-9075-c56a722e4ad1",
                "language": "sql"
            },
            "outputs": [],
            "execution_count": null
        },
        {
            "cell_type": "markdown",
            "source": [
                "Proposition: Write a query that showcases the arithmetic operators order of precedence.\n",
                "\n",
                "Table: None.\n",
                "\n",
                "<span style=\"font-family: -apple-system, BlinkMacSystemFont, sans-serif; color: var(--vscode-foreground);\">Columns: DatabaseName and arithmetic result.</span>\n",
                "\n",
                "Predicate: 10 + 2 \\* 3 results in 16 since the \\* operator has precedence over the + operator. (10 + 2) \\* 3 results in 36 since ( has precedence over the \\* operator."
            ],
            "metadata": {
                "azdata_cell_guid": "0fb992b4-700f-42e7-b320-00697a57c144"
            },
            "attachments": {}
        },
        {
            "cell_type": "code",
            "source": [
                "USE TSQLV4;\n",
                "\n",
                "-- *, / precedes +, -\n",
                "SELECT N'TSQLV4', 10 + 2 * 3   -- 16\n",
                "\n",
                "SELECT N'TSQLV4', (10 + 2) * 3 -- 36\n",
                "\n",
                "\n",
                "USE Northwinds2022TSQLV7;\n",
                "-- *, / precedes +, -\n",
                "SELECT N'Northwinds2022TSQLV7', 10 + 2 * 3   -- 16\n",
                "\n",
                "SELECT N'Northwinds2022TSQLV7', (10 + 2) * 3 -- 36\n",
                ""
            ],
            "metadata": {
                "azdata_cell_guid": "cad25dfb-84cb-476f-81c3-31685d835c9b",
                "language": "sql"
            },
            "outputs": [],
            "execution_count": null
        },
        {
            "cell_type": "markdown",
            "source": [
                "<span style=\"color: rgb(0, 128, 0);\">---------------------------------------------------------------------</span>\n",
                "\n",
                "<span style=\"color: rgb(0, 128, 0);\">-- 12 Operators and Functions</span>\n",
                "\n",
                "<span style=\"color: rgb(0, 128, 0);\">---------------------------------------------------------------------</span>"
            ],
            "metadata": {
                "azdata_cell_guid": "0b171a49-4e5c-436e-887b-6031d48d2caa"
            },
            "attachments": {}
        },
        {
            "cell_type": "markdown",
            "source": [
                "Proposition: Write a query that uses the + operator to concatonate Employees First and Last name together, and returns a table with Employee's id and full name.\n",
                "\n",
                "Table: HumanResources.Employee as e\n",
                "\n",
                "Columns: DatabaseName, EmployeeId <span style=\"font-family: -apple-system, BlinkMacSystemFont, sans-serif; color: var(--vscode-foreground);\">from&nbsp;</span>  <span style=\"font-family: -apple-system, BlinkMacSystemFont, sans-serif; color: var(--vscode-foreground);\">HumanResources.Employee table</span><span style=\"font-family: -apple-system, BlinkMacSystemFont, sans-serif; color: var(--vscode-foreground);\">, and EmployeeFirstName&nbsp;</span>  <span style=\"font-family: -apple-system, BlinkMacSystemFont, sans-serif; color: var(--vscode-foreground);\">and EmployeeLastName&nbsp;</span>  <span style=\"font-family: -apple-system, BlinkMacSystemFont, sans-serif; color: var(--vscode-foreground);\">from&nbsp;</span>  <span style=\"font-family: -apple-system, BlinkMacSystemFont, sans-serif; color: var(--vscode-foreground);\">HumanResources.Employee table concatonated as</span>  <span style=\"color: var(--vscode-foreground); font-family: -apple-system, BlinkMacSystemFont, sans-serif;\">&nbsp;FullName.</span>\n",
                "\n",
                "Predicate: N/A"
            ],
            "metadata": {
                "azdata_cell_guid": "387a819d-bd31-431e-aa66-782701cf37d0"
            },
            "attachments": {}
        },
        {
            "cell_type": "code",
            "source": [
                "USE TSQLV4;\n",
                "\n",
                "-- Concatenation\n",
                "SELECT N'TSQLV4' AS databasename, empid, firstname + N' ' + lastname AS fullname\n",
                "FROM HR.Employees;\n",
                "\n",
                "\n",
                "USE Northwinds2022TSQLV7;\n",
                "\n",
                "SELECT N'Northwinds2022TSQLV7' AS DatabaseName, e.EmployeeId, e.EmployeeFirstName + N' ' + e.EmployeeLastName AS FullName\n",
                "FROM HumanResources.Employee as e;"
            ],
            "metadata": {
                "azdata_cell_guid": "b0b82186-cae2-4653-bfc3-fa45e8fd01b7",
                "language": "sql"
            },
            "outputs": [],
            "execution_count": null
        },
        {
            "cell_type": "markdown",
            "source": [
                "Proposition: Write a query that demonstrates string concatenation for the customer's country, region, and city columns from the Sales.Customer table, creating a location column.  \n",
                "\n",
                "Table: Sales.Customer as alias c.  \n",
                "\n",
                "Columns: DatabaseName, CustomerId, CustomerCountry, CustomerRegion, CustomerCity, and Location (concatenation of CustomerCountry, CustomerRegion, and CustomerCity).  \n",
                "\n",
                "Predicate: None, as this query aims to concatenate columns from the Sales.Customer table without without the use of predicate."
            ],
            "metadata": {
                "azdata_cell_guid": "b2595229-04c0-4a5a-b66d-e2405404d11b"
            },
            "attachments": {}
        },
        {
            "cell_type": "code",
            "source": [
                "USE TSQLV4;\n",
                "\n",
                "-- Listing 2-7: Query Demonstrating String Concatenation\n",
                "SELECT N'TSQLV4' AS databasename, custid, country, region, city,\n",
                "  country + N',' + region + N',' + city AS location\n",
                "FROM Sales.Customers;\n",
                "\n",
                "\n",
                "USE Northwinds2022TSQLV7;\n",
                "\n",
                "-- Listing 2-7: Query Demonstrating String Concatenation\n",
                "SELECT N'Northwinds2022TSQLV7' AS DatabaseName, c.CustomerId\n",
                "    , c.CustomerCountry, c.CustomerRegion, c.CustomerCity,\n",
                "  c.CustomerCountry + N',' + c.CustomerRegion + N',' + c.CustomerCity AS Location\n",
                "FROM Sales.Customer as c;"
            ],
            "metadata": {
                "azdata_cell_guid": "c82ba5cd-e7fb-41ba-85ee-b9148e327849",
                "language": "sql"
            },
            "outputs": [],
            "execution_count": null
        },
        {
            "cell_type": "markdown",
            "source": [
                "Proposition: Write a query that returns customer's id, country, region, city and complete address as their location. Use the coalesce function to concatonate the customers location.\n",
                "\n",
                "Table: Sales.\\[Customer\\] as c.\n",
                "\n",
                "Columns: CustomerId, CustomerCountry, CustomerRegion, and CustomerCity from the Sales.\\[Customer\\] and Location.\n",
                "\n",
                "Predicate: <span style=\"font-family: -apple-system, BlinkMacSystemFont, sans-serif; color: var(--vscode-foreground);\">None, as this query aims to concatenate columns from the Sales.Customer table without without the use of predicate.</span>"
            ],
            "metadata": {
                "azdata_cell_guid": "da816cfa-fda9-4e8e-b0b3-c9acdb08876b"
            },
            "attachments": {}
        },
        {
            "cell_type": "code",
            "source": [
                "USE TSQLV4;\n",
                "\n",
                "-- convert NULL to empty string\n",
                "SELECT N'TSQLV4' AS databasename, custid, country, region, city,\n",
                "  country + COALESCE( N',' + region, N'') + N',' + city AS location\n",
                "FROM Sales.Customers;\n",
                "\n",
                "\n",
                "USE Northwinds2022TSQLV7;\n",
                "\n",
                "-- convert NULL to empty string\n",
                "SELECT N'Northwinds2022TSQLV7' AS DatabaseName, c.CustomerId, c.CustomerCountry, c.CustomerRegion, c.CustomerCity,\n",
                "  c.CustomerCountry + COALESCE( N',' + c.CustomerRegion, N'') + N',' + c.CustomerCity AS Location\n",
                "FROM Sales.[Customer] as c;"
            ],
            "metadata": {
                "azdata_cell_guid": "2ec961a6-2d1c-45df-a0c3-f156d0e39635",
                "language": "sql"
            },
            "outputs": [],
            "execution_count": null
        },
        {
            "cell_type": "markdown",
            "source": [
                "Proposition: Write a query that returns customer's id, country, region, city and complete address as their location. Use the concat function to concatonate the customers location.\n",
                "\n",
                "Table: Sales.\\[Customer\\] as c.\n",
                "\n",
                "Columns: CustomerId, CustomerCountry, CustomerRegion, and CustomerCity from the Sales.\\[Customer\\] and Location.\n",
                "\n",
                "Predicate: <span style=\"font-family: -apple-system, BlinkMacSystemFont, sans-serif; color: var(--vscode-foreground);\">None, as this query aims to concatenate columns from the Sales.Customer table without without the use of predicate.</span>"
            ],
            "metadata": {
                "azdata_cell_guid": "9b21846b-e8a9-4cd5-be81-fdd0966c43b9"
            },
            "attachments": {}
        },
        {
            "cell_type": "code",
            "source": [
                "USE TSQLV4;\n",
                "\n",
                "-- using the CONCAT function\n",
                "SELECT N'TSQLV4' AS databasename, custid, country, region, city,\n",
                "  CONCAT(country, N',' + region, N',' + city) AS location\n",
                "FROM Sales.Customers;\n",
                "\n",
                "\n",
                "USE Northwinds2022TSQLV7;\n",
                "\n",
                "-- using the CONCAT function\n",
                "SELECT N'Northwinds2022TSQLV7' AS DatabaseName, c.CustomerId, c.CustomerCountry, c.CustomerRegion, c.CustomerCity,\n",
                "  CONCAT(c.CustomerCountry, N',' + c.CustomerRegion, N',' + c.CustomerCity) AS Location\n",
                "FROM Sales.[Customer] as c;"
            ],
            "metadata": {
                "azdata_cell_guid": "efb54062-b9d4-4a07-bf6f-1dd00a62dfe9",
                "language": "sql"
            },
            "outputs": [],
            "execution_count": null
        },
        {
            "cell_type": "markdown",
            "source": [
                "Proposition: \n",
                "\n",
                "1. Write a query that returns a substring of the first three characters in a given string. Use the function SUBSTRING(string, first, length).\n",
                "2. Write a query that returns a substring of the three rightmost characters in a given string. Use the function RIGHT(string, length). \n",
                "3. Write a query that returns the length of a given string. Use the function LEN(string).\n",
                "4. Write a query that returns the character byte of a given string. Use the function DATALENGTH(string).\n",
                "5. Write a query that returns the index of the first occurance of character in a given string. Use the function CHARINDEX(character, string\\[, start\\_pos\\]).\n",
                "6. Write a query that returns the index of the first occurance of a pattern of character/s in a given string. Use the function PATINDEX(pattern, string).\n",
                "7. Write a query that replaces a substring in a given string, with a new substring. Use the function REPLACE(string, replaced\\_substring, replacement\\_substring).\n",
                "8. Write a query that replicate a string a specified amount of times. Use the function REPLICATE(string, num\\_times).\n",
                "9. Write a query that replaced a specified a specified number of sequential characters with a given string. Use the function STUFF(string, start\\_pos, num\\_chars, replacement\\_substring).\n",
                "10. Write a query that changes all characters in a string to uppercase. Use the function UPPER(string).\n",
                "11. Write a query that changes all characters in a string to lowercase. Use the function LOWER(string).\n",
                "12. Write a query that removes all whitespaces from a sting. Use the functions RTRIM(string) and LTRIM(string).\n",
                "13. Write a query that returns the string equivalent of a number; if the number is less than 10 characaters, pad the remaining characters of the string with leading zeros. Use the function FORMAT(number, string).\n",
                "\n",
                "Table: None.\n",
                "\n",
                "Columns: One unamed column that contains the return value of the function ran.\n",
                "\n",
                "Predicate: No predicates."
            ],
            "metadata": {
                "azdata_cell_guid": "40cdce43-2362-481b-b8e4-c2f1d41618ae"
            },
            "attachments": {}
        },
        {
            "cell_type": "code",
            "source": [
                "USE Northwinds2022TSQLV7;\n",
                "\n",
                "-- Functions\n",
                "SELECT SUBSTRING('abcde', 1, 3); -- 'abc'\n",
                "\n",
                "SELECT RIGHT('abcde', 3); -- 'cde'\n",
                "\n",
                "SELECT LEN(N'abcde'); -- 5\n",
                "\n",
                "SELECT DATALENGTH(N'abcde'); -- 10\n",
                "\n",
                "SELECT CHARINDEX(' ','Itzik Ben-Gan'); -- 6\n",
                "\n",
                "SELECT PATINDEX('%[0-9]%', 'abcd123efgh'); -- 5\n",
                "\n",
                "SELECT REPLACE('1-a 2-b', '-', ':'); -- '1:a 2:b'\n",
                "\n",
                "SELECT REPLICATE('abc', 3); -- 'abcabcabc'\n",
                "\n",
                "SELECT STUFF('xyz', 2, 1, 'abc'); -- 'xabcz'\n",
                "\n",
                "SELECT UPPER('Itzik Ben-Gan'); -- 'ITZIK BEN-GAN'\n",
                "\n",
                "SELECT LOWER('Itzik Ben-Gan'); -- 'itzik ben-gan'\n",
                "\n",
                "SELECT RTRIM(LTRIM('   abc   ')); -- 'abc'\n",
                "\n",
                "SELECT FORMAT(1759, '0000000000'); -- '0000001759'"
            ],
            "metadata": {
                "azdata_cell_guid": "08af9e87-0a76-4b08-806f-1aa75253160e",
                "language": "sql"
            },
            "outputs": [],
            "execution_count": null
        },
        {
            "cell_type": "markdown",
            "source": [
                "Proposition: Write a query that counts the numnber of occurances of the character e in every employee's lastname. Use LEN() and REPLACE() to replace all occurances of 'e' from <span style=\"color: rgb(33, 33, 33); font-family: Menlo, Monaco, &quot;Courier New&quot;, monospace; font-size: 12px; white-space: pre;\">EmployeeLastName and return the diff of len (</span><span style=\"color: rgb(33, 33, 33); font-family: Menlo, Monaco, &quot;Courier New&quot;, monospace; font-size: 12px; white-space: pre;\">EmployeeLastName - </span>  <span style=\"color: rgb(33, 33, 33); font-family: Menlo, Monaco, &quot;Courier New&quot;, monospace; font-size: 12px; white-space: pre;\">EmployeeLastName with 'e').</span>\n",
                "\n",
                "Table: H<span style=\"color: rgb(33, 33, 33); font-family: Menlo, Monaco, &quot;Courier New&quot;, monospace; font-size: 12px; white-space: pre;\">umanResources.Employee as </span>  <span style=\"color: rgb(33, 33, 33); font-family: Menlo, Monaco, &quot;Courier New&quot;, monospace; font-size: 12px; white-space: pre;\">e</span>\n",
                "\n",
                "Columns: D<span style=\"color: rgb(33, 33, 33); font-family: Menlo, Monaco, &quot;Courier New&quot;, monospace; font-size: 12px; white-space: pre;\">atabaseName, EmployeeId and EmployeeLastName from </span>  <span style=\"font-family: -apple-system, BlinkMacSystemFont, sans-serif; color: var(--vscode-foreground);\">H</span><span style=\"color: rgb(33, 33, 33); font-family: Menlo, Monaco, &quot;Courier New&quot;, monospace; font-size: 12px; white-space: pre;\">umanResources.Employee table,</span>  <span style=\"color: rgb(33, 33, 33); font-family: Menlo, Monaco, &quot;Courier New&quot;, monospace; font-size: 12px; white-space: pre;\"> and </span>  <span style=\"color: rgb(33, 33, 33); font-family: Menlo, Monaco, &quot;Courier New&quot;, monospace; font-size: 12px; white-space: pre;\">NumOccur.</span>\n",
                "\n",
                "Predicate: No predicate in the query."
            ],
            "metadata": {
                "azdata_cell_guid": "1976bbd1-b93f-4235-957c-c7669774c99b"
            },
            "attachments": {}
        },
        {
            "cell_type": "code",
            "source": [
                "USE TSQLV4;\n",
                "\n",
                "SELECT N'TSQLV4' AS databasename, empid, lastname,\n",
                "  LEN(lastname) - LEN(REPLACE(lastname, 'e', '')) AS numoccur\n",
                "FROM HR.Employees;\n",
                "\n",
                "\n",
                "USE Northwinds2022TSQLV7;\n",
                "\n",
                "SELECT N'Northwinds2022TSQLV7' AS DatabaseName, e.EmployeeId, e.EmployeeLastName,\n",
                "  LEN(e.EmployeeLastName) - LEN(REPLACE(e.EmployeeLastName, 'e', '')) AS NumOccur\n",
                "FROM HumanResources.Employee as e;"
            ],
            "metadata": {
                "azdata_cell_guid": "666c3846-9ae9-4a04-a8b6-cfed69599caa",
                "language": "sql"
            },
            "outputs": [],
            "execution_count": null
        },
        {
            "cell_type": "markdown",
            "source": [
                "Proposition: Write a query that returns the supplierid as a string with 10 characters; padd the string with zero on the left if needed.<span style=\"font-family: -apple-system, BlinkMacSystemFont, sans-serif; color: var(--vscode-foreground);\">REPLICATE('0', 9) return a string of 9 zeros and concatonate it with</span>  <span style=\"font-family: -apple-system, BlinkMacSystemFont, sans-serif; color: var(--vscode-foreground);\">&nbsp;CAST(s.SupplierId AS VARCHAR(10)) to convert the supplierid to a string of 10 maximum characters. Lastly return the 10 rightmost characters.</span>\n",
                "\n",
                "<span style=\"font-family: -apple-system, BlinkMacSystemFont, sans-serif; color: var(--vscode-foreground);\">Table:&nbsp;Production.[Supplier] as s.</span>\n",
                "\n",
                "Columns: <span style=\"color: rgb(33, 33, 33); font-family: Menlo, Monaco, &quot;Courier New&quot;, monospace; font-size: 12px; white-space: pre;\">SupplierId from the </span>  <span style=\"font-family: -apple-system, BlinkMacSystemFont, sans-serif; color: var(--vscode-foreground);\">Production.[Supplier]</span>     <span style=\"font-family: -apple-system, BlinkMacSystemFont, sans-serif; color: var(--vscode-foreground);\">&nbsp;table and&nbsp;</span>     <span style=\"color: rgb(33, 33, 33); font-family: Menlo, Monaco, &quot;Courier New&quot;, monospace; font-size: 12px; white-space: pre;\">StrSupplierId.</span>\n",
                "\n",
                "Predicate: There are no predicates in query."
            ],
            "metadata": {
                "azdata_cell_guid": "c51a826c-1071-4cf3-8aae-6044b5f7657d"
            },
            "attachments": {}
        },
        {
            "cell_type": "code",
            "source": [
                "USE TSQLV4;\n",
                "\n",
                "SELECT N'TSQLV4' AS databasename, supplierid,\n",
                "  RIGHT(REPLICATE('0', 9) + CAST(supplierid AS VARCHAR(10)),\n",
                "        10) AS strsupplierid\n",
                "FROM Production.Suppliers;\n",
                "\n",
                "\n",
                "USE Northwinds2022TSQLV7;\n",
                "\n",
                "SELECT N'Northwinds2022TSQLV7' AS DatabaseName, s.SupplierId,\n",
                "  RIGHT(REPLICATE('0', 9) + CAST(s.SupplierId AS VARCHAR(10)),\n",
                "        10) AS StrSupplierId\n",
                "FROM Production.[Supplier] as s;"
            ],
            "metadata": {
                "azdata_cell_guid": "8a352eaf-e96e-4b43-aead-10e29dcf3fe0",
                "language": "sql"
            },
            "outputs": [],
            "execution_count": null
        },
        {
            "cell_type": "markdown",
            "source": [
                "Proposition: Write a query that uses data compression and decompression, and string splitting.\n",
                "\n",
                "Table: Not applicable as the query doesn't involve any specific tables. It primarily demonstrates the usage of SQL functions.\n",
                "\n",
                "Columns: Not applicable as there are no columns being selected from any table.\n",
                "\n",
                "Predicate: The query showcases the following:\n",
                "\n",
                "- Compression of a given string using the COMPRESS function.\n",
                "- Decompression of the compressed string using the DECOMPRESS function.\n",
                "- Casting the decompressed string to NVARCHAR(MAX).\n",
                "- Splitting a string into multiple values using the STRING\\_SPLIT function."
            ],
            "metadata": {
                "azdata_cell_guid": "17f1e295-cf8e-408f-be85-8f575820e0ab"
            },
            "attachments": {}
        },
        {
            "cell_type": "code",
            "source": [
                "USE Northwinds2022TSQLV7;\n",
                "\n",
                "-- COMPRESS\n",
                "SELECT COMPRESS(N'This is my cv. Imagine it was much longer.');\n",
                "\n",
                "/*\n",
                "INSERT INTO dbo.EmployeeCVs( empid, cv )\n",
                "  VALUES( @empid, COMPRESS(@cv) );\n",
                "*/\n",
                "\n",
                "-- DECOMPRESS\n",
                "SELECT DECOMPRESS(COMPRESS(N'This is my cv. Imagine it was much longer.'));\n",
                "\n",
                "SELECT\n",
                "  CAST(\n",
                "    DECOMPRESS(COMPRESS(N'This is my cv. Imagine it was much longer.'))\n",
                "      AS NVARCHAR(MAX));\n",
                "\n",
                "/*\n",
                "SELECT empid, CAST(DECOMPRESS(cv) AS NVARCHAR(MAX)) AS cv\n",
                "FROM dbo.EmployeeCVs;\n",
                "*/\n",
                "\n",
                "-- STRING_SPLIT\n",
                "SELECT CAST(value AS INT) AS myvalue\n",
                "FROM STRING_SPLIT('10248,10249,10250', ',') AS S;\n",
                "\n",
                "/*\n",
                "myvalue\n",
                "-----------\n",
                "10248\n",
                "10249\n",
                "10250\n",
                "*/"
            ],
            "metadata": {
                "azdata_cell_guid": "f7d40b5d-b6e7-4521-b3df-e33cde3b8412",
                "language": "sql"
            },
            "outputs": [],
            "execution_count": null
        }
    ]
}