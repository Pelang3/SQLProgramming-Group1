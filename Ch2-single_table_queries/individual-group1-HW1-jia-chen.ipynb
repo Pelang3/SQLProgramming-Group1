{
    "metadata": {
        "kernelspec": {
            "name": "SQL",
            "display_name": "SQL",
            "language": "sql"
        },
        "language_info": {
            "name": "sql",
            "version": ""
        }
    },
    "nbformat_minor": 2,
    "nbformat": 4,
    "cells": [
        {
            "cell_type": "markdown",
            "source": [
                "### **jia chen group 1 : Q6 and Q7**"
            ],
            "metadata": {
                "azdata_cell_guid": "5ef230b9-c737-4977-9b25-6e3199df0500"
            },
            "attachments": {}
        },
        {
            "cell_type": "markdown",
            "source": [
                "### **Q6**\n",
                "\n",
                "  \n",
                "\n",
                "\\-- Explain the difference between the following two queries\n",
                "\n",
                "\\-- Query 1\n",
                "\n",
                "SELECT empid, COUNT(\\*) AS numorders\n",
                "\n",
                "FROM Sales.Orders\n",
                "\n",
                "WHERE orderdate \\< '20160501'\n",
                "\n",
                "GROUP BY empid;\n",
                "\n",
                "\\-- Query 2\n",
                "\n",
                "SELECT empid, COUNT(\\*) AS numorders\n",
                "\n",
                "FROM Sales.Orders\n",
                "\n",
                "GROUP BY empid\n",
                "\n",
                "HAVING MAX(orderdate) \\< '20160501';"
            ],
            "metadata": {
                "azdata_cell_guid": "931d0675-3ffd-4d23-8293-30a03773c47a"
            },
            "attachments": {}
        },
        {
            "cell_type": "markdown",
            "source": [
                "**Test the TSQLV4 is successfully**"
            ],
            "metadata": {
                "azdata_cell_guid": "f573daf0-5aeb-426e-bc1e-939e0b7a8ab9"
            },
            "attachments": {}
        },
        {
            "cell_type": "code",
            "source": [
                "USE [TSQLV4] \r\n",
                "GO\r\n",
                "\r\n",
                "SELECT empid, COUNT(*) AS numorders\r\n",
                "FROM Sales.Orders\r\n",
                "WHERE orderdate < '20160501'\r\n",
                "GROUP BY empid;\r\n",
                "\r\n",
                "SELECT empid, COUNT(*) AS numorders\r\n",
                "FROM Sales.Orders\r\n",
                "GROUP BY empid\r\n",
                "HAVING MAX(orderdate) < '20160501';\r\n",
                ""
            ],
            "metadata": {
                "azdata_cell_guid": "cc04fa32-3ef5-4de7-817d-a515f4d6a64b",
                "language": "sql"
            },
            "outputs": [
                {
                    "output_type": "display_data",
                    "data": {
                        "text/html": "Commands completed successfully."
                    },
                    "metadata": {}
                },
                {
                    "output_type": "display_data",
                    "data": {
                        "text/html": "(9 rows affected)"
                    },
                    "metadata": {}
                },
                {
                    "output_type": "display_data",
                    "data": {
                        "text/html": "(4 rows affected)"
                    },
                    "metadata": {}
                },
                {
                    "output_type": "display_data",
                    "data": {
                        "text/html": "Total execution time: 00:00:00.153"
                    },
                    "metadata": {}
                },
                {
                    "output_type": "execute_result",
                    "execution_count": 2,
                    "data": {
                        "application/vnd.dataresource+json": {
                            "schema": {
                                "fields": [
                                    {
                                        "name": "empid"
                                    },
                                    {
                                        "name": "numorders"
                                    }
                                ]
                            },
                            "data": [
                                {
                                    "empid": "1",
                                    "numorders": "118"
                                },
                                {
                                    "empid": "2",
                                    "numorders": "94"
                                },
                                {
                                    "empid": "3",
                                    "numorders": "127"
                                },
                                {
                                    "empid": "4",
                                    "numorders": "154"
                                },
                                {
                                    "empid": "5",
                                    "numorders": "42"
                                },
                                {
                                    "empid": "6",
                                    "numorders": "67"
                                },
                                {
                                    "empid": "7",
                                    "numorders": "70"
                                },
                                {
                                    "empid": "8",
                                    "numorders": "101"
                                },
                                {
                                    "empid": "9",
                                    "numorders": "43"
                                }
                            ]
                        },
                        "text/html": "<table><tr><th>empid</th><th>numorders</th></tr><tr><td>1</td><td>118</td></tr><tr><td>2</td><td>94</td></tr><tr><td>3</td><td>127</td></tr><tr><td>4</td><td>154</td></tr><tr><td>5</td><td>42</td></tr><tr><td>6</td><td>67</td></tr><tr><td>7</td><td>70</td></tr><tr><td>8</td><td>101</td></tr><tr><td>9</td><td>43</td></tr></table>"
                    },
                    "metadata": {}
                },
                {
                    "output_type": "execute_result",
                    "execution_count": 2,
                    "data": {
                        "application/vnd.dataresource+json": {
                            "schema": {
                                "fields": [
                                    {
                                        "name": "empid"
                                    },
                                    {
                                        "name": "numorders"
                                    }
                                ]
                            },
                            "data": [
                                {
                                    "empid": "9",
                                    "numorders": "43"
                                },
                                {
                                    "empid": "3",
                                    "numorders": "127"
                                },
                                {
                                    "empid": "6",
                                    "numorders": "67"
                                },
                                {
                                    "empid": "5",
                                    "numorders": "42"
                                }
                            ]
                        },
                        "text/html": "<table><tr><th>empid</th><th>numorders</th></tr><tr><td>9</td><td>43</td></tr><tr><td>3</td><td>127</td></tr><tr><td>6</td><td>67</td></tr><tr><td>5</td><td>42</td></tr></table>"
                    },
                    "metadata": {}
                }
            ],
            "execution_count": 2
        },
        {
            "cell_type": "markdown",
            "source": [
                "**Now we need modify the queries in the Northwind database.**"
            ],
            "metadata": {
                "language": "sql",
                "azdata_cell_guid": "47f22959-bd62-468f-8346-269a4b678522"
            },
            "attachments": {}
        },
        {
            "cell_type": "code",
            "source": [
                "USE [Northwinds2022TSQLV7] \r\n",
                "GO\r\n",
                "\r\n",
                "SELECT EmployeeId, COUNT(*) AS numorders\r\n",
                "FROM [Sales].[Order]\r\n",
                "WHERE OrderDate < '20160501'\r\n",
                "GROUP BY EmployeeId;\r\n",
                "\r\n",
                "SELECT EmployeeId, COUNT(*) AS numorders\r\n",
                "FROM [Sales].[Order]\r\n",
                "GROUP BY EmployeeId\r\n",
                "HAVING MAX(OrderDate) < '20160501';\r\n",
                ""
            ],
            "metadata": {
                "language": "sql",
                "azdata_cell_guid": "d50d5cca-f5da-42a6-acc1-006e72589a91"
            },
            "outputs": [
                {
                    "output_type": "display_data",
                    "data": {
                        "text/html": "Commands completed successfully."
                    },
                    "metadata": {}
                },
                {
                    "output_type": "display_data",
                    "data": {
                        "text/html": "(9 rows affected)"
                    },
                    "metadata": {}
                },
                {
                    "output_type": "display_data",
                    "data": {
                        "text/html": "(4 rows affected)"
                    },
                    "metadata": {}
                },
                {
                    "output_type": "display_data",
                    "data": {
                        "text/html": "Total execution time: 00:00:00.145"
                    },
                    "metadata": {}
                },
                {
                    "output_type": "execute_result",
                    "execution_count": 3,
                    "data": {
                        "application/vnd.dataresource+json": {
                            "schema": {
                                "fields": [
                                    {
                                        "name": "EmployeeId"
                                    },
                                    {
                                        "name": "numorders"
                                    }
                                ]
                            },
                            "data": [
                                {
                                    "EmployeeId": "9",
                                    "numorders": "43"
                                },
                                {
                                    "EmployeeId": "3",
                                    "numorders": "127"
                                },
                                {
                                    "EmployeeId": "6",
                                    "numorders": "67"
                                },
                                {
                                    "EmployeeId": "7",
                                    "numorders": "70"
                                },
                                {
                                    "EmployeeId": "1",
                                    "numorders": "118"
                                },
                                {
                                    "EmployeeId": "4",
                                    "numorders": "154"
                                },
                                {
                                    "EmployeeId": "5",
                                    "numorders": "42"
                                },
                                {
                                    "EmployeeId": "2",
                                    "numorders": "94"
                                },
                                {
                                    "EmployeeId": "8",
                                    "numorders": "101"
                                }
                            ]
                        },
                        "text/html": "<table><tr><th>EmployeeId</th><th>numorders</th></tr><tr><td>9</td><td>43</td></tr><tr><td>3</td><td>127</td></tr><tr><td>6</td><td>67</td></tr><tr><td>7</td><td>70</td></tr><tr><td>1</td><td>118</td></tr><tr><td>4</td><td>154</td></tr><tr><td>5</td><td>42</td></tr><tr><td>2</td><td>94</td></tr><tr><td>8</td><td>101</td></tr></table>"
                    },
                    "metadata": {}
                },
                {
                    "output_type": "execute_result",
                    "execution_count": 3,
                    "data": {
                        "application/vnd.dataresource+json": {
                            "schema": {
                                "fields": [
                                    {
                                        "name": "EmployeeId"
                                    },
                                    {
                                        "name": "numorders"
                                    }
                                ]
                            },
                            "data": [
                                {
                                    "EmployeeId": "9",
                                    "numorders": "43"
                                },
                                {
                                    "EmployeeId": "3",
                                    "numorders": "127"
                                },
                                {
                                    "EmployeeId": "6",
                                    "numorders": "67"
                                },
                                {
                                    "EmployeeId": "5",
                                    "numorders": "42"
                                }
                            ]
                        },
                        "text/html": "<table><tr><th>EmployeeId</th><th>numorders</th></tr><tr><td>9</td><td>43</td></tr><tr><td>3</td><td>127</td></tr><tr><td>6</td><td>67</td></tr><tr><td>5</td><td>42</td></tr></table>"
                    },
                    "metadata": {}
                }
            ],
            "execution_count": 3
        },
        {
            "cell_type": "markdown",
            "source": [
                "**ANS for Q6**\n",
                "\n",
                "<span style=\"color: rgb(55, 65, 81); font-family: Söhne, ui-sans-serif, system-ui, -apple-system, &quot;Segoe UI&quot;, Roboto, Ubuntu, Cantarell, &quot;Noto Sans&quot;, sans-serif, &quot;Helvetica Neue&quot;, Arial, &quot;Apple Color Emoji&quot;, &quot;Segoe UI Emoji&quot;, &quot;Segoe UI Symbol&quot;, &quot;Noto Color Emoji&quot;; font-size: 16px; white-space-collapse: preserve;\">Query 1:</span>\n",
                "\n",
                "<span style=\"color: #0000ff;\">SELECT</span> EmployeeId, <span style=\"color: #795e26;\">COUNT</span>(<span style=\"color: #000000;\">*</span>) <span style=\"color: #0000ff;\">AS</span> numorders\n",
                "\n",
                "<span style=\"color: #0000ff;\">FROM</span> \\[Sales\\].\\[Order\\]\n",
                "\n",
                "<span style=\"color: #0000ff;\">WHERE</span> OrderDate <span style=\"color: #000000;\">&lt;</span> <span style=\"color: #a31515;\">'20160501'</span>\n",
                "\n",
                "<span style=\"color: #0000ff;\">GROUP BY</span> EmployeeId;\n",
                "\n",
                "  \n",
                "\n",
                "  \n",
                "\n",
                "### <span style=\"color: rgb(55, 65, 81); font-family: Söhne, ui-sans-serif, system-ui, -apple-system, &quot;Segoe UI&quot;, Roboto, Ubuntu, Cantarell, &quot;Noto Sans&quot;, sans-serif, &quot;Helvetica Neue&quot;, Arial, &quot;Apple Color Emoji&quot;, &quot;Segoe UI Emoji&quot;, &quot;Segoe UI Symbol&quot;, &quot;Noto Color Emoji&quot;; font-size: 16px; text-wrap: wrap;\">This query filters the orders based on the condition<span style=\"background-color: yellow;\">(orderdata)</span></span> <span style=\"color: rgb(55, 65, 81); font-family: Söhne, ui-sans-serif, system-ui, -apple-system, &quot;Segoe UI&quot;, Roboto, Ubuntu, Cantarell, &quot;Noto Sans&quot;, sans-serif, &quot;Helvetica Neue&quot;, Arial, &quot;Apple Color Emoji&quot;, &quot;Segoe UI Emoji&quot;, &quot;Segoe UI Symbol&quot;, &quot;Noto Color Emoji&quot;; font-size: 16px; text-wrap: wrap; background-color: yellow;\"> before grouping them by employeeID</span><span style=\"color: rgb(55, 65, 81); font-family: Söhne, ui-sans-serif, system-ui, -apple-system, &quot;Segoe UI&quot;, Roboto, Ubuntu, Cantarell, &quot;Noto Sans&quot;, sans-serif, &quot;Helvetica Neue&quot;, Arial, &quot;Apple Color Emoji&quot;, &quot;Segoe UI Emoji&quot;, &quot;Segoe UI Symbol&quot;, &quot;Noto Color Emoji&quot;; font-size: 16px; text-wrap: wrap;\">. It counts the number of orders for each employee that satisfies the condition.</span>\n",
                "\n",
                "  \n",
                "\n",
                "  \n",
                "\n",
                "<span style=\"color: rgb(55, 65, 81); font-family: Söhne, ui-sans-serif, system-ui, -apple-system, &quot;Segoe UI&quot;, Roboto, Ubuntu, Cantarell, &quot;Noto Sans&quot;, sans-serif, &quot;Helvetica Neue&quot;, Arial, &quot;Apple Color Emoji&quot;, &quot;Segoe UI Emoji&quot;, &quot;Segoe UI Symbol&quot;, &quot;Noto Color Emoji&quot;; font-size: 16px; text-wrap: wrap;\">Query 2 :</span>\n",
                "\n",
                "<span style=\"font-size: 16px;\"><br></span>\n",
                "\n",
                "<span style=\"color: #0000ff;\">SELECT</span> EmployeeId, <span style=\"color: #795e26;\">COUNT</span>(<span style=\"color: #000000;\">*</span>) <span style=\"color: #0000ff;\">AS</span> numorders\n",
                "\n",
                "<span style=\"color: #0000ff;\">FROM</span> \\[Sales\\].\\[Order\\]\n",
                "\n",
                "<span style=\"color: #0000ff;\">GROUP BY</span> EmployeeId\n",
                "\n",
                "<span style=\"color: #0000ff;\">HAVING</span> <span style=\"color: #795e26;\">MAX</span>(OrderDate) <span style=\"color: #000000;\">&lt;</span> <span style=\"color: #a31515;\">'20160501'</span>;\n",
                "\n",
                "<span style=\"color: rgb(55, 65, 81); font-family: Söhne, ui-sans-serif, system-ui, -apple-system, &quot;Segoe UI&quot;, Roboto, Ubuntu, Cantarell, &quot;Noto Sans&quot;, sans-serif, &quot;Helvetica Neue&quot;, Arial, &quot;Apple Color Emoji&quot;, &quot;Segoe UI Emoji&quot;, &quot;Segoe UI Symbol&quot;, &quot;Noto Color Emoji&quot;; font-size: 16px; text-wrap: wrap;\">This query groups all orders by </span> <span style=\"background-color: yellow; color: rgb(55, 65, 81); font-family: Söhne, ui-sans-serif, system-ui, -apple-system, &quot;Segoe UI&quot;, Roboto, Ubuntu, Cantarell, &quot;Noto Sans&quot;, sans-serif, &quot;Helvetica Neue&quot;, Arial, &quot;Apple Color Emoji&quot;, &quot;Segoe UI Emoji&quot;, &quot;Segoe UI Symbol&quot;, &quot;Noto Color Emoji&quot;; font-size: 16px; text-wrap: wrap;\">employeeID </span> <span style=\"text-wrap: wrap; color: rgb(55, 65, 81); font-family: Söhne, ui-sans-serif, system-ui, -apple-system, &quot;Segoe UI&quot;, Roboto, Ubuntu, Cantarell, &quot;Noto Sans&quot;, sans-serif, &quot;Helvetica Neue&quot;, Arial, &quot;Apple Color Emoji&quot;, &quot;Segoe UI Emoji&quot;, &quot;Segoe UI Symbol&quot;, &quot;Noto Color Emoji&quot;; font-size: 16px;\">without any initial filtering. Then, it applies the HAVING</span> <span style=\"text-wrap: wrap; color: rgb(55, 65, 81); font-family: Söhne, ui-sans-serif, system-ui, -apple-system, &quot;Segoe UI&quot;, Roboto, Ubuntu, Cantarell, &quot;Noto Sans&quot;, sans-serif, &quot;Helvetica Neue&quot;, Arial, &quot;Apple Color Emoji&quot;, &quot;Segoe UI Emoji&quot;, &quot;Segoe UI Symbol&quot;, &quot;Noto Color Emoji&quot;; font-size: 16px;\"> clause to filter the grouped results. </span> <span style=\"text-wrap: wrap; color: rgb(55, 65, 81); font-family: Söhne, ui-sans-serif, system-ui, -apple-system, &quot;Segoe UI&quot;, Roboto, Ubuntu, Cantarell, &quot;Noto Sans&quot;, sans-serif, &quot;Helvetica Neue&quot;, Arial, &quot;Apple Color Emoji&quot;, &quot;Segoe UI Emoji&quot;, &quot;Segoe UI Symbol&quot;, &quot;Noto Color Emoji&quot;; font-size: 16px;\">In this case, it filters out groups where the <span style=\"background-color: yellow;\">maximum order date </span></span> <span style=\"text-wrap: wrap; color: rgb(55, 65, 81); font-family: Söhne, ui-sans-serif, system-ui, -apple-system, &quot;Segoe UI&quot;, Roboto, Ubuntu, Cantarell, &quot;Noto Sans&quot;, sans-serif, &quot;Helvetica Neue&quot;, Arial, &quot;Apple Color Emoji&quot;, &quot;Segoe UI Emoji&quot;, &quot;Segoe UI Symbol&quot;, &quot;Noto Color Emoji&quot;; font-size: 16px;\"><span style=\"background-color: yellow;\"></span>is before May 1, 2016.</span>\n",
                "\n",
                "<span style=\"text-wrap: wrap; color: rgb(55, 65, 81); font-family: Söhne, ui-sans-serif, system-ui, -apple-system, &quot;Segoe UI&quot;, Roboto, Ubuntu, Cantarell, &quot;Noto Sans&quot;, sans-serif, &quot;Helvetica Neue&quot;, Arial, &quot;Apple Color Emoji&quot;, &quot;Segoe UI Emoji&quot;, &quot;Segoe UI Symbol&quot;, &quot;Noto Color Emoji&quot;; font-size: 16px;\"><br></span>\n",
                "\n",
                "In summary:\n",
                "\n",
                "- Query 1 filters the rows before grouping.\n",
                "- Query 2 groups all rows first and then applies a filter based on the maximum order date per group."
            ],
            "metadata": {
                "azdata_cell_guid": "bf970d6d-8eb8-4a87-8df4-1bbe1a26017d"
            },
            "attachments": {}
        },
        {
            "cell_type": "markdown",
            "source": [
                "### **Q7**\n",
                "\n",
                "  \n",
                "\n",
                "\\-- Return the three ship countries with the highest average freight for orders placed in 2015\n",
                "\n",
                "\\-- Tables involved: Sales.Orders table\n",
                "\n",
                "  \n",
                "\n",
                "\\-- Desired output:\n",
                "\n",
                "shipcountry     avgfreight\n",
                "\n",
                "\\--------------- ---------------------\n",
                "\n",
                "Austria         178.3642\n",
                "\n",
                "Switzerland     117.1775\n",
                "\n",
                "Sweden          105.16\n",
                "\n",
                "  \n",
                "\n",
                "(3 row(s) affected)"
            ],
            "metadata": {
                "azdata_cell_guid": "06539731-71ed-40a1-b893-f40952addf45"
            },
            "attachments": {}
        },
        {
            "cell_type": "markdown",
            "source": [
                "**Test the TSQLV4 is successfully**"
            ],
            "metadata": {
                "azdata_cell_guid": "99bf6f09-efa9-4950-9597-165dbb496147"
            },
            "attachments": {}
        },
        {
            "cell_type": "code",
            "source": [
                "USE [TSQLV4] \r\n",
                "GO\r\n",
                "\r\n",
                "SELECT TOP 3 ShipCountry, AVG(Freight) AS AvgFreight\r\n",
                "FROM Sales.Orders\r\n",
                "WHERE YEAR(OrderDate) = 2015\r\n",
                "GROUP BY ShipCountry\r\n",
                "ORDER BY AVG(Freight) DESC;"
            ],
            "metadata": {
                "azdata_cell_guid": "5b5dc502-c992-4a94-beff-fce59fdfae23",
                "language": "sql"
            },
            "outputs": [
                {
                    "output_type": "display_data",
                    "data": {
                        "text/html": "Commands completed successfully."
                    },
                    "metadata": {}
                },
                {
                    "output_type": "display_data",
                    "data": {
                        "text/html": "(3 rows affected)"
                    },
                    "metadata": {}
                },
                {
                    "output_type": "display_data",
                    "data": {
                        "text/html": "Total execution time: 00:00:00.114"
                    },
                    "metadata": {}
                },
                {
                    "output_type": "execute_result",
                    "execution_count": 4,
                    "data": {
                        "application/vnd.dataresource+json": {
                            "schema": {
                                "fields": [
                                    {
                                        "name": "ShipCountry"
                                    },
                                    {
                                        "name": "AvgFreight"
                                    }
                                ]
                            },
                            "data": [
                                {
                                    "ShipCountry": "Austria",
                                    "AvgFreight": "178.3642"
                                },
                                {
                                    "ShipCountry": "Switzerland",
                                    "AvgFreight": "117.1775"
                                },
                                {
                                    "ShipCountry": "Sweden",
                                    "AvgFreight": "105.16"
                                }
                            ]
                        },
                        "text/html": "<table><tr><th>ShipCountry</th><th>AvgFreight</th></tr><tr><td>Austria</td><td>178.3642</td></tr><tr><td>Switzerland</td><td>117.1775</td></tr><tr><td>Sweden</td><td>105.16</td></tr></table>"
                    },
                    "metadata": {}
                }
            ],
            "execution_count": 4
        },
        {
            "cell_type": "markdown",
            "source": [
                "### \n",
                "\n",
                "- `SELECT TOP 3`: This clause ensures that only the top 3 rows are returned.\n",
                "\n",
                "### \n",
                "\n",
                "- `ShipCountry`: This is the column representing the country where the order was shipped.\n",
                "\n",
                "### \n",
                "\n",
                "- `AVG(Freight) AS AvgFreight`: This calculates the average freight cost for each ship country.\n",
                "\n",
                "### \n",
                "\n",
                "- `FROM Sales.Orders`: Specifies the table from which to retrieve the data.\n",
                "\n",
                "### \n",
                "\n",
                "- `WHERE YEAR(OrderDate) = 2015`: Filters the orders to only include those placed in 2015.\n",
                "\n",
                "### \n",
                "\n",
                "- `GROUP BY ShipCountry`: Groups the results by the ship country.\n",
                "\n",
                "### \n",
                "\n",
                "- `ORDER BY AVG(Freight) DESC`: Orders the result set by the average freight cost in descending order, ensuring that the countries with the highest average freight appear first."
            ],
            "metadata": {
                "azdata_cell_guid": "902374e4-500c-4b76-9445-63527b0cb92d"
            },
            "attachments": {}
        },
        {
            "cell_type": "markdown",
            "source": [
                "**Now we need modify the queries in the Northwind database.**"
            ],
            "metadata": {
                "azdata_cell_guid": "a7fdb3a6-6133-48a5-aced-679964a545f7"
            },
            "attachments": {}
        },
        {
            "cell_type": "code",
            "source": [
                "USE [Northwinds2022TSQLV7] \r\n",
                "GO\r\n",
                "\r\n",
                "SELECT TOP 3 ShipToCountry, AVG(Freight) AS AvgFreight\r\n",
                "FROM [Sales].[Order]\r\n",
                "WHERE YEAR(OrderDate) = 2015\r\n",
                "GROUP BY ShipToCountry\r\n",
                "ORDER BY AVG(Freight) DESC;"
            ],
            "metadata": {
                "azdata_cell_guid": "08fa2e50-0c63-4124-9ba9-4174edf77ae0",
                "language": "sql"
            },
            "outputs": [
                {
                    "output_type": "display_data",
                    "data": {
                        "text/html": "Commands completed successfully."
                    },
                    "metadata": {}
                },
                {
                    "output_type": "display_data",
                    "data": {
                        "text/html": "(3 rows affected)"
                    },
                    "metadata": {}
                },
                {
                    "output_type": "display_data",
                    "data": {
                        "text/html": "Total execution time: 00:00:00.070"
                    },
                    "metadata": {}
                },
                {
                    "output_type": "execute_result",
                    "execution_count": 5,
                    "data": {
                        "application/vnd.dataresource+json": {
                            "schema": {
                                "fields": [
                                    {
                                        "name": "ShipToCountry"
                                    },
                                    {
                                        "name": "AvgFreight"
                                    }
                                ]
                            },
                            "data": [
                                {
                                    "ShipToCountry": "Austria",
                                    "AvgFreight": "178.3642"
                                },
                                {
                                    "ShipToCountry": "Switzerland",
                                    "AvgFreight": "117.1775"
                                },
                                {
                                    "ShipToCountry": "Sweden",
                                    "AvgFreight": "105.16"
                                }
                            ]
                        },
                        "text/html": "<table><tr><th>ShipToCountry</th><th>AvgFreight</th></tr><tr><td>Austria</td><td>178.3642</td></tr><tr><td>Switzerland</td><td>117.1775</td></tr><tr><td>Sweden</td><td>105.16</td></tr></table>"
                    },
                    "metadata": {}
                }
            ],
            "execution_count": 5
        },
        {
            "cell_type": "markdown",
            "source": [
                "**ANS for Q7**\n",
                "<span style=\"color: #0000ff;\">SELECT</span> <span style=\"color: #0000ff;\">TOP</span> <span style=\"color: #09885a;\">3</span> ShipToCountry, <span style=\"color: #795e26;\">AVG</span>(Freight) <span style=\"color: #0000ff;\">AS</span> AvgFreight\n",
                "<span style=\"color: #0000ff;\">FROM</span> \\[Sales\\].\\[Order\\]\n",
                "<span style=\"color: #0000ff;\">WHERE</span> <span style=\"color: #795e26;\">YEAR</span>(OrderDate) <span style=\"color: #000000;\">=</span> <span style=\"color: #09885a;\">2015</span>\n",
                "<span style=\"color: #0000ff;\">GROUP BY</span> ShipToCountry\n",
                "<span style=\"color: #0000ff;\">ORDER BY</span> <span style=\"color: #795e26;\">AVG</span>(Freight) <span style=\"color: #0000ff;\">DESC</span>;\n",
                "### since on the northerwind database we get the same result from the given, we will consider the queries work successfully"
            ],
            "metadata": {
                "azdata_cell_guid": "ad9fb8b6-4c6b-406e-8b30-c3f947a86cda"
            }
        }
    ]
}