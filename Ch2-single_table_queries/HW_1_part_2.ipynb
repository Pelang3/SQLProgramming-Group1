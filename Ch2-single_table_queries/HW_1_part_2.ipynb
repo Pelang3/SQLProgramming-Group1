{
    "metadata": {
        "kernelspec": {
            "name": "SQL",
            "display_name": "SQL",
            "language": "sql"
        },
        "language_info": {
            "name": "sql",
            "version": ""
        }
    },
    "nbformat_minor": 2,
    "nbformat": 4,
    "cells": [
        {
            "cell_type": "markdown",
            "source": [
                "**HW1 part 2**\n",
                "\n",
                "<span style=\"color: #008000;\">---------------------------------------------------------------------</span>\n",
                "\n",
                "<span style=\"color: #008000;\">-- Microsoft SQL Server T-SQL Fundamentals</span>\n",
                "\n",
                "<span style=\"color: #008000;\">-- Chapter 02 - Single-Table Queries</span>\n",
                "\n",
                "<span style=\"color: #008000;\">-- � Itzik Ben-Gan</span>\n",
                "\n",
                "<span style=\"color: #008000;\">---------------------------------------------------------------------</span>"
            ],
            "metadata": {
                "azdata_cell_guid": "d99c5a09-cff3-4216-b0a3-e3a5d1710147"
            },
            "attachments": {}
        },
        {
            "cell_type": "markdown",
            "source": [
                "<span style=\"color: rgb(0, 128, 0);\">-- 0 Elements of the SELECT Statement</span>  \n",
                "\n",
                "<span style=\"color: #008000;\">-- Listing 2-1: Sample Query</span>"
            ],
            "metadata": {
                "azdata_cell_guid": "3d951c61-1d13-4d7e-a56e-8456ce36decf"
            },
            "attachments": {}
        },
        {
            "cell_type": "code",
            "source": [
                "USE TSQLV4;\r\n",
                "SELECT empid, YEAR(orderdate) AS orderyear, COUNT(*) AS numorders\r\n",
                "FROM Sales.Orders\r\n",
                "WHERE custid = 71\r\n",
                "GROUP BY empid, YEAR(orderdate)\r\n",
                "HAVING COUNT(*) > 1\r\n",
                "ORDER BY empid, orderyear;"
            ],
            "metadata": {
                "azdata_cell_guid": "0818226c-2ae0-4b14-8116-93179bdd0f00",
                "language": "sql",
                "tags": []
            },
            "outputs": [],
            "execution_count": null
        },
        {
            "cell_type": "markdown",
            "source": [
                "<span style=\"color: #008000;\">1 The FROM Clause</span>"
            ],
            "metadata": {
                "language": "sql",
                "azdata_cell_guid": "a56956d1-3ab0-49de-9476-9a33dcfaffb3"
            },
            "attachments": {}
        },
        {
            "cell_type": "code",
            "source": [
                "SELECT orderid, custid, empid, orderdate, freight\r\n",
                "FROM Sales.Orders;"
            ],
            "metadata": {
                "language": "sql",
                "azdata_cell_guid": "3cb4e2d4-ec97-4468-b29a-fd3c92b3b0c3",
                "tags": []
            },
            "outputs": [],
            "execution_count": null
        },
        {
            "cell_type": "markdown",
            "source": [
                "<span style=\"color: #008000;\">2 The WHERE Clause</span>"
            ],
            "metadata": {
                "azdata_cell_guid": "f2c4bc2a-4bd0-42ab-b661-66b0e699dd0f"
            },
            "attachments": {}
        },
        {
            "cell_type": "code",
            "source": [
                "SELECT orderid, empid, orderdate, freight\r\n",
                "FROM Sales.Orders\r\n",
                "WHERE custid = 71;"
            ],
            "metadata": {
                "azdata_cell_guid": "4884fc56-a5b1-45e5-a719-3cab472454a1",
                "language": "sql",
                "tags": []
            },
            "outputs": [],
            "execution_count": null
        },
        {
            "cell_type": "markdown",
            "source": [
                "<span style=\"color: #008000;\">3 The GROUP BY Clause</span>"
            ],
            "metadata": {
                "language": "sql",
                "azdata_cell_guid": "feb212f9-9092-462e-ba9b-d678e58cb611"
            },
            "attachments": {}
        },
        {
            "cell_type": "code",
            "source": [
                "SELECT empid, YEAR(orderdate) AS orderyear\r\n",
                "FROM Sales.Orders\r\n",
                "WHERE custid = 71\r\n",
                "GROUP BY empid, YEAR(orderdate);\r\n",
                "\r\n",
                "SELECT\r\n",
                "  empid,\r\n",
                "  YEAR(orderdate) AS orderyear,\r\n",
                "  SUM(freight) AS totalfreight,\r\n",
                "  COUNT(*) AS numorders\r\n",
                "FROM Sales.Orders\r\n",
                "WHERE custid = 71\r\n",
                "GROUP BY empid, YEAR(orderdate);\r\n",
                "\r\n",
                "/*\r\n",
                "SELECT empid, YEAR(orderdate) AS orderyear, freight\r\n",
                "FROM Sales.Orders\r\n",
                "WHERE custid = 71\r\n",
                "GROUP BY empid, YEAR(orderdate);\r\n",
                "*/\r\n",
                "\r\n",
                "SELECT \r\n",
                "  empid, \r\n",
                "  YEAR(orderdate) AS orderyear, \r\n",
                "  COUNT(DISTINCT custid) AS numcusts\r\n",
                "FROM Sales.Orders\r\n",
                "GROUP BY empid, YEAR(orderdate);"
            ],
            "metadata": {
                "language": "sql",
                "azdata_cell_guid": "9f3eaa1c-6b0a-47e9-8242-8706bb0988b9",
                "tags": []
            },
            "outputs": [],
            "execution_count": null
        },
        {
            "cell_type": "markdown",
            "source": [
                "<span style=\"color: #008000;\">-- 4 The HAVING Clause</span>"
            ],
            "metadata": {
                "language": "sql",
                "azdata_cell_guid": "1ab8ed9c-597b-44ca-b318-fe625019c10f"
            },
            "attachments": {}
        },
        {
            "cell_type": "code",
            "source": [
                "SELECT empid, YEAR(orderdate) AS orderyear\r\n",
                "FROM Sales.Orders\r\n",
                "WHERE custid = 71\r\n",
                "GROUP BY empid, YEAR(orderdate)\r\n",
                "HAVING COUNT(*) > 1;"
            ],
            "metadata": {
                "language": "sql",
                "azdata_cell_guid": "58f76c27-746e-4ffd-bf5c-799cac2093a0",
                "tags": []
            },
            "outputs": [],
            "execution_count": null
        },
        {
            "cell_type": "markdown",
            "source": [
                "<span style=\"color: #008000;\">-- 5 The SELECT Clause</span>"
            ],
            "metadata": {
                "language": "sql",
                "azdata_cell_guid": "6974d00e-22de-4507-8a12-858f7f5227aa"
            },
            "attachments": {}
        },
        {
            "cell_type": "code",
            "source": [
                "SELECT orderid orderdate\r\n",
                "FROM Sales.Orders;\r\n",
                "\r\n",
                "SELECT empid, YEAR(orderdate) AS orderyear, COUNT(*) AS numorders\r\n",
                "FROM Sales.Orders\r\n",
                "WHERE custid = 71\r\n",
                "GROUP BY empid, YEAR(orderdate)\r\n",
                "HAVING COUNT(*) > 1;\r\n",
                "\r\n",
                "/*\r\n",
                "SELECT orderid, YEAR(orderdate) AS orderyear\r\n",
                "FROM Sales.Orders\r\n",
                "WHERE orderyear > 2015;\r\n",
                "*/\r\n",
                "\r\n",
                "SELECT orderid, YEAR(orderdate) AS orderyear\r\n",
                "FROM Sales.Orders\r\n",
                "WHERE YEAR(orderdate) > 2015;\r\n",
                "\r\n",
                "/*\r\n",
                "SELECT empid, YEAR(orderdate) AS orderyear, COUNT(*) AS numorders\r\n",
                "FROM Sales.Orders\r\n",
                "WHERE custid = 71\r\n",
                "GROUP BY empid, YEAR(orderdate)\r\n",
                "HAVING numorders > 1;\r\n",
                "*/\r\n",
                "\r\n",
                "SELECT empid, YEAR(orderdate) AS orderyear, COUNT(*) AS numorders\r\n",
                "FROM Sales.Orders\r\n",
                "WHERE custid = 71\r\n",
                "GROUP BY empid, YEAR(orderdate)\r\n",
                "HAVING COUNT(*) > 1;\r\n",
                "\r\n",
                "-- Listing 2-2: Query Returning Duplicate Rows\r\n",
                "SELECT empid, YEAR(orderdate) AS orderyear\r\n",
                "FROM Sales.Orders\r\n",
                "WHERE custid = 71;\r\n",
                "\r\n",
                "-- Listing 2-3: Query With a DISTINCT Clause\r\n",
                "SELECT DISTINCT empid, YEAR(orderdate) AS orderyear\r\n",
                "FROM Sales.Orders\r\n",
                "WHERE custid = 71;\r\n",
                "\r\n",
                "SELECT *\r\n",
                "FROM Sales.Shippers;\r\n",
                "\r\n",
                "/*\r\n",
                "SELECT orderid,\r\n",
                "  YEAR(orderdate) AS orderyear,\r\n",
                "  orderyear + 1 AS nextyear\r\n",
                "FROM Sales.Orders;\r\n",
                "*/\r\n",
                "\r\n",
                "SELECT orderid,\r\n",
                "  YEAR(orderdate) AS orderyear,\r\n",
                "  YEAR(orderdate) + 1 AS nextyear\r\n",
                "FROM Sales.Orders;"
            ],
            "metadata": {
                "language": "sql",
                "azdata_cell_guid": "61026463-e92c-491f-9ef0-c8c0d2ca6ae2",
                "tags": []
            },
            "outputs": [],
            "execution_count": null
        },
        {
            "cell_type": "markdown",
            "source": [
                "<span style=\"color: #008000;\">-- 6 The ORDER BY Clause</span>"
            ],
            "metadata": {
                "language": "sql",
                "azdata_cell_guid": "30651bcd-bd2d-477d-966a-a58ef33fa6ad"
            },
            "attachments": {}
        },
        {
            "cell_type": "code",
            "source": [
                "-- Listing 2-4: Query Demonstrating the ORDER BY Clause\r\n",
                "SELECT empid, YEAR(orderdate) AS orderyear, COUNT(*) AS numorders\r\n",
                "FROM Sales.Orders\r\n",
                "WHERE custid = 71\r\n",
                "GROUP BY empid, YEAR(orderdate)\r\n",
                "HAVING COUNT(*) > 1\r\n",
                "ORDER BY empid, orderyear;\r\n",
                "\r\n",
                "SELECT empid, firstname, lastname, country\r\n",
                "FROM HR.Employees\r\n",
                "ORDER BY hiredate;\r\n",
                "\r\n",
                "/*\r\n",
                "SELECT DISTINCT country\r\n",
                "FROM HR.Employees\r\n",
                "ORDER BY empid;\r\n",
                "*/"
            ],
            "metadata": {
                "language": "sql",
                "azdata_cell_guid": "2f4f7430-e3fd-4e9b-9de2-bff0e0bba6c5",
                "tags": []
            },
            "outputs": [],
            "execution_count": null
        },
        {
            "cell_type": "markdown",
            "source": [
                "<span style=\"color: #008000;\">-- 7 The TOP and OFFSET-FETCH Filters</span>"
            ],
            "metadata": {
                "language": "sql",
                "azdata_cell_guid": "b79558ce-7d5a-4143-a1fc-48e8507c703d"
            },
            "attachments": {}
        },
        {
            "cell_type": "code",
            "source": [
                "---------------------------------------------------------------------\r\n",
                "-- 7.1 The TOP Filter\r\n",
                "---------------------------------------------------------------------\r\n",
                "-- Listing 2-5: Query Demonstrating the TOP Option\r\n",
                "SELECT TOP (5) orderid, orderdate, custid, empid\r\n",
                "FROM Sales.Orders\r\n",
                "ORDER BY orderdate DESC;\r\n",
                "\r\n",
                "SELECT TOP (1) PERCENT orderid, orderdate, custid, empid\r\n",
                "FROM Sales.Orders\r\n",
                "ORDER BY orderdate DESC;\r\n",
                "\r\n",
                "-- Listing 2-6: Query Demonstrating TOP with Unique ORDER BY List\r\n",
                "SELECT TOP (5) orderid, orderdate, custid, empid\r\n",
                "FROM Sales.Orders\r\n",
                "ORDER BY orderdate DESC, orderid DESC;\r\n",
                "\r\n",
                "SELECT TOP (5) WITH TIES orderid, orderdate, custid, empid\r\n",
                "FROM Sales.Orders\r\n",
                "ORDER BY orderdate DESC;\r\n",
                "\r\n",
                "---------------------------------------------------------------------\r\n",
                "-- 7.2 The OFFSET-FETCH Filter\r\n",
                "---------------------------------------------------------------------\r\n",
                "\r\n",
                "-- OFFSET-FETCH\r\n",
                "SELECT orderid, orderdate, custid, empid\r\n",
                "FROM Sales.Orders\r\n",
                "ORDER BY orderdate, orderid\r\n",
                "OFFSET 50 ROWS FETCH NEXT 25 ROWS ONLY;"
            ],
            "metadata": {
                "language": "sql",
                "azdata_cell_guid": "1b9ca739-5a75-40e9-95e3-46b2f6527a9e",
                "tags": []
            },
            "outputs": [],
            "execution_count": null
        },
        {
            "cell_type": "markdown",
            "source": [
                "<span style=\"color: #008000;\">8 A Quick Look at Window Functions</span>"
            ],
            "metadata": {
                "language": "sql",
                "azdata_cell_guid": "0977ec5e-3216-4e21-95de-307fd06c663e"
            },
            "attachments": {}
        },
        {
            "cell_type": "code",
            "source": [
                "SELECT orderid, custid, val,\r\n",
                "  ROW_NUMBER() OVER(PARTITION BY custid\r\n",
                "                    ORDER BY val) AS rownum\r\n",
                "FROM Sales.OrderValues\r\n",
                "ORDER BY custid, val;"
            ],
            "metadata": {
                "language": "sql",
                "azdata_cell_guid": "bf256225-7af2-4f92-afe5-f212e724c05f",
                "tags": []
            },
            "outputs": [],
            "execution_count": null
        },
        {
            "cell_type": "markdown",
            "source": [
                "<span style=\"color: #008000;\">-- 9 Predicates and Operators</span>"
            ],
            "metadata": {
                "language": "sql",
                "azdata_cell_guid": "e7ca79e9-ab18-4213-b34f-e97edb9cde81"
            },
            "attachments": {}
        },
        {
            "cell_type": "code",
            "source": [
                "-- Predicates: IN, BETWEEN, LIKE\r\n",
                "SELECT orderid, empid, orderdate\r\n",
                "FROM Sales.Orders\r\n",
                "WHERE orderid IN(10248, 10249, 10250);\r\n",
                "\r\n",
                "SELECT orderid, empid, orderdate\r\n",
                "FROM Sales.Orders\r\n",
                "WHERE orderid BETWEEN 10300 AND 10310;\r\n",
                "\r\n",
                "SELECT empid, firstname, lastname\r\n",
                "FROM HR.Employees\r\n",
                "WHERE lastname LIKE N'D%';\r\n",
                "\r\n",
                "-- Comparison operators: =, >, <, >=, <=, <>, !=, !>, !< \r\n",
                "SELECT orderid, empid, orderdate\r\n",
                "FROM Sales.Orders\r\n",
                "WHERE orderdate >= '20160101';\r\n",
                "\r\n",
                "-- Logical operators: AND, OR, NOT\r\n",
                "SELECT orderid, empid, orderdate\r\n",
                "FROM Sales.Orders\r\n",
                "WHERE orderdate >= '20160101'\r\n",
                "  AND empid IN(1, 3, 5);\r\n",
                "\r\n",
                "-- Arithmetic operators: +, -, *, /, %\r\n",
                "SELECT orderid, productid, qty, unitprice, discount,\r\n",
                "  qty * unitprice * (1 - discount) AS val\r\n",
                "FROM Sales.OrderDetails;\r\n",
                "\r\n",
                "-- Operator Precedence\r\n",
                "\r\n",
                "-- AND precedes OR\r\n",
                "SELECT orderid, custid, empid, orderdate\r\n",
                "FROM Sales.Orders\r\n",
                "WHERE\r\n",
                "        custid = 1\r\n",
                "    AND empid IN(1, 3, 5)\r\n",
                "    OR  custid = 85\r\n",
                "    AND empid IN(2, 4, 6);\r\n",
                "\r\n",
                "-- Equivalent to\r\n",
                "SELECT orderid, custid, empid, orderdate\r\n",
                "FROM Sales.Orders\r\n",
                "WHERE\r\n",
                "      ( custid = 1\r\n",
                "        AND empid IN(1, 3, 5) )\r\n",
                "    OR\r\n",
                "      ( custid = 85\r\n",
                "        AND empid IN(2, 4, 6) );\r\n",
                "\r\n",
                "-- *, / precedes +, -\r\n",
                "SELECT 10 + 2 * 3;   -- 16\r\n",
                "\r\n",
                "SELECT (10 + 2) * 3; -- 36"
            ],
            "metadata": {
                "language": "sql",
                "azdata_cell_guid": "0d922b7f-624d-4549-9314-075427f20d0c",
                "tags": []
            },
            "outputs": [],
            "execution_count": null
        },
        {
            "cell_type": "markdown",
            "source": [
                "<span style=\"color: #008000;\">-- 10 CASE Expression</span>"
            ],
            "metadata": {
                "language": "sql",
                "azdata_cell_guid": "794bedef-e647-4ebb-8081-106e6c85e507"
            },
            "attachments": {}
        },
        {
            "cell_type": "code",
            "source": [
                "-- Simple\r\n",
                "SELECT productid, productname, categoryid,\r\n",
                "  CASE categoryid\r\n",
                "    WHEN 1 THEN 'Beverages'\r\n",
                "    WHEN 2 THEN 'Condiments'\r\n",
                "    WHEN 3 THEN 'Confections'\r\n",
                "    WHEN 4 THEN 'Dairy Products'\r\n",
                "    WHEN 5 THEN 'Grains/Cereals'\r\n",
                "    WHEN 6 THEN 'Meat/Poultry'\r\n",
                "    WHEN 7 THEN 'Produce'\r\n",
                "    WHEN 8 THEN 'Seafood'\r\n",
                "    ELSE 'Unknown Category'\r\n",
                "  END AS categoryname\r\n",
                "FROM Production.Products;\r\n",
                "\r\n",
                "-- Searched\r\n",
                "SELECT orderid, custid, val,\r\n",
                "  CASE \r\n",
                "    WHEN val < 1000.00                   THEN 'Less than 1000'\r\n",
                "    WHEN val BETWEEN 1000.00 AND 3000.00 THEN 'Between 1000 and 3000'\r\n",
                "    WHEN val > 3000.00                   THEN 'More than 3000'\r\n",
                "    ELSE 'Unknown'\r\n",
                "  END AS valuecategory\r\n",
                "FROM Sales.OrderValues;"
            ],
            "metadata": {
                "language": "sql",
                "azdata_cell_guid": "17b2c1a1-6cea-4bbd-aba8-94fc0eb68264",
                "tags": []
            },
            "outputs": [],
            "execution_count": null
        },
        {
            "cell_type": "markdown",
            "source": [
                "<span style=\"color: #008000;\">-- 11 NULLs</span>"
            ],
            "metadata": {
                "language": "sql",
                "azdata_cell_guid": "20dc46a8-ff93-431a-a3cb-92013c4b02f5"
            },
            "attachments": {}
        },
        {
            "cell_type": "code",
            "source": [
                "SELECT custid, country, region, city\r\n",
                "FROM Sales.Customers\r\n",
                "WHERE region = N'WA';\r\n",
                "\r\n",
                "SELECT custid, country, region, city\r\n",
                "FROM Sales.Customers\r\n",
                "WHERE region <> N'WA';\r\n",
                "\r\n",
                "SELECT custid, country, region, city\r\n",
                "FROM Sales.Customers\r\n",
                "WHERE region = NULL;\r\n",
                "\r\n",
                "SELECT custid, country, region, city\r\n",
                "FROM Sales.Customers\r\n",
                "WHERE region IS NULL;\r\n",
                "\r\n",
                "SELECT custid, country, region, city\r\n",
                "FROM Sales.Customers\r\n",
                "WHERE region <> N'WA'\r\n",
                "   OR region IS NULL;\r\n",
                "\r\n",
                "---------------------------------------------------------------------\r\n",
                "-- All-At-Once Operations\r\n",
                "---------------------------------------------------------------------\r\n",
                "\r\n",
                "/*\r\n",
                "SELECT \r\n",
                "  orderid, \r\n",
                "  YEAR(orderdate) AS orderyear, \r\n",
                "  orderyear + 1 AS nextyear\r\n",
                "FROM Sales.Orders;\r\n",
                "*/\r\n",
                "\r\n",
                "/*\r\n",
                "SELECT col1, col2\r\n",
                "FROM dbo.T1\r\n",
                "WHERE col1 <> 0 AND col2/col1 > 2;\r\n",
                "*/\r\n",
                "\r\n",
                "/*\r\n",
                "SELECT col1, col2\r\n",
                "FROM dbo.T1\r\n",
                "WHERE\r\n",
                "  CASE\r\n",
                "    WHEN col1 = 0 THEN 'no' -- or 'yes' if row should be returned\r\n",
                "    WHEN col2/col1 > 2 THEN 'yes'\r\n",
                "    ELSE 'no'\r\n",
                "  END = 'yes';\r\n",
                "*/\r\n",
                "\r\n",
                "/*\r\n",
                "SELECT col1, col2\r\n",
                "FROM dbo.T1\r\n",
                "WHERE (col1 > 0 AND col2 > 2*col1) OR (col1 < 0 AND col2 < 2*col1); \r\n",
                "*/\r\n",
                "\r\n",
                "---------------------------------------------------------------------\r\n",
                "-- Working with Character Data\r\n",
                "---------------------------------------------------------------------\r\n",
                "\r\n",
                "---------------------------------------------------------------------\r\n",
                "-- Collation\r\n",
                "---------------------------------------------------------------------\r\n",
                "\r\n",
                "SELECT name, description\r\n",
                "FROM sys.fn_helpcollations();\r\n",
                "\r\n",
                "SELECT empid, firstname, lastname\r\n",
                "FROM HR.Employees\r\n",
                "WHERE lastname = N'davis';\r\n",
                "\r\n",
                "SELECT empid, firstname, lastname\r\n",
                "FROM HR.Employees\r\n",
                "WHERE lastname COLLATE Latin1_General_CS_AS = N'davis';"
            ],
            "metadata": {
                "language": "sql",
                "azdata_cell_guid": "cf504a8f-8a93-4a0e-8e3a-72aa3bbb1641",
                "tags": []
            },
            "outputs": [],
            "execution_count": null
        },
        {
            "cell_type": "markdown",
            "source": [
                "<span style=\"color: #008000;\">--12 Operators and Functions</span>"
            ],
            "metadata": {
                "azdata_cell_guid": "bf1b2e72-7c4c-4296-bdda-52f108913ffb"
            },
            "attachments": {}
        },
        {
            "cell_type": "code",
            "source": [
                "-- Concatenation\r\n",
                "SELECT empid, firstname + N' ' + lastname AS fullname\r\n",
                "FROM HR.Employees;\r\n",
                "\r\n",
                "-- Listing 2-7: Query Demonstrating String Concatenation\r\n",
                "SELECT custid, country, region, city,\r\n",
                "  country + N',' + region + N',' + city AS location\r\n",
                "FROM Sales.Customers;\r\n",
                "\r\n",
                "-- convert NULL to empty string\r\n",
                "SELECT custid, country, region, city,\r\n",
                "  country + COALESCE( N',' + region, N'') + N',' + city AS location\r\n",
                "FROM Sales.Customers;\r\n",
                "\r\n",
                "-- using the CONCAT function\r\n",
                "SELECT custid, country, region, city,\r\n",
                "  CONCAT(country, N',' + region, N',' + city) AS location\r\n",
                "FROM Sales.Customers;\r\n",
                "\r\n",
                "-- Functions\r\n",
                "SELECT SUBSTRING('abcde', 1, 3); -- 'abc'\r\n",
                "\r\n",
                "SELECT RIGHT('abcde', 3); -- 'cde'\r\n",
                "\r\n",
                "SELECT LEN(N'abcde'); -- 5\r\n",
                "\r\n",
                "SELECT DATALENGTH(N'abcde'); -- 10\r\n",
                "\r\n",
                "SELECT CHARINDEX(' ','Itzik Ben-Gan'); -- 6\r\n",
                "\r\n",
                "SELECT PATINDEX('%[0-9]%', 'abcd123efgh'); -- 5\r\n",
                "\r\n",
                "SELECT REPLACE('1-a 2-b', '-', ':'); -- '1:a 2:b'\r\n",
                "\r\n",
                "SELECT empid, lastname,\r\n",
                "  LEN(lastname) - LEN(REPLACE(lastname, 'e', '')) AS numoccur\r\n",
                "FROM HR.Employees;\r\n",
                "\r\n",
                "SELECT REPLICATE('abc', 3); -- 'abcabcabc'\r\n",
                "\r\n",
                "SELECT supplierid,\r\n",
                "  RIGHT(REPLICATE('0', 9) + CAST(supplierid AS VARCHAR(10)),\r\n",
                "        10) AS strsupplierid\r\n",
                "FROM Production.Suppliers;\r\n",
                "\r\n",
                "SELECT STUFF('xyz', 2, 1, 'abc'); -- 'xabcz'\r\n",
                "\r\n",
                "SELECT UPPER('Itzik Ben-Gan'); -- 'ITZIK BEN-GAN'\r\n",
                "\r\n",
                "SELECT LOWER('Itzik Ben-Gan'); -- 'itzik ben-gan'\r\n",
                "\r\n",
                "SELECT RTRIM(LTRIM('   abc   ')); -- 'abc'\r\n",
                "\r\n",
                "SELECT FORMAT(1759, '0000000000'); -- '0000001759'\r\n",
                "\r\n",
                "-- COMPRESS\r\n",
                "SELECT COMPRESS(N'This is my cv. Imagine it was much longer.');\r\n",
                "\r\n",
                "/*\r\n",
                "INSERT INTO dbo.EmployeeCVs( empid, cv )\r\n",
                "  VALUES( @empid, COMPRESS(@cv) );\r\n",
                "*/\r\n",
                "\r\n",
                "-- DECOMPRESS\r\n",
                "SELECT DECOMPRESS(COMPRESS(N'This is my cv. Imagine it was much longer.'));\r\n",
                "\r\n",
                "SELECT\r\n",
                "  CAST(\r\n",
                "    DECOMPRESS(COMPRESS(N'This is my cv. Imagine it was much longer.'))\r\n",
                "      AS NVARCHAR(MAX));\r\n",
                "\r\n",
                "/*\r\n",
                "SELECT empid, CAST(DECOMPRESS(cv) AS NVARCHAR(MAX)) AS cv\r\n",
                "FROM dbo.EmployeeCVs;\r\n",
                "*/\r\n",
                "\r\n",
                "-- STRING_SPLIT\r\n",
                "SELECT CAST(value AS INT) AS myvalue\r\n",
                "FROM STRING_SPLIT('10248,10249,10250', ',') AS S;\r\n",
                "\r\n",
                "/*\r\n",
                "myvalue\r\n",
                "-----------\r\n",
                "10248\r\n",
                "10249\r\n",
                "10250\r\n",
                "*/"
            ],
            "metadata": {
                "azdata_cell_guid": "fe82b745-a0e6-4fb7-b6ea-bb07939c807b",
                "language": "sql",
                "tags": []
            },
            "outputs": [],
            "execution_count": null
        },
        {
            "cell_type": "markdown",
            "source": [
                "<span style=\"color: #008000;\">-- 13 LIKE Predicate</span>"
            ],
            "metadata": {
                "language": "sql",
                "azdata_cell_guid": "1f64d0bc-2384-4071-aca6-6075e282c693"
            },
            "attachments": {}
        },
        {
            "cell_type": "code",
            "source": [
                "-- Last name starts with D\r\n",
                "SELECT empid, lastname\r\n",
                "FROM HR.Employees\r\n",
                "WHERE lastname LIKE N'D%';\r\n",
                "\r\n",
                "-- Second character in last name is e\r\n",
                "SELECT empid, lastname\r\n",
                "FROM HR.Employees\r\n",
                "WHERE lastname LIKE N'_e%';\r\n",
                "\r\n",
                "-- First character in last name is A, B or C\r\n",
                "SELECT empid, lastname\r\n",
                "FROM HR.Employees\r\n",
                "WHERE lastname LIKE N'[ABC]%';\r\n",
                "\r\n",
                "-- First character in last name is A through E\r\n",
                "SELECT empid, lastname\r\n",
                "FROM HR.Employees\r\n",
                "WHERE lastname LIKE N'[A-E]%';\r\n",
                "\r\n",
                "-- First character in last name is not A through E\r\n",
                "SELECT empid, lastname\r\n",
                "FROM HR.Employees\r\n",
                "WHERE lastname LIKE N'[^A-E]%';"
            ],
            "metadata": {
                "language": "sql",
                "azdata_cell_guid": "43e88c81-6a36-4050-9b8a-f9d46e6a1e99",
                "tags": []
            },
            "outputs": [],
            "execution_count": null
        },
        {
            "cell_type": "markdown",
            "source": [
                "# <span style=\"color: rgb(0, 128, 0);\">14 Working with Date and Time Data</span>"
            ],
            "metadata": {
                "language": "sql",
                "azdata_cell_guid": "18e8ea16-f7aa-4c0b-a67b-38ba93ed3feb"
            },
            "attachments": {}
        },
        {
            "cell_type": "markdown",
            "source": [
                "## 14.1\n",
                "\n",
                "this quriery asks in `Sales.Order` table, to show Order ID, CustomerId,EmployeeId,OrderDate, and the only show the orders related to `20160212`\n",
                "\n",
                "Use `CAST` can help with make string into `date` type \n",
                "\n",
                "Or just give a propoer string, sql kernel will auto make it into `data`"
            ],
            "metadata": {
                "language": "sql",
                "azdata_cell_guid": "83589790-46c0-430b-b3c9-894fec54a2e9"
            },
            "attachments": {}
        },
        {
            "cell_type": "code",
            "source": [
                "-- 14.1\r\n",
                "-- Literals\r\n",
                "use [TSQLV4]\r\n",
                "\r\n",
                "SELECT orderid, custid, empid, orderdate\r\n",
                "FROM Sales.Orders \r\n",
                "WHERE orderdate = '20160212';\r\n",
                "\r\n",
                "SELECT orderid, custid, empid, orderdate\r\n",
                "FROM Sales.Orders\r\n",
                "WHERE orderdate = CAST('20160212' AS DATE);\r\n",
                "\r\n",
                "USE [Northwinds2022TSQLV7]\r\n",
                "SELECT o.OrderId,o.CustomerId,o.EmployeeId,o.OrderDate\r\n",
                "FROM [Sales].[Order] as o\r\n",
                "WHERE o.OrderDate = '20160212';\r\n",
                "\r\n",
                "SELECT o.OrderId,o.CustomerId,o.EmployeeId,o.OrderDate\r\n",
                "FROM [Sales].[Order] as o\r\n",
                "WHERE orderdate = CAST('20160212' AS DATE);"
            ],
            "metadata": {
                "language": "sql",
                "azdata_cell_guid": "a1d937ba-7412-49cc-95c0-7377002c0972",
                "tags": []
            },
            "outputs": [],
            "execution_count": null
        },
        {
            "cell_type": "markdown",
            "source": [
                "## 14.2\n",
                "\n",
                "Language Dependent\n",
                "\n",
                "When given a string like \"02/12/2016\" for as a target order data\n",
                "\n",
                "Use `CAST` to make string into `DATE` type and with set the target language to `British` , or `us_English`\n",
                "\n",
                "`Note`:\n",
                "\n",
                "- British use format: Year-Month-Day\n",
                "- US\\_English use format: Year-Day-Mounth\n",
                "\n",
                "Tables involved: Sales.Order"
            ],
            "metadata": {
                "language": "sql",
                "azdata_cell_guid": "50313676-b73b-4915-9952-9b1f19173be2"
            },
            "attachments": {}
        },
        {
            "cell_type": "code",
            "source": [
                "-- Language dependent\r\n",
                "SET LANGUAGE British;\r\n",
                "SELECT CAST('02/12/2016' AS DATE);\r\n",
                "\r\n",
                "SET LANGUAGE us_english;\r\n",
                "SELECT CAST('02/12/2016' AS DATE);"
            ],
            "metadata": {
                "language": "sql",
                "azdata_cell_guid": "eb06b6f8-2ddd-4603-94c5-dcc9bdd7b55a",
                "tags": []
            },
            "outputs": [],
            "execution_count": null
        },
        {
            "cell_type": "markdown",
            "source": [
                "Give a Date like string such as 20160212, 02/12/2016 \n",
                "\n",
                "Convert it into date tpye by useing `CASE`, `Convert`, `Parse`\n",
                "\n",
                "Note:\n",
                "\n",
                "- `101` and `en-US` represents the U.S. date format mm/dd/yyyy\n",
                "- `103` and `en-GB` represents the British/French date format dd/mm/yyyy"
            ],
            "metadata": {
                "language": "sql",
                "azdata_cell_guid": "fff46a5f-f2b0-4f8e-bea6-4296b10d3ca0"
            },
            "attachments": {}
        },
        {
            "cell_type": "code",
            "source": [
                "-- Language neutral\r\n",
                "SET LANGUAGE British;\r\n",
                "SELECT CAST('20160212' AS DATE);\r\n",
                "\r\n",
                "SET LANGUAGE us_english;\r\n",
                "SELECT CAST('20160212' AS DATE);\r\n",
                "\r\n",
                "SELECT CONVERT(DATE, '02/12/2016', 101);\r\n",
                "\r\n",
                "SELECT CONVERT(DATE, '02/12/2016', 103);\r\n",
                "\r\n",
                "SELECT PARSE('02/12/2016' AS DATE USING 'en-US');\r\n",
                "\r\n",
                "SELECT PARSE('02/12/2016' AS DATE USING 'en-GB');"
            ],
            "metadata": {
                "language": "sql",
                "azdata_cell_guid": "2ffdad67-3ea2-4cb0-8d18-358c855ae736",
                "tags": []
            },
            "outputs": [],
            "execution_count": null
        },
        {
            "cell_type": "markdown",
            "source": [
                "<span style=\"color: #008000;\">-- Create Sales.Orders2 with orderdate as DATETIME by copying data from Sales.Orders</span>\n",
                "\n",
                "Make a new table Sales.Orders2 with orderdate as DATETIME by copying data from Sales.Orders \n",
                "\n",
                "Copy data: OrderID CustomerId, EmployeeId,OrderDate(but in `DATETIME` )\n",
                "\n",
                "Table involed: Sales.Orders2, Sales.Orders;\n",
                "\n",
                "Note: \n",
                "- DATE:     yyyy-MM-dd\n",
                "- DATETIME: 1900-01-01 00:00:00"
            ],
            "metadata": {
                "language": "sql",
                "azdata_cell_guid": "d04f6a05-ac39-46ee-9432-8199636fc428"
            },
            "attachments": {}
        },
        {
            "cell_type": "code",
            "source": [
                "-- Create Sales.Orders2 with orderdate as DATETIME by copying data from Sales.Orders\r\n",
                "USE [TSQLV4]\r\n",
                "DROP TABLE IF EXISTS Sales.Orders2;\r\n",
                "SELECT orderid, custid, empid, CAST(orderdate AS DATETIME) AS orderdate\r\n",
                "INTO Sales.Orders2\r\n",
                "FROM Sales.Orders;\r\n",
                "\r\n",
                "SELECT TOP 20 * FROM [Sales].[Orders2]\r\n",
                "GO\r\n",
                "\r\n",
                "USE [Northwinds2022TSQLV7]\r\n",
                "DROP TABLE IF EXISTS [Sales].[Order2];\r\n",
                "SELECT o.OrderId, o.CustomerId, o.EmployeeId, CAST(o.OrderDate AS DATETIME) AS OrderDate\r\n",
                "INTO [Sales].[Order2]\r\n",
                "FROM [Sales].[Order] as o;\r\n",
                "\r\n",
                "SELECT TOP 20 * FROM [Sales].[Order2]\r\n",
                "GO"
            ],
            "metadata": {
                "language": "sql",
                "azdata_cell_guid": "6c36a7ca-b10e-4a79-8f6c-04934496c046",
                "tags": []
            },
            "outputs": [],
            "execution_count": null
        },
        {
            "cell_type": "markdown",
            "source": [
                "-- Query Sales.Orders2\r\n",
                "\r\n",
                "In the `Sales.Orders2` table we just created,\r\n",
                "find orders that the Order Date is `20160212`\r\n",
                ""
            ],
            "metadata": {
                "language": "sql",
                "azdata_cell_guid": "1e740c35-f99c-4c3b-a28b-337814dce50b"
            },
            "attachments": {}
        },
        {
            "cell_type": "code",
            "source": [
                "USE [TSQLV4]\r\n",
                "SELECT orderid, custid, empid, orderdate\r\n",
                "FROM Sales.Orders2\r\n",
                "WHERE orderdate = '20160212';\r\n",
                "\r\n",
                "USE [Northwinds2022TSQLV7]\r\n",
                "SELECT o.OrderId, o.CustomerId, o.EmployeeId, o.OrderDate\r\n",
                "FROM [Sales].[Order2] as o\r\n",
                "WHERE o.OrderDate = '20160212';"
            ],
            "metadata": {
                "language": "sql",
                "azdata_cell_guid": "5c1f7922-8149-4eeb-aa78-b9687e23a64b",
                "tags": []
            },
            "outputs": [],
            "execution_count": null
        },
        {
            "cell_type": "markdown",
            "source": [
                "add a check constraint to `Sales.order2`\r\n",
                "\r\n",
                "where is to make sure the order date is year-mouth-day 00:00:00:000\r\n",
                "\r\n",
                "Note:\r\n",
                "- `114` format is 'hh:mi:ss:ms' is equal to '00:00:00:000'. "
            ],
            "metadata": {
                "language": "sql",
                "azdata_cell_guid": "eaa15951-ebd4-43f2-b49f-91c6ce10014c"
            },
            "attachments": {}
        },
        {
            "cell_type": "code",
            "source": [
                "USE [TSQLV4]\r\n",
                "ALTER TABLE Sales.Orders2\r\n",
                "  ADD CONSTRAINT CHK_Orders2_orderdate\r\n",
                "  CHECK( CONVERT(CHAR(12), orderdate, 114) = '00:00:00:000');\r\n",
                "\r\n",
                "USE [Northwinds2022TSQLV7]\r\n",
                "ALTER TABLE [Sales].[Order2] \r\n",
                "    ADD CONSTRAINT CHK_Order2_OrderDate\r\n",
                "    CHECK( CONVERT(CHAR(12), OrderDate, 114) = '00:00:00:000');"
            ],
            "metadata": {
                "language": "sql",
                "azdata_cell_guid": "28b3f545-5af1-4ae2-b0e1-568de17bd359",
                "tags": []
            },
            "outputs": [],
            "execution_count": null
        },
        {
            "cell_type": "markdown",
            "source": [
                "Question:\n",
                "\n",
                "Sales.Order2 table we just created, find orders that the Order Date is between `20160212` and `20160213`"
            ],
            "metadata": {
                "language": "sql",
                "azdata_cell_guid": "e82f5bd1-623e-405c-9051-156436cb3aa7"
            },
            "attachments": {}
        },
        {
            "cell_type": "code",
            "source": [
                "USE [TSQLV4]\r\n",
                "SELECT orderid, custid, empid, orderdate\r\n",
                "FROM [Sales].[Orders2]\r\n",
                "WHERE orderdate >= '20160212' AND orderdate < '20160213';\r\n",
                "\r\n",
                "USE [Northwinds2022TSQLV7]\r\n",
                "SELECT o.OrderId, o.CustomerId, o.EmployeeId, o.OrderDate\r\n",
                "FROM [Sales].[Order2] as o\r\n",
                "WHERE o.OrderDate >= '20160212' AND o.OrderDate < '20160213';"
            ],
            "metadata": {
                "language": "sql",
                "azdata_cell_guid": "26eeb834-223a-444e-ada5-a2ab4722caad",
                "tags": []
            },
            "outputs": [],
            "execution_count": null
        },
        {
            "cell_type": "markdown",
            "source": [
                "Question:\r\n",
                "what is '12:30:15.123' in datetime format?"
            ],
            "metadata": {
                "language": "sql",
                "azdata_cell_guid": "39168c4a-aca4-462c-9a95-1e2127dbe42e"
            },
            "attachments": {}
        },
        {
            "cell_type": "code",
            "source": [
                "SELECT CAST('12:30:15.123' AS DATETIME);\r\n",
                "\r\n",
                "-- 1900-01-01 12:30:15.123"
            ],
            "metadata": {
                "language": "sql",
                "azdata_cell_guid": "76c93855-700e-4997-8ef4-4389b2e2bfd0",
                "tags": []
            },
            "outputs": [],
            "execution_count": null
        },
        {
            "cell_type": "code",
            "source": [
                "-- Cleanup\r\n",
                "USE [TSQLV4];\r\n",
                "DROP TABLE IF EXISTS Sales.Orders2;\r\n",
                "\r\n",
                "USE [Northwinds2022TSQLV7];\r\n",
                "DROP TABLE IF EXISTS Sales.Order2;"
            ],
            "metadata": {
                "language": "sql",
                "azdata_cell_guid": "811fa229-e75c-4479-a044-ed4dbe6e8bcd",
                "tags": []
            },
            "outputs": [],
            "execution_count": null
        },
        {
            "cell_type": "markdown",
            "source": [
                "Question:\r\n",
                "\r\n",
                "Show all orders that in 2015\r\n",
                "\r\n",
                "Table involed: Sales.Order"
            ],
            "metadata": {
                "language": "sql",
                "azdata_cell_guid": "0f59585e-77f8-4243-8576-de7608457a77"
            },
            "attachments": {}
        },
        {
            "cell_type": "code",
            "source": [
                "USE [TSQLV4];\r\n",
                "SELECT orderid, custid, empid, orderdate\r\n",
                "FROM Sales.Orders\r\n",
                "WHERE YEAR(orderdate) = 2015;\r\n",
                "\r\n",
                "USE [Northwinds2022TSQLV7];\r\n",
                "SELECT o.OrderId, o.CustomerId, o.EmployeeId, o.OrderDate\r\n",
                "FROM [Sales].[Order] as o\r\n",
                "WHERE YEAR(o.OrderDate) = 2015;"
            ],
            "metadata": {
                "language": "sql",
                "azdata_cell_guid": "6e5a1edc-5812-4316-ad92-5b103d8084ad",
                "tags": []
            },
            "outputs": [],
            "execution_count": null
        },
        {
            "cell_type": "markdown",
            "source": [
                "Question:\r\n",
                "\r\n",
                "Show all orders that  within the range from `January 1, 2015`, to `December 31, 2016`. Excluding December 31, 2016 \r\n",
                "\r\n",
                "Table involed: `Sales.Order`"
            ],
            "metadata": {
                "language": "sql",
                "azdata_cell_guid": "064d3f44-1c46-4082-b3e6-970869df3be4"
            },
            "attachments": {}
        },
        {
            "cell_type": "code",
            "source": [
                "USE [TSQLV4]\r\n",
                "SELECT orderid, custid, empid, orderdate\r\n",
                "FROM Sales.Orders\r\n",
                "WHERE orderdate >= '20150101' AND orderdate < '20160101';\r\n",
                "\r\n",
                "USE [Northwinds2022TSQLV7]\r\n",
                "SELECT o.OrderId, o.CustomerId, o.EmployeeId, o.OrderDate\r\n",
                "FROM [Sales].[Order] as o\r\n",
                "WHERE o.OrderDate >= '20150101' AND o.OrderDate < '20160101';"
            ],
            "metadata": {
                "language": "sql",
                "azdata_cell_guid": "f573c04b-ec61-4c2d-9b5a-a04db2ccb4c2",
                "tags": []
            },
            "outputs": [],
            "execution_count": null
        },
        {
            "cell_type": "markdown",
            "source": [
                "Question:\r\n",
                "\r\n",
                "Show all orders that in February 2016  \r\n",
                "\r\n",
                "Table involed: `Sales.Order`"
            ],
            "metadata": {
                "language": "sql",
                "azdata_cell_guid": "41d80da8-c783-4036-a301-da0b9d01389f"
            },
            "attachments": {}
        },
        {
            "cell_type": "code",
            "source": [
                "USE [TSQLV4]\r\n",
                "SELECT orderid, custid, empid, orderdate\r\n",
                "FROM Sales.Orders\r\n",
                "WHERE YEAR(orderdate) = 2016 AND MONTH(orderdate) = 2;\r\n",
                "\r\n",
                "SELECT orderid, custid, empid, orderdate\r\n",
                "FROM Sales.Orders\r\n",
                "WHERE orderdate >= '20160201' AND orderdate < '20160301';\r\n",
                "\r\n",
                "USE [Northwinds2022TSQLV7]\r\n",
                "SELECT o.OrderId, o.CustomerId, o.EmployeeId, o.OrderDate\r\n",
                "FROM [Sales].[Order] as o\r\n",
                "WHERE YEAR(o.OrderDate) = 2016 AND MONTH(o.OrderDate) = 2;\r\n",
                "\r\n",
                "SELECT o.OrderId, o.CustomerId, o.EmployeeId, o.OrderDate\r\n",
                "FROM [Sales].[Order] as o\r\n",
                "WHERE o.OrderDate >= '20160201' AND o.OrderDate < '20160301';"
            ],
            "metadata": {
                "language": "sql",
                "azdata_cell_guid": "0d360129-1b3b-48af-93f0-991ee50fc77d",
                "tags": []
            },
            "outputs": [],
            "execution_count": null
        },
        {
            "cell_type": "markdown",
            "source": [
                "Question:\n",
                "\n",
                "Show all ways to get current time\n",
                "\n",
                "Table involed: Null"
            ],
            "metadata": {
                "language": "sql",
                "azdata_cell_guid": "da42b324-7ef8-4d51-a650-91752fba1ca7"
            },
            "attachments": {}
        },
        {
            "cell_type": "code",
            "source": [
                "SELECT\r\n",
                "  GETDATE()           AS [GETDATE],\r\n",
                "  CURRENT_TIMESTAMP   AS [CURRENT_TIMESTAMP],\r\n",
                "  GETUTCDATE()        AS [GETUTCDATE],\r\n",
                "  SYSDATETIME()       AS [SYSDATETIME],\r\n",
                "  SYSUTCDATETIME()    AS [SYSUTCDATETIME],\r\n",
                "  SYSDATETIMEOFFSET() AS [SYSDATETIMEOFFSET];"
            ],
            "metadata": {
                "language": "sql",
                "azdata_cell_guid": "3dc6afd3-b725-43b7-ba64-de8cf33ac36f",
                "tags": []
            },
            "outputs": [],
            "execution_count": null
        },
        {
            "cell_type": "markdown",
            "source": [
                "Question:\r\n",
                "\r\n",
                "take `SYSDATATIME`, show the `data` part only \r\n",
                "\r\n",
                "and\r\n",
                "take `SYSDATATIME`, show the `time` part only\r\n",
                "\r\n",
                "Table involed: Null"
            ],
            "metadata": {
                "language": "sql",
                "azdata_cell_guid": "9fb968f2-96e4-4283-b98d-1eecd31fb97d"
            },
            "attachments": {}
        },
        {
            "cell_type": "code",
            "source": [
                "SELECT\r\n",
                "  CAST(SYSDATETIME() AS DATE) AS [current_date],\r\n",
                "  CAST(SYSDATETIME() AS TIME) AS [current_time];"
            ],
            "metadata": {
                "language": "sql",
                "azdata_cell_guid": "f0d6ed87-c928-4418-9cf6-a28e64adb56b",
                "tags": []
            },
            "outputs": [],
            "execution_count": null
        },
        {
            "cell_type": "markdown",
            "source": [
                "Question:\r\n",
                "\r\n",
                "take a `String`, case it into `date`\r\n",
                "\r\n",
                "take `SYSDATATIME`, cast it into  `data`\r\n",
                "\r\n",
                "take `SYSDATATIME`, cast it into  `time`\r\n",
                "\r\n",
                "Table involed: Null\r\n",
                "\r\n",
                "Note: \r\n",
                "- Style 112: yyyymmdd\r\n",
                "- Style 114: hh:mi:ss:mmm in 24-hours"
            ],
            "metadata": {
                "language": "sql",
                "azdata_cell_guid": "4d677a1b-5080-4796-af70-ef96c786cb84"
            },
            "attachments": {}
        },
        {
            "cell_type": "code",
            "source": [
                "-- The CAST, CONVERT and PARSE Functions and their TRY_ Counterparts\r\n",
                "SELECT CAST('20160212' AS DATE);\r\n",
                "SELECT CAST(SYSDATETIME() AS DATE);\r\n",
                "SELECT CAST(SYSDATETIME() AS TIME);\r\n",
                "\r\n",
                "SELECT CONVERT(CHAR(8), CURRENT_TIMESTAMP, 112);\r\n",
                "SELECT CONVERT(DATETIME, CONVERT(CHAR(8), CURRENT_TIMESTAMP, 112), 112);\r\n",
                "\r\n",
                "SELECT CONVERT(CHAR(12), CURRENT_TIMESTAMP, 114);\r\n",
                "SELECT CONVERT(DATETIME, CONVERT(CHAR(12), CURRENT_TIMESTAMP, 114), 114);\r\n",
                "\r\n",
                "SELECT PARSE('02/12/2016' AS DATETIME USING 'en-US');\r\n",
                "SELECT PARSE('02/12/2016' AS DATETIME USING 'en-GB');"
            ],
            "metadata": {
                "language": "sql",
                "azdata_cell_guid": "26864a5b-87b8-4fdb-8fff-a6835cf6201b",
                "tags": []
            },
            "outputs": [],
            "execution_count": null
        },
        {
            "cell_type": "markdown",
            "source": [
                "Question:\n",
                "\n",
                "How to change the offset? aka change time zone\n",
                "\n",
                "Table involed: Null"
            ],
            "metadata": {
                "language": "sql",
                "azdata_cell_guid": "2b80e473-586b-4fec-8ac3-308af066cc47"
            },
            "attachments": {}
        },
        {
            "cell_type": "code",
            "source": [
                "-- SWITCHOFFSET\r\n",
                "SELECT SWITCHOFFSET(SYSDATETIMEOFFSET(), '-05:00');\r\n",
                "SELECT SWITCHOFFSET(SYSDATETIMEOFFSET(), '+00:00');"
            ],
            "metadata": {
                "language": "sql",
                "azdata_cell_guid": "7c42e71d-16e9-46d6-9399-19560419a4b3",
                "tags": []
            },
            "outputs": [],
            "execution_count": null
        },
        {
            "cell_type": "markdown",
            "source": [
                "Question:\r\n",
                "\r\n",
                "Show all time zones and its offset\r\n",
                "\r\n",
                "Table involed: `sys.time_zone_info`"
            ],
            "metadata": {
                "language": "sql",
                "azdata_cell_guid": "3ecbeaaf-d589-4b0a-a6c1-7b253bad621f"
            },
            "attachments": {}
        },
        {
            "cell_type": "code",
            "source": [
                "SELECT name, current_utc_offset, is_currently_dst\r\n",
                "FROM sys.time_zone_info;"
            ],
            "metadata": {
                "language": "sql",
                "azdata_cell_guid": "5403b21c-d87f-42d3-b66d-8ff79c9ef429",
                "tags": []
            },
            "outputs": [],
            "execution_count": null
        },
        {
            "cell_type": "markdown",
            "source": [
                "Question:\n",
                "\n",
                "How to converting `non-datetimeoffset`(DATETIME2) values\n",
                "\n",
                "How to converting `datetimeoffset` values\n",
                "\n",
                "- behavior similar to TODATETIMEOFFSET"
            ],
            "metadata": {
                "language": "sql",
                "azdata_cell_guid": "adca30c2-9cb6-4d95-a92e-ece369a9007d"
            },
            "attachments": {}
        },
        {
            "cell_type": "code",
            "source": [
                "SELECT\r\n",
                "  CAST('20160212 12:00:00.0000000' AS DATETIME2)\r\n",
                "    AT TIME ZONE 'Pacific Standard Time' AS val1,\r\n",
                "  CAST('20160812 12:00:00.0000000' AS DATETIME2)\r\n",
                "    AT TIME ZONE 'Pacific Standard Time' AS val2;\r\n",
                "\r\n",
                "SELECT\r\n",
                "  CAST('20160212 12:00:00.0000000 -05:00' AS DATETIMEOFFSET)\r\n",
                "    AT TIME ZONE 'Pacific Standard Time' AS val3,\r\n",
                "  CAST('20160812 12:00:00.0000000 -04:00' AS DATETIMEOFFSET)\r\n",
                "    AT TIME ZONE 'Pacific Standard Time' AS val4;"
            ],
            "metadata": {
                "language": "sql",
                "azdata_cell_guid": "836bb8b2-e6e3-4d37-a0a5-7493e23ee406",
                "tags": []
            },
            "outputs": [],
            "execution_count": null
        },
        {
            "cell_type": "markdown",
            "source": [
                "Question:\r\n",
                "\r\n",
                "show all data `Arithmatic`"
            ],
            "metadata": {
                "language": "sql",
                "azdata_cell_guid": "4d9836b1-7dc1-4cef-8fc3-7a89bc7ef977"
            },
            "attachments": {}
        },
        {
            "cell_type": "code",
            "source": [
                "-- DATEADD\r\n",
                "SELECT DATEADD(year, 1, '20160212');\r\n",
                "\r\n",
                "-- DATEDIFF\r\n",
                "SELECT DATEDIFF(day, '20150212', '20160212');\r\n",
                "\r\n",
                "SELECT DATEDIFF_BIG(millisecond, '00010101', '20160212');\r\n",
                "\r\n",
                "SELECT\r\n",
                "  DATEADD(\r\n",
                "    day, \r\n",
                "    DATEDIFF(day, '19000101', SYSDATETIME()), '19000101');\r\n",
                "\r\n",
                "SELECT\r\n",
                "  DATEADD(\r\n",
                "    month, \r\n",
                "    DATEDIFF(month, '19000101', SYSDATETIME()), '19000101');\r\n",
                "\r\n",
                "SELECT\r\n",
                "  DATEADD(\r\n",
                "    year, \r\n",
                "    DATEDIFF(year, '18991231', SYSDATETIME()), '18991231');"
            ],
            "metadata": {
                "language": "sql",
                "azdata_cell_guid": "affc4ccc-154a-4a2a-b86b-29d2e7d8dbc1",
                "tags": []
            },
            "outputs": [],
            "execution_count": null
        },
        {
            "cell_type": "markdown",
            "source": [
                "Question:\r\n",
                "\r\n",
                "what is DATEPART function do? show a example\r\n",
                "\r\n",
                "\r\n",
                "Ans: the DATEPART function, which extracts a specific part (such as month, day, year, etc.) from a date "
            ],
            "metadata": {
                "language": "sql",
                "azdata_cell_guid": "bffe0ab2-5400-451c-903d-d594ccd7abb4"
            },
            "attachments": {}
        },
        {
            "cell_type": "code",
            "source": [
                "SELECT DATEPART(month, '20160212');"
            ],
            "metadata": {
                "language": "sql",
                "azdata_cell_guid": "e02a0579-8b3c-4a25-9154-7137acef89ec",
                "tags": []
            },
            "outputs": [],
            "execution_count": null
        },
        {
            "cell_type": "markdown",
            "source": [
                "Question:\r\n",
                "\r\n",
                "Get DAY, MONTH, YEAR from a '20160212' (string)\r\n",
                ""
            ],
            "metadata": {
                "language": "sql",
                "azdata_cell_guid": "f397dfdc-e390-4011-8036-2d53e213a7db"
            },
            "attachments": {}
        },
        {
            "cell_type": "code",
            "source": [
                "SELECT\r\n",
                "  DAY('20160212') AS theday,\r\n",
                "  MONTH('20160212') AS themonth,\r\n",
                "  YEAR('20160212') AS theyear;"
            ],
            "metadata": {
                "language": "sql",
                "azdata_cell_guid": "c1c3b8eb-f9ea-4588-93ac-01bf913eaff1",
                "tags": []
            },
            "outputs": [],
            "execution_count": null
        },
        {
            "cell_type": "markdown",
            "source": [
                "Question:\r\n",
                "\r\n",
                "Get DATENAME from a '20160212' (string)\r\n",
                "\r\n",
                "use DAY, MONTH, YEAR in DATENAME function\r\n",
                ""
            ],
            "metadata": {
                "language": "sql",
                "azdata_cell_guid": "f4b50a68-e0c2-47ed-856e-864aa982828b"
            },
            "attachments": {}
        },
        {
            "cell_type": "code",
            "source": [
                "-- DATENAME\r\n",
                "\r\n",
                "SELECT DATENAME(day, '20160212') as day,\r\n",
                "        DATENAME(month, '20160212') as month,\r\n",
                "       DATENAME(year, '20160212') as year;"
            ],
            "metadata": {
                "language": "sql",
                "azdata_cell_guid": "af5ab231-c312-42a8-8528-98e1b7a480ad",
                "tags": []
            },
            "outputs": [],
            "execution_count": null
        },
        {
            "cell_type": "markdown",
            "source": [
                "Question:\n",
                "\n",
                "How to check if a given string is vaild data?\n",
                "\n",
                "Note:\n",
                "- use ISDATE function"
            ],
            "metadata": {
                "language": "sql",
                "azdata_cell_guid": "7f5dd50c-0b37-4d89-95dc-44d4beb90693"
            },
            "attachments": {}
        },
        {
            "cell_type": "code",
            "source": [
                "SELECT ISDATE('20160212');\r\n",
                "SELECT ISDATE('20160230');"
            ],
            "metadata": {
                "language": "sql",
                "azdata_cell_guid": "83bac8b2-338b-4bd0-a173-58d810b4d02a",
                "tags": []
            },
            "outputs": [],
            "execution_count": null
        },
        {
            "cell_type": "markdown",
            "source": [
                "Question:\r\n",
                "\r\n",
                "Given parts, how to combine them into a vaild data type?\r\n",
                "\r\n",
                "Note:\r\n",
                "- use ***FROMPARTS function"
            ],
            "metadata": {
                "language": "sql",
                "azdata_cell_guid": "f03fd1a9-eb9e-43a4-a0ec-2dd1c274e181"
            },
            "attachments": {}
        },
        {
            "cell_type": "code",
            "source": [
                "SELECT\r\n",
                "  DATEFROMPARTS(2016, 02, 12),\r\n",
                "  DATETIME2FROMPARTS(2016, 02, 12, 13, 30, 5, 1, 7),\r\n",
                "  DATETIMEFROMPARTS(2016, 02, 12, 13, 30, 5, 997),\r\n",
                "  DATETIMEOFFSETFROMPARTS(2016, 02, 12, 13, 30, 5, 1, -8, 0, 7),\r\n",
                "  SMALLDATETIMEFROMPARTS(2016, 02, 12, 13, 30),\r\n",
                "  TIMEFROMPARTS(13, 30, 5, 1, 7);"
            ],
            "metadata": {
                "language": "sql",
                "azdata_cell_guid": "f7ff7c74-68d5-4e64-971b-6200d1e34058",
                "tags": []
            },
            "outputs": [],
            "execution_count": null
        },
        {
            "cell_type": "markdown",
            "source": [
                "\n",
                "Question:\n",
                "\n",
                "how to last day of current month?\n",
                "\n",
                "Note:\n",
                "- use `EOMONTH` function"
            ],
            "metadata": {
                "language": "sql",
                "azdata_cell_guid": "e7e9d3b3-3bfc-4682-8f1a-cf7097a41c56"
            },
            "attachments": {}
        },
        {
            "cell_type": "code",
            "source": [
                "SELECT EOMONTH(SYSDATETIME());"
            ],
            "metadata": {
                "language": "sql",
                "azdata_cell_guid": "68d3d1ce-b6b5-4d85-b71f-0017af55e197",
                "tags": []
            },
            "outputs": [],
            "execution_count": null
        },
        {
            "cell_type": "markdown",
            "source": [
                "Question:\r\n",
                "\r\n",
                "find all orders that placed at the last day of month\r\n",
                "\r\n",
                "Hit:\r\n",
                "- use `EOMONTH` function"
            ],
            "metadata": {
                "language": "sql",
                "azdata_cell_guid": "eca147a1-56ab-4d72-80e1-a939b7a53722"
            },
            "attachments": {}
        },
        {
            "cell_type": "code",
            "source": [
                "-- orders placed on last day of month\r\n",
                "USE [TSQLV4]\r\n",
                "SELECT orderid, orderdate, custid, empid\r\n",
                "FROM Sales.Orders\r\n",
                "WHERE orderdate = EOMONTH(orderdate);\r\n",
                "\r\n",
                "USE [Northwinds2022TSQLV7]\r\n",
                "SELECT o.OrderId, o.CustomerId, o.EmployeeId, o.OrderDate\r\n",
                "FROM [Sales].[Order] as o\r\n",
                "WHERE orderdate = EOMONTH(orderdate);"
            ],
            "metadata": {
                "language": "sql",
                "azdata_cell_guid": "c2ce9e07-56bc-4430-a658-7005f7f6f42d",
                "tags": []
            },
            "outputs": [],
            "execution_count": null
        },
        {
            "cell_type": "code",
            "source": [
                "-- 14\r\n",
                "-- Literals\r\n",
                "\r\n",
                "-- Language neutral\r\n",
                "\r\n",
                "-- Working with Date and Time Separately\r\n",
                "\r\n",
                "-- Create Sales.Orders2 with orderdate as DATETIME by copying data from Sales.Orders\r\n",
                "\r\n",
                "-- Query Sales.Orders2\r\n",
                "\r\n",
                "-- Functions\r\n",
                "\r\n",
                "-- Current Date and Time\r\n",
                "\r\n",
                "-- The CAST, CONVERT and PARSE Functions and their TRY_ Counterparts\r\n",
                "\r\n",
                "\r\n",
                "-- SWITCHOFFSET\r\n",
                "\r\n",
                "\r\n",
                "-- TODATETIMEOFFSET\r\n",
                "/*\r\n",
                "UPDATE dbo.T1\r\n",
                "  SET dto = TODATETIMEOFFSET(dt, theoffset);\r\n",
                "*/\r\n",
                "\r\n",
                "-- AT TIME ZONE\r\n",
                "\r\n",
                "-- Converting non-datetimeoffset values\r\n",
                "-- behavior similar to TODATETIMEOFFSET\r\n",
                "\r\n",
                "\r\n",
                "-- Converting datetimeoffset values\r\n",
                "-- behavior similar to SWITCHOFFSET\r\n",
                "\r\n",
                "\r\n",
                "-- DATEADD\r\n",
                "\r\n",
                "-- DATEDIFF\r\n",
                "\r\n",
                "\r\n",
                "-- DATEPART\r\n",
                "\r\n",
                "-- DAY, MONTH, YEAR\r\n",
                "\r\n",
                "\r\n",
                "-- DATENAME\r\n",
                "\r\n",
                "-- ISDATE\r\n",
                "\r\n",
                "-- fromparts\r\n",
                "\r\n",
                "-- EOMONTH\r\n",
                "-- orders placed on last day of month\r\n",
                "SELECT orderid, orderdate, custid, empid\r\n",
                "FROM Sales.Orders\r\n",
                "WHERE orderdate = EOMONTH(orderdate);"
            ],
            "metadata": {
                "language": "sql",
                "azdata_cell_guid": "c763e422-b3c7-44ed-aad3-63833a594a02",
                "tags": []
            },
            "outputs": [],
            "execution_count": null
        },
        {
            "cell_type": "markdown",
            "source": [
                "<span style=\"color: #008000;\">-- 15 Querying Metadata</span>"
            ],
            "metadata": {
                "language": "sql",
                "azdata_cell_guid": "1f561ca5-6abf-40a8-bb65-59cb2aae3086"
            },
            "attachments": {}
        },
        {
            "cell_type": "code",
            "source": [
                "-- Catalog Views\r\n",
                "USE TSQLV4;\r\n",
                "\r\n",
                "SELECT SCHEMA_NAME(schema_id) AS table_schema_name, name AS table_name\r\n",
                "FROM sys.tables;\r\n",
                "\r\n",
                "SELECT \r\n",
                "  name AS column_name,\r\n",
                "  TYPE_NAME(system_type_id) AS column_type,\r\n",
                "  max_length,\r\n",
                "  collation_name,\r\n",
                "  is_nullable\r\n",
                "FROM sys.columns\r\n",
                "WHERE object_id = OBJECT_ID(N'Sales.Orders');\r\n",
                "\r\n",
                "-- Information Schema Views\r\n",
                "SELECT TABLE_SCHEMA, TABLE_NAME\r\n",
                "FROM INFORMATION_SCHEMA.TABLES\r\n",
                "WHERE TABLE_TYPE = N'BASE TABLE';\r\n",
                "\r\n",
                "SELECT \r\n",
                "  COLUMN_NAME, DATA_TYPE, CHARACTER_MAXIMUM_LENGTH, \r\n",
                "  COLLATION_NAME, IS_NULLABLE\r\n",
                "FROM INFORMATION_SCHEMA.COLUMNS\r\n",
                "WHERE TABLE_SCHEMA = N'Sales'\r\n",
                "  AND TABLE_NAME = N'Orders';\r\n",
                "\r\n",
                "-- System Stored Procedures and Functions\r\n",
                "EXEC sys.sp_tables;\r\n",
                "\r\n",
                "EXEC sys.sp_help\r\n",
                "  @objname = N'Sales.Orders';\r\n",
                "\r\n",
                "EXEC sys.sp_columns\r\n",
                "  @table_name = N'Orders',\r\n",
                "  @table_owner = N'Sales';\r\n",
                "\r\n",
                "EXEC sys.sp_helpconstraint\r\n",
                "  @objname = N'Sales.Orders';\r\n",
                "\r\n",
                "SELECT \r\n",
                "  SERVERPROPERTY('ProductLevel');\r\n",
                "\r\n",
                "SELECT\r\n",
                "  DATABASEPROPERTYEX(N'TSQLV4', 'Collation');\r\n",
                "\r\n",
                "SELECT \r\n",
                "  OBJECTPROPERTY(OBJECT_ID(N'Sales.Orders'), 'TableHasPrimaryKey');\r\n",
                "\r\n",
                "SELECT\r\n",
                "  COLUMNPROPERTY(OBJECT_ID(N'Sales.Orders'), N'shipcountry', 'AllowsNull');\r\n",
                "  "
            ],
            "metadata": {
                "language": "sql",
                "azdata_cell_guid": "6e0a2492-3b48-48ff-a372-72d24eea11b0",
                "tags": []
            },
            "outputs": [],
            "execution_count": null
        }
    ]
}