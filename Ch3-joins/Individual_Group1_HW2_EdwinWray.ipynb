{
    "metadata": {
        "kernelspec": {
            "name": "SQL",
            "display_name": "SQL",
            "language": "sql"
        },
        "language_info": {
            "name": "sql",
            "version": ""
        }
    },
    "nbformat_minor": 2,
    "nbformat": 4,
    "cells": [
        {
            "cell_type": "markdown",
            "source": [
                "# Edwin Wray\n",
                "\n",
                "### Group 1\n",
                "\n",
                "### Homework 2\n",
                "\n",
                "Execises 4 and 5\n",
                "\n",
                "Cross Joins"
            ],
            "metadata": {
                "azdata_cell_guid": "378c09ca-8de9-4f42-8949-58950543c642"
            },
            "attachments": {}
        },
        {
            "cell_type": "markdown",
            "source": [
                "<span style=\"color: #008000;\">-- 4</span>\n",
                "\n",
                "<span style=\"color: #008000;\">-- Return customers and their orders including customers who placed no orders</span>\n",
                "\n",
                "<span style=\"color: #008000;\">-- Tables involved: TSQLV4 database, Customers and Orders tables</span>\n",
                "\n",
                "<span style=\"color: #008000;\">-- Desired output</span>\n",
                "\n",
                "custid companyname orderid orderdate\n",
                "\n",
                "<span style=\"color: #008000;\">----------- --------------- ----------- -----------</span>\n",
                "\n",
                "<span style=\"color: #09885a;\">85</span> Customer ENQZT <span style=\"color: #09885a;\">10248</span> <span style=\"color: #09885a;\">2014</span><span style=\"color: #000000;\">-</span><span style=\"color: #09885a;\">07</span><span style=\"color: #000000;\">-</span><span style=\"color: #09885a;\">04</span>\n",
                "\n",
                "<span style=\"color: #09885a;\">79</span> Customer FAPSM <span style=\"color: #09885a;\">10249</span> <span style=\"color: #09885a;\">2014</span><span style=\"color: #000000;\">-</span><span style=\"color: #09885a;\">07</span><span style=\"color: #000000;\">-</span><span style=\"color: #09885a;\">05</span>\n",
                "\n",
                "<span style=\"color: #09885a;\">34</span> Customer IBVRG <span style=\"color: #09885a;\">10250</span> <span style=\"color: #09885a;\">2014</span><span style=\"color: #000000;\">-</span><span style=\"color: #09885a;\">07</span><span style=\"color: #000000;\">-</span><span style=\"color: #09885a;\">08</span>\n",
                "\n",
                "<span style=\"color: #09885a;\">84</span> Customer NRCSK <span style=\"color: #09885a;\">10251</span> <span style=\"color: #09885a;\">2014</span><span style=\"color: #000000;\">-</span><span style=\"color: #09885a;\">07</span><span style=\"color: #000000;\">-</span><span style=\"color: #09885a;\">08</span>\n",
                "\n",
                "...\n",
                "\n",
                "<span style=\"color: #09885a;\">73</span> Customer JMIKW <span style=\"color: #09885a;\">11074</span> <span style=\"color: #09885a;\">2016</span><span style=\"color: #000000;\">-</span><span style=\"color: #09885a;\">05</span><span style=\"color: #000000;\">-</span><span style=\"color: #09885a;\">06</span>\n",
                "\n",
                "<span style=\"color: #09885a;\">68</span> Customer CCKOT <span style=\"color: #09885a;\">11075</span> <span style=\"color: #09885a;\">2016</span><span style=\"color: #000000;\">-</span><span style=\"color: #09885a;\">05</span><span style=\"color: #000000;\">-</span><span style=\"color: #09885a;\">06</span>\n",
                "\n",
                "<span style=\"color: #09885a;\">9</span> Customer RTXGC <span style=\"color: #09885a;\">11076</span> <span style=\"color: #09885a;\">2016</span><span style=\"color: #000000;\">-</span><span style=\"color: #09885a;\">05</span><span style=\"color: #000000;\">-</span><span style=\"color: #09885a;\">06</span>\n",
                "\n",
                "<span style=\"color: #09885a;\">65</span> Customer NYUHS <span style=\"color: #09885a;\">11077</span> <span style=\"color: #09885a;\">2016</span><span style=\"color: #000000;\">-</span><span style=\"color: #09885a;\">05</span><span style=\"color: #000000;\">-</span><span style=\"color: #09885a;\">06</span>\n",
                "\n",
                "<span style=\"color: #09885a;\">22</span> Customer DTDMN <span style=\"color: #0000ff;\">NULL</span> <span style=\"color: #0000ff;\">NULL</span>\n",
                "\n",
                "<span style=\"color: #09885a;\">57</span> Customer WVAXS <span style=\"color: #0000ff;\">NULL</span> <span style=\"color: #0000ff;\">NULL</span>\n",
                "\n",
                "(<span style=\"color: #09885a;\">832</span> <span style=\"color: #0000ff;\">row</span>(s) affected)"
            ],
            "metadata": {
                "azdata_cell_guid": "e6cf9ccc-b58f-483f-a1cd-ad934ae0b4f9"
            },
            "attachments": {}
        },
        {
            "cell_type": "markdown",
            "source": [
                "Proposition: Write a query that returns all customers. Return their customer id, company name, and if they placed orders, return the orders id and date.\n",
                "\n",
                "Table: Sales.Customer as c and Sales.\\[Order\\] as o.\n",
                "\n",
                "Column: <span style=\"color: rgb(33, 33, 33); font-family: Menlo, Monaco, &quot;Courier New&quot;, monospace; font-size: 12px; white-space: pre;\">DatabaseName,</span> <span style=\"font-family: -apple-system, BlinkMacSystemFont, sans-serif; color: var(--vscode-foreground);\">CustomerId and CustomerCompanyName from&nbsp;</span>  <span style=\"font-family: -apple-system, BlinkMacSystemFont, sans-serif; color: var(--vscode-foreground);\">Sales.Customer&nbsp;</span>   <span style=\"font-family: -apple-system, BlinkMacSystemFont, sans-serif; color: var(--vscode-foreground);\">table</span><span style=\"font-family: -apple-system, BlinkMacSystemFont, sans-serif; color: var(--vscode-foreground);\">, and OrderId and OrderDate from&nbsp;</span>   <span style=\"font-family: -apple-system, BlinkMacSystemFont, sans-serif; color: var(--vscode-foreground);\">Sales.[Order] table.</span>\n",
                "\n",
                "Predicate: <span style=\"color: rgb(33, 33, 33); font-family: Menlo, Monaco, &quot;Courier New&quot;, monospace; font-size: 12px; white-space: pre;\">c.CustomerId</span> <span style=\"font-family: Menlo, Monaco, &quot;Courier New&quot;, monospace; font-size: 12px; white-space: pre; color: rgb(0, 0, 0);\">=</span> <span style=\"color: rgb(33, 33, 33); font-family: Menlo, Monaco, &quot;Courier New&quot;, monospace; font-size: 12px; white-space: pre;\">o.CustomerId returns rows where the custermerid is found in both tables.</span>"
            ],
            "metadata": {
                "azdata_cell_guid": "c02bf82b-f678-48e0-8e1e-b871c6d7f1fb"
            },
            "attachments": {}
        },
        {
            "cell_type": "code",
            "source": [
                "USE TSQLV4;\n",
                "\n",
                "SELECT N'TSQLV4' AS databasename, c.custid, c.companyname, o.orderid, o.orderdate\n",
                "FROM Sales.Customers as c \n",
                "    LEFT OUTER JOIN Sales.Orders as o \n",
                "        ON c.custid = o.custid\n",
                "\n",
                "USE Northwinds2022TSQLV7;\n",
                "\n",
                "SELECT N'Northwinds2022TSQLV7' AS DatabaseName, c.CustomerId, c.CustomerCompanyName, o.OrderId, o.OrderDate\n",
                "FROM Sales.Customer as c \n",
                "    LEFT OUTER JOIN Sales.[Order] as o \n",
                "        ON c.CustomerId = o.CustomerId"
            ],
            "metadata": {
                "azdata_cell_guid": "de5a5c63-b77c-46ff-ac75-fa17ba832992",
                "language": "sql"
            },
            "outputs": [],
            "execution_count": null
        },
        {
            "cell_type": "markdown",
            "source": [
                "<span style=\"color: rgb(0, 128, 0);\">-- 5</span>\n",
                "\n",
                "<span style=\"color: rgb(0, 128, 0);\">-- Return customers who placed no orders</span>\n",
                "\n",
                "<span style=\"color: rgb(0, 128, 0);\">-- Tables involved: TSQLV4 database, Customers and Orders tables</span>\n",
                "\n",
                "<span style=\"color: rgb(0, 128, 0);\">-- Desired output</span>\n",
                "\n",
                "custid companyname\n",
                "\n",
                "<span style=\"color: rgb(0, 128, 0);\">----------- ---------------</span>\n",
                "\n",
                "<span style=\"color: rgb(9, 136, 90);\">22</span> Customer DTDMN\n",
                "\n",
                "<span style=\"color: rgb(9, 136, 90);\">57</span> Customer WVAXS\n",
                "\n",
                "(<span style=\"color: rgb(9, 136, 90);\">2</span> <span style=\"color: rgb(0, 0, 255);\">row</span>(s) affected)"
            ],
            "metadata": {
                "azdata_cell_guid": "7722d2ec-9d6e-4822-81cc-c454d66127e4"
            },
            "attachments": {}
        },
        {
            "cell_type": "markdown",
            "source": [
                "Proposition: Write a query that returns all customers who never placed an order. Return their customer id and company name.\n",
                "\n",
                "Table: Sales.Customer as c and Sales.\\[Order\\] as o.\n",
                "\n",
                "Column: <span style=\"color: rgb(33, 33, 33); font-family: Menlo, Monaco, &quot;Courier New&quot;, monospace; font-size: 12px; white-space: pre;\">DatabaseName,</span> <span style=\"font-family: -apple-system, BlinkMacSystemFont, sans-serif; color: var(--vscode-foreground);\">CustomerId and CustomerCompanyName from&nbsp;</span>   <span style=\"font-family: -apple-system, BlinkMacSystemFont, sans-serif; color: var(--vscode-foreground);\">Sales.Customer&nbsp;</span>     <span style=\"font-family: -apple-system, BlinkMacSystemFont, sans-serif; color: var(--vscode-foreground);\">table.</span>\n",
                "\n",
                "Predicate: \n",
                "\n",
                "1. <span style=\"color: rgb(33, 33, 33); font-family: Menlo, Monaco, &quot;Courier New&quot;, monospace; font-size: 12px; white-space: pre;\">c.CustomerId</span> <span style=\"font-family: Menlo, Monaco, &quot;Courier New&quot;, monospace; font-size: 12px; white-space: pre; color: rgb(0, 0, 0);\">=</span> <span style=\"color: rgb(33, 33, 33); font-family: Menlo, Monaco, &quot;Courier New&quot;, monospace; font-size: 12px; white-space: pre;\">o.CustomerId returns rows where the custermerid is found in both tables.</span>\n",
                "2. <span style=\"color: rgb(33, 33, 33); font-family: Menlo, Monaco, &quot;Courier New&quot;, monospace; font-size: 12px; white-space: pre;\">o.OrderId is NULL returns rows without no order; customers who have not placed an order.</span>"
            ],
            "metadata": {
                "azdata_cell_guid": "07434107-c81a-4401-9c6f-1ebaaf00a148"
            },
            "attachments": {}
        },
        {
            "cell_type": "code",
            "source": [
                "USE TSQLV4;\n",
                "\n",
                "SELECT N'TSQLV4' AS databasename, c.custid, c.companyname\n",
                "FROM Sales.Customers as c \n",
                "    LEFT OUTER JOIN Sales.Orders as o \n",
                "        ON o.custid = c.custid\n",
                "WHERE o.orderid is NULL;\n",
                "\n",
                "USE Northwinds2022TSQLV7;\n",
                "\n",
                "SELECT N'Northwinds2022TSQLV7' AS DatabaseName, c.CustomerId, c.CustomerCompanyName\n",
                "FROM Sales.Customer as c \n",
                "    LEFT OUTER JOIN Sales.[Order] as o \n",
                "        ON o.CustomerId = c.CustomerId\n",
                "WHERE o.OrderId is NULL;"
            ],
            "metadata": {
                "azdata_cell_guid": "de078a89-c311-45a1-adb7-b12800e277aa",
                "language": "sql"
            },
            "outputs": [],
            "execution_count": null
        },
        {
            "cell_type": "markdown",
            "source": [
                "<span style=\"color: #008000;\">---------------------------------------------------------------------</span>\n",
                "\n",
                "<span style=\"color: #008000;\">-- CROSS Joins</span>\n",
                "\n",
                "<span style=\"color: #008000;\">---------------------------------------------------------------------</span>"
            ],
            "metadata": {
                "azdata_cell_guid": "213d199b-27c0-4668-8387-1a8747655df3"
            },
            "attachments": {}
        },
        {
            "cell_type": "markdown",
            "source": [
                "Proposition: Write a query that returns the cartesian product of the Sales.Customer and HumanResources.Employee tables using CROSS JOIN.\n",
                "\n",
                "Table: Sales.Customer as C and HumanResources.Employee as E.\n",
                "\n",
                "Column: <span style=\"color: rgb(33, 33, 33); font-family: Menlo, Monaco, &quot;Courier New&quot;, monospace; font-size: 12px; white-space: pre;\">DatabaseName, </span> <span style=\"font-family: -apple-system, BlinkMacSystemFont, sans-serif; color: var(--vscode-foreground);\">CustomerId from&nbsp;</span>  <span style=\"font-family: -apple-system, BlinkMacSystemFont, sans-serif; color: var(--vscode-foreground);\">Sales.Customer table</span> <span style=\"font-family: -apple-system, BlinkMacSystemFont, sans-serif; color: var(--vscode-foreground);\">and&nbsp;</span>   <span style=\"font-family: -apple-system, BlinkMacSystemFont, sans-serif; color: var(--vscode-foreground);\">EmployeeId from the&nbsp;</span>      <span style=\"font-family: -apple-system, BlinkMacSystemFont, sans-serif; color: var(--vscode-foreground);\">HumanResources.Employee table.</span>\n",
                "\n",
                "Predicate: <span style=\"font-family: -apple-system, BlinkMacSystemFont, sans-serif; color: var(--vscode-foreground);\">There is n</span><span style=\"font-family: -apple-system, BlinkMacSystemFont, sans-serif; color: var(--vscode-foreground);\">o predicate in this query.</span>"
            ],
            "metadata": {
                "azdata_cell_guid": "972b2219-0741-447d-bd9c-adde94b05bfc"
            },
            "attachments": {}
        },
        {
            "cell_type": "code",
            "source": [
                "USE TSQLV4;\n",
                "\n",
                "-- SQL-92\n",
                "SELECT N'TSQLV4' AS databasename, C.custid, E.empid\n",
                "FROM Sales.Customers AS C\n",
                "  CROSS JOIN HR.Employees AS E;\n",
                "\n",
                "USE Northwinds2022TSQLV7;\n",
                "\n",
                "-- SQL-92\n",
                "SELECT N'Northwinds2022TSQLV7' AS DatabaseName, C.CustomerId, E.EmployeeId\n",
                "FROM Sales.Customer AS C\n",
                "  CROSS JOIN HumanResources.Employee AS E;"
            ],
            "metadata": {
                "azdata_cell_guid": "cb4d42c7-7fd2-4972-a617-cc87a1a52bce",
                "language": "sql"
            },
            "outputs": [],
            "execution_count": null
        },
        {
            "cell_type": "markdown",
            "source": [
                "Proposition: Write a query that returns the cartesian product of the Sales.Customer and HumanResources.Employee tables WITHOUT using CROSS JOIN.\n",
                "\n",
                "Table: Sales.Customer as C and HumanResources.Employee as E.\n",
                "\n",
                "Column: <span style=\"color: rgb(33, 33, 33); font-family: Menlo, Monaco, &quot;Courier New&quot;, monospace; font-size: 12px; white-space: pre;\">DatabaseName,</span> <span style=\"font-family: -apple-system, BlinkMacSystemFont, sans-serif; color: var(--vscode-foreground);\">CustomerId from&nbsp;</span>   <span style=\"font-family: -apple-system, BlinkMacSystemFont, sans-serif; color: var(--vscode-foreground);\">Sales.Customer table&nbsp;</span>    <span style=\"font-family: -apple-system, BlinkMacSystemFont, sans-serif; color: var(--vscode-foreground);\">and&nbsp;</span>    <span style=\"font-family: -apple-system, BlinkMacSystemFont, sans-serif; color: var(--vscode-foreground);\">EmployeeId from the&nbsp;</span>    <span style=\"font-family: -apple-system, BlinkMacSystemFont, sans-serif; color: var(--vscode-foreground);\">HumanResources.Employee table.</span>\n",
                "\n",
                "Predicate: <span style=\"font-family: -apple-system, BlinkMacSystemFont, sans-serif; color: var(--vscode-foreground);\">There is n</span><span style=\"font-family: -apple-system, BlinkMacSystemFont, sans-serif; color: var(--vscode-foreground);\">o predicate in this query.</span>"
            ],
            "metadata": {
                "azdata_cell_guid": "d9a4fc35-707d-4e95-aa93-c3446d3a21ed"
            },
            "attachments": {}
        },
        {
            "cell_type": "code",
            "source": [
                "USE TSQLV4;\n",
                "\n",
                "-- SQL-89\n",
                "SELECT N'TSQLV4' AS databasename, C.custid, E.empid\n",
                "FROM Sales.Customers AS C, HR.Employees AS E;\n",
                "\n",
                "USE Northwinds2022TSQLV7;\n",
                "\n",
                "-- SQL-89\n",
                "SELECT N'Northwinds2022TSQLV7' AS DatabaseName, C.CustomerId, E.EmployeeId\n",
                "FROM Sales.Customer AS C, HumanResources.Employee AS E;"
            ],
            "metadata": {
                "azdata_cell_guid": "da0647bc-9ee5-4516-8815-2bb3e51eeed2",
                "language": "sql"
            },
            "outputs": [],
            "execution_count": null
        },
        {
            "cell_type": "markdown",
            "source": [
                "Proposition: Write a query that returns the cartesian product of the HumanResources.Employee table.\n",
                "\n",
                "Table: HumanResources.Employee as E1 and HumanResources.Employee as E2.\n",
                "\n",
                "Column: <span style=\"color: rgb(33, 33, 33); font-family: Menlo, Monaco, &quot;Courier New&quot;, monospace; font-size: 12px; white-space: pre;\">DatabaseName,</span> <span style=\"color: rgb(33, 33, 33); font-family: Menlo, Monaco, &quot;Courier New&quot;, monospace; font-size: 12px; white-space: pre;\">EmployeeId, EmployeeFirstName and EmployeeLastName </span> <span style=\"font-family: -apple-system, BlinkMacSystemFont, sans-serif; color: var(--vscode-foreground);\">from the&nbsp;</span>    <span style=\"font-family: -apple-system, BlinkMacSystemFont, sans-serif; color: var(--vscode-foreground);\">HumanResources.Employee table E1</span><span style=\"color: rgb(33, 33, 33); font-family: Menlo, Monaco, &quot;Courier New&quot;, monospace; font-size: 12px; white-space: pre;\">, and </span> <span style=\"color: rgb(33, 33, 33); font-family: Menlo, Monaco, &quot;Courier New&quot;, monospace; font-size: 12px; white-space: pre;\">EmployeeId, EmployeeFirstName and EmployeeLastName</span>    <span style=\"font-family: -apple-system, BlinkMacSystemFont, sans-serif; color: var(--vscode-foreground);\">&nbsp;from the&nbsp;</span>    <span style=\"font-family: -apple-system, BlinkMacSystemFont, sans-serif; color: var(--vscode-foreground);\">HumanResources.Employee table E2.</span>\n",
                "\n",
                "Predicate: <span style=\"font-family: -apple-system, BlinkMacSystemFont, sans-serif; color: var(--vscode-foreground);\">There is n</span><span style=\"font-family: -apple-system, BlinkMacSystemFont, sans-serif; color: var(--vscode-foreground);\">o predicate in this query.</span>"
            ],
            "metadata": {
                "azdata_cell_guid": "7a3dd770-98e1-4472-8aed-7ac72d90f835"
            },
            "attachments": {}
        },
        {
            "cell_type": "code",
            "source": [
                "USE TSQLV4;\n",
                "\n",
                "-- Self Cross-Join\n",
                "SELECT\n",
                "  N'TSQLV4' AS databasename, \n",
                "  E1.empid, E1.firstname, E1.lastname,\n",
                "  E2.empid, E2.firstname, E2.lastname\n",
                "FROM HR.Employees AS E1 \n",
                "  CROSS JOIN HR.Employees AS E2;\n",
                "GO\n",
                "\n",
                "USE Northwinds2022TSQLV7;\n",
                "\n",
                "-- Self Cross-Join\n",
                "SELECT\n",
                "  N'Northwinds2022TSQLV7' AS DatabaseName, \n",
                "  E1.EmployeeId, E1.EmployeeFirstName, E1.EmployeeLastName,\n",
                "  E2.EmployeeId, E2.EmployeeFirstName, E2.EmployeeLastName\n",
                "FROM HumanResources.Employee AS E1 \n",
                "  CROSS JOIN HumanResources.Employee AS E2;\n",
                "GO"
            ],
            "metadata": {
                "language": "sql",
                "azdata_cell_guid": "c6af80d2-36a0-407f-8cbc-f4aec0583eee"
            },
            "outputs": [],
            "execution_count": null
        },
        {
            "cell_type": "markdown",
            "source": [
                "Proposition: Create a table of 10 digits, 0-9. Write a query that returns each digit in the table.  \n",
                "\n",
                "Table: dbo.Digits  \n",
                "\n",
                "Column: <span style=\"color: rgb(33, 33, 33); font-family: Menlo, Monaco, &quot;Courier New&quot;, monospace; font-size: 12px; white-space: pre;\">DatabaseName,</span> <span style=\"font-family: -apple-system, BlinkMacSystemFont, sans-serif; color: var(--vscode-foreground);\">digit from dbo.Digits&nbsp; table.&nbsp;&nbsp;</span>      \n",
                "\n",
                "Predicate: There is no predicate in this query."
            ],
            "metadata": {
                "azdata_cell_guid": "3753a487-030e-4058-ab9e-6e01b4d0dbc5"
            },
            "attachments": {}
        },
        {
            "cell_type": "code",
            "source": [
                "-- All numbers from 1 - 1000\n",
                "\n",
                "-- Auxiliary table of digits\n",
                "USE TSQLV4;\n",
                "\n",
                "DROP TABLE IF EXISTS dbo.Digits;\n",
                "\n",
                "CREATE TABLE dbo.Digits(digit INT NOT NULL PRIMARY KEY);\n",
                "\n",
                "INSERT INTO dbo.Digits(digit)\n",
                "  VALUES (0),(1),(2),(3),(4),(5),(6),(7),(8),(9);\n",
                "\n",
                "SELECT N'TSQLV4' AS databasename, digit FROM dbo.Digits;\n",
                "GO\n",
                "\n",
                "-- All numbers from 1 - 1000\n",
                "\n",
                "-- Auxiliary table of digits\n",
                "USE Northwinds2022TSQLV7;\n",
                "\n",
                "DROP TABLE IF EXISTS dbo.Digits;\n",
                "\n",
                "CREATE TABLE dbo.Digits(digit INT NOT NULL PRIMARY KEY);\n",
                "\n",
                "INSERT INTO dbo.Digits(digit)\n",
                "  VALUES (0),(1),(2),(3),(4),(5),(6),(7),(8),(9);\n",
                "\n",
                "SELECT N'Northwinds2022TSQLV7' AS DatabaseName, digit FROM dbo.Digits;\n",
                "GO"
            ],
            "metadata": {
                "language": "sql",
                "azdata_cell_guid": "a5c8929f-54a2-493a-a9af-f76b36e2ee79"
            },
            "outputs": [],
            "execution_count": null
        },
        {
            "cell_type": "markdown",
            "source": [
                "Proposition: Write a query that returns the numbers 1-1000 inclusively by using the <span style=\"font-family: -apple-system, BlinkMacSystemFont, sans-serif; color: var(--vscode-foreground);\">dbo.Digits table created above. Use CROSS JOIN and string operations on the&nbsp;</span>    <span style=\"font-family: -apple-system, BlinkMacSystemFont, sans-serif; color: var(--vscode-foreground);\">dbo.Digits</span>    <span style=\"font-family: -apple-system, BlinkMacSystemFont, sans-serif; color: var(--vscode-foreground);\">&nbsp;table.</span>\n",
                "\n",
                "Table: dbo.Digits\n",
                "\n",
                "Column: <span style=\"color: rgb(33, 33, 33); font-family: Menlo, Monaco, &quot;Courier New&quot;, monospace; font-size: 12px; white-space: pre;\">DatabaseName,</span> <span style=\"font-family: -apple-system, BlinkMacSystemFont, sans-serif; color: var(--vscode-foreground);\">n that returns a number between&nbsp;</span>   <span style=\"font-family: -apple-system, BlinkMacSystemFont, sans-serif; color: var(--vscode-foreground);\">1-1000 inclusively.</span>\n",
                "\n",
                "Predicate: There is no predicate in this query."
            ],
            "metadata": {
                "azdata_cell_guid": "80619e7c-e7b2-4c87-bb22-3c7f033ece09"
            },
            "attachments": {}
        },
        {
            "cell_type": "code",
            "source": [
                "USE TSQLV4;\n",
                "\n",
                "-- All numbers from 1 - 1000\n",
                "SELECT N'TSQLV4' AS databasename, D3.digit * 100 + D2.digit * 10 + D1.digit + 1 AS n\n",
                "FROM         dbo.Digits AS D1\n",
                "  CROSS JOIN dbo.Digits AS D2\n",
                "  CROSS JOIN dbo.Digits AS D3\n",
                "ORDER BY n;\n",
                "\n",
                "USE Northwinds2022TSQLV7;\n",
                "\n",
                "-- All numbers from 1 - 1000\n",
                "SELECT N'Northwinds2022TSQLV7' AS DatabaseName, D3.digit * 100 + D2.digit * 10 + D1.digit + 1 AS n\n",
                "FROM         dbo.Digits AS D1\n",
                "  CROSS JOIN dbo.Digits AS D2\n",
                "  CROSS JOIN dbo.Digits AS D3\n",
                "ORDER BY n;"
            ],
            "metadata": {
                "language": "sql",
                "azdata_cell_guid": "87535072-c0f7-4c76-a0b7-3bfd1ca487f1"
            },
            "outputs": [],
            "execution_count": null
        }
    ]
}