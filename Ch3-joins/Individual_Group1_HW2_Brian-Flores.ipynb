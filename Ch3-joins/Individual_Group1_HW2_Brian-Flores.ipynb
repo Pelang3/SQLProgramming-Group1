{
    "metadata": {
        "kernelspec": {
            "name": "SQL",
            "display_name": "SQL",
            "language": "sql"
        },
        "language_info": {
            "name": "sql",
            "version": ""
        }
    },
    "nbformat_minor": 2,
    "nbformat": 4,
    "cells": [
        {
            "cell_type": "markdown",
            "source": [
                "# HW2 - Brian Flores\n",
                "\n",
                "## Q6\n",
                "\n",
                "Return customers with orders placed on Feb 12, 2016 along with their orders\n",
                "\n",
                "**Tables involved**: Sales.Customer and Sales.Order table, using  <span style=\"color:rgb(33, 33, 33);font-family:Menlo, Monaco, &quot;Courier New&quot;, monospace;font-size:12px;white-space:pre;\">Northwinds2022TSQLV7.</span>\n",
                "\n",
                "**Goal output:**\n",
                "\n",
                "```\n",
                "custid      companyname     orderid     orderdate\n",
                "----------- --------------- ----------- ----------\n",
                "48          Customer DVFMB  10883       2016-02-12\n",
                "45          Customer QXPPT  10884       2016-02-12\n",
                "76          Customer SFOGW  10885       2016-02-12\n",
                "\n",
                "\n",
                "```\n",
                "\n",
                "_(3 row(s) affected)_\n",
                "\n",
                "* * *\n",
                "\n",
                "## **<span style=\"font-family:georgia, palatino, serif;margin:0px;padding:0px;border:0px;outline:0px;font-size:14pt;text-shadow:none;\">Proposition, Table, Columns and the Predicate.</span>**\n",
                "\n",
                "The proposition for this query is to find those customers who placed a order on a specific date (Feb 12, 2016). This problem can be exteneded to any date within the where clause. The **tables** that need to be queried against are the Customer and Order table found in the NorthWinds database. The **predicate** that enables us to see what we should choose is the equality predicate to compare two dates. Finally the **columns** that need to be outputed are the customers id their respective company name, that specific orderid they used to make the transaction on the order date Feb 12, 2016. Which is also a column\n",
                "\n",
                "**<u>What Type Of JOIN To Use</u>**\n",
                "\n",
                "Since we need to connect two tables together by only what they have in common tells us that we need to use a inner join. Since it can exclude those rows that have nothing in common.\n",
                "\n",
                "**<u>Filtering Criteria</u>**\n",
                "\n",
                "Since this is a inner join we need to use a ON clause to soft filter only relevant rows. And then use the Where clause to filter only those who have the orderdate exactly to Feb 12, 2016."
            ],
            "metadata": {
                "azdata_cell_guid": "f3b314ad-7571-4673-a442-be3197923996"
            },
            "attachments": {}
        },
        {
            "cell_type": "code",
            "source": [
                "-- Original Query for TSQLV4\n",
                "\n",
                "USE TSQLV4;\n",
                "\n",
                "SELECT C.custid, C.companyname, O.orderid, O.orderdate\n",
                "FROM [Sales].[Customers] AS C \n",
                "    INNER JOIN [Sales].[Orders] AS O\n",
                "    ON C.custid = O.custid\n",
                "WHERE O.orderdate = '20160212';\n",
                "\n",
                "\n",
                "-- New Query for Northwinds\n",
                "\n",
                "USE Northwinds2022TSQLV7;\n",
                "\n",
                "SELECT C.CustomerId, C.CustomerCompanyName, O.OrderId, O.OrderDate\n",
                "FROM [Sales].[Customer] AS C\n",
                "    INNER JOIN [Sales].[Order] AS O\n",
                "    ON C.customerId = O.customerId\n",
                "WHERE O.orderDate = '20160212';\n",
                "\n",
                "\n",
                ""
            ],
            "metadata": {
                "azdata_cell_guid": "d2fe46f6-354a-4fbb-8cce-b1a7d4cc1854",
                "language": "sql",
                "tags": []
            },
            "outputs": [],
            "execution_count": null
        },
        {
            "cell_type": "markdown",
            "source": [
                "## Q7\n",
                "\n",
                "Write a query that returns all customers in the output, but matches them with their respective orders only if they were placed on February 12, 2016\n",
                "\n",
                "**Tables involved**:  Sales.Customer and Sales.Order table, using   <span style=\"color:rgb(33, 33, 33);font-family:Menlo, Monaco, &quot;Courier New&quot;, monospace;font-size:12px;white-space:pre;\">Northwinds2022TSQLV7.</span>\n",
                "\n",
                "**Desired output:**\n",
                "\n",
                "```\n",
                "custid      companyname     orderid     orderdate\n",
                "----------- --------------- ----------- ----------\n",
                "72          Customer AHPOP  NULL        NULL\n",
                "58          Customer AHXHT  NULL        NULL\n",
                "25          Customer AZJED  NULL        NULL\n",
                "18          Customer BSVAR  NULL        NULL\n",
                "91          Customer CCFIZ  NULL        NULL\n",
                "68          Customer CCKOT  NULL        NULL\n",
                "49          Customer CQRAA  NULL        NULL\n",
                "24          Customer CYZTN  NULL        NULL\n",
                "22          Customer DTDMN  NULL        NULL\n",
                "48          Customer DVFMB  10883       2016-02-12\n",
                "10          Customer EEALV  NULL        NULL\n",
                "40          Customer EFFTC  NULL        NULL\n",
                "85          Customer ENQZT  NULL        NULL\n",
                "82          Customer EYHKM  NULL        NULL\n",
                "79          Customer FAPSM  NULL        NULL\n",
                "...\n",
                "51          Customer PVDZC  NULL        NULL\n",
                "52          Customer PZNLA  NULL        NULL\n",
                "56          Customer QNIVZ  NULL        NULL\n",
                "8           Customer QUHWH  NULL        NULL\n",
                "67          Customer QVEPD  NULL        NULL\n",
                "45          Customer QXPPT  10884       2016-02-12\n",
                "7           Customer QXVLA  NULL        NULL\n",
                "60          Customer QZURI  NULL        NULL\n",
                "19          Customer RFNQC  NULL        NULL\n",
                "9           Customer RTXGC  NULL        NULL\n",
                "76          Customer SFOGW  10885       2016-02-12\n",
                "69          Customer SIUIH  NULL        NULL\n",
                "86          Customer SNXOJ  NULL        NULL\n",
                "88          Customer SRQVM  NULL        NULL\n",
                "54          Customer TDKEG  NULL        NULL\n",
                "20          Customer THHDP  NULL        NULL\n",
                "...\n",
                "\n",
                "```\n",
                "\n",
                "_(91 row(s) affected)_\n",
                "\n",
                "* * *\n",
                "\n",
                "## **<span style=\"font-family:georgia, palatino, serif;margin:0px;padding:0px;border:0px;outline:0px;font-size:14pt;text-shadow:none;\">Proposition, Table, Columns and the Predicate.</span>**\n",
                "\n",
                "The proposition for this query is to similar to the previous question. However, we want to include every row in the customers table however we would like to have matches for customers who have a certain date (Feb 12, 2016) and show their orderid. This problem can be exteneded to any date within the where clause. The <span style=\"color:#000080;font-weight:bold;\"><strong>tables</strong></span> that need to be queried against are the Customer and Order table found in the NorthWinds database. The <span style=\"color:#000080;font-weight:bold;\"><strong>predicate</strong></span> that enables us to see what we should choose is the equality predicate to compare two dates. Finally the <span style=\"color:#000080;font-weight:bold;\"><strong>columns</strong></span> that need to be outputed are the customers id their respective company name, that specific orderid they used to make the transaction on the order date Feb 12, 2016. Which is also a column\n",
                "\n",
                "<u><span style=\"color:#000080;font-weight:bold;\"><strong>What Type Of JOIN To Use</strong></span></u>\n",
                "\n",
                "Since we need to connect two tables together by any means possible we should use a Outter join. We want to include rows even if they dont have something common but want to preserve the Customers column which is found on the right hand side.\n",
                "\n",
                "<u><span style=\"color:#000080;font-weight:bold;\">Filtering Criteria</span></u>\n",
                "\n",
                "Since this is a outter join we need to use a ON clause that will match if possible certain criteria but also include outter rows when the criteria isnt met."
            ],
            "metadata": {
                "azdata_cell_guid": "bfeb4b67-2a3e-4d3f-a208-e0b776f2335b"
            },
            "attachments": {}
        },
        {
            "cell_type": "code",
            "source": [
                "-- Original Query for TSQLV4\n",
                "\n",
                "USE TSQLV4;\n",
                "\n",
                "SELECT C.custid, C.companyname, O.orderid, O.orderdate \n",
                "FROM [Sales].[Customers] AS C\n",
                "    LEFT OUTER JOIN [Sales].[Orders] AS O\n",
                "    ON C.custid = O.custid AND \n",
                "        O.orderdate = '20160212';\n",
                "\n",
                "-- New Query for Northwinds\n",
                "\n",
                "USE Northwinds2022TSQLV7;\n",
                "\n",
                "SELECT C.CustomerId, C.CustomerCompanyName, O.OrderId, O.OrderDate\n",
                "FROM [Sales].[Customer] AS C\n",
                "    LEFT OUTER JOIN [Sales].[Order] AS O\n",
                "    on C.customerId = O.customerId AND\n",
                "        O.orderdate = '20160212';\n",
                ""
            ],
            "metadata": {
                "azdata_cell_guid": "ec960ae3-53b1-4ad4-9d67-5d7a05bda626",
                "language": "sql",
                "tags": []
            },
            "outputs": [],
            "execution_count": null
        },
        {
            "cell_type": "markdown",
            "source": [
                "# Propositions\n",
                "Translating queries to problems."
            ],
            "metadata": {
                "azdata_cell_guid": "19bf898f-6ef4-4b76-ace1-9d8da4972537"
            },
            "attachments": {}
        },
        {
            "cell_type": "markdown",
            "source": [
                "* * *\n",
                "\n",
                "### **IMV. Including Missing Values**"
            ],
            "metadata": {
                "azdata_cell_guid": "4624c18d-e354-4b5b-8688-e510a7734393"
            },
            "attachments": {}
        },
        {
            "cell_type": "markdown",
            "source": [
                "## IMV.1\n",
                "\n",
                "Generate a table with a single column that prints sequentially all the dates in between the range of 2014 jan 1st through 2016 December 31st. \n",
                "\n",
                "_**Tables involved:** dbo.Nums_\n",
                "\n",
                "Sample output:\n",
                "\n",
                "|orderdate|\n",
                "|---|\n",
                "|2014-01-01|\n",
                "|2014-01-02|\n",
                "|2014-01-03|\n",
                "|2014-01-04|\n",
                "|2014-01-05|\n",
                "|2014-01-06|\n",
                "|2014-01-07|\n",
                "| ...      | \n",
                "|2016-12-31|\n",
                "\n",
                ""
            ],
            "metadata": {
                "language": "sql",
                "azdata_cell_guid": "b5d15279-c6b5-4cff-81d3-67b1b6c8d43e"
            },
            "attachments": {}
        },
        {
            "cell_type": "code",
            "source": [
                "-- IMV.1\r\n",
                "\r\n",
                "USE TSQLV4;\r\n",
                "\r\n",
                "SELECT DATEADD(day, n-1, CAST('20140101' AS DATE)) AS orderdate\r\n",
                "FROM [dbo].[Nums]\r\n",
                "WHERE n <= DATEDIFF(day, '20140101', '20161231') + 1;\r\n",
                "\r\n",
                "USE Northwinds2022TSQLV7;\r\n",
                "\r\n",
                "SELECT DATEADD(day, n-1, CAST('20140101' AS DATE)) AS orderdate\r\n",
                "FROM [dbo].[Nums]\r\n",
                "WHERE n <= DATEDIFF(day, '20140101', '20161231') + 1;\r\n",
                ""
            ],
            "metadata": {
                "azdata_cell_guid": "0a1213d1-730e-4ec8-8224-3fba1e680ba3",
                "language": "sql",
                "tags": []
            },
            "outputs": [],
            "execution_count": null
        },
        {
            "cell_type": "markdown",
            "source": [
                "## IMV.2\n",
                "\n",
                "<span style=\"font-family: -apple-system, BlinkMacSystemFont, sans-serif; color: var(--vscode-foreground);\">Output a table that prints all dates between 2014 Jan 1st through 2016 December 31st (sequentially) and with related Orders that have coincidence with the dateorder. Otherwise those Rows should be nulls (the ones that do not match). Output the orderdate, the orderid, customerid and employeeid.&nbsp;</span>  \n",
                "\n",
                "**Tables involved:** dbo.Nums, Sales.Order"
            ],
            "metadata": {
                "language": "sql",
                "azdata_cell_guid": "73a32aa1-0dc9-4156-b85a-cdb55e9cd09d"
            },
            "attachments": {}
        },
        {
            "cell_type": "code",
            "source": [
                "-- IMV.2\r\n",
                "\r\n",
                "USE TSQLV4;\r\n",
                "\r\n",
                "SELECT DATEADD(day, Nums.n - 1, CAST('20140101' AS DATE)) AS orderdate,\r\n",
                "  O.orderid, O.custid, O.empid\r\n",
                "FROM [dbo].[Nums]\r\n",
                "  LEFT OUTER JOIN [Sales].[Orders] AS O\r\n",
                "    ON DATEADD(day, Nums.n - 1, CAST('20140101' AS DATE)) = O.orderdate\r\n",
                "WHERE Nums.n <= DATEDIFF(day, '20140101', '20161231') + 1\r\n",
                "ORDER BY orderdate;\r\n",
                "\r\n",
                "\r\n",
                "USE Northwinds2022TSQLV7;\r\n",
                "\r\n",
                "SELECT DATEADD(day, Nums.n - 1, CAST('20140101' AS DATE)) AS orderdate,\r\n",
                "  O.Orderid, O.CustomerId, O.EmployeeId\r\n",
                "FROM [dbo].[Nums]\r\n",
                "  LEFT OUTER JOIN [Sales].[Order] AS O\r\n",
                "    ON DATEADD(day, Nums.n - 1, CAST('20140101' AS DATE)) = O.OrderDate\r\n",
                "WHERE Nums.n <= DATEDIFF(day, '20140101', '20161231') + 1\r\n",
                "ORDER BY orderdate;\r\n",
                "\r\n",
                ""
            ],
            "metadata": {
                "language": "sql",
                "azdata_cell_guid": "1e4fb751-2de0-4d74-83fa-90b61f785e28"
            },
            "outputs": [],
            "execution_count": null
        },
        {
            "cell_type": "markdown",
            "source": [
                "---\n",
                "\n",
                "### **FANS. Filtering Attributes from Non-Preserved Side of Outer Join**"
            ],
            "metadata": {
                "language": "sql",
                "azdata_cell_guid": "bbd2da6d-65bc-4706-9a3f-4e017be3ee6b"
            },
            "attachments": {}
        },
        {
            "cell_type": "markdown",
            "source": [
                "## FANS.1\n",
                "\n",
                "Excercise the use of a outter join to get a inner join result. Join tables Customer and the respective sale they made according to customer id. Filter only transactions that happened after 2016 Jan 1st. Output the customer Id the company name the order id and the orderdate\n",
                "\n",
                "<span style=\"font-family: -apple-system, BlinkMacSystemFont, sans-serif; color: var(--vscode-foreground);\"><b>Tables involved</b>: Sales.Customer and Sales.Order</span>"
            ],
            "metadata": {
                "language": "sql",
                "azdata_cell_guid": "d3ae26c1-c395-47dd-a4c6-230f969f89e3"
            },
            "attachments": {}
        },
        {
            "cell_type": "code",
            "source": [
                "-- FANS.1\n",
                "USE TSQLV4;\n",
                "\n",
                "SELECT C.custid, C.companyname, O.orderid, O.orderdate\n",
                "FROM [Sales].[Customers] AS C\n",
                "  LEFT OUTER JOIN [Sales].[Orders] AS O\n",
                "    ON C.custid = O.custid\n",
                "WHERE O.orderdate >= '20160101';\n",
                "\n",
                "\n",
                "USE Northwinds2022TSQLV7;\n",
                "\n",
                "SELECT C.CustomerId, C.CustomerCompanyName, O.OrderId, O.OrderDate\n",
                "FROM [Sales].[Customer] AS C\n",
                "  LEFT OUTER JOIN [Sales].[Order] AS O\n",
                "    ON C.CustomerId = O.CustomerId\n",
                "WHERE O.OrderDate >= '20160101';"
            ],
            "metadata": {
                "language": "sql",
                "azdata_cell_guid": "479738ee-18f5-4fb0-855a-da0b26089e61"
            },
            "outputs": [],
            "execution_count": null
        },
        {
            "cell_type": "markdown",
            "source": [
                "* * *\n",
                "\n",
                "## UCO Using the COUNT Aggregate with Outer Joins"
            ],
            "metadata": {
                "azdata_cell_guid": "b37f4457-b332-47c4-8932-fbcb00db3770"
            },
            "attachments": {}
        },
        {
            "cell_type": "markdown",
            "source": [
                "### UCO.1\n",
                "\n",
                "Count the amount of orders a customer made, counting 1 if they made no purchases (this is intentional). Connect Customers to Orders they made via their customer id. Display the customer id and thier respective purchases.\n",
                "\n",
                "**Tables involved**<span style=\"font-family: -apple-system, BlinkMacSystemFont, sans-serif; color: var(--vscode-foreground);\">: Sales.Customer and Sales.Order</span>"
            ],
            "metadata": {
                "azdata_cell_guid": "9bfe7bb9-725c-4bcf-9d90-aebb80cdfd92"
            },
            "attachments": {}
        },
        {
            "cell_type": "code",
            "source": [
                "-- UCO.1\n",
                "\n",
                "USE TSQLV4;\n",
                "\n",
                "SELECT C.custid, COUNT(*) AS numorders \n",
                "FROM [Sales].[Customers] AS C\n",
                "  LEFT OUTER JOIN [Sales].[Orders] AS O\n",
                "    ON C.custid = O.custid\n",
                "GROUP BY C.custid;\n",
                "\n",
                "USE Northwinds2022TSQLV7;\n",
                "\n",
                "SELECT C.CustomerId, COUNT(*) AS numorders \n",
                "FROM [Sales].[Customer] AS C\n",
                "  LEFT OUTER JOIN [Sales].[Order] AS O\n",
                "    ON C.CustomerId = O.CustomerId\n",
                "GROUP BY C.CustomerId;\n",
                ""
            ],
            "metadata": {
                "azdata_cell_guid": "3b64ac73-aa7b-4705-b62d-e0b5e7e217b9",
                "language": "sql",
                "tags": []
            },
            "outputs": [],
            "execution_count": null
        },
        {
            "cell_type": "markdown",
            "source": [
                "### UCO.2\n",
                "\n",
                "<span style=\"font-family: -apple-system, BlinkMacSystemFont, sans-serif; color: var(--vscode-foreground);\">Count the amount of orders a customer made, this time if they didnt make a purchase their count should be 0. Connect Customers to Orders they made via their customer id.&nbsp;</span>   <span style=\"font-family: -apple-system, BlinkMacSystemFont, sans-serif; color: var(--vscode-foreground);\">Display the customer id and thier respective purchases.</span>\n",
                "\n",
                "**Tables involved**<span style=\"color: var(--vscode-foreground); font-family: -apple-system, BlinkMacSystemFont, sans-serif;\">: Sales.Customer and Sales.Order</span><span style=\"font-family: -apple-system, BlinkMacSystemFont, sans-serif; color: var(--vscode-foreground);\"><br></span>"
            ],
            "metadata": {
                "language": "sql",
                "azdata_cell_guid": "717ce3eb-ab34-4d02-ac7a-09ae50a3cb2a"
            },
            "attachments": {}
        },
        {
            "cell_type": "code",
            "source": [
                "-- UCO.2\n",
                "\n",
                "USE TSQLV4;\n",
                "\n",
                "SELECT C.custid, COUNT(O.orderid) AS numorders \n",
                "FROM [Sales].[Customers] AS C\n",
                "  LEFT OUTER JOIN [Sales].[Orders] AS O\n",
                "    ON C.custid = O.custid\n",
                "GROUP BY C.custid;\n",
                "\n",
                "USE Northwinds2022TSQLV7;\n",
                "\n",
                "SELECT C.CustomerId, COUNT(O.OrderId) AS numorders \n",
                "FROM [Sales].[Customer] AS C\n",
                "  LEFT OUTER JOIN [Sales].[Order] AS O\n",
                "    ON C.CustomerId = O.CustomerId\n",
                "GROUP BY C.CustomerId;"
            ],
            "metadata": {
                "azdata_cell_guid": "7754ca13-ed8b-413b-bdeb-8d0979d0d9c2",
                "language": "sql"
            },
            "outputs": [],
            "execution_count": null
        }
    ]
}