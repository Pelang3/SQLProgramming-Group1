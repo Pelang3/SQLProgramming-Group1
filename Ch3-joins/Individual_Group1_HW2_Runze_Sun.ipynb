{
    "metadata": {
        "kernelspec": {
            "name": "SQL",
            "display_name": "SQL",
            "language": "sql"
        },
        "language_info": {
            "name": "sql",
            "version": ""
        }
    },
    "nbformat_minor": 2,
    "nbformat": 4,
    "cells": [
        {
            "cell_type": "markdown",
            "source": [
                "Runze Sun\n",
                "\n",
                "HW2"
            ],
            "metadata": {
                "azdata_cell_guid": "9b967544-0866-4226-a427-e3a1425475ed"
            },
            "attachments": {}
        },
        {
            "cell_type": "markdown",
            "source": [
                "##  1-1\r\n",
                "- Write a query that generates 5 copies out of each employee row\r\n",
                "- Tables involved: TSQLV4 database, Employees and Nums tables\r\n",
                "\r\n",
                "empid       firstname  lastname             n"
            ],
            "metadata": {
                "azdata_cell_guid": "e3adacc6-6f7b-4b08-bb97-7598aabe952b"
            },
            "attachments": {}
        },
        {
            "cell_type": "code",
            "source": [
                "USE [TSQLV4];\r\n",
                "\r\n",
                "SELECT e.empid, e.firstname, e.lastname,n.n\r\n",
                "FROM [HR].[Employees] as e\r\n",
                "    CROSS JOIN [dbo].[Nums] as n\r\n",
                "WHERE n.n <= 5\r\n",
                "ORDER BY n.n, e.empid;\r\n",
                "\r\n",
                "USE [Northwinds2022TSQLV7];\r\n",
                "\r\n",
                "SELECT e.EmployeeId, e.EmployeeFirstName, e.EmployeeFirstName, n.N\r\n",
                "FROM [HumanResources].[Employee] as e\r\n",
                "    CROSS JOIN [dbo].[Nums] as n\r\n",
                "WHERE n.N <= 5\r\n",
                "ORDER BY n.N, e.EmployeeId;"
            ],
            "metadata": {
                "language": "sql",
                "azdata_cell_guid": "ac2901dc-719d-45a9-80fc-4764bcc460e3",
                "tags": []
            },
            "outputs": [],
            "execution_count": null
        },
        {
            "cell_type": "markdown",
            "source": [
                "## 1-2 (Optional, Advanced)\n",
                "\n",
                "- Write a query that returns a row for each employee and day\n",
                "- in the range June 12, 2016 to June 16 2016.\n",
                "- Tables involved: TSQLV4 database, Employees and Nums tables"
            ],
            "metadata": {
                "language": "sql",
                "azdata_cell_guid": "04571ec8-9919-481b-8a8b-c6ba251eb3a3"
            },
            "attachments": {}
        },
        {
            "cell_type": "code",
            "source": [
                "USE [TSQLV4];\r\n",
                "\r\n",
                "SELECT e.empid,CAST(DATEADD(day,n.n -1, '20160612') as date) as dt\r\n",
                "FROM [HR].[Employees] as e\r\n",
                "    CROSS JOIN [dbo].[Nums] as n\r\n",
                "WHERE n.N <= DATEDIFF(day,'20160612', '20160616') +1\r\n",
                "ORDER BY e.empid, n.n;\r\n",
                "\r\n",
                "USE [Northwinds2022TSQLV7];\r\n",
                "\r\n",
                "SELECT e.EmployeeId,CAST(DATEADD(day,n.n -1, '20160612') as date) as dt\r\n",
                "FROM [HumanResources].[Employee] as e\r\n",
                "    CROSS JOIN [dbo].[Nums] as n\r\n",
                "WHERE n.N <= DATEDIFF(day,'20160612', '20160616') +1\r\n",
                "ORDER BY n.N, e.EmployeeId;"
            ],
            "metadata": {
                "language": "sql",
                "azdata_cell_guid": "bf021bc8-ee9c-4ce6-8f79-5586a5d2694d"
            },
            "outputs": [],
            "execution_count": null
        },
        {
            "cell_type": "markdown",
            "source": [
                "-- Non-Equi Joins\r\n",
                "\r\n",
                "\r\n",
                "show all Unique pairs of employees\r\n",
                ""
            ],
            "metadata": {
                "language": "sql",
                "azdata_cell_guid": "9eb88d62-fc3b-438f-8ed0-634dfd96ea18"
            },
            "attachments": {}
        },
        {
            "cell_type": "code",
            "source": [
                "USE [TSQLV4];\r\n",
                "SELECT\r\n",
                "  E1.empid, E1.firstname, E1.lastname,\r\n",
                "  E2.empid, E2.firstname, E2.lastname\r\n",
                "FROM HR.Employees AS E1\r\n",
                "  INNER JOIN HR.Employees AS E2\r\n",
                "    ON E1.empid < E2.empid\r\n",
                "ORDER BY E1.empid;\r\n",
                "\r\n",
                "USE [Northwinds2022TSQLV7];\r\n",
                "SELECT\r\n",
                "  e1.EmployeeId, e1.EmployeeFirstName, e1.EmployeeLastName,\r\n",
                "  e2.EmployeeId, e2.EmployeeFirstName, e2.EmployeeLastName\r\n",
                "FROM [HumanResources].[Employee] AS e1\r\n",
                "  INNER JOIN [HumanResources].[Employee] AS e2\r\n",
                "    ON E1.EmployeeId < E2.EmployeeId\r\n",
                "ORDER BY E1.EmployeeId;"
            ],
            "metadata": {
                "language": "sql",
                "azdata_cell_guid": "d4503e92-a178-493b-aa41-d6b52f1a7270",
                "tags": []
            },
            "outputs": [],
            "execution_count": null
        },
        {
            "cell_type": "markdown",
            "source": [
                "Question:\n",
                "\n",
                "show customers only if he/she have order\n",
                "\n",
                "along with their orders and order details\n",
                "\n",
                "showing the Customer ID, Order ID, Product ID, and Quantity of each product ordered.\n",
                "\n",
                "\n",
                "Tables involved: Sales.Order, Sales,Customer, Sales.OrderDetail\n",
                "\n",
                "Hit: Using  `Multi-Join Query`"
            ],
            "metadata": {
                "language": "sql",
                "azdata_cell_guid": "5b977758-bab5-4c8b-847f-c1c90b3df2e8"
            },
            "attachments": {}
        },
        {
            "cell_type": "code",
            "source": [
                "USE [TSQLV4];\r\n",
                "SELECT C.custid, O.orderid, OD.productid, OD.qty\r\n",
                "FROM Sales.Customers AS C\r\n",
                "  LEFT OUTER JOIN Sales.Orders AS O\r\n",
                "    ON C.custid = O.custid\r\n",
                "  INNER JOIN Sales.OrderDetails AS OD\r\n",
                "    ON O.orderid = OD.orderid\r\n",
                "\r\n",
                "\r\n",
                "USE [Northwinds2022TSQLV7];\r\n",
                "SELECT C.CustomerId, O.OrderId, OD.ProductId, OD.Quantity\r\n",
                "FROM [Sales].[Customer] AS C\r\n",
                "  LEFT OUTER JOIN [Sales].[Order] AS O\r\n",
                "    ON C.CustomerId = O.CustomerId\r\n",
                "  INNER JOIN [Sales].[OrderDetail] AS OD\r\n",
                "    ON O.OrderId = OD.OrderId;"
            ],
            "metadata": {
                "language": "sql",
                "azdata_cell_guid": "1ca76cef-3771-435c-bdfa-cbb77137bff0",
                "tags": []
            },
            "outputs": [],
            "execution_count": null
        },
        {
            "cell_type": "markdown",
            "source": [
                "Question:\n",
                "\n",
                "show all customers along with their orders and order details,\n",
                "\n",
                "showing the Customer ID, Order ID, Product ID, and Quantity of each product ordered.\n",
                "\n",
                "Include `all` customers, even those who have not placed any orders yet.\n",
                "\n",
                "Tables involved: Sales.Order, Sales,Customer, Sales.OrderDetail\n",
                "\n",
                "Hit: Using `two` LEFT Outer Joins"
            ],
            "metadata": {
                "language": "sql",
                "azdata_cell_guid": "6c3d748f-5ec2-4d88-aca3-3e5c601ef5c9"
            },
            "attachments": {}
        },
        {
            "cell_type": "code",
            "source": [
                "\r\n",
                "\r\n",
                "USE [TSQLV4];\r\n",
                "SELECT C.custid, O.orderid, OD.productid, OD.qty\r\n",
                "FROM Sales.Customers AS C\r\n",
                "  LEFT OUTER JOIN Sales.Orders AS O\r\n",
                "    ON C.custid = O.custid\r\n",
                "  LEFT OUTER JOIN Sales.OrderDetails AS OD\r\n",
                "    ON O.orderid = OD.orderid\r\n",
                "ORDER by O.orderid;\r\n",
                "\r\n",
                "USE [Northwinds2022TSQLV7];\r\n",
                "SELECT C.CustomerId, O.OrderId, OD.ProductId, OD.Quantity\r\n",
                "FROM [Sales].[Customer] AS C\r\n",
                "  LEFT OUTER JOIN [Sales].[Order] AS O\r\n",
                "    ON C.CustomerId = O.CustomerId\r\n",
                "  LEFT OUTER JOIN [Sales].[OrderDetail] AS OD\r\n",
                "    ON O.orderid = OD.orderid\r\n",
                "ORDER by O.orderid;\r\n",
                "\r\n",
                "-- 2157 rows"
            ],
            "metadata": {
                "language": "sql",
                "azdata_cell_guid": "2fecd687-86d3-4722-a3db-84d3b626b28f"
            },
            "outputs": [],
            "execution_count": null
        },
        {
            "cell_type": "markdown",
            "source": [
                "**Question:**\n",
                "\n",
                "show all customers along with their orders and order details,\n",
                "\n",
                "showing the Customer ID, Order ID, Product ID, and Quantity of each product ordered.\n",
                "\n",
                "Include `all` customers, even those who have not placed any orders yet.\n",
                "\n",
                "Tables involved: Sales.Order, Sales.Customer, Sales.OrderDetail\n",
                "\n",
                "\n",
                "**Hit:**\n",
                "\n",
                "Start with finding connection with in Sales.Order and Sales.OrderDetail then connect to Sales.Customer"
            ],
            "metadata": {
                "language": "sql",
                "azdata_cell_guid": "6385347b-8285-4ffe-91e0-dea473b3b5f2"
            },
            "attachments": {}
        },
        {
            "cell_type": "code",
            "source": [
                "USE [TSQLV4];\r\n",
                "SELECT C.custid, O.orderid, OD.productid, OD.qty\r\n",
                "FROM Sales.Orders AS O\r\n",
                "  INNER JOIN Sales.OrderDetails AS OD\r\n",
                "    ON O.orderid = OD.orderid\r\n",
                "  RIGHT OUTER JOIN Sales.Customers AS C\r\n",
                "     ON O.custid = C.custid\r\n",
                "ORDER by O.orderid;\r\n",
                "\r\n",
                "USE [Northwinds2022TSQLV7];\r\n",
                "SELECT C.CustomerId, O.OrderId, OD.ProductId, OD.Quantity\r\n",
                "FROM [Sales].[Order] AS O\r\n",
                "    INNER JOIN [Sales].[OrderDetail] AS OD\r\n",
                "    ON O.OrderId = OD.OrderId\r\n",
                "  RIGHT OUTER JOIN [Sales].[Customer] AS C\r\n",
                "     ON O.CustomerId = C.CustomerId\r\n",
                "ORDER by O.orderid;"
            ],
            "metadata": {
                "language": "sql",
                "azdata_cell_guid": "7c61e984-61ff-4dd5-827a-0b0f5db925e4",
                "tags": []
            },
            "outputs": [],
            "execution_count": null
        },
        {
            "cell_type": "markdown",
            "source": [
                "**Question:**\r\n",
                "\r\n",
                "show all customers along with their orders and order details,\r\n",
                "\r\n",
                "showing the Customer ID, Order ID, Product ID, and Quantity of each product ordered.\r\n",
                "\r\n",
                "Include `all` customers, even those who have not placed any orders yet.\r\n",
                "\r\n",
                "Tables involved: Sales.Order, Sales.Customer, Sales.OrderDetail\r\n",
                "\r\n",
                "\r\n",
                "**Hit:**\r\n",
                "\r\n",
                "Use `LEFT OUTER JOIN` with a `sub-query`"
            ],
            "metadata": {
                "language": "sql",
                "azdata_cell_guid": "61b90e7c-12b4-4c83-af8d-412246104eb5"
            },
            "attachments": {}
        },
        {
            "cell_type": "code",
            "source": [
                "USE [TSQLV4];\r\n",
                "SELECT C.custid, O.orderid, OD.productid, OD.qty\r\n",
                "FROM Sales.Customers AS C\r\n",
                "  LEFT OUTER JOIN\r\n",
                "      (Sales.Orders AS O\r\n",
                "         INNER JOIN Sales.OrderDetails AS OD\r\n",
                "           ON O.orderid = OD.orderid)\r\n",
                "    ON C.custid = O.custid\r\n",
                "ORDER by O.orderid;\r\n",
                "\r\n",
                "USE [Northwinds2022TSQLV7];\r\n",
                "SELECT C.CustomerId, O.OrderId, OD.ProductId, OD.Quantity\r\n",
                "FROM [Sales].[Customer] AS C\r\n",
                "  LEFT OUTER JOIN\r\n",
                "      ([Sales].[Order] AS O\r\n",
                "         INNER JOIN [Sales].[OrderDetail] AS OD\r\n",
                "           ON O.OrderId = OD.OrderId)\r\n",
                "    ON C.CustomerId = O.CustomerId\r\n",
                "ORDER by O.OrderId;"
            ],
            "metadata": {
                "language": "sql",
                "azdata_cell_guid": "939671e9-39dc-44f2-99ad-ebdd133128e7"
            },
            "outputs": [],
            "execution_count": null
        }
    ]
}