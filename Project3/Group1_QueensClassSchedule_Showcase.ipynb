{
    "metadata": {
        "kernelspec": {
            "name": "SQL",
            "display_name": "SQL",
            "language": "sql"
        },
        "language_info": {
            "name": "sql",
            "version": ""
        }
    },
    "nbformat_minor": 2,
    "nbformat": 4,
    "cells": [
        {
            "cell_type": "markdown",
            "source": [
                "## Group 1 QueensClassSchedule Showcase\n",
                "\n",
                "Here We will demonstrate our design via queries and proprositions"
            ],
            "metadata": {
                "azdata_cell_guid": "84af44ff-bc10-4d92-9de0-47b8f80961b2"
            },
            "attachments": {}
        },
        {
            "cell_type": "markdown",
            "source": [
                "**Name:** Mehrshad Eshaghianpour\n",
                "\n",
                "**Group:** 1\n",
                "\n",
                "**Task:** Project 3 Queries"
            ],
            "metadata": {
                "azdata_cell_guid": "c6e824a5-396a-4767-9c74-69108ed66791",
                "language": ""
            },
            "attachments": {}
        },
        {
            "cell_type": "code",
            "source": [
                "-- Query 1\r\n",
                "-- Find all courses that have less than half enrollment\r\n",
                "USE QueensClassSchedule\r\n",
                "\r\n",
                "SELECT Section,\r\n",
                "       [Day],\r\n",
                "       [Time],\r\n",
                "       Limit,\r\n",
                "       Enrolled,\r\n",
                "       ModeID,\r\n",
                "       CourseID,\r\n",
                "       ClassID,\r\n",
                "       RoomID,\r\n",
                "       InstructorID,\r\n",
                "       Code\r\n",
                "       FROM Course.Class WHERE Enrolled < (Limit/2)\r\n",
                "\t   ORDER BY Enrolled DESC"
            ],
            "metadata": {
                "azdata_cell_guid": "800abcf0-720e-499a-ab54-7ed444df79ac",
                "language": "sql"
            },
            "outputs": [],
            "execution_count": null
        },
        {
            "cell_type": "code",
            "source": [
                "-- Query 2\r\n",
                "-- List all departments along with their codes and the number of instructors in each department\r\n",
                "\r\n",
                "USE QueensClassSchedule\r\n",
                "\r\n",
                "SELECT d.DepartmentCode, COUNT(di.InstructorID) AS NumInstructors\r\n",
                "FROM HumanResources.Department d\r\n",
                "LEFT JOIN BridgeTable.DepartmentInstructor di ON d.DepartmentCode = di.DepartmentCode\r\n",
                "GROUP BY d.DepartmentCode;\r\n",
                ""
            ],
            "metadata": {
                "language": "sql",
                "azdata_cell_guid": "96b312d0-7fb4-41e7-9c39-925c68c23c3c"
            },
            "outputs": [],
            "execution_count": null
        },
        {
            "cell_type": "code",
            "source": [
                "--Query 3\r\n",
                "-- Retrieve all instructors along with their IDs, full names, and the total number of classes they are teaching\r\n",
                "\r\n",
                "USE QueensClassSchedule\r\n",
                "\r\n",
                "SELECT i.InstructorID, i.LastName, i.FastName, COUNT(ic.ClassID) AS NumClassesTaught\r\n",
                "FROM HumanResources.Instructor i\r\n",
                "LEFT JOIN BridgeTable.InstructorClass ic ON i.InstructorID = ic.InstructorID\r\n",
                "GROUP BY i.InstructorID, i.LastName, i.FastName;\r\n",
                ""
            ],
            "metadata": {
                "language": "sql",
                "azdata_cell_guid": "fecdf27e-8d8c-4663-8a44-9dbe2ee49797"
            },
            "outputs": [],
            "execution_count": null
        }
    ]
}